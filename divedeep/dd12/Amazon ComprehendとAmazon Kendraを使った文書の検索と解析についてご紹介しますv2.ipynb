{
 "cells": [
  {
   "cell_type": "markdown",
   "id": "04c2a233",
   "metadata": {},
   "source": [
    "## 発表内容\n",
    "\n",
    "最近日本語対応したAmazon KendraはAmazon S3やAmazon RDS、Salesforceといったリポジトリのコンテンツを一元管理されたインデックスに簡単に集約できます。これにより企業の様々なデータを素早く検索できます。そして、Amazon Comprehendはドキュメント内のテキストの解析を行うことができます。この2つのサービスを組み合わせた文書検索と検索された文書の解析についてデモを交えてご紹介します。\n",
    "\n",
    "----"
   ]
  },
  {
   "cell_type": "markdown",
   "id": "7bf41491",
   "metadata": {},
   "source": [
    "## 概要\n",
    "\n",
    "- Wikipediaの文章をComprehendで分析させてみる（図②）\n",
    "- KendraにWikipediaの文章を取り込んで日本語検索してみる（図③、④、⑤）\n",
    "\n",
    "この二つのサービスを組み合わせることで、Comprehendで文書から抽出したキーワードをKendraの絞り込み検索の時に使うといったような応用も可能です。\n",
    "\n",
    "----"
   ]
  },
  {
   "cell_type": "markdown",
   "id": "f566d656",
   "metadata": {},
   "source": [
    "## アーキテクチャ\n",
    "\n",
    "![](./architecture_kendra_comprehend.png)\n",
    "\n",
    "----\n",
    "![](./kendra_flow.png)\n",
    "\n",
    "----"
   ]
  },
  {
   "cell_type": "markdown",
   "id": "3c61981a",
   "metadata": {},
   "source": [
    "## デモの流れ\n",
    "\n",
    "2. Wikipediaから取得したファイルをディレクトリに配置する\n",
    "3. Kendraインデックスとデータソースコネクタをプロビジョニングします\n",
    "4. Comprehendを用いたエンティティ抽出（図②）\n",
    "5. S3へのデータ配置（図③）\n",
    "6. データソースのsync（図④）\n",
    "7. 検索！（図⑤）"
   ]
  },
  {
   "cell_type": "markdown",
   "id": "ba48c167",
   "metadata": {},
   "source": [
    "## 2. Wikipediaから取得したファイルをディレクトリに配置する\n"
   ]
  },
  {
   "cell_type": "code",
   "execution_count": 1,
   "id": "ece752e8",
   "metadata": {},
   "outputs": [
    {
     "name": "stdout",
     "output_type": "stream",
     "text": [
      "Amazon_Web_Services\n",
      "Amazon.com\n",
      "Amazon_Simple_Queue_Service\n",
      "Amazon_Elastic_Compute_Cloud\n",
      "Amazon_Simple_Storage_Service\n",
      "----------\n",
      "Getting https://ja.wikipedia.org/wiki/Amazon_Web_Services\n",
      "  % Total    % Received % Xferd  Average Speed   Time    Time     Time  Current\n",
      "                                 Dload  Upload   Total   Spent    Left  Speed\n",
      "100  140k  100  140k    0     0   861k      0 --:--:-- --:--:-- --:--:--  865k\n",
      "Getting https://ja.wikipedia.org/wiki/Amazon.com\n",
      "  % Total    % Received % Xferd  Average Speed   Time    Time     Time  Current\n",
      "                                 Dload  Upload   Total   Spent    Left  Speed\n",
      "100  492k  100  492k    0     0  2433k      0 --:--:-- --:--:-- --:--:-- 2439k\n",
      "Getting https://ja.wikipedia.org/wiki/Amazon_Simple_Queue_Service\n",
      "  % Total    % Received % Xferd  Average Speed   Time    Time     Time  Current\n",
      "                                 Dload  Upload   Total   Spent    Left  Speed\n",
      "100 72432  100 72432    0     0   507k      0 --:--:-- --:--:-- --:--:--  508k\n",
      "Getting https://ja.wikipedia.org/wiki/Amazon_Elastic_Compute_Cloud\n",
      "  % Total    % Received % Xferd  Average Speed   Time    Time     Time  Current\n",
      "                                 Dload  Upload   Total   Spent    Left  Speed\n",
      "100  107k  100  107k    0     0   690k      0 --:--:-- --:--:-- --:--:--  689k\n",
      "Getting https://ja.wikipedia.org/wiki/Amazon_Simple_Storage_Service\n",
      "  % Total    % Received % Xferd  Average Speed   Time    Time     Time  Current\n",
      "                                 Dload  Upload   Total   Spent    Left  Speed\n",
      "100 98887  100 98887    0     0   652k      0 --:--:-- --:--:-- --:--:--  656k\n"
     ]
    }
   ],
   "source": [
    "!mkdir -p Data Meta && mkdir -p Meta/Data && echo 0 > .metalog\n",
    "\n",
    "!cat aws.txt && echo '----------'\n",
    "# aws.txtに書かれた情報をWikipediaからcurlしてくる\n",
    "!sh ./getpages.sh"
   ]
  },
  {
   "cell_type": "code",
   "execution_count": 2,
   "id": "f38e2294",
   "metadata": {},
   "outputs": [
    {
     "name": "stdout",
     "output_type": "stream",
     "text": [
      "comprehendlab-akazawt-20211118-26244\n",
      "make_bucket: comprehendlab-akazawt-20211118-26244\n"
     ]
    }
   ],
   "source": [
    "# 下準備\n",
    "\n",
    "# バケット作成\n",
    "!sh mb.sh"
   ]
  },
  {
   "cell_type": "markdown",
   "id": "e8186e67",
   "metadata": {},
   "source": [
    "## 3. Kendraインデックスとデータソースコネクタをプロビジョニングします\n",
    "\n",
    "新しい Kendraインデックス の作成には約15分ほどかかります。（3分クッキング方式でデモ実施します）  \n",
    "デモでは画面上でインデックスとデータソースを作成する手順をご説明します。  "
   ]
  },
  {
   "cell_type": "markdown",
   "id": "9ad8b120",
   "metadata": {},
   "source": [
    "## 4. Comprehendを用いたエンティティ抽出（図②）\n",
    "\n",
    "Comprehendのデモ  \n",
    "\n",
    "[Wikipediaの文章](https://ja.wikipedia.org/wiki/Amazon_Web_Services)を取り込んでみる。 コンソールは[こちら](https://console.aws.amazon.com/comprehend/v2/home?region=us-east-1#home)\n",
    "\n",
    "----\n",
    "\n",
    "Wikipediaから取得してきたファイルを対象として、SDKを使ってComprehendでエンティティ抽出を行ってみる。\n",
    "\n",
    "ファイルを逐次読み込み -> Comprehendのdetect_entitiesメソッドでエンティティを取得 -> 整形してjson化してファイルに格納\n",
    "\n",
    "```python\n",
    "# ファイル読み込み\n",
    "    doc_text = open(fname, 'r', encoding=\"utf-8\").read()\n",
    "...\n",
    "# detect_entitiesメソッドでエンティティを取得\n",
    "    for i in range(0, len(doc_text), compre_text_size):\n",
    "        try:\n",
    "            entities = client.detect_entities(Text=doc_text[i:i+compre_text_size], LanguageCode='ja')\n",
    "...\n",
    "# json化\n",
    "    attributes[\"Attributes\"] = metadata\n",
    "    print(json.dumps(attributes, sort_keys=True, indent=4))\n",
    "```"
   ]
  },
  {
   "cell_type": "code",
   "execution_count": 3,
   "id": "f02f1dd4",
   "metadata": {},
   "outputs": [
    {
     "name": "stdout",
     "output_type": "stream",
     "text": [
      "{\r\n",
      "    \"Attributes\": {\r\n",
      "        \"COMMERCIAL_ITEM\": [\r\n",
      "            \"Route\",\r\n",
      "            \"EC2\",\r\n",
      "            \"Prime Video\",\r\n",
      "            \"Kindle\",\r\n",
      "            \"Echo\",\r\n",
      "            \"Kindle Fire\",\r\n",
      "            \"Fire\",\r\n",
      "            \"Fire HD 10\",\r\n",
      "            \"Fire TV\",\r\n",
      "            \"Prime Air\"\r\n",
      "        ],\r\n",
      "        \"DATE\": [\r\n",
      "            \"2月\",\r\n",
      "            \"3月\",\r\n",
      "            \"4月\",\r\n",
      "            \"5月\",\r\n",
      "            \"6月\",\r\n",
      "            \"7月\",\r\n",
      "            \"8月\",\r\n",
      "            \"2006年\",\r\n",
      "            \"2004年\",\r\n",
      "            \"2021年9月2日\"\r\n",
      "        ],\r\n",
      "        \"EVENT\": [],\r\n",
      "        \"LOCATION\": [\r\n",
      "            \"アメリカ東部\",\r\n",
      "            \"北バージニア\",\r\n",
      "            \"アメリカ西部\",\r\n",
      "            \"カリフォルニア\",\r\n",
      "            \"サンパウロ\",\r\n",
      "            \"アイルランド\",\r\n",
      "            \"ロンドン\",\r\n",
      "            \"シンガポール\",\r\n",
      "            \"大阪\",\r\n",
      "            \"香港\"\r\n",
      "        ],\r\n",
      "        \"ORGANIZATION\": [\r\n",
      "            \"Amazon Web Services\",\r\n",
      "            \"Wikipedia\",\r\n",
      "            \"Amazon_Web_Services\",\r\n",
      "            \"Amazon.com\",\r\n",
      "            \"アマゾン\",\r\n",
      "            \"AWS\",\r\n",
      "            \"Amazon\",\r\n",
      "            \"日本政府\",\r\n",
      "            \"総務省\",\r\n",
      "            \"Microsoft\"\r\n",
      "        ],\r\n",
      "        \"OTHER\": [\r\n",
      "            \"E3%82%\",\r\n",
      "            \"span\",\r\n",
      "            \"3%\",\r\n",
      "            \"3%83%\",\r\n",
      "            \"E3%\",\r\n",
      "            \"E3%83%\",\r\n",
      "            \"/w/index.php?\",\r\n",
      "            \"英語\",\r\n",
      "            \"/w/index.php?title\",\r\n",
      "            \"li\"\r\n",
      "        ],\r\n",
      "        \"PERSON\": [\r\n",
      "            \"アンディ・ジェシー\",\r\n",
      "            \"クリス・ピンカム\",\r\n",
      "            \"宇佐見潮\",\r\n",
      "            \"執行役員\",\r\n",
      "            \"本部長\",\r\n",
      "            \"濱口翔太郎\",\r\n",
      "            \"高橋\",\r\n",
      "            \"トニー・シェイ\",\r\n",
      "            \"ジェフ・ハヤシダ\",\r\n",
      "            \"長谷川純一\"\r\n",
      "        ],\r\n",
      "        \"QUANTITY\": [\r\n",
      "            \"83\",\r\n",
      "            \"83%\",\r\n",
      "            \"82\",\r\n",
      "            \"100%\",\r\n",
      "            \"0.77\",\r\n",
      "            \"0px\",\r\n",
      "            \"0\",\r\n",
      "            \"2px\",\r\n",
      "            \"0.25em\",\r\n",
      "            \"81\"\r\n",
      "        ],\r\n",
      "        \"TITLE\": [\r\n",
      "            \"Amazon Simple Queue Service\",\r\n",
      "            \"Amazon\",\r\n",
      "            \"Amazon Simple Storage Service\",\r\n",
      "            \"VMware\",\r\n",
      "            \"Elastic\",\r\n",
      "            \"SimpleDB\",\r\n",
      "            \"OrangeScape\",\r\n",
      "            \"Wikipedia\",\r\n",
      "            \"Amazon Web Services\",\r\n",
      "            \"Services\"\r\n",
      "        ]\r\n",
      "    }\r\n",
      "}\r\n"
     ]
    }
   ],
   "source": [
    "# 1ファイルでエンティティデータ抽出をスクリプトで試してみる\n",
    "#  元のWikipediaページ\n",
    "#    https://ja.wikipedia.org/wiki/Amazon_Web_Services\n",
    "\n",
    "!python3 getpagemetadata.py Data/Amazon_Web_Services.html"
   ]
  },
  {
   "cell_type": "markdown",
   "id": "d2bdafee",
   "metadata": {},
   "source": [
    "## 5. S3へのデータ配置（図③）"
   ]
  },
  {
   "cell_type": "code",
   "execution_count": 7,
   "id": "b54e99b8",
   "metadata": {},
   "outputs": [],
   "source": [
    "# 今回のデモではS3をデータソースとしてKendraで検索をしたい。そのためにS3にWikipediaの情報をアップロードする。  \n",
    "\n",
    "!sh upload.sh > /dev/null"
   ]
  },
  {
   "cell_type": "markdown",
   "id": "ecceb901",
   "metadata": {},
   "source": [
    "## データソースのsyncと検索（図④、⑤）\n",
    "\n",
    "https://console.aws.amazon.com/kendra/home?region=us-east-1#indexes"
   ]
  }
 ],
 "metadata": {
  "kernelspec": {
   "display_name": "conda_pytorch_p36",
   "language": "python",
   "name": "conda_pytorch_p36"
  },
  "language_info": {
   "codemirror_mode": {
    "name": "ipython",
    "version": 3
   },
   "file_extension": ".py",
   "mimetype": "text/x-python",
   "name": "python",
   "nbconvert_exporter": "python",
   "pygments_lexer": "ipython3",
   "version": "3.6.13"
  }
 },
 "nbformat": 4,
 "nbformat_minor": 5
}
