{
 "cells": [
  {
   "cell_type": "markdown",
   "id": "d1545a6a",
   "metadata": {},
   "source": [
    "## 発表内容\n",
    "\n",
    "最近日本語対応したAmazon KendraはAmazon S3やAmazon RDS、Salesforceといったリポジトリのコンテンツを一元管理されたインデックスに簡単に集約できます。これにより企業の様々なデータを素早く検索できます。そして、Amazon Comprehendはドキュメント内のテキストの解析を行うことができます。この2つのサービスを組み合わせた文書検索と検索された文書の解析についてデモを交えてご紹介します。\n",
    "\n",
    "----"
   ]
  },
  {
   "cell_type": "markdown",
   "id": "2324fd66",
   "metadata": {},
   "source": [
    "## 概要\n",
    "\n",
    "- Wikipediaの文章をComprehendで分析させてみる（図②）\n",
    "- KendraにWikipediaの文章を取り込んで日本語検索してみる（図③、④、⑤）\n",
    "\n",
    "この二つのサービスを組み合わせることで、Comprehendで文書から抽出したキーワードをKendraの絞り込み検索の時に使うといったような応用も可能です。\n",
    "\n",
    "----"
   ]
  },
  {
   "cell_type": "markdown",
   "id": "b4ef0efb",
   "metadata": {},
   "source": [
    "## アーキテクチャ\n",
    "\n",
    "![](./architecture_kendra_comprehend.png)\n",
    "\n",
    "----\n",
    "## Kendraの利用手順\n",
    "\n",
    "![](./kendra_flow.png)\n",
    "\n",
    "----"
   ]
  },
  {
   "cell_type": "markdown",
   "id": "c698f082",
   "metadata": {},
   "source": [
    "## デモの流れ\n",
    "\n",
    "2. Wikipediaから取得したファイルをディレクトリに配置する & S3へのデータ配置（図①、③）\n",
    "3. Kendraインデックスをプロビジョニングします\n",
    "4. Comprehendを用いたエンティティ抽出（図②）\n",
    "6. データソースのsync（図④）\n",
    "7. 検索！（図⑤）"
   ]
  },
  {
   "cell_type": "markdown",
   "id": "de142aaf",
   "metadata": {},
   "source": [
    "## 2. Wikipediaから取得したファイルをディレクトリに配置する & S3へのデータ配置（図①、③）"
   ]
  },
  {
   "cell_type": "code",
   "execution_count": null,
   "id": "d4aa4250",
   "metadata": {},
   "outputs": [],
   "source": [
    "!mkdir -p Data Meta && mkdir -p Meta/Data && echo 0 > .metalog\n",
    "\n",
    "!cat aws.txt && echo '----------'\n",
    "# aws.txtに書かれた情報をWikipediaからcurlしてくる\n",
    "!sh ./getpages.sh"
   ]
  },
  {
   "cell_type": "code",
   "execution_count": null,
   "id": "4a408f6a",
   "metadata": {},
   "outputs": [],
   "source": [
    "# 下準備\n",
    "\n",
    "# バケット作成\n",
    "!sh mb.sh"
   ]
  },
  {
   "cell_type": "code",
   "execution_count": null,
   "id": "8b8b908b",
   "metadata": {},
   "outputs": [],
   "source": [
    "# 今回のデモではS3をデータソースとしてKendraで検索をしたい。そのためにS3にWikipediaの情報をアップロードする。  \n",
    "\n",
    "!sh upload.sh > /dev/null"
   ]
  },
  {
   "cell_type": "markdown",
   "id": "467c4c16",
   "metadata": {},
   "source": [
    "## 3. Kendraインデックスをプロビジョニングします\n",
    "\n",
    "新しい Kendraインデックス の作成には約15分ほどかかります。（3分クッキング方式でデモ実施します）  \n",
    "デモでは画面上でインデックスとデータソースを作成する手順をご説明します。  "
   ]
  },
  {
   "cell_type": "markdown",
   "id": "911734ca",
   "metadata": {},
   "source": [
    "## 4. Comprehendを用いたエンティティ抽出（図②）\n",
    "\n",
    "Comprehendのデモ  \n",
    "\n",
    "[Wikipediaの文章](https://ja.wikipedia.org/wiki/Amazon_Web_Services)を取り込んでみる。 コンソールは[こちら](https://console.aws.amazon.com/comprehend/v2/home?region=us-east-1#home)\n",
    "\n",
    "----\n",
    "\n",
    "Wikipediaから取得してきたファイルを対象として、SDKを使ってComprehendでエンティティ抽出を行ってみる。\n",
    "\n",
    "ファイルを逐次読み込み -> Comprehendのdetect_entitiesメソッドでエンティティを取得 -> 整形してjson化してファイルに格納\n",
    "\n",
    "```python\n",
    "# ファイル読み込み\n",
    "    doc_text = open(fname, 'r', encoding=\"utf-8\").read()\n",
    "...\n",
    "# detect_entitiesメソッドでエンティティを取得\n",
    "    for i in range(0, len(doc_text), compre_text_size):\n",
    "        try:\n",
    "            entities = client.detect_entities(Text=doc_text[i:i+compre_text_size], LanguageCode='ja')\n",
    "...\n",
    "# json化\n",
    "    attributes[\"Attributes\"] = metadata\n",
    "    print(json.dumps(attributes, sort_keys=True, indent=4))\n",
    "```"
   ]
  },
  {
   "cell_type": "code",
   "execution_count": null,
   "id": "a7d5f11c",
   "metadata": {},
   "outputs": [],
   "source": [
    "# 1ファイルでエンティティデータ抽出をスクリプトで試してみる\n",
    "#  元のWikipediaページ\n",
    "#    https://ja.wikipedia.org/wiki/Amazon_Web_Services\n",
    "\n",
    "!python3 getpagemetadata.py Data/Amazon_Web_Services.html"
   ]
  },
  {
   "cell_type": "markdown",
   "id": "7b730744",
   "metadata": {},
   "source": [
    "## ComprehendとKendraの組み合わせ例\n",
    "\n",
    "![](./filtersearch.png)\n",
    "\n",
    "----"
   ]
  },
  {
   "cell_type": "markdown",
   "id": "e9ff87eb",
   "metadata": {},
   "source": [
    "## データソースのsyncと検索（図④、⑤）\n",
    "\n",
    "https://console.aws.amazon.com/kendra/home?region=us-east-1#indexes"
   ]
  }
 ],
 "metadata": {
  "kernelspec": {
   "display_name": "conda_pytorch_p36",
   "language": "python",
   "name": "conda_pytorch_p36"
  },
  "language_info": {
   "codemirror_mode": {
    "name": "ipython",
    "version": 3
   },
   "file_extension": ".py",
   "mimetype": "text/x-python",
   "name": "python",
   "nbconvert_exporter": "python",
   "pygments_lexer": "ipython3",
   "version": "3.6.13"
  }
 },
 "nbformat": 4,
 "nbformat_minor": 5
}
