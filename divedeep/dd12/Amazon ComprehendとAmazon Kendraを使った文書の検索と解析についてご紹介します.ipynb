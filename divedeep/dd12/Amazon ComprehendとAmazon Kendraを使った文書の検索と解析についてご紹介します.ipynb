{
 "cells": [
  {
   "cell_type": "markdown",
   "id": "ca150580",
   "metadata": {},
   "source": [
    "## 発表内容\n",
    "\n",
    "最近日本語対応したAmazon KendraはAmazon S3やAmazon RDS、Salesforceといったリポジトリのコンテンツを一元管理されたインデックスに簡単に集約できます。これにより企業の様々なデータを素早く検索できます。そして、Amazon Comprehendはドキュメント内のテキストの解析を行うことができます。この2つのサービスを組み合わせた文書検索と検索された文書の解析についてデモを交えてご紹介します。\n",
    "\n",
    "----"
   ]
  },
  {
   "cell_type": "markdown",
   "id": "d1551f31",
   "metadata": {},
   "source": [
    "## 概要\n",
    "\n",
    "- 非構造化データは増え続けている\n",
    "- 非構造データから必要な情報を入手することが困難\n",
    "- Kendraを使うと非構造データの検索自体は可能\n",
    "- Kendraでジャンル等の絞り込みフィルタリングを行うことでより精度の高い検索実現したい・・・・\n",
    "\n",
    "### 解決策（一例）\n",
    "\n",
    "- Kendraではドキュメントのリストを絞り込むために、ドキュメント取り込み時にメタデータを割り当て、フィルタリング・ファセット検索ができる\n",
    "- Comprehendを利用して自動でメタデータを生成する\n",
    "\n",
    "### 結論\n",
    "\n",
    "- 自動で非構造データの絞り込み検索ができちゃう！\n",
    "\n",
    "----"
   ]
  },
  {
   "cell_type": "markdown",
   "id": "1780a71f",
   "metadata": {},
   "source": [
    "## アーキテクチャ\n",
    "\n",
    "![](./architecture_kendra_comprehend.png \"アーキテクチャ図\")\n",
    "\n",
    "----\n",
    "![](./kendra_flow.png \"利用の流れ\")\n",
    "\n",
    "----"
   ]
  },
  {
   "cell_type": "markdown",
   "id": "b761cfd5",
   "metadata": {},
   "source": [
    "## デモの流れ\n",
    "\n",
    "（このファイルと同じディレクトリにある事前準備.ipynbを先に実行しておきます、デモでは割愛します）\n",
    "\n",
    "1. Comprehendのデモ\n",
    "2. Wikipediaから取得したファイルをディレクトリに配置する（図①事前準備で実施済み）\n",
    "3. Kendraインデックスとデータソースコネクタをプロビジョニングします（事前準備で実施済み）\n",
    "4. Comprehendを用いたエンティティ抽出（図②）\n",
    "5. S3へのデータ配置（図③）\n",
    "6. データソースのsync（図④）\n",
    "7. 検索！（図⑤）"
   ]
  },
  {
   "cell_type": "markdown",
   "id": "91898f64",
   "metadata": {},
   "source": [
    "## 1. Comprehendのデモ\n",
    "\n",
    "https://console.aws.amazon.com/comprehend/v2/home?region=us-east-1#home"
   ]
  },
  {
   "cell_type": "markdown",
   "id": "15e39543",
   "metadata": {},
   "source": [
    "## 2. Wikipediaから取得したファイルをディレクトリに配置する（図①事前準備で実施済み）\n",
    "\n",
    "ファイルリストは以下。"
   ]
  },
  {
   "cell_type": "code",
   "execution_count": 2,
   "id": "5f5b0e9d",
   "metadata": {},
   "outputs": [
    {
     "name": "stdout",
     "output_type": "stream",
     "text": [
      "Amazon.com.html\r\n",
      "Amazon_Elastic_Compute_Cloud.html\r\n",
      "Amazon_Simple_Queue_Service.html\r\n",
      "Amazon_Simple_Storage_Service.html\r\n",
      "Amazon_Web_Services.html\r\n"
     ]
    }
   ],
   "source": [
    "!ls -1 Data/"
   ]
  },
  {
   "cell_type": "markdown",
   "id": "4e556f51",
   "metadata": {},
   "source": [
    "## 3. Kendraインデックスとデータソースコネクタをプロビジョニングします（事前準備で実施済み）\n",
    "\n",
    "新しい Kendraインデックス の作成には約15分ほどかかります。  \n",
    "Cloudformationテンプレート の\"./kendratemplate.yaml\"で Kendraインデックス を作成しています。  \n",
    "\n",
    "デモでは画面上でデータソースを作成する手順をご説明します。  "
   ]
  },
  {
   "cell_type": "code",
   "execution_count": 17,
   "id": "1386501d",
   "metadata": {},
   "outputs": [
    {
     "name": "stdout",
     "output_type": "stream",
     "text": [
      "comprehendlab-akazawt-20211117-22171\n",
      "ComprehendDemo1117-001\n",
      "{\n",
      "    \"StackId\": \"arn:aws:cloudformation:us-east-1:067150986393:stack/ComprehendDemo1117-001/9edcbcf0-478d-11ec-a8b3-0e6b8695f17f\"\n",
      "}\n"
     ]
    }
   ],
   "source": [
    "!sh provisioning.sh"
   ]
  },
  {
   "cell_type": "code",
   "execution_count": 20,
   "id": "67d172fc",
   "metadata": {},
   "outputs": [
    {
     "name": "stdout",
     "output_type": "stream",
     "text": [
      "            \"StackStatus\": \"CREATE_COMPLETE\",\r\n"
     ]
    }
   ],
   "source": [
    "!aws cloudformation describe-stacks --stack-name \"$(cat .stackname)\" | grep StackStatus"
   ]
  },
  {
   "cell_type": "markdown",
   "id": "015bf032",
   "metadata": {},
   "source": [
    "## 4. Comprehendを用いたエンティティ抽出（図②）\n",
    "\n",
    "事前に配置してあるファイルを対象として、Comprehendでエンティティ抽出を行う。この結果を検索時のメタデータとして利用する。  \n",
    "\n",
    "ファイルを逐次読み込み -> Comprehendのdetect_entitiesメソッドでエンティティを取得 -> 整形してjson化してファイルに格納\n",
    "\n",
    "```python\n",
    "# ファイル読み込み\n",
    "    doc_text = open(fname, 'r', encoding=\"utf-8\").read()\n",
    "...\n",
    "# detect_entitiesメソッドでエンティティを取得\n",
    "    for i in range(0, len(doc_text), compre_text_size):\n",
    "        try:\n",
    "            entities = client.detect_entities(Text=doc_text[i:i+compre_text_size], LanguageCode='ja')\n",
    "...\n",
    "# json化\n",
    "    metadata[\"_source_uri\"] = \"https://ja.wikipedia.org/wiki/\" + npreplace\n",
    "    attributes[\"Attributes\"] = metadata\n",
    "    print(json.dumps(attributes, sort_keys=True, indent=4))\n",
    "```"
   ]
  },
  {
   "cell_type": "code",
   "execution_count": 21,
   "id": "985bd54c",
   "metadata": {},
   "outputs": [
    {
     "name": "stdout",
     "output_type": "stream",
     "text": [
      "{\r\n",
      "    \"Attributes\": {\r\n",
      "        \"COMMERCIAL_ITEM\": [\r\n",
      "            \"Route\",\r\n",
      "            \"EC2\",\r\n",
      "            \"Prime Video\",\r\n",
      "            \"Kindle\",\r\n",
      "            \"Echo\",\r\n",
      "            \"Kindle Fire\",\r\n",
      "            \"Fire\",\r\n",
      "            \"Fire HD 10\",\r\n",
      "            \"Fire TV\",\r\n",
      "            \"Prime Air\"\r\n",
      "        ],\r\n",
      "        \"DATE\": [\r\n",
      "            \"2月\",\r\n",
      "            \"3月\",\r\n",
      "            \"4月\",\r\n",
      "            \"5月\",\r\n",
      "            \"6月\",\r\n",
      "            \"7月\",\r\n",
      "            \"8月\",\r\n",
      "            \"2006年\",\r\n",
      "            \"2004年\",\r\n",
      "            \"2021年9月2日\"\r\n",
      "        ],\r\n",
      "        \"EVENT\": [],\r\n",
      "        \"LOCATION\": [\r\n",
      "            \"アメリカ東部\",\r\n",
      "            \"北バージニア\",\r\n",
      "            \"アメリカ西部\",\r\n",
      "            \"カリフォルニア\",\r\n",
      "            \"サンパウロ\",\r\n",
      "            \"アイルランド\",\r\n",
      "            \"ロンドン\",\r\n",
      "            \"シンガポール\",\r\n",
      "            \"大阪\",\r\n",
      "            \"香港\"\r\n",
      "        ],\r\n",
      "        \"ORGANIZATION\": [\r\n",
      "            \"Amazon Web Services\",\r\n",
      "            \"Wikipedia\",\r\n",
      "            \"Amazon_Web_Services\",\r\n",
      "            \"Amazon.com\",\r\n",
      "            \"アマゾン\",\r\n",
      "            \"AWS\",\r\n",
      "            \"Amazon\",\r\n",
      "            \"日本政府\",\r\n",
      "            \"総務省\",\r\n",
      "            \"Microsoft\"\r\n",
      "        ],\r\n",
      "        \"OTHER\": [\r\n",
      "            \"E3%82%\",\r\n",
      "            \"span\",\r\n",
      "            \"3%\",\r\n",
      "            \"3%83%\",\r\n",
      "            \"E3%\",\r\n",
      "            \"E3%83%\",\r\n",
      "            \"/w/index.php?\",\r\n",
      "            \"英語\",\r\n",
      "            \"/w/index.php?title\",\r\n",
      "            \"li\"\r\n",
      "        ],\r\n",
      "        \"PERSON\": [\r\n",
      "            \"アンディ・ジェシー\",\r\n",
      "            \"クリス・ピンカム\",\r\n",
      "            \"宇佐見潮\",\r\n",
      "            \"執行役員\",\r\n",
      "            \"本部長\",\r\n",
      "            \"濱口翔太郎\",\r\n",
      "            \"高橋\",\r\n",
      "            \"トニー・シェイ\",\r\n",
      "            \"ジェフ・ハヤシダ\",\r\n",
      "            \"長谷川純一\"\r\n",
      "        ],\r\n",
      "        \"QUANTITY\": [\r\n",
      "            \"83\",\r\n",
      "            \"83%\",\r\n",
      "            \"82\",\r\n",
      "            \"100%\",\r\n",
      "            \"0.77\",\r\n",
      "            \"0px\",\r\n",
      "            \"0\",\r\n",
      "            \"2px\",\r\n",
      "            \"0.25em\",\r\n",
      "            \"81\"\r\n",
      "        ],\r\n",
      "        \"TITLE\": [\r\n",
      "            \"Amazon Simple Queue Service\",\r\n",
      "            \"Amazon\",\r\n",
      "            \"Amazon Simple Storage Service\",\r\n",
      "            \"VMware\",\r\n",
      "            \"Elastic\",\r\n",
      "            \"SimpleDB\",\r\n",
      "            \"OrangeScape\",\r\n",
      "            \"Wikipedia\",\r\n",
      "            \"Amazon Web Services\",\r\n",
      "            \"Services\"\r\n",
      "        ],\r\n",
      "        \"_source_uri\": \"https://ja.wikipedia.org/wiki/Amazon_Web_Services\"\r\n",
      "    }\r\n",
      "}\r\n"
     ]
    }
   ],
   "source": [
    "# 1ファイルでメタデータ抽出を試してみる\n",
    "#  元のWikipediaページ\n",
    "#    https://ja.wikipedia.org/wiki/Amazon_Web_Services\n",
    "\n",
    "!python3 getpagemetadata.py Data/Amazon_Web_Services.html"
   ]
  },
  {
   "cell_type": "code",
   "execution_count": 22,
   "id": "66c761df",
   "metadata": {},
   "outputs": [
    {
     "name": "stdout",
     "output_type": "stream",
     "text": [
      "Generate metadata for 5 pages\n",
      "Starting from 0\n",
      "Working on 0\n",
      "Working on Amazon_Web_Services\n",
      "Working on Amazon.com\n",
      "Working on Amazon_Simple_Queue_Service\n",
      "Working on Amazon_Elastic_Compute_Cloud\n",
      "Working on Amazon_Simple_Storage_Service\n",
      "Successful completion at 0\n"
     ]
    }
   ],
   "source": [
    "# 一括で全ファイルのメタデータ抽出を実行する\n",
    "!sh ./getmetadata.sh"
   ]
  },
  {
   "cell_type": "markdown",
   "id": "ad9e00b6",
   "metadata": {},
   "source": [
    "## 5. S3へのデータ配置（図③）"
   ]
  },
  {
   "cell_type": "code",
   "execution_count": 23,
   "id": "d3c01359",
   "metadata": {},
   "outputs": [
    {
     "name": "stdout",
     "output_type": "stream",
     "text": [
      "upload: Data/inference_pipeline_sparkml_xgboost_abalone.ipynb to s3://comprehendlab-akazawt-20211117-22171/Data/inference_pipeline_sparkml_xgboost_abalone.ipynb\n",
      "upload: Data/Amazon_Web_Services.html to s3://comprehendlab-akazawt-20211117-22171/Data/Amazon_Web_Services.html\n",
      "upload: Data/Amazon.com.html to s3://comprehendlab-akazawt-20211117-22171/Data/Amazon.com.html\n",
      "upload: Data/Amazon_Simple_Queue_Service.html to s3://comprehendlab-akazawt-20211117-22171/Data/Amazon_Simple_Queue_Service.html\n",
      "upload: Data/Amazon_Elastic_Compute_Cloud.html to s3://comprehendlab-akazawt-20211117-22171/Data/Amazon_Elastic_Compute_Cloud.html\n",
      "upload: Data/Amazon_Simple_Storage_Service.html to s3://comprehendlab-akazawt-20211117-22171/Data/Amazon_Simple_Storage_Service.html\n",
      "upload: Meta/Data/Amazon_Simple_Queue_Service.txt.metadata.json to s3://comprehendlab-akazawt-20211117-22171/Meta/Data/Amazon_Simple_Queue_Service.txt.metadata.json\n",
      "upload: Meta/Data/Amazon_Simple_Storage_Service.txt.metadata.json to s3://comprehendlab-akazawt-20211117-22171/Meta/Data/Amazon_Simple_Storage_Service.txt.metadata.json\n",
      "upload: Meta/Data/Amazon.com.txt.metadata.json to s3://comprehendlab-akazawt-20211117-22171/Meta/Data/Amazon.com.txt.metadata.json\n",
      "upload: Meta/Data/Amazon_Web_Services.txt.metadata.json to s3://comprehendlab-akazawt-20211117-22171/Meta/Data/Amazon_Web_Services.txt.metadata.json\n",
      "upload: Meta/Data/Amazon_Elastic_Compute_Cloud.txt.metadata.json to s3://comprehendlab-akazawt-20211117-22171/Meta/Data/Amazon_Elastic_Compute_Cloud.txt.metadata.json\n"
     ]
    }
   ],
   "source": [
    "# 事前配置してあるテキスト(html)データと作成したエンティティメタデータをS3にアップロードする\n",
    "!sh upload.sh"
   ]
  },
  {
   "cell_type": "markdown",
   "id": "cb07d288",
   "metadata": {},
   "source": [
    "## データソースのsync（図④）\n",
    "\n",
    "現状、CloudFormationの[AWS::Kendra::DataSource](https://docs.aws.amazon.com/AWSCloudFormation/latest/UserGuide/aws-properties-kendra-datasource-s3datasourceconfiguration.html#cfn-kendra-datasource-s3datasourceconfiguration-documentsmetadataconfiguration)でdefault languageに日本語を指定できないため、手動でデータソースの言語を日本語に設定する・・・\n",
    "\n",
    "https://console.aws.amazon.com/kendra/home?region=us-east-1#indexes"
   ]
  },
  {
   "cell_type": "code",
   "execution_count": 25,
   "id": "bfba9e7a",
   "metadata": {},
   "outputs": [
    {
     "name": "stdout",
     "output_type": "stream",
     "text": [
      "Kendra index ID is: 589a886f-aeec-40cd-9d9a-0b00415ce8a4. Kendra data source id is: e2ba2475-36ae-406b-a56d-b0a8303c3537\n",
      "{\n",
      "    \"ExecutionId\": \"6f8e1d37-db99-41cd-8159-4986cfbdf63f\"\n",
      "}\n",
      "{\n",
      "    \"History\": [\n",
      "        {\n",
      "            \"ExecutionId\": \"6f8e1d37-db99-41cd-8159-4986cfbdf63f\",\n",
      "            \"StartTime\": 1637144541.797,\n",
      "            \"Status\": \"SYNCING\",\n",
      "            \"Metrics\": {\n",
      "                \"DocumentsAdded\": \"0\",\n",
      "                \"DocumentsModified\": \"0\",\n",
      "                \"DocumentsDeleted\": \"0\",\n",
      "                \"DocumentsFailed\": \"0\",\n",
      "                \"DocumentsScanned\": \"0\"\n",
      "            }\n",
      "        }\n",
      "    ]\n",
      "}\n"
     ]
    }
   ],
   "source": [
    "!sh datasource_sync.sh"
   ]
  }
 ],
 "metadata": {
  "kernelspec": {
   "display_name": "conda_pytorch_p36",
   "language": "python",
   "name": "conda_pytorch_p36"
  },
  "language_info": {
   "codemirror_mode": {
    "name": "ipython",
    "version": 3
   },
   "file_extension": ".py",
   "mimetype": "text/x-python",
   "name": "python",
   "nbconvert_exporter": "python",
   "pygments_lexer": "ipython3",
   "version": "3.6.13"
  }
 },
 "nbformat": 4,
 "nbformat_minor": 5
}
