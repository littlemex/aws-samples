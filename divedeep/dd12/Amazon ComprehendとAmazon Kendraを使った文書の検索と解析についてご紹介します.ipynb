{
 "cells": [
  {
   "cell_type": "markdown",
   "id": "d6acf6b9",
   "metadata": {},
   "source": [
    "## 発表内容\n",
    "\n",
    "最近日本語対応したAmazon KendraはAmazon S3やAmazon RDS、Salesforceといったリポジトリのコンテンツを一元管理されたインデックスに簡単に集約できます。これにより企業の様々なデータを素早く検索できます。そして、Amazon Comprehendはドキュメント内のテキストの解析を行うことができます。この2つのサービスを組み合わせた文書検索と検索された文書の解析についてデモを交えてご紹介します。\n",
    "\n",
    "----"
   ]
  },
  {
   "cell_type": "markdown",
   "id": "fee74391",
   "metadata": {},
   "source": [
    "## 概要\n",
    "\n",
    "- 非構造化データは増え続けている\n",
    "- 非構造データから必要な情報を入手することが困難\n",
    "- Kendraを使うと非構造データの検索自体は可能\n",
    "- Kendraでジャンル等の絞り込みフィルタリングを行うことでより精度の高い検索実現したい・・・・\n",
    "\n",
    "### 解決策（一例）\n",
    "\n",
    "- Kendraではドキュメントのリストを絞り込むために、ドキュメント取り込み時にメタデータを割り当て、フィルタリング・ファセット検索ができる\n",
    "- Comprehendを利用して自動でメタデータを生成する\n",
    "\n",
    "### 結論\n",
    "\n",
    "- 自動で非構造データの絞り込み検索ができちゃう！\n",
    "\n",
    "----"
   ]
  },
  {
   "cell_type": "markdown",
   "id": "5d051736",
   "metadata": {},
   "source": [
    "## アーキテクチャ\n",
    "\n",
    "![](./architecture_kendra_comprehend.png \"アーキテクチャ図\")\n",
    "\n",
    "----\n",
    "![](./kendra_flow.png \"利用の流れ\")\n",
    "\n",
    "----"
   ]
  },
  {
   "cell_type": "markdown",
   "id": "0072379c",
   "metadata": {},
   "source": [
    "## デモの流れ\n",
    "\n",
    "（このファイルと同じディレクトリにある事前準備.ipynbを先に実行しておきます、デモでは割愛します）\n",
    "\n",
    "1. Comprehendのデモ\n",
    "2. Wikipediaから取得したファイルをディレクトリに配置する（図①事前準備で実施済み）\n",
    "3. Kendraインデックスとデータソースコネクタをプロビジョニングします（事前準備で実施済み）\n",
    "4. Comprehendを用いたエンティティ抽出（図②）\n",
    "5. S3へのデータ配置（図③）\n",
    "6. データソースのsync（図④）\n",
    "7. 検索！（図⑤）"
   ]
  },
  {
   "cell_type": "markdown",
   "id": "768b2b61",
   "metadata": {},
   "source": [
    "## 1. Comprehendのデモ\n",
    "\n",
    "https://console.aws.amazon.com/comprehend/v2/home?region=us-east-1#home"
   ]
  },
  {
   "cell_type": "markdown",
   "id": "9b2b92b5",
   "metadata": {},
   "source": [
    "## 2. Wikipediaから取得したファイルをディレクトリに配置する（図①事前準備で実施済み）\n",
    "\n",
    "ファイルリストは以下。"
   ]
  },
  {
   "cell_type": "code",
   "execution_count": 1,
   "id": "3227bd82",
   "metadata": {},
   "outputs": [
    {
     "name": "stdout",
     "output_type": "stream",
     "text": [
      "Amazon.com.html\r\n",
      "Amazon_Elastic_Compute_Cloud.html\r\n",
      "Amazon_Simple_Queue_Service.html\r\n",
      "Amazon_Simple_Storage_Service.html\r\n",
      "Amazon_Web_Services.html\r\n",
      "inference_pipeline_sparkml_xgboost_abalone.ipynb\r\n",
      "Meta\r\n"
     ]
    }
   ],
   "source": [
    "!ls -1 Data/"
   ]
  },
  {
   "cell_type": "markdown",
   "id": "06c38426",
   "metadata": {},
   "source": [
    "## 3. Kendraインデックスとデータソースコネクタをプロビジョニングします（事前準備で実施済み）\n",
    "\n",
    "新しい Kendraインデックス の作成には約15分ほどかかります。  \n",
    "Cloudformationテンプレート の\"./kendratemplate.yaml\"で Kendraインデックス を作成しています。  \n",
    "\n",
    "デモでは画面上でデータソースを作成する手順をご説明します。  "
   ]
  },
  {
   "cell_type": "code",
   "execution_count": 2,
   "id": "786e87e9",
   "metadata": {},
   "outputs": [
    {
     "name": "stdout",
     "output_type": "stream",
     "text": [
      "comprehendlab-akazawt-20211118-14325\n",
      "ComprehendDemo1117-002\n",
      "{\n",
      "    \"StackId\": \"arn:aws:cloudformation:us-east-1:067150986393:stack/ComprehendDemo1117-002/f07e6b60-4816-11ec-bc26-12a634623527\"\n",
      "}\n"
     ]
    }
   ],
   "source": [
    "!sh provisioning.sh"
   ]
  },
  {
   "cell_type": "code",
   "execution_count": 3,
   "id": "20745901",
   "metadata": {},
   "outputs": [
    {
     "name": "stdout",
     "output_type": "stream",
     "text": [
      "            \"StackStatus\": \"CREATE_COMPLETE\",\r\n"
     ]
    }
   ],
   "source": [
    "!aws cloudformation describe-stacks --stack-name \"$(cat .stackname)\" | grep StackStatus"
   ]
  },
  {
   "cell_type": "code",
   "execution_count": 10,
   "id": "aa769567",
   "metadata": {},
   "outputs": [],
   "source": [
    "!aws cloudformation describe-stacks --stack-name \"$(cat .stackname)\" --query \"Stacks[0].Outputs[?OutputKey=='KendraDatasourceID'].OutputValue\" --output text > .indexid"
   ]
  },
  {
   "cell_type": "markdown",
   "id": "315199a4",
   "metadata": {},
   "source": [
    "## 4. Comprehendを用いたエンティティ抽出（図②）\n",
    "\n",
    "事前に配置してあるファイルを対象として、Comprehendでエンティティ抽出を行う。この結果を検索時のメタデータとして利用する。  \n",
    "\n",
    "ファイルを逐次読み込み -> Comprehendのdetect_entitiesメソッドでエンティティを取得 -> 整形してjson化してファイルに格納\n",
    "\n",
    "```python\n",
    "# ファイル読み込み\n",
    "    doc_text = open(fname, 'r', encoding=\"utf-8\").read()\n",
    "...\n",
    "# detect_entitiesメソッドでエンティティを取得\n",
    "    for i in range(0, len(doc_text), compre_text_size):\n",
    "        try:\n",
    "            entities = client.detect_entities(Text=doc_text[i:i+compre_text_size], LanguageCode='ja')\n",
    "...\n",
    "# json化\n",
    "    metadata[\"_source_uri\"] = \"https://ja.wikipedia.org/wiki/\" + npreplace\n",
    "    attributes[\"Attributes\"] = metadata\n",
    "    print(json.dumps(attributes, sort_keys=True, indent=4))\n",
    "```"
   ]
  },
  {
   "cell_type": "code",
   "execution_count": 4,
   "id": "229b626e",
   "metadata": {},
   "outputs": [
    {
     "name": "stdout",
     "output_type": "stream",
     "text": [
      "{\r\n",
      "    \"Attributes\": {\r\n",
      "        \"COMMERCIAL_ITEM\": [\r\n",
      "            \"Route\",\r\n",
      "            \"EC2\",\r\n",
      "            \"Prime Video\",\r\n",
      "            \"Kindle\",\r\n",
      "            \"Echo\",\r\n",
      "            \"Kindle Fire\",\r\n",
      "            \"Fire\",\r\n",
      "            \"Fire HD 10\",\r\n",
      "            \"Fire TV\",\r\n",
      "            \"Prime Air\"\r\n",
      "        ],\r\n",
      "        \"DATE\": [\r\n",
      "            \"2月\",\r\n",
      "            \"3月\",\r\n",
      "            \"4月\",\r\n",
      "            \"5月\",\r\n",
      "            \"6月\",\r\n",
      "            \"7月\",\r\n",
      "            \"8月\",\r\n",
      "            \"2006年\",\r\n",
      "            \"2004年\",\r\n",
      "            \"2021年9月2日\"\r\n",
      "        ],\r\n",
      "        \"EVENT\": [],\r\n",
      "        \"LOCATION\": [\r\n",
      "            \"アメリカ東部\",\r\n",
      "            \"北バージニア\",\r\n",
      "            \"アメリカ西部\",\r\n",
      "            \"カリフォルニア\",\r\n",
      "            \"サンパウロ\",\r\n",
      "            \"アイルランド\",\r\n",
      "            \"ロンドン\",\r\n",
      "            \"シンガポール\",\r\n",
      "            \"大阪\",\r\n",
      "            \"香港\"\r\n",
      "        ],\r\n",
      "        \"ORGANIZATION\": [\r\n",
      "            \"Amazon Web Services\",\r\n",
      "            \"Wikipedia\",\r\n",
      "            \"Amazon_Web_Services\",\r\n",
      "            \"Amazon.com\",\r\n",
      "            \"アマゾン\",\r\n",
      "            \"AWS\",\r\n",
      "            \"Amazon\",\r\n",
      "            \"日本政府\",\r\n",
      "            \"総務省\",\r\n",
      "            \"Microsoft\"\r\n",
      "        ],\r\n",
      "        \"OTHER\": [\r\n",
      "            \"E3%82%\",\r\n",
      "            \"span\",\r\n",
      "            \"3%\",\r\n",
      "            \"3%83%\",\r\n",
      "            \"E3%\",\r\n",
      "            \"E3%83%\",\r\n",
      "            \"/w/index.php?\",\r\n",
      "            \"英語\",\r\n",
      "            \"/w/index.php?title\",\r\n",
      "            \"li\"\r\n",
      "        ],\r\n",
      "        \"PERSON\": [\r\n",
      "            \"アンディ・ジェシー\",\r\n",
      "            \"クリス・ピンカム\",\r\n",
      "            \"宇佐見潮\",\r\n",
      "            \"執行役員\",\r\n",
      "            \"本部長\",\r\n",
      "            \"濱口翔太郎\",\r\n",
      "            \"高橋\",\r\n",
      "            \"トニー・シェイ\",\r\n",
      "            \"ジェフ・ハヤシダ\",\r\n",
      "            \"長谷川純一\"\r\n",
      "        ],\r\n",
      "        \"QUANTITY\": [\r\n",
      "            \"83\",\r\n",
      "            \"83%\",\r\n",
      "            \"82\",\r\n",
      "            \"100%\",\r\n",
      "            \"0.77\",\r\n",
      "            \"0px\",\r\n",
      "            \"0\",\r\n",
      "            \"2px\",\r\n",
      "            \"0.25em\",\r\n",
      "            \"81\"\r\n",
      "        ],\r\n",
      "        \"TITLE\": [\r\n",
      "            \"Amazon Simple Queue Service\",\r\n",
      "            \"Amazon\",\r\n",
      "            \"Amazon Simple Storage Service\",\r\n",
      "            \"VMware\",\r\n",
      "            \"Elastic\",\r\n",
      "            \"SimpleDB\",\r\n",
      "            \"OrangeScape\",\r\n",
      "            \"Wikipedia\",\r\n",
      "            \"Amazon Web Services\",\r\n",
      "            \"Services\"\r\n",
      "        ]\r\n",
      "    }\r\n",
      "}\r\n"
     ]
    }
   ],
   "source": [
    "# 1ファイルでメタデータ抽出を試してみる\n",
    "#  元のWikipediaページ\n",
    "#    https://ja.wikipedia.org/wiki/Amazon_Web_Services\n",
    "\n",
    "!python3 getpagemetadata.py Data/Amazon_Web_Services.html"
   ]
  },
  {
   "cell_type": "code",
   "execution_count": 5,
   "id": "ec270fa8",
   "metadata": {},
   "outputs": [
    {
     "name": "stdout",
     "output_type": "stream",
     "text": [
      "Generate metadata for 5 pages\n",
      "Starting from 0\n",
      "Working on 0\n",
      "Working on Amazon_Web_Services\n",
      "Working on Amazon.com\n",
      "Working on Amazon_Simple_Queue_Service\n",
      "Working on Amazon_Elastic_Compute_Cloud\n",
      "Working on Amazon_Simple_Storage_Service\n",
      "Successful completion at 0\n"
     ]
    }
   ],
   "source": [
    "# 一括で全ファイルのメタデータ抽出を実行する\n",
    "!sh ./getmetadata.sh"
   ]
  },
  {
   "cell_type": "markdown",
   "id": "c308ae65",
   "metadata": {},
   "source": [
    "## 5. S3へのデータ配置（図③）"
   ]
  },
  {
   "cell_type": "code",
   "execution_count": 6,
   "id": "0a1d8c08",
   "metadata": {},
   "outputs": [
    {
     "name": "stdout",
     "output_type": "stream",
     "text": [
      "upload: Data/Amazon_Web_Services.html to s3://comprehendlab-akazawt-20211118-14325/Data/Amazon_Web_Services.html\n",
      "upload: Data/inference_pipeline_sparkml_xgboost_abalone.ipynb to s3://comprehendlab-akazawt-20211118-14325/Data/inference_pipeline_sparkml_xgboost_abalone.ipynb\n",
      "upload: Data/Amazon_Simple_Queue_Service.html to s3://comprehendlab-akazawt-20211118-14325/Data/Amazon_Simple_Queue_Service.html\n",
      "upload: Data/Amazon.com.html to s3://comprehendlab-akazawt-20211118-14325/Data/Amazon.com.html\n",
      "upload: Data/Amazon_Elastic_Compute_Cloud.html to s3://comprehendlab-akazawt-20211118-14325/Data/Amazon_Elastic_Compute_Cloud.html\n",
      "upload: Data/Amazon_Simple_Storage_Service.html to s3://comprehendlab-akazawt-20211118-14325/Data/Amazon_Simple_Storage_Service.html\n",
      "upload: Meta/Data/Amazon_Simple_Storage_Service.txt.metadata.json to s3://comprehendlab-akazawt-20211118-14325/Meta/Data/Amazon_Simple_Storage_Service.txt.metadata.json\n",
      "upload: Meta/Data/Amazon.com.txt.metadata.json to s3://comprehendlab-akazawt-20211118-14325/Meta/Data/Amazon.com.txt.metadata.json\n",
      "upload: Meta/Data/Amazon_Elastic_Compute_Cloud.txt.metadata.json to s3://comprehendlab-akazawt-20211118-14325/Meta/Data/Amazon_Elastic_Compute_Cloud.txt.metadata.json\n",
      "upload: Meta/Data/Amazon_Simple_Queue_Service.txt.metadata.json to s3://comprehendlab-akazawt-20211118-14325/Meta/Data/Amazon_Simple_Queue_Service.txt.metadata.json\n",
      "upload: Meta/Data/Amazon_Web_Services.txt.metadata.json to s3://comprehendlab-akazawt-20211118-14325/Meta/Data/Amazon_Web_Services.txt.metadata.json\n"
     ]
    }
   ],
   "source": [
    "# 事前配置してあるテキスト(html)データと作成したエンティティメタデータをS3にアップロードする\n",
    "!sh upload.sh"
   ]
  },
  {
   "cell_type": "markdown",
   "id": "4c1a34de",
   "metadata": {},
   "source": [
    "## データソースのsync（図④）\n",
    "\n",
    "現状、CloudFormationの[AWS::Kendra::DataSource](https://docs.aws.amazon.com/AWSCloudFormation/latest/UserGuide/aws-properties-kendra-datasource-s3datasourceconfiguration.html#cfn-kendra-datasource-s3datasourceconfiguration-documentsmetadataconfiguration)でdefault languageに日本語を指定できないため、手動でデータソースの言語を日本語に設定する・・・\n",
    "\n",
    "https://console.aws.amazon.com/kendra/home?region=us-east-1#indexes"
   ]
  },
  {
   "cell_type": "code",
   "execution_count": 7,
   "id": "1da33c7e",
   "metadata": {},
   "outputs": [
    {
     "name": "stdout",
     "output_type": "stream",
     "text": [
      "Kendra index ID is: fed3ec6e-c4c2-4c85-b1d6-ec5f81605dd5. Kendra data source id is: 159a19a5-54b1-4167-ae91-42b401734d14\n",
      "{\n",
      "    \"ExecutionId\": \"00ef52b3-26d8-4de5-acc8-d9c86f50f3c1\"\n",
      "}\n",
      "{\n",
      "    \"History\": [\n",
      "        {\n",
      "            \"ExecutionId\": \"00ef52b3-26d8-4de5-acc8-d9c86f50f3c1\",\n",
      "            \"StartTime\": 1637203022.127,\n",
      "            \"Status\": \"SYNCING\",\n",
      "            \"Metrics\": {\n",
      "                \"DocumentsAdded\": \"0\",\n",
      "                \"DocumentsModified\": \"0\",\n",
      "                \"DocumentsDeleted\": \"0\",\n",
      "                \"DocumentsFailed\": \"0\",\n",
      "                \"DocumentsScanned\": \"0\"\n",
      "            }\n",
      "        }\n",
      "    ]\n",
      "}\n"
     ]
    }
   ],
   "source": [
    "!sh datasource_sync.sh"
   ]
  },
  {
   "cell_type": "markdown",
   "id": "7395ca3d",
   "metadata": {},
   "source": [
    "## 検索！（図⑤）\n",
    "\n",
    "現状、Kendraのコンソールからは[String List型のフィルタ（ファセット）検索](https://docs.aws.amazon.com/kendra/latest/dg/filtering.html)が利用できないため、SDKからクエリを実行する。"
   ]
  },
  {
   "cell_type": "code",
   "execution_count": 63,
   "id": "5214ad35",
   "metadata": {},
   "outputs": [
    {
     "name": "stdout",
     "output_type": "stream",
     "text": [
      "{'QueryId': '26df836b-7066-422b-ad3f-0cdda3595dad', 'ResultItems': [{'Id': '26df836b-7066-422b-ad3f-0cdda3595dad-24d0437c-47fd-42c6-ab08-01b6f97ae99f', 'Type': 'DOCUMENT', 'AdditionalAttributes': [], 'DocumentId': 's3://comprehendlab-akazawt-20211117-22171/Data/Amazon.com.html', 'DocumentTitle': {'Text': 'Amazon.com - Wikipedia', 'Highlights': []}, 'DocumentExcerpt': {'Text': 'Amazon.comの論争\\n\\tZappos.com\\n\\tAmazon.co.jp\\n\\tジェフ・ベゾス\\n\\t通信販売\\n\\n\\n関連文献[編集]\\n\\n\\t横田増生『潜入ルポ\\u3000アマゾン・ドット・コム(朝日文庫) 』朝日新聞出版、2010年\\u3000ISBN 978-4022616845\\n\\tリチャード・ブラントー（訳：井口耕二）『ワンクリック―ジェフ・ベゾス率いるAmazonの隆盛』日経BPマーケティング、2012年\\u3000ISBN 978-4822249151\\n\\tジャン＝バティスト・マレ『アマゾン、世界最良の企業潜入記』（En Amazonie. Infiltré dans le «meilleur des mondes»）', 'Highlights': [{'BeginOffset': 41, 'EndOffset': 44, 'TopAnswer': False, 'Type': 'STANDARD'}, {'BeginOffset': 158, 'EndOffset': 161, 'TopAnswer': False, 'Type': 'STANDARD'}]}, 'DocumentURI': 'https://s3.us-east-1.amazonaws.com/comprehendlab-akazawt-20211117-22171/Data/Amazon.com.html', 'DocumentAttributes': [{'Key': '_source_uri', 'Value': {'StringValue': 'https://s3.us-east-1.amazonaws.com/comprehendlab-akazawt-20211117-22171/Data/Amazon.com.html'}}], 'ScoreAttributes': {'ScoreConfidence': 'NOT_AVAILABLE'}, 'FeedbackToken': 'AYADeHpnG1mDQS0iXdmLDzN6JdkAXwABABVhd3MtY3J5cHRvLXB1YmxpYy1rZXkAREErVnJNYVVtK2hwa3ZnQU9xdDZhTTlSVytVOGNmQml1dTJNUVRKZFFlMVQzQnR2dVBHZzhBS20ydU1nL3pSTGRMdz09AAEAB2F3cy1rbXMAS2Fybjphd3M6a21zOnVzLWVhc3QtMTo3OTQyODk5MjcwNzA6a2V5LzA4YjVkYTRmLWQyOWEtNDU3Mi04OTAwLTRkZjMzN2VjYzljYwC4AQIBAHgooOi6yInIz2MNEHDdrAvnkUT4RDxeObjhZj0qNuvTbAGPg79LNKau3VX0yIuzv3ruAAAAfjB8BgkqhkiG9w0BBwagbzBtAgEAMGgGCSqGSIb3DQEHATAeBglghkgBZQMEAS4wEQQMYl9QKMVnxHgINzgeAgEQgDt6cqn2uFpbpnrVLTRjtN_Blgx_pXk21kfIUbyP9VDBNHD9-C9idvyXPMSHLBH2t2NAsmiX3m__eo-3-AIAAAAADAAAEAAAAAAAAAAAAAAAAACXUTrXaYywwj2E4Oy4S2UA_____wAAAAEAAAAAAAAAAAAAAAEAAAF2udcobid2r8DsYyYRBil0E0EG9tECiENIFJcY6mqCqWOgb1TumY43HdHO2fANr721VnxsFgDBWNiqA4Khz5b7k21YJJQP5pjM1IUlT3jzMyUyHDq-BtIH6STdgPxh4YmhNLMxqzxydf6DF5CPMNfVY8wLmhv6i0gATcVd2AMhM_3ciZ3zLjVsCLrKwOe7ydzlRTvzs4az3ZTJnmYtm7LrxSPc1kmCpAt0vryVgSm4VMTKgQsL-1MALEsg_E4-mZ92TNgjyxCZqJawFGxVlHOSZQZwyMnRMAbmKAd21VXbCqhvs-8kNBnzBjFL0fHf7i2MUBs5NiNkTMqMlZuzWbeCYoRoCgGLiYqM8WA_qwU0U-OXQhwrv1jEUgm7IiponY3sYFkEJp0KVpY8pw1dpDAL0V7E5-5flkqQXPDV-jD13mBkFUzwFbxoW0oqrEdTt2eGgZ0GrNTNmqlFrWlo7kfVXwVcBeYll-4NGN-uktdB2vtLw0AyoH4E8XmWTHfApo7c8QVJ-0gwAGcwZQIwLPE_G0OTYdoIxMZsJFgLkDHgOUzXqM7HGUfdoILH-TN_WpaVdbdHsr_fCh18a1a5AjEA3EKQ5R-MOH89yB3BTXZcI_-8IYTjvMR4wrKyUXYde9jtQSh6YZaiYrhAeeZer6id.26df836b-7066-422b-ad3f-0cdda3595dad-24d0437c-47fd-42c6-ab08-01b6f97ae99f'}, {'Id': '26df836b-7066-422b-ad3f-0cdda3595dad-b6f5f5ac-95da-43be-9a3a-ea7851af325d', 'Type': 'DOCUMENT', 'AdditionalAttributes': [], 'DocumentId': 's3://comprehendlab-akazawt-20211117-22171/Data/Amazon_Simple_Queue_Service.html', 'DocumentTitle': {'Text': 'Amazon Simple Queue Service - Wikipedia', 'Highlights': []}, 'DocumentExcerpt': {'Text': 'Obidos\\n\\tリクアビスタ\\n\\n\\n\\n\\n\\t出版\\t\\n\\tAmazon Publishing\\n\\tAmazon Studios\\n\\tBreakthrough Novel Award\\n\\tBest Books of the Year\\n\\tKindle ダイレクト・パブリッシング\\n\\n\\n\\n\\n\\t小売\\t\\n\\tアマゾン・ブックス\\n\\tAmazon Go\\n\\tホールフーズ・マーケット\\n\\n\\n\\n\\n\\t物流\\t\\n\\tAmazon Prime Air\\n\\n\\n\\n\\n\\t過去\\t\\n\\t43 Things\\n\\tAskville\\n\\tAmapedia\\n\\tAmie Street (Songza)\\n\\tCDNOW\\n\\tDiapers.com\\n\\tEndless.com\\n\\tLexcycle\\n\\tLibraryThing\\n\\tリビングソーシャル\\n\\tLoveFilm\\n\\tMobipocket\\n\\tPlanetAll\\n\\tSellaband\\n\\tShelfari\\n\\n\\n\\n\\n\\n\\n\\n\\t\\n\\n\\t人物\\t\\n\\n\\t現在\\t\\n\\tジェフ・ベゾス\\n\\tトニー・シェイ\\n\\tワーナー・ヴォゲルス\\n\\n\\n\\n\\n\\t過去\\t\\n\\tリック・ダルゼル\\n\\tブライアン・バレンタイン\\n\\tトム・スクータック\\n\\tブライアン・マクブライド\\n\\tデイビッド・リッシャー\\n\\tラム・シュリラム\\n\\tクリストファー・ノース\\n\\n\\n\\n\\n\\t日本法人\\t\\n\\tジャスパー・チャン\\n\\tジェフ・ハヤシダ- 過去:長谷川純一 - 西野伸一郎', 'Highlights': [{'BeginOffset': 409, 'EndOffset': 412, 'TopAnswer': False, 'Type': 'STANDARD'}, {'BeginOffset': 555, 'EndOffset': 558, 'TopAnswer': False, 'Type': 'STANDARD'}]}, 'DocumentURI': 'https://s3.us-east-1.amazonaws.com/comprehendlab-akazawt-20211117-22171/Data/Amazon_Simple_Queue_Service.html', 'DocumentAttributes': [{'Key': '_source_uri', 'Value': {'StringValue': 'https://s3.us-east-1.amazonaws.com/comprehendlab-akazawt-20211117-22171/Data/Amazon_Simple_Queue_Service.html'}}], 'ScoreAttributes': {'ScoreConfidence': 'NOT_AVAILABLE'}, 'FeedbackToken': 'AYADeHpnG1mDQS0iXdmLDzN6JdkAXwABABVhd3MtY3J5cHRvLXB1YmxpYy1rZXkAREErVnJNYVVtK2hwa3ZnQU9xdDZhTTlSVytVOGNmQml1dTJNUVRKZFFlMVQzQnR2dVBHZzhBS20ydU1nL3pSTGRMdz09AAEAB2F3cy1rbXMAS2Fybjphd3M6a21zOnVzLWVhc3QtMTo3OTQyODk5MjcwNzA6a2V5LzA4YjVkYTRmLWQyOWEtNDU3Mi04OTAwLTRkZjMzN2VjYzljYwC4AQIBAHgooOi6yInIz2MNEHDdrAvnkUT4RDxeObjhZj0qNuvTbAGPg79LNKau3VX0yIuzv3ruAAAAfjB8BgkqhkiG9w0BBwagbzBtAgEAMGgGCSqGSIb3DQEHATAeBglghkgBZQMEAS4wEQQMYl9QKMVnxHgINzgeAgEQgDt6cqn2uFpbpnrVLTRjtN_Blgx_pXk21kfIUbyP9VDBNHD9-C9idvyXPMSHLBH2t2NAsmiX3m__eo-3-AIAAAAADAAAEAAAAAAAAAAAAAAAAACXUTrXaYywwj2E4Oy4S2UA_____wAAAAEAAAAAAAAAAAAAAAEAAAF2udcobid2r8DsYyYRBil0E0EG9tECiENIFJcY6mqCqWOgb1TumY43HdHO2fANr721VnxsFgDBWNiqA4Khz5b7k21YJJQP5pjM1IUlT3jzMyUyHDq-BtIH6STdgPxh4YmhNLMxqzxydf6DF5CPMNfVY8wLmhv6i0gATcVd2AMhM_3ciZ3zLjVsCLrKwOe7ydzlRTvzs4az3ZTJnmYtm7LrxSPc1kmCpAt0vryVgSm4VMTKgQsL-1MALEsg_E4-mZ92TNgjyxCZqJawFGxVlHOSZQZwyMnRMAbmKAd21VXbCqhvs-8kNBnzBjFL0fHf7i2MUBs5NiNkTMqMlZuzWbeCYoRoCgGLiYqM8WA_qwU0U-OXQhwrv1jEUgm7IiponY3sYFkEJp0KVpY8pw1dpDAL0V7E5-5flkqQXPDV-jD13mBkFUzwFbxoW0oqrEdTt2eGgZ0GrNTNmqlFrWlo7kfVXwVcBeYll-4NGN-uktdB2vtLw0AyoH4E8XmWTHfApo7c8QVJ-0gwAGcwZQIwLPE_G0OTYdoIxMZsJFgLkDHgOUzXqM7HGUfdoILH-TN_WpaVdbdHsr_fCh18a1a5AjEA3EKQ5R-MOH89yB3BTXZcI_-8IYTjvMR4wrKyUXYde9jtQSh6YZaiYrhAeeZer6id.26df836b-7066-422b-ad3f-0cdda3595dad-b6f5f5ac-95da-43be-9a3a-ea7851af325d'}, {'Id': '26df836b-7066-422b-ad3f-0cdda3595dad-ecb481e4-205d-4368-a3c7-6a42eb2179bd', 'Type': 'DOCUMENT', 'AdditionalAttributes': [], 'DocumentId': 's3://comprehendlab-akazawt-20211117-22171/Data/Amazon_Simple_Storage_Service.html', 'DocumentTitle': {'Text': 'Amazon Simple Storage Service - Wikipedia', 'Highlights': []}, 'DocumentExcerpt': {'Text': 'PlanetAll\\n\\tSellaband\\n\\tShelfari\\n\\n\\n\\n\\n\\n\\n\\n\\t\\n\\n\\t人物\\t\\n\\n\\t現在\\t\\n\\tジェフ・ベゾス\\n\\tトニー・シェイ\\n\\tワーナー・ヴォゲルス\\n\\n\\n\\n\\n\\t過去\\t\\n\\tリック・ダルゼル\\n\\tブライアン・バレンタイン\\n\\tトム・スクータック\\n\\tブライアン・マクブライド\\n\\tデイビッド・リッシャー\\n\\tラム・シュリラム\\n\\tクリストファー・ノース\\n\\n\\n\\n\\n\\t日本法人\\t\\n\\tジャスパー・チャン\\n\\tジェフ・ハヤシダ- 過去:長谷川純一 - 西野伸一郎\\n\\n\\n\\n\\n\\n\\n\\n\\n\\t施設\\t\\n\\tDoppler\\n\\tDay One\\n\\n\\n\\n\\n\\tその他\\t\\n\\tAmazon Light\\n\\tASIN\\n\\t論争 (税)\\n\\tFishbowl\\n\\tロッカー\\n\\tPerfect 10対Amazon.com事件\\n\\tStatistically Improbable Phrases\\n\\tVine\\n\\t拠点一覧\\n\\t合併・買収リスト\\n\\t製品・サービスリスト\\n\\n\\n\\n\\n\\t\\n\\t カテゴリ\\n\\t コモンズ\\n\\n\\n\\n\\n\\n\\t\\t表\\n\\t話\\n\\t編\\n\\t歴\\n\\n\\n\\nクラウドコンピューティング\\n\\n\\tSaaS', 'Highlights': [{'BeginOffset': 53, 'EndOffset': 56, 'TopAnswer': False, 'Type': 'STANDARD'}, {'BeginOffset': 199, 'EndOffset': 202, 'TopAnswer': False, 'Type': 'STANDARD'}]}, 'DocumentURI': 'https://s3.us-east-1.amazonaws.com/comprehendlab-akazawt-20211117-22171/Data/Amazon_Simple_Storage_Service.html', 'DocumentAttributes': [{'Key': '_source_uri', 'Value': {'StringValue': 'https://s3.us-east-1.amazonaws.com/comprehendlab-akazawt-20211117-22171/Data/Amazon_Simple_Storage_Service.html'}}], 'ScoreAttributes': {'ScoreConfidence': 'NOT_AVAILABLE'}, 'FeedbackToken': 'AYADeHpnG1mDQS0iXdmLDzN6JdkAXwABABVhd3MtY3J5cHRvLXB1YmxpYy1rZXkAREErVnJNYVVtK2hwa3ZnQU9xdDZhTTlSVytVOGNmQml1dTJNUVRKZFFlMVQzQnR2dVBHZzhBS20ydU1nL3pSTGRMdz09AAEAB2F3cy1rbXMAS2Fybjphd3M6a21zOnVzLWVhc3QtMTo3OTQyODk5MjcwNzA6a2V5LzA4YjVkYTRmLWQyOWEtNDU3Mi04OTAwLTRkZjMzN2VjYzljYwC4AQIBAHgooOi6yInIz2MNEHDdrAvnkUT4RDxeObjhZj0qNuvTbAGPg79LNKau3VX0yIuzv3ruAAAAfjB8BgkqhkiG9w0BBwagbzBtAgEAMGgGCSqGSIb3DQEHATAeBglghkgBZQMEAS4wEQQMYl9QKMVnxHgINzgeAgEQgDt6cqn2uFpbpnrVLTRjtN_Blgx_pXk21kfIUbyP9VDBNHD9-C9idvyXPMSHLBH2t2NAsmiX3m__eo-3-AIAAAAADAAAEAAAAAAAAAAAAAAAAACXUTrXaYywwj2E4Oy4S2UA_____wAAAAEAAAAAAAAAAAAAAAEAAAF2udcobid2r8DsYyYRBil0E0EG9tECiENIFJcY6mqCqWOgb1TumY43HdHO2fANr721VnxsFgDBWNiqA4Khz5b7k21YJJQP5pjM1IUlT3jzMyUyHDq-BtIH6STdgPxh4YmhNLMxqzxydf6DF5CPMNfVY8wLmhv6i0gATcVd2AMhM_3ciZ3zLjVsCLrKwOe7ydzlRTvzs4az3ZTJnmYtm7LrxSPc1kmCpAt0vryVgSm4VMTKgQsL-1MALEsg_E4-mZ92TNgjyxCZqJawFGxVlHOSZQZwyMnRMAbmKAd21VXbCqhvs-8kNBnzBjFL0fHf7i2MUBs5NiNkTMqMlZuzWbeCYoRoCgGLiYqM8WA_qwU0U-OXQhwrv1jEUgm7IiponY3sYFkEJp0KVpY8pw1dpDAL0V7E5-5flkqQXPDV-jD13mBkFUzwFbxoW0oqrEdTt2eGgZ0GrNTNmqlFrWlo7kfVXwVcBeYll-4NGN-uktdB2vtLw0AyoH4E8XmWTHfApo7c8QVJ-0gwAGcwZQIwLPE_G0OTYdoIxMZsJFgLkDHgOUzXqM7HGUfdoILH-TN_WpaVdbdHsr_fCh18a1a5AjEA3EKQ5R-MOH89yB3BTXZcI_-8IYTjvMR4wrKyUXYde9jtQSh6YZaiYrhAeeZer6id.26df836b-7066-422b-ad3f-0cdda3595dad-ecb481e4-205d-4368-a3c7-6a42eb2179bd'}, {'Id': '26df836b-7066-422b-ad3f-0cdda3595dad-5e7653f4-08c3-4eda-b654-ca6e1a97c358', 'Type': 'DOCUMENT', 'AdditionalAttributes': [], 'DocumentId': 's3://comprehendlab-akazawt-20211117-22171/Data/Amazon_Elastic_Compute_Cloud.html', 'DocumentTitle': {'Text': 'Amazon Elastic Compute Cloud - Wikipedia', 'Highlights': []}, 'DocumentExcerpt': {'Text': 'ジェフ・ベゾス\\n\\tトニー・シェイ\\n\\tワーナー・ヴォゲルス\\n\\n\\n\\n\\n\\t過去\\t\\n\\tリック・ダルゼル\\n\\tブライアン・バレンタイン\\n\\tトム・スクータック\\n\\tブライアン・マクブライド\\n\\tデイビッド・リッシャー\\n\\tラム・シュリラム\\n\\tクリストファー・ノース\\n\\n\\n\\n\\n\\t日本法人\\t\\n\\tジャスパー・チャン\\n\\tジェフ・ハヤシダ- 過去:長谷川純一 - 西野伸一郎\\n\\n\\n\\n\\n\\n\\n\\n\\n\\t施設\\t\\n\\tDoppler\\n\\tDay One\\n\\n\\n\\n\\n\\tその他\\t\\n\\tAmazon Light\\n\\tASIN\\n\\t論争 (税)\\n\\tFishbowl\\n\\tロッカー\\n\\tPerfect 10対Amazon.com事件\\n\\tStatistically Improbable Phrases\\n\\tVine\\n\\t拠点一覧\\n\\t合併・買収リスト\\n\\t製品・サービスリスト\\n\\n\\n\\n\\n\\t\\n\\t カテゴリ\\n\\t コモンズ\\n\\n\\n\\n\\n\\n\\t\\t表\\n\\t話\\n\\t編\\n\\t歴\\n\\n\\n\\nクラウドコンピューティング\\n\\n\\tSaaS\\t\\n\\tContactOffice（英語版）\\n\\tGoogle Workspace\\n\\tHP Cloud（英語版）\\n\\tMicrosoft Online\\n\\townCloud\\n\\tセールスフォース', 'Highlights': [{'BeginOffset': 0, 'EndOffset': 3, 'TopAnswer': False, 'Type': 'STANDARD'}, {'BeginOffset': 146, 'EndOffset': 149, 'TopAnswer': False, 'Type': 'STANDARD'}]}, 'DocumentURI': 'https://s3.us-east-1.amazonaws.com/comprehendlab-akazawt-20211117-22171/Data/Amazon_Elastic_Compute_Cloud.html', 'DocumentAttributes': [{'Key': '_source_uri', 'Value': {'StringValue': 'https://s3.us-east-1.amazonaws.com/comprehendlab-akazawt-20211117-22171/Data/Amazon_Elastic_Compute_Cloud.html'}}], 'ScoreAttributes': {'ScoreConfidence': 'NOT_AVAILABLE'}, 'FeedbackToken': 'AYADeHpnG1mDQS0iXdmLDzN6JdkAXwABABVhd3MtY3J5cHRvLXB1YmxpYy1rZXkAREErVnJNYVVtK2hwa3ZnQU9xdDZhTTlSVytVOGNmQml1dTJNUVRKZFFlMVQzQnR2dVBHZzhBS20ydU1nL3pSTGRMdz09AAEAB2F3cy1rbXMAS2Fybjphd3M6a21zOnVzLWVhc3QtMTo3OTQyODk5MjcwNzA6a2V5LzA4YjVkYTRmLWQyOWEtNDU3Mi04OTAwLTRkZjMzN2VjYzljYwC4AQIBAHgooOi6yInIz2MNEHDdrAvnkUT4RDxeObjhZj0qNuvTbAGPg79LNKau3VX0yIuzv3ruAAAAfjB8BgkqhkiG9w0BBwagbzBtAgEAMGgGCSqGSIb3DQEHATAeBglghkgBZQMEAS4wEQQMYl9QKMVnxHgINzgeAgEQgDt6cqn2uFpbpnrVLTRjtN_Blgx_pXk21kfIUbyP9VDBNHD9-C9idvyXPMSHLBH2t2NAsmiX3m__eo-3-AIAAAAADAAAEAAAAAAAAAAAAAAAAACXUTrXaYywwj2E4Oy4S2UA_____wAAAAEAAAAAAAAAAAAAAAEAAAF2udcobid2r8DsYyYRBil0E0EG9tECiENIFJcY6mqCqWOgb1TumY43HdHO2fANr721VnxsFgDBWNiqA4Khz5b7k21YJJQP5pjM1IUlT3jzMyUyHDq-BtIH6STdgPxh4YmhNLMxqzxydf6DF5CPMNfVY8wLmhv6i0gATcVd2AMhM_3ciZ3zLjVsCLrKwOe7ydzlRTvzs4az3ZTJnmYtm7LrxSPc1kmCpAt0vryVgSm4VMTKgQsL-1MALEsg_E4-mZ92TNgjyxCZqJawFGxVlHOSZQZwyMnRMAbmKAd21VXbCqhvs-8kNBnzBjFL0fHf7i2MUBs5NiNkTMqMlZuzWbeCYoRoCgGLiYqM8WA_qwU0U-OXQhwrv1jEUgm7IiponY3sYFkEJp0KVpY8pw1dpDAL0V7E5-5flkqQXPDV-jD13mBkFUzwFbxoW0oqrEdTt2eGgZ0GrNTNmqlFrWlo7kfVXwVcBeYll-4NGN-uktdB2vtLw0AyoH4E8XmWTHfApo7c8QVJ-0gwAGcwZQIwLPE_G0OTYdoIxMZsJFgLkDHgOUzXqM7HGUfdoILH-TN_WpaVdbdHsr_fCh18a1a5AjEA3EKQ5R-MOH89yB3BTXZcI_-8IYTjvMR4wrKyUXYde9jtQSh6YZaiYrhAeeZer6id.26df836b-7066-422b-ad3f-0cdda3595dad-5e7653f4-08c3-4eda-b654-ca6e1a97c358'}, {'Id': '26df836b-7066-422b-ad3f-0cdda3595dad-9c67954b-8b39-498b-bf5f-5bf3b2e844d7', 'Type': 'DOCUMENT', 'AdditionalAttributes': [], 'DocumentId': 's3://comprehendlab-akazawt-20211117-22171/Data/Amazon_Web_Services.html', 'DocumentTitle': {'Text': 'Amazon Web Services - Wikipedia', 'Highlights': []}, 'DocumentExcerpt': {'Text': 'Amazon Studios\\n\\tBreakthrough Novel Award\\n\\tBest Books of the Year\\n\\tKindle ダイレクト・パブリッシング\\n\\n\\n\\n\\n\\t小売\\t\\n\\tアマゾン・ブックス\\n\\tAmazon Go\\n\\tホールフーズ・マーケット\\n\\n\\n\\n\\n\\t物流\\t\\n\\tAmazon Prime Air\\n\\n\\n\\n\\n\\t過去\\t\\n\\t43 Things\\n\\tAskville\\n\\tAmapedia\\n\\tAmie Street (Songza)\\n\\tCDNOW\\n\\tDiapers.com\\n\\tEndless.com\\n\\tLexcycle\\n\\tLibraryThing\\n\\tリビングソーシャル\\n\\tLoveFilm\\n\\tMobipocket\\n\\tPlanetAll\\n\\tSellaband\\n\\tShelfari\\n\\n\\n\\n\\n\\n\\n\\n\\t\\n\\n\\t人物\\t\\n\\n\\t現在\\t\\n\\tジェフ・ベゾス\\n\\tトニー・シェイ\\n\\tワーナー・ヴォゲルス\\n\\n\\n\\n\\n\\t過去\\t\\n\\tリック・ダルゼル\\n\\tブライアン・バレンタイン\\n\\tトム・スクータック\\n\\tブライアン・マクブライド\\n\\tデイビッド・リッシャー\\n\\tラム・シュリラム\\n\\tクリストファー・ノース\\n\\n\\n\\n\\n\\t日本法人\\t\\n\\tジャスパー・チャン\\n\\tジェフ・ハヤシダ- 過去:長谷川純一 - 西野伸一郎\\n\\n\\n\\n\\n\\n\\n\\n\\n\\t施設\\t\\n\\tDoppler\\n\\tDay One\\n\\n\\n\\n\\n\\tその他\\t\\n\\tAmazon Light\\n\\tASIN', 'Highlights': [{'BeginOffset': 365, 'EndOffset': 368, 'TopAnswer': False, 'Type': 'STANDARD'}, {'BeginOffset': 511, 'EndOffset': 514, 'TopAnswer': False, 'Type': 'STANDARD'}]}, 'DocumentURI': 'https://s3.us-east-1.amazonaws.com/comprehendlab-akazawt-20211117-22171/Data/Amazon_Web_Services.html', 'DocumentAttributes': [{'Key': '_source_uri', 'Value': {'StringValue': 'https://s3.us-east-1.amazonaws.com/comprehendlab-akazawt-20211117-22171/Data/Amazon_Web_Services.html'}}], 'ScoreAttributes': {'ScoreConfidence': 'NOT_AVAILABLE'}, 'FeedbackToken': 'AYADeHpnG1mDQS0iXdmLDzN6JdkAXwABABVhd3MtY3J5cHRvLXB1YmxpYy1rZXkAREErVnJNYVVtK2hwa3ZnQU9xdDZhTTlSVytVOGNmQml1dTJNUVRKZFFlMVQzQnR2dVBHZzhBS20ydU1nL3pSTGRMdz09AAEAB2F3cy1rbXMAS2Fybjphd3M6a21zOnVzLWVhc3QtMTo3OTQyODk5MjcwNzA6a2V5LzA4YjVkYTRmLWQyOWEtNDU3Mi04OTAwLTRkZjMzN2VjYzljYwC4AQIBAHgooOi6yInIz2MNEHDdrAvnkUT4RDxeObjhZj0qNuvTbAGPg79LNKau3VX0yIuzv3ruAAAAfjB8BgkqhkiG9w0BBwagbzBtAgEAMGgGCSqGSIb3DQEHATAeBglghkgBZQMEAS4wEQQMYl9QKMVnxHgINzgeAgEQgDt6cqn2uFpbpnrVLTRjtN_Blgx_pXk21kfIUbyP9VDBNHD9-C9idvyXPMSHLBH2t2NAsmiX3m__eo-3-AIAAAAADAAAEAAAAAAAAAAAAAAAAACXUTrXaYywwj2E4Oy4S2UA_____wAAAAEAAAAAAAAAAAAAAAEAAAF2udcobid2r8DsYyYRBil0E0EG9tECiENIFJcY6mqCqWOgb1TumY43HdHO2fANr721VnxsFgDBWNiqA4Khz5b7k21YJJQP5pjM1IUlT3jzMyUyHDq-BtIH6STdgPxh4YmhNLMxqzxydf6DF5CPMNfVY8wLmhv6i0gATcVd2AMhM_3ciZ3zLjVsCLrKwOe7ydzlRTvzs4az3ZTJnmYtm7LrxSPc1kmCpAt0vryVgSm4VMTKgQsL-1MALEsg_E4-mZ92TNgjyxCZqJawFGxVlHOSZQZwyMnRMAbmKAd21VXbCqhvs-8kNBnzBjFL0fHf7i2MUBs5NiNkTMqMlZuzWbeCYoRoCgGLiYqM8WA_qwU0U-OXQhwrv1jEUgm7IiponY3sYFkEJp0KVpY8pw1dpDAL0V7E5-5flkqQXPDV-jD13mBkFUzwFbxoW0oqrEdTt2eGgZ0GrNTNmqlFrWlo7kfVXwVcBeYll-4NGN-uktdB2vtLw0AyoH4E8XmWTHfApo7c8QVJ-0gwAGcwZQIwLPE_G0OTYdoIxMZsJFgLkDHgOUzXqM7HGUfdoILH-TN_WpaVdbdHsr_fCh18a1a5AjEA3EKQ5R-MOH89yB3BTXZcI_-8IYTjvMR4wrKyUXYde9jtQSh6YZaiYrhAeeZer6id.26df836b-7066-422b-ad3f-0cdda3595dad-9c67954b-8b39-498b-bf5f-5bf3b2e844d7'}], 'FacetResults': [{'DocumentAttributeKey': '_data_source_id', 'DocumentAttributeValueType': 'STRING_VALUE', 'DocumentAttributeValueCountPairs': [{'DocumentAttributeValue': {'StringValue': 'e2ba2475-36ae-406b-a56d-b0a8303c3537'}, 'Count': 5}]}, {'DocumentAttributeKey': '_file_type', 'DocumentAttributeValueType': 'STRING_VALUE', 'DocumentAttributeValueCountPairs': [{'DocumentAttributeValue': {'StringValue': 'HTML'}, 'Count': 5}]}, {'DocumentAttributeKey': '_source_uri', 'DocumentAttributeValueType': 'STRING_VALUE', 'DocumentAttributeValueCountPairs': [{'DocumentAttributeValue': {'StringValue': 'https://s3.us-east-1.amazonaws.com/comprehendlab-akazawt-20211117-22171/Data/Amazon_Simple_Queue_Service.html'}, 'Count': 1}, {'DocumentAttributeValue': {'StringValue': 'https://s3.us-east-1.amazonaws.com/comprehendlab-akazawt-20211117-22171/Data/Amazon_Simple_Storage_Service.html'}, 'Count': 1}, {'DocumentAttributeValue': {'StringValue': 'https://s3.us-east-1.amazonaws.com/comprehendlab-akazawt-20211117-22171/Data/Amazon_Elastic_Compute_Cloud.html'}, 'Count': 1}, {'DocumentAttributeValue': {'StringValue': 'https://s3.us-east-1.amazonaws.com/comprehendlab-akazawt-20211117-22171/Data/Amazon.com.html'}, 'Count': 1}, {'DocumentAttributeValue': {'StringValue': 'https://s3.us-east-1.amazonaws.com/comprehendlab-akazawt-20211117-22171/Data/Amazon_Web_Services.html'}, 'Count': 1}]}, {'DocumentAttributeKey': '_version', 'DocumentAttributeValueType': 'STRING_VALUE', 'DocumentAttributeValueCountPairs': [{'DocumentAttributeValue': {'StringValue': '1637144220'}, 'Count': 5}]}, {'DocumentAttributeKey': '_language_code', 'DocumentAttributeValueType': 'STRING_VALUE', 'DocumentAttributeValueCountPairs': [{'DocumentAttributeValue': {'StringValue': 'ja'}, 'Count': 5}]}], 'TotalNumberOfResults': 5, 'ResponseMetadata': {'RequestId': '4e855ea9-f37e-43bc-bb9c-eea2f0f9fbf6', 'HTTPStatusCode': 200, 'HTTPHeaders': {'x-amzn-requestid': '4e855ea9-f37e-43bc-bb9c-eea2f0f9fbf6', 'content-type': 'application/x-amz-json-1.1', 'content-length': '17607', 'date': 'Wed, 24 Nov 2021 00:56:38 GMT'}, 'RetryAttempts': 0}}\n"
     ]
    },
    {
     "ename": "TypeError",
     "evalue": "must be str, not dict",
     "output_type": "error",
     "traceback": [
      "\u001b[0;31m---------------------------------------------------------------------------\u001b[0m",
      "\u001b[0;31mTypeError\u001b[0m                                 Traceback (most recent call last)",
      "\u001b[0;32m<ipython-input-63-2ae05f6f5da2>\u001b[0m in \u001b[0;36m<module>\u001b[0;34m\u001b[0m\n\u001b[1;32m     19\u001b[0m \u001b[0mprint\u001b[0m\u001b[0;34m(\u001b[0m\u001b[0mquery\u001b[0m\u001b[0;34m)\u001b[0m\u001b[0;34m\u001b[0m\u001b[0;34m\u001b[0m\u001b[0m\n\u001b[1;32m     20\u001b[0m \u001b[0;34m\u001b[0m\u001b[0m\n\u001b[0;32m---> 21\u001b[0;31m \u001b[0mprint\u001b[0m \u001b[0;34m(\u001b[0m\u001b[0;34m'\\nSearch results for query: '\u001b[0m \u001b[0;34m+\u001b[0m \u001b[0mquery\u001b[0m \u001b[0;34m+\u001b[0m \u001b[0;34m'\\n'\u001b[0m\u001b[0;34m)\u001b[0m\u001b[0;34m\u001b[0m\u001b[0;34m\u001b[0m\u001b[0m\n\u001b[0m\u001b[1;32m     22\u001b[0m \u001b[0;34m\u001b[0m\u001b[0m\n\u001b[1;32m     23\u001b[0m \u001b[0;32mfor\u001b[0m \u001b[0mquery_result\u001b[0m \u001b[0;32min\u001b[0m \u001b[0mresponse\u001b[0m\u001b[0;34m[\u001b[0m\u001b[0;34m'ResultItems'\u001b[0m\u001b[0;34m]\u001b[0m\u001b[0;34m:\u001b[0m\u001b[0;34m\u001b[0m\u001b[0;34m\u001b[0m\u001b[0m\n",
      "\u001b[0;31mTypeError\u001b[0m: must be str, not dict"
     ]
    }
   ],
   "source": [
    "import boto3\n",
    "import pprint\n",
    "\n",
    "kendra = boto3.client('kendra')\n",
    "#f = open('.indexid', 'r', encoding='UTF-8')\n",
    "#index_id = f.read()\n",
    "\n",
    "query='ジェフ'\n",
    "index_id = \"589a886f-aeec-40cd-9d9a-0b00415ce8a4\"\n",
    "\n",
    "query = kendra.query(\n",
    "        QueryText = query,\n",
    "        IndexId = index_id,\n",
    "        AttributeFilter = {\n",
    "                 \"EqualsTo\": { \"Key\": \"_language_code\", \"Value\": { \"StringValue\": \"ja\" }},\n",
    "        }\n",
    ")\n",
    "\n",
    "print(query)\n",
    "\n",
    "print ('\\nSearch results for query: ' + query + '\\n')        \n",
    "\n",
    "for query_result in response['ResultItems']:\n",
    "\n",
    "    print('-------------------')\n",
    "    print('Type: ' + str(query_result['Type']))\n",
    "        \n",
    "    if query_result['Type']=='ANSWER' or query_result['Type'] == 'QUESTION_ANSWER':\n",
    "        answer_text = query_result['DocumentExcerpt']['Text']\n",
    "        print(answer_text)\n",
    "\n",
    "    if query_result['Type']=='DOCUMENT':\n",
    "        if 'DocumentTitle' in query_result:\n",
    "            document_title = query_result['DocumentTitle']['Text']\n",
    "            print('Title: ' + document_title)\n",
    "        document_text = query_result['DocumentExcerpt']['Text']\n",
    "        print(document_text)\n",
    "\n",
    "    print ('------------------\\n\\n')  "
   ]
  },
  {
   "cell_type": "code",
   "execution_count": null,
   "id": "bc8152d9",
   "metadata": {},
   "outputs": [],
   "source": [
    "\n",
    "query = kendra.query(\n",
    "        QueryText = query,\n",
    "        IndexId = index_id,\n",
    "        AttributeFilter = {'OrAllFilters':\n",
    "                [\n",
    "                         { \"EqualsTo\": { \"Key\": \"_language_code\", \"Value\": { \"StringValue\": \"ja\" }}},\n",
    "                         { \"EqualsTo\": { \"Key\": \"ORGANIZATION\", \"Value\": { \"StringListValue\": [ \"Amazon\"] }}}\n",
    "                ]\n",
    "        }\n",
    ")"
   ]
  },
  {
   "cell_type": "code",
   "execution_count": null,
   "id": "f2c701e4",
   "metadata": {},
   "outputs": [],
   "source": [
    "query = kendra.query(\n",
    "        QueryText = query,\n",
    "        IndexId = index_id,\n",
    "        AttributeFilter = {'AndAllFilters': \n",
    "            [ \n",
    "                { \"EqualsTo\": { \"Key\": \"_language_code\", \"Value\": { \"StringValue\": \"ja\" }}},\n",
    "            ]\n",
    "            }\n",
    ")"
   ]
  }
 ],
 "metadata": {
  "kernelspec": {
   "display_name": "conda_pytorch_p36",
   "language": "python",
   "name": "conda_pytorch_p36"
  },
  "language_info": {
   "codemirror_mode": {
    "name": "ipython",
    "version": 3
   },
   "file_extension": ".py",
   "mimetype": "text/x-python",
   "name": "python",
   "nbconvert_exporter": "python",
   "pygments_lexer": "ipython3",
   "version": "3.6.13"
  }
 },
 "nbformat": 4,
 "nbformat_minor": 5
}
