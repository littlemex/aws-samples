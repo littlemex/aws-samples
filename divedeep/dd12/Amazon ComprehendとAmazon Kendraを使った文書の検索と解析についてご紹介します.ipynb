{
 "cells": [
  {
   "cell_type": "markdown",
   "id": "c4ce8f87",
   "metadata": {},
   "source": [
    "## 発表内容\n",
    "\n",
    "最近日本語対応したAmazon KendraはAmazon S3やAmazon RDS、Salesforceといったリポジトリのコンテンツを一元管理されたインデックスに簡単に集約できます。これにより企業の様々なデータを素早く検索できます。そして、Amazon Comprehendはドキュメント内のテキストの解析を行うことができます。この2つのサービスを組み合わせた文書検索と検索された文書の解析についてデモを交えてご紹介します。\n",
    "\n",
    "----"
   ]
  },
  {
   "cell_type": "markdown",
   "id": "c90ccb37",
   "metadata": {},
   "source": [
    "## 概要\n",
    "\n",
    "### 課題感\n",
    "\n",
    "- 非構造化データは増え続けている\n",
    "- 非構造データから必要な情報を入手することが困難\n",
    "- Kendraを使うと非構造データの検索自体は可能\n",
    "- Kendraでジャンル等の絞り込みフィルタリングを行うことでより精度の高い検索実現したい・・・・\n",
    "\n",
    "### 解決策（一例）\n",
    "\n",
    "- Kendraではドキュメントのリストを絞り込むために、ドキュメント取り込み時にメタデータを割り当て、フィルタリング・ファセット検索ができる\n",
    "- Comprehendを利用して自動でメタデータを生成する\n",
    "\n",
    "### 結論\n",
    "\n",
    "- 自動で非構造データの絞り込み検索ができちゃう！\n",
    "\n",
    "----"
   ]
  },
  {
   "cell_type": "markdown",
   "id": "7fb833a5",
   "metadata": {},
   "source": [
    "## アーキテクチャ\n",
    "\n",
    "![](./architecture_kendra_comprehend.png \"アーキテクチャ図\")\n",
    "\n",
    "----"
   ]
  },
  {
   "cell_type": "markdown",
   "id": "071fadb1",
   "metadata": {},
   "source": [
    "## デモの流れ\n",
    "\n",
    "（このファイルと同じディレクトリにある事前準備.ipynbを先に実行しておきます、デモでは割愛します）\n",
    "\n",
    "1. Comprehendのデモ\n",
    "2. Wikipediaから取得したファイルをディレクトリに配置する（既に配置済み）\n",
    "3. \n",
    "4. "
   ]
  },
  {
   "cell_type": "markdown",
   "id": "6988270c",
   "metadata": {},
   "source": [
    "## 1. Comprehendのデモ\n",
    "\n",
    "https://console.aws.amazon.com/comprehend/v2/home?region=us-east-1#home"
   ]
  },
  {
   "cell_type": "markdown",
   "id": "5ed11200",
   "metadata": {},
   "source": [
    "## 2. Wikipediaから取得したファイルをディレクトリに配置する（既に配置済み）\n",
    "\n"
   ]
  }
 ],
 "metadata": {
  "kernelspec": {
   "display_name": "conda_pytorch_p36",
   "language": "python",
   "name": "conda_pytorch_p36"
  },
  "language_info": {
   "codemirror_mode": {
    "name": "ipython",
    "version": 3
   },
   "file_extension": ".py",
   "mimetype": "text/x-python",
   "name": "python",
   "nbconvert_exporter": "python",
   "pygments_lexer": "ipython3",
   "version": "3.6.13"
  }
 },
 "nbformat": 4,
 "nbformat_minor": 5
}
