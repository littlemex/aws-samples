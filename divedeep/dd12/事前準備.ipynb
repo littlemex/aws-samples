{
 "cells": [
  {
   "cell_type": "code",
   "execution_count": 1,
   "id": "c4fac6b5",
   "metadata": {},
   "outputs": [
    {
     "name": "stdout",
     "output_type": "stream",
     "text": [
      "comprehendlab-akazawt-20211118-14325\n",
      "make_bucket: comprehendlab-akazawt-20211118-14325\n"
     ]
    }
   ],
   "source": [
    "# バケット作成\n",
    "\n",
    "# データ、インデックス等を配置するためのバケットを作成します。\n",
    "# スクリプト内で.bucketというファイルにバケット情報を格納します。\n",
    "\n",
    "!sh mb.sh"
   ]
  },
  {
   "cell_type": "code",
   "execution_count": 2,
   "id": "dda4d3b8",
   "metadata": {},
   "outputs": [],
   "source": [
    "!mkdir -p Data Meta && mkdir -p Meta/Data && echo 0 > .metalog"
   ]
  },
  {
   "cell_type": "code",
   "execution_count": 3,
   "id": "9fc36314",
   "metadata": {},
   "outputs": [
    {
     "name": "stdout",
     "output_type": "stream",
     "text": [
      "Getting https://en.wikipedia.org/wiki/Amazon_Web_Services\n",
      "  % Total    % Received % Xferd  Average Speed   Time    Time     Time  Current\n",
      "                                 Dload  Upload   Total   Spent    Left  Speed\n",
      "100  298k  100  298k    0     0  1417k      0 --:--:-- --:--:-- --:--:-- 1419k\n",
      "Getting https://en.wikipedia.org/wiki/Amazon.com\n",
      "  % Total    % Received % Xferd  Average Speed   Time    Time     Time  Current\n",
      "                                 Dload  Upload   Total   Spent    Left  Speed\n",
      "100  706k  100  706k    0     0  3070k      0 --:--:-- --:--:-- --:--:-- 3083k\n",
      "Getting https://en.wikipedia.org/wiki/Amazon_Simple_Queue_Service\n",
      "  % Total    % Received % Xferd  Average Speed   Time    Time     Time  Current\n",
      "                                 Dload  Upload   Total   Spent    Left  Speed\n",
      "100 90140  100 90140    0     0   577k      0 --:--:-- --:--:-- --:--:--  579k\n",
      "Getting https://en.wikipedia.org/wiki/Amazon_Elastic_Compute_Cloud\n",
      "  % Total    % Received % Xferd  Average Speed   Time    Time     Time  Current\n",
      "                                 Dload  Upload   Total   Spent    Left  Speed\n",
      "100  212k  100  212k    0     0  1158k      0 --:--:-- --:--:-- --:--:-- 1156k\n",
      "Getting https://en.wikipedia.org/wiki/Amazon_Simple_Storage_Service\n",
      "  % Total    % Received % Xferd  Average Speed   Time    Time     Time  Current\n",
      "                                 Dload  Upload   Total   Spent    Left  Speed\n",
      "100  184k    0  184k    0     0   993k      0 --:--:-- --:--:-- --:--:--  997k\n"
     ]
    }
   ],
   "source": [
    "# aws.txtに書かれた情報をWikipediaからcurlしてくる\n",
    "# SageMakerのネットワーク設定を行ってください。アウトバウンド通信が許可されている必要があります。\n",
    "!sh ./getpages.sh"
   ]
  }
 ],
 "metadata": {
  "kernelspec": {
   "display_name": "conda_pytorch_p36",
   "language": "python",
   "name": "conda_pytorch_p36"
  },
  "language_info": {
   "codemirror_mode": {
    "name": "ipython",
    "version": 3
   },
   "file_extension": ".py",
   "mimetype": "text/x-python",
   "name": "python",
   "nbconvert_exporter": "python",
   "pygments_lexer": "ipython3",
   "version": "3.6.13"
  }
 },
 "nbformat": 4,
 "nbformat_minor": 5
}
