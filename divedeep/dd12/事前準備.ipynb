{
 "cells": [
  {
   "cell_type": "code",
   "execution_count": 6,
   "id": "b41ca876",
   "metadata": {},
   "outputs": [
    {
     "name": "stdout",
     "output_type": "stream",
     "text": [
      "comprehendlab-akazawt-20211117-23683\n",
      "make_bucket: comprehendlab-akazawt-20211117-23683\n"
     ]
    }
   ],
   "source": [
    "# バケット作成\n",
    "\n",
    "# データ、インデックス等を配置するためのバケットを作成する\n",
    " \n",
    "# スクリプト内で.bucketというファイルにバケット情報を格納します\n",
    "\n",
    "!sh mb.sh"
   ]
  },
  {
   "cell_type": "code",
   "execution_count": 7,
   "id": "4ed65bf7",
   "metadata": {},
   "outputs": [],
   "source": [
    "!mkdir -p Data Meta/Data && echo 0 > .metalog"
   ]
  },
  {
   "cell_type": "code",
   "execution_count": null,
   "id": "1f59518e",
   "metadata": {},
   "outputs": [],
   "source": [
    "# aws.txtに書かれた情報をWikipediaからcurlしてくる\n",
    "!sh ./getpages.sh"
   ]
  }
 ],
 "metadata": {
  "kernelspec": {
   "display_name": "conda_pytorch_p36",
   "language": "python",
   "name": "conda_pytorch_p36"
  },
  "language_info": {
   "codemirror_mode": {
    "name": "ipython",
    "version": 3
   },
   "file_extension": ".py",
   "mimetype": "text/x-python",
   "name": "python",
   "nbconvert_exporter": "python",
   "pygments_lexer": "ipython3",
   "version": "3.6.13"
  }
 },
 "nbformat": 4,
 "nbformat_minor": 5
}
