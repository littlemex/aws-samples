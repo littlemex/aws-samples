{
 "cells": [
  {
   "cell_type": "markdown",
   "id": "911b3b37-3b29-4833-94f2-bfe47af00c83",
   "metadata": {},
   "source": [
    "# Lab 6: Essay Writer\n",
    "\n",
    "## セットアップとインポート\n",
    "\n",
    "このセクションでは、より複雑なプロジェクトを構築します：AIエッセイライターです。まず環境をセットアップし、必要なライブラリをインポートします。Amazon BedrockとAnthropicのClaudeモデルを使用するため、インポートはそれを反映しています。\n",
    "\n",
    "ログを設定し、Bedrockを構成し、Tavily APIキーを取得します。Tavilyはエッセイの情報収集に使用する研究ツールです。Tavily APIキーが安全に保存されていることを確認してください。\n",
    "\n",
    "最後に構築するUIの要件：\n",
    "\n",
    "1. `.env`ファイルにtavily aiキーを追加してください。\n",
    "2. LangGraph 0.0.53で実行していることに注意してください。\n",
    "3. CLIからhelper.pyを実行し、Webブラウザを開いてグラフをステップ実行するか、ノートブックで直接実行してください！"
   ]
  },
  {
   "cell_type": "code",
   "execution_count": 31,
   "id": "f5762271-8736-4e94-9444-8c92bd0e8074",
   "metadata": {
    "height": 64
   },
   "outputs": [
    {
     "name": "stderr",
     "output_type": "stream",
     "text": [
      "[2025-07-10 05:58:21,466] p3211361 {utils.py:66} INFO - TAVILY_API_KEY variable correctly retrieved from the .env file.\n",
      "[2025-07-10 05:58:21,602] p3211361 {utils.py:66} INFO - TAVILY_API_KEY variable correctly retrieved from the .env file.\n"
     ]
    }
   ],
   "source": [
    "from dotenv import load_dotenv\n",
    "import json\n",
    "import os\n",
    "import re\n",
    "import sys\n",
    "import warnings\n",
    "import boto3\n",
    "from botocore.config import Config\n",
    "warnings.filterwarnings(\"ignore\")\n",
    "import logging\n",
    "\n",
    "# ローカルモジュールのインポート\n",
    "dir_current = os.path.abspath(\"\")\n",
    "dir_parent = os.path.dirname(dir_current)\n",
    "if dir_parent not in sys.path:\n",
    "    sys.path.append(dir_parent)\n",
    "from utils import utils\n",
    "\n",
    "# 基本設定\n",
    "logger = utils.set_logger()  # ロガーの設定\n",
    "pp = utils.set_pretty_printer()  # 整形出力用のプリンターを設定\n",
    "\n",
    "# .envファイルまたはSecret Managerから環境変数を読み込む\n",
    "_ = load_dotenv(\"../.env\")\n",
    "aws_region = os.getenv(\"AWS_REGION\")  # AWS地域を環境変数から取得\n",
    "tavily_ai_api_key = utils.get_tavily_api(\"TAVILY_API_KEY\", aws_region)  # Tavily APIキーを取得\n",
    "\n",
    "# Bedrockの設定\n",
    "bedrock_config = Config(connect_timeout=120, read_timeout=120, retries={\"max_attempts\": 0})  # タイムアウトと再試行の設定\n",
    "\n",
    "# Bedrockランタイムクライアントの作成\n",
    "bedrock_rt = boto3.client(\"bedrock-runtime\", region_name=aws_region, config=bedrock_config)\n",
    "\n",
    "# 利用可能なモデルを確認するためのBedrockクライアントの作成\n",
    "bedrock = boto3.client(\"bedrock\", region_name=aws_region, config=bedrock_config)"
   ]
  },
  {
   "cell_type": "markdown",
   "id": "252ba3e5",
   "metadata": {},
   "source": [
    "## エージェント状態の定義\n",
    "\n",
    "次に、エージェントの状態を定義しましょう。これは以前のレッスンよりも複雑です。なぜなら、エッセイライターには複数のステップがあり、さまざまな情報を追跡する必要があるからです。\n",
    "\n",
    "AgentStateというTypedDictを作成しています。これには以下が含まれます：\n",
    "\n",
    "- task: エッセイのトピックまたは質問\n",
    "- plan: エッセイのアウトライン\n",
    "- draft: エッセイの現在のバージョン\n",
    "- critique: 現在の下書きに対するフィードバック\n",
    "- content: Tavilyからの研究情報\n",
    "- revision_number: 何回修正を行ったか\n",
    "- max_revisions: 行いたい最大修正回数\n",
    "\n",
    "これらの要素は、エッセイ執筆プロセスを管理し、いつ修正を停止するかを知るのに役立ちます。"
   ]
  },
  {
   "cell_type": "code",
   "execution_count": 2,
   "id": "d0168aee-bce9-4d60-b827-f86a88187e31",
   "metadata": {
    "height": 132
   },
   "outputs": [],
   "source": [
    "from langgraph.graph import StateGraph, END\n",
    "from typing import TypedDict, Annotated, List\n",
    "import operator\n",
    "from langgraph.checkpoint.memory import MemorySaver\n",
    "\n",
    "from langchain_core.messages import (\n",
    "    AnyMessage,\n",
    "    SystemMessage,\n",
    "    HumanMessage,\n",
    "    AIMessage,\n",
    "    ChatMessage,\n",
    ")\n",
    "\n",
    "memory = MemorySaver()"
   ]
  },
  {
   "cell_type": "code",
   "execution_count": 3,
   "id": "2589c5b6-6cc2-4594-9a17-dccdcf676054",
   "metadata": {
    "height": 149
   },
   "outputs": [],
   "source": [
    "class AgentState(TypedDict):\n",
    "    task: str\n",
    "    plan: str\n",
    "    draft: str\n",
    "    critique: str\n",
    "    content: List[str]\n",
    "    revision_number: int\n",
    "    max_revisions: int"
   ]
  },
  {
   "cell_type": "markdown",
   "id": "d6aac3dc",
   "metadata": {},
   "source": [
    "## モデルのセットアップ\n",
    "\n",
    "Amazon Bedrock経由でAnthropicのClaudeモデルを使用しています。より一貫した出力を得るために、温度を0に設定してセットアップしています。使用しているモデルはclaude-3-haikuで、このタスクに適しています。"
   ]
  },
  {
   "cell_type": "code",
   "execution_count": 4,
   "id": "a2ba84ec-c172-4de7-ac55-e3158a531b23",
   "metadata": {
    "height": 47
   },
   "outputs": [],
   "source": [
    "from langchain_aws import ChatBedrockConverse\n",
    "\n",
    "model = ChatBedrockConverse(\n",
    "    client=bedrock_rt,\n",
    "    model=\"us.anthropic.claude-3-5-haiku-20241022-v1:0\",\n",
    "    temperature=0,\n",
    "    max_tokens=None,\n",
    ")"
   ]
  },
  {
   "cell_type": "markdown",
   "id": "6d61f1e5",
   "metadata": {},
   "source": [
    "## プロンプトの定義\n",
    "\n",
    "エッセイライターは、プロセスの異なる段階で複数のプロンプトを使用します：\n",
    "\n",
    "1. **PLAN_PROMPT**: モデルにエッセイのアウトラインを作成するよう指示します。\n",
    "2. **WRITER_PROMPT**: 計画と研究に基づいてエッセイを書くようモデルを導きます。\n",
    "3. **REFLECTION_PROMPT**: エッセイを批評する方法をモデルに伝えます。\n",
    "4. **RESEARCH_PLAN_PROMPT**と**RESEARCH_CRITIQUE_PROMPT**: 研究ステップの検索クエリ生成を支援します。\n",
    "\n",
    "各プロンプトは、エッセイ執筆プロセス内でモデルが特定のタスクを実行するよう導くために慎重に作成されています。"
   ]
  },
  {
   "cell_type": "code",
   "execution_count": 5,
   "id": "876d5092-b8ef-4e38-b4d7-0e80c609bf7a",
   "metadata": {
    "height": 74
   },
   "outputs": [],
   "source": [
    "PLAN_PROMPT = \"\"\"あなたはエッセイの高レベルなアウトラインを書くことを任された専門ライターです。\\\n",
    "ユーザーが提供したトピックについて、そのようなアウトラインを書いてください。エッセイのアウトラインと、\\\n",
    "セクションに関連するメモや指示を提供してください。\"\"\""
   ]
  },
  {
   "cell_type": "code",
   "execution_count": 6,
   "id": "10084a02-2928-4945-9f7c-ad3f5b33caf7",
   "metadata": {
    "height": 149
   },
   "outputs": [],
   "source": [
    "WRITER_PROMPT = \"\"\"あなたは優秀な5段落エッセイを書くことを任されたエッセイアシスタントです。\\\n",
    "ユーザーのリクエストと初期アウトラインに対して可能な限り最高のエッセイを生成してください。\\\n",
    "ユーザーが批評を提供した場合は、以前の試みの修正版で応答してください。\\\n",
    "必要に応じて以下のすべての情報を活用してください：\n",
    "\n",
    "------\n",
    "\n",
    "<content>{content}</content>\"\"\""
   ]
  },
  {
   "cell_type": "code",
   "execution_count": 7,
   "id": "714d1205-f8fc-4912-b148-2a45da99219c",
   "metadata": {
    "height": 64
   },
   "outputs": [],
   "source": [
    "REFLECTION_PROMPT = \"\"\"あなたはエッセイの提出物を採点する教師です。\\\n",
    "ユーザーの提出物に対する批評と推奨事項を生成してください。\\\n",
    "長さ、深さ、スタイルなどの要求を含む詳細な推奨事項を提供してください。\"\"\""
   ]
  },
  {
   "cell_type": "code",
   "execution_count": 8,
   "id": "83588e70-254f-4f83-a510-c8ae81e729b0",
   "metadata": {
    "height": 81
   },
   "outputs": [],
   "source": [
    "RESEARCH_PLAN_PROMPT = \"\"\"あなたは以下のエッセイを書く際に使用できる情報を提供することを任された研究者です。\\\n",
    "関連する情報を収集する検索クエリのリストを生成してください。最大3つのクエリのみを生成してください。\"\"\""
   ]
  },
  {
   "cell_type": "code",
   "execution_count": 9,
   "id": "6cb3ef4c-58b3-401b-b104-0d51e553d982",
   "metadata": {
    "height": 81
   },
   "outputs": [],
   "source": [
    "RESEARCH_CRITIQUE_PROMPT = \"\"\"あなたは（以下に概説されている）要求された修正を行う際に使用できる情報を提供することを任された研究者です。\\\n",
    "関連する情報を収集する検索クエリのリストを生成してください。最大3つのクエリのみを生成してください。\"\"\""
   ]
  },
  {
   "cell_type": "markdown",
   "id": "ddb9c562",
   "metadata": {},
   "source": [
    "Kiro\n",
    "### Anthropicモデルでの構造化出力生成に関する補足：\n",
    "\n",
    "上記のプロンプトを見てください。\n",
    "- これらはAnthropicのプロンプティングガイドに従っていますか？\n",
    "- 例えば、REFLECTION_PROMPTに対して以下のような回答構造を要求することで、より一貫した出力を得られると思いますか？\n",
    "\n",
    "```xml\n",
    "<answer>\n",
    "  <overall_assessment>\n",
    "    <strengths>\n",
    "      <strength_point></strength_point>\n",
    "      <strength_point></strength_point>\n",
    "    </strengths>\n",
    "    <weaknesses>\n",
    "      <weakness_point></weakness_point>\n",
    "      <weakness_point></weakness_point>\n",
    "    </weaknesses>\n",
    "  </overall_assessment>\n",
    "\n",
    "...\n",
    "\n",
    "  <style_and_language>\n",
    "    <clarity>\n",
    "      <comment></comment>\n",
    "      <recommendation></recommendation>\n",
    "    </clarity>\n",
    "    <tone>\n",
    "      <comment></comment>\n",
    "      <recommendation></recommendation>\n",
    "    </tone>\n",
    "    <grammar_and_mechanics>\n",
    "      <comment></comment>\n",
    "      <recommendation></recommendation>\n",
    "    </grammar_and_mechanics>\n",
    "  </style_and_language>\n",
    "\n",
    "  <length_assessment>\n",
    "    <comment></comment>\n",
    "    <recommendation></recommendation>\n",
    "  </length_assessment>\n",
    "\n",
    "  <conclusion>\n",
    "    <overall_recommendation></overall_recommendation>\n",
    "    <priority_improvements>\n",
    "      <improvement></improvement>\n",
    "      <improvement></improvement>\n",
    "    </priority_improvements>\n",
    "  </conclusion>\n",
    "</answer>\n",
    "```\n",
    "\n",
    "- このような構造の利点と欠点は何でしょうか？\n",
    "- 追加のトークンは価値があるかを自問してください。詳細でトークン集約的なプロンプトに投資すべき場合と、より自由形式のプロンプトを使うべき場合はいつでしょうか？\n",
    "- この出力をどのように解析しますか？\n",
    "\n",
    "ヒント： LangChainのXMLOutput-ParserとPyDanticモデルを組み合わせることができます。 参考として、以下では.with_structured_output(...)のような方法に依存せずにXMLOutputパーサーを使用する方法を示します。これはlangchainの非常に最近の追加機能です。- "
   ]
  },
  {
   "cell_type": "code",
   "execution_count": 10,
   "id": "35ff3ddc",
   "metadata": {},
   "outputs": [
    {
     "data": {
      "text/plain": [
       "{'strengths': ['Clear thesis statement', 'Well-structured paragraphs'],\n",
       " 'weaknesses': ['Lack of detailed examples', 'Some grammatical errors'],\n",
       " 'comments': ['The analysis lacks depth in some areas.',\n",
       "  'Arguments are logical but could be stronger.',\n",
       "  'Limited use of supporting evidence.',\n",
       "  'The essay has a clear structure but transitions could be improved.',\n",
       "  'Writing is generally clear but some sentences are convoluted.',\n",
       "  'The tone is appropriate for an academic essay.',\n",
       "  'There are a few grammatical errors and typos.',\n",
       "  'The essay meets the required length.'],\n",
       " 'recommendations': ['Expand on key points with more detailed explanations.',\n",
       "  'Provide more evidence to support your claims.',\n",
       "  'Incorporate more relevant examples and data.',\n",
       "  'Work on smoother transitions between paragraphs.',\n",
       "  'Simplify complex sentences for better readability.',\n",
       "  'Maintain this formal tone throughout.',\n",
       "  'Proofread carefully to eliminate these errors.',\n",
       "  'No changes needed in terms of length.'],\n",
       " 'improvements': ['Deepen analysis with more detailed explanations and examples.',\n",
       "  'Carefully proofread to eliminate grammatical errors and typos.'],\n",
       " 'overall_recommendation': 'This is a solid essay that could be improved with more depth and better proofreading.'}"
      ]
     },
     "execution_count": 10,
     "metadata": {},
     "output_type": "execute_result"
    }
   ],
   "source": [
    "import re\n",
    "\n",
    "# 簡易的なXML解析関数\n",
    "def parse_xml(xml_string):\n",
    "    # 簡易的な解析を行い、辞書形式で返す\n",
    "    result = {}\n",
    "    \n",
    "    # 強みの抽出\n",
    "    strength_pattern = r\"<strength_point>(.*?)</strength_point>\"\n",
    "    strengths = re.findall(strength_pattern, xml_string, re.DOTALL)\n",
    "    \n",
    "    # 弱みの抽出\n",
    "    weakness_pattern = r\"<weakness_point>(.*?)</weakness_point>\"\n",
    "    weaknesses = re.findall(weakness_pattern, xml_string, re.DOTALL)\n",
    "    \n",
    "    # コメントと推奨事項の抽出\n",
    "    comment_pattern = r\"<comment>(.*?)</comment>\"\n",
    "    comments = re.findall(comment_pattern, xml_string, re.DOTALL)\n",
    "    \n",
    "    recommendation_pattern = r\"<recommendation>(.*?)</recommendation>\"\n",
    "    recommendations = re.findall(recommendation_pattern, xml_string, re.DOTALL)\n",
    "    \n",
    "    # 改善点の抽出\n",
    "    improvement_pattern = r\"<improvement>(.*?)</improvement>\"\n",
    "    improvements = re.findall(improvement_pattern, xml_string, re.DOTALL)\n",
    "    \n",
    "    # 全体的な推奨事項の抽出\n",
    "    overall_rec_pattern = r\"<overall_recommendation>(.*?)</overall_recommendation>\"\n",
    "    overall_rec = re.findall(overall_rec_pattern, xml_string, re.DOTALL)\n",
    "    \n",
    "    # 結果を辞書にまとめる\n",
    "    result[\"strengths\"] = strengths\n",
    "    result[\"weaknesses\"] = weaknesses\n",
    "    result[\"comments\"] = comments\n",
    "    result[\"recommendations\"] = recommendations\n",
    "    result[\"improvements\"] = improvements\n",
    "    result[\"overall_recommendation\"] = overall_rec[0] if overall_rec else \"\"\n",
    "    \n",
    "    return result\n",
    "\n",
    "# Create a simple parser\n",
    "essay_critique_parser = parse_xml\n",
    "\n",
    "# Example usage\n",
    "xml_string = \"\"\"\n",
    "<answer>\n",
    "  <overall_assessment>\n",
    "    <strengths>\n",
    "      <strength_point>Clear thesis statement</strength_point>\n",
    "      <strength_point>Well-structured paragraphs</strength_point>\n",
    "    </strengths>\n",
    "    <weaknesses>\n",
    "      <weakness_point>Lack of detailed examples</weakness_point>\n",
    "      <weakness_point>Some grammatical errors</weakness_point>\n",
    "    </weaknesses>\n",
    "  </overall_assessment>\n",
    "  <content_evaluation>\n",
    "    <depth_of_analysis>\n",
    "      <comment>The analysis lacks depth in some areas.</comment>\n",
    "      <recommendation>Expand on key points with more detailed explanations.</recommendation>\n",
    "    </depth_of_analysis>\n",
    "    <argument_quality>\n",
    "      <comment>Arguments are logical but could be stronger.</comment>\n",
    "      <recommendation>Provide more evidence to support your claims.</recommendation>\n",
    "    </argument_quality>\n",
    "    <evidence_use>\n",
    "      <comment>Limited use of supporting evidence.</comment>\n",
    "      <recommendation>Incorporate more relevant examples and data.</recommendation>\n",
    "    </evidence_use>\n",
    "  </content_evaluation>\n",
    "  <structure_and_organization>\n",
    "    <comment>The essay has a clear structure but transitions could be improved.</comment>\n",
    "    <recommendation>Work on smoother transitions between paragraphs.</recommendation>\n",
    "  </structure_and_organization>\n",
    "  <style_and_language>\n",
    "    <clarity>\n",
    "      <comment>Writing is generally clear but some sentences are convoluted.</comment>\n",
    "      <recommendation>Simplify complex sentences for better readability.</recommendation>\n",
    "    </clarity>\n",
    "    <tone>\n",
    "      <comment>The tone is appropriate for an academic essay.</comment>\n",
    "      <recommendation>Maintain this formal tone throughout.</recommendation>\n",
    "    </tone>\n",
    "    <grammar_and_mechanics>\n",
    "      <comment>There are a few grammatical errors and typos.</comment>\n",
    "      <recommendation>Proofread carefully to eliminate these errors.</recommendation>\n",
    "    </grammar_and_mechanics>\n",
    "  </style_and_language>\n",
    "  <length_assessment>\n",
    "    <comment>The essay meets the required length.</comment>\n",
    "    <recommendation>No changes needed in terms of length.</recommendation>\n",
    "  </length_assessment>\n",
    "  <conclusion>\n",
    "    <overall_recommendation>This is a solid essay that could be improved with more depth and better proofreading.</overall_recommendation>\n",
    "    <priority_improvements>\n",
    "      <improvement>Deepen analysis with more detailed explanations and examples.</improvement>\n",
    "      <improvement>Carefully proofread to eliminate grammatical errors and typos.</improvement>\n",
    "    </priority_improvements>\n",
    "  </conclusion>\n",
    "</answer>\n",
    "\"\"\"\n",
    "\n",
    "# Parse the XML string\n",
    "parsed_critique = essay_critique_parser(xml_string)\n",
    "parsed_critique"
   ]
  },
  {
   "cell_type": "markdown",
   "id": "04d75275",
   "metadata": {},
   "source": [
    "However, we can also use `.with_structured_output` to get the answer we need!\n"
   ]
  },
  {
   "cell_type": "code",
   "execution_count": 11,
   "id": "0cefa30b",
   "metadata": {},
   "outputs": [
    {
     "name": "stderr",
     "output_type": "stream",
     "text": [
      "/home/coder/aws-samples/workshops/langgraph-workshop/.venv/lib/python3.13/site-packages/IPython/core/interactiveshell.py:3699: LangChainDeprecationWarning: As of langchain-core 0.3.0, LangChain uses pydantic v2 internally. The langchain_core.pydantic_v1 module was a compatibility shim for pydantic v1, and should no longer be used. Please update the code to import from Pydantic directly.\n",
      "\n",
      "For example, replace imports like: `from langchain_core.pydantic_v1 import BaseModel`\n",
      "with: `from pydantic import BaseModel`\n",
      "or the v1 compatibility namespace if you are working in a code base that has not been fully upgraded to pydantic 2 yet. \tfrom pydantic.v1 import BaseModel\n",
      "\n",
      "  exec(code_obj, self.user_global_ns, self.user_ns)\n"
     ]
    },
    {
     "data": {
      "text/plain": [
       "StructuredOutput(title='人工知能（AI）の基本概要', content='人工知能（Artificial Intelligence、略してAI）は、現代テクノロジーの最も革新的な分野の一つです。その主な特徴と側面は以下の通りです：\\n\\n1. 定義\\n- 人間の知的能力をコンピュータシステムで再現しようとする技術\\n- データを学習し、パターンを認識し、意思決定を行う能力を持つ\\n\\n2. 主な種類\\n- 汎用AI（強いAI）：人間のような包括的な知能\\n- 特化型AI：特定のタスクに特化した知能（例：画像認識、音声アシスタント）\\n\\n3. 主要な技術\\n- 機械学習：データから自動的に学習するアルゴリズム\\n- ディープラーニング：neural networkを使用した高度な学習手法\\n- 自然言語処理：人間の言語を理解・生成する技術\\n\\n4. 応用分野\\n- 医療（診断支援）\\n- 自動運転\\n- 金融（株価予測）\\n- 顧客サービス（チャットボット）\\n- 製造業（予測メンテナンス）\\n\\n5. 倫理的課題\\n- プライバシー保護\\n- 雇用への影響\\n- アルゴリズムの公平性\\n- AIの判断における透明性\\n\\n6. 将来の展望\\n- より高度で汎用的な知能の開発\\n- 人間とAIの協調\\n- 社会課題の解決への貢献\\n\\nAIは急速に進化し、私たちの生活や仕事のあり方を大きく変革しつつあります。', summary='人工知能は、人間の知能を模倣し、学習や問題解決を行うコンピュータシステムの総称です。')"
      ]
     },
     "execution_count": 11,
     "metadata": {},
     "output_type": "execute_result"
    }
   ],
   "source": [
    "from langchain_aws import ChatBedrock\n",
    "from langchain_core.pydantic_v1 import BaseModel, Field\n",
    "\n",
    "class StructuredOutput(BaseModel):\n",
    "    title: str = Field(..., description=\"レスポンスのタイトル\")\n",
    "    content: str = Field(..., description=\"メインコンテンツ\")\n",
    "    summary: str = Field(..., description=\"コンテンツの簡潔な要約\")\n",
    "\n",
    "llm = ChatBedrock(\n",
    "    model_id=\"us.anthropic.claude-3-5-haiku-20241022-v1:0\",\n",
    "    model_kwargs={\"temperature\": 0},\n",
    ")\n",
    "\n",
    "structured_llm = llm.with_structured_output(StructuredOutput)\n",
    "response = structured_llm.invoke(\"人工知能について教えてください\")\n",
    "response"
   ]
  },
  {
   "cell_type": "code",
   "execution_count": 12,
   "id": "ea7c615e",
   "metadata": {},
   "outputs": [
    {
     "name": "stdout",
     "output_type": "stream",
     "text": [
      "人工知能（AI）の基本概要\n"
     ]
    }
   ],
   "source": [
    "print(response.title)"
   ]
  },
  {
   "cell_type": "code",
   "execution_count": 13,
   "id": "0386ba8b",
   "metadata": {},
   "outputs": [
    {
     "name": "stdout",
     "output_type": "stream",
     "text": [
      "The title:\t人工知能（AI）の基本概要\n",
      "\n"
     ]
    },
    {
     "data": {
      "text/plain": [
       "StructuredOutput(title='人工知能（AI）の基本概要', content='人工知能（Artificial Intelligence、略してAI）は、現代テクノロジーの最も革新的な分野の一つです。その主な特徴と側面は以下の通りです：\\n\\n1. 定義\\n- 人間の知的能力をコンピュータシステムで再現しようとする技術\\n- データを学習し、パターンを認識し、意思決定を行う能力を持つ\\n\\n2. 主な種類\\n- 汎用AI（強いAI）：人間のような包括的な知能\\n- 特化型AI：特定のタスクに特化した知能（例：画像認識、音声アシスタント）\\n\\n3. 主要な技術\\n- 機械学習：データから自動的に学習するアルゴリズム\\n- ディープラーニング：neural networkを使用した高度な学習手法\\n- 自然言語処理：人間の言語を理解・生成する技術\\n\\n4. 応用分野\\n- 医療（診断支援）\\n- 自動運転\\n- 金融（株価予測）\\n- 顧客サービス（チャットボット）\\n- 製造業（予測メンテナンス）\\n\\n5. 倫理的課題\\n- プライバシー保護\\n- 雇用への影響\\n- アルゴリズムの公平性\\n- AIの判断における透明性\\n\\n6. 将来の展望\\n- より高度で汎用的な知能の開発\\n- 人間とAIの協調\\n- 社会課題の解決への貢献\\n\\nAIは急速に進化し、私たちの生活や仕事のあり方を大きく変革しつつあります。', summary='人工知能は、人間の知能を模倣し、学習や問題解決を行うコンピュータシステムの総称です。')"
      ]
     },
     "execution_count": 13,
     "metadata": {},
     "output_type": "execute_result"
    }
   ],
   "source": [
    "structured_llm = llm.with_structured_output(StructuredOutput, method=\"xml_mode\")  # xml_modeを試す\n",
    "response = structured_llm.invoke(\"人工知能について教えてください\")\n",
    "print(f\"The title:\\t{response.title}\\n\")\n",
    "response"
   ]
  },
  {
   "cell_type": "code",
   "execution_count": 14,
   "id": "dc3293b7-a50c-43c8-a022-8975e1e444b8",
   "metadata": {
    "height": 81
   },
   "outputs": [],
   "source": [
    "from langchain_core.pydantic_v1 import BaseModel\n",
    "\n",
    "\n",
    "class Queries(BaseModel):\n",
    "    queries: List[str]"
   ]
  },
  {
   "cell_type": "markdown",
   "id": "7bfafd4a",
   "metadata": {},
   "source": [
    "### Tavilyクライアントのセットアップ\n",
    "\n",
    "研究にTavily APIを使用しています。TavilyClientをインポートし、APIキーで初期化します。これにより、エッセイの情報収集のためにWeb検索を実行できるようになります。"
   ]
  },
  {
   "cell_type": "code",
   "execution_count": 15,
   "id": "0722c3d4-4cbf-43bf-81b0-50f634c4ce61",
   "metadata": {
    "height": 64
   },
   "outputs": [],
   "source": [
    "from tavily import TavilyClient\n",
    "import os\n",
    "\n",
    "tavily = TavilyClient(api_key=tavily_ai_api_key)"
   ]
  },
  {
   "cell_type": "markdown",
   "id": "b4114e17",
   "metadata": {},
   "source": [
    "## ノード関数の定義\n",
    "\n",
    "エッセイ執筆プロセスの個別コンポーネントを作成しています。各関数はグラフ内のノードを表します：\n",
    "\n",
    "1. plan_node: エッセイのアウトラインを作成します。\n",
    "2. research_plan_node: 計画に基づいて検索クエリを生成し、情報を取得します。\n",
    "3. generation_node: エッセイの下書きを書きます。\n",
    "4. reflection_node: 現在の下書きを批評します。\n",
    "5. research_critique_node: 批評に基づいて追加の研究を実行します。\n",
    "6. should_continue: 修正を続けるか停止するかを決定します。\n",
    "\n",
    "これらの関数はそれぞれClaudeモデルと相互作用し、エージェントの状態を適切に更新します。"
   ]
  },
  {
   "cell_type": "code",
   "execution_count": 16,
   "id": "6b2f82fe-3ec4-4917-be51-9fb10d1317fa",
   "metadata": {
    "height": 132
   },
   "outputs": [],
   "source": [
    "def plan_node(state: AgentState):\n",
    "    messages = [SystemMessage(content=PLAN_PROMPT), HumanMessage(content=state[\"task\"])]\n",
    "    response = model.invoke(messages)\n",
    "    return {\"plan\": response.content}"
   ]
  },
  {
   "cell_type": "code",
   "execution_count": 17,
   "id": "65ee9b47",
   "metadata": {},
   "outputs": [],
   "source": [
    "from typing import List\n",
    "from langchain.output_parsers import PydanticOutputParser\n",
    "from langchain_core.prompts import PromptTemplate\n",
    "from langchain_core.pydantic_v1 import BaseModel, Field\n",
    "import json\n",
    "\n",
    "class Queries(BaseModel):\n",
    "    queries: List[str] = Field(description=\"研究クエリのリスト\")\n",
    "\n",
    "def research_plan_node(state: AgentState):\n",
    "    # シンプルなプロンプトを使用\n",
    "    prompt = f\"\"\"Generate 3 research queries based on the given task. \n",
    "    Return ONLY a JSON object with the following format:\n",
    "    {{\n",
    "        \"queries\": [\"query1\", \"query2\", \"query3\"]\n",
    "    }}\n",
    "    \n",
    "    Task: {state['task']}\n",
    "    \"\"\"\n",
    "    \n",
    "    # モデルを呼び出し\n",
    "    response = model.invoke(prompt)\n",
    "    \n",
    "    # JSONを抽出して解析\n",
    "    response_text = response.content\n",
    "    \n",
    "    # JSONを探す\n",
    "    json_start = response_text.find(\"{\")\n",
    "    json_end = response_text.rfind(\"}\") + 1\n",
    "    queries = []\n",
    "    \n",
    "    if json_start >= 0 and json_end > json_start:\n",
    "        json_str = response_text[json_start:json_end]\n",
    "        try:\n",
    "            queries_dict = json.loads(json_str)\n",
    "            queries = queries_dict.get(\"queries\", [])\n",
    "        except:\n",
    "            # JSONのパースに失敗した場合、正規表現で抽出を試みる\n",
    "            import re\n",
    "            queries = re.findall(r'\"([^\"]+)\"', response_text)\n",
    "    else:\n",
    "        # JSONが見つからない場合、行ごとに分割して処理\n",
    "        lines = [line.strip() for line in response_text.split('\\n') if line.strip()]\n",
    "        for line in lines:\n",
    "            if line.startswith('\"') and line.endswith('\"'):\n",
    "                queries.append(line.strip('\"'))\n",
    "            elif \":\" in line:\n",
    "                parts = line.split(\":\", 1)\n",
    "                if len(parts) == 2:\n",
    "                    queries.append(parts[1].strip())\n",
    "    \n",
    "    # 最大3つまでに制限\n",
    "    queries = queries[:3]\n",
    "    \n",
    "    # クエリが空の場合のフォールバック\n",
    "    if not queries:\n",
    "        queries = [state['task']]\n",
    "    \n",
    "    # content キーが存在しない場合は初期化\n",
    "    content = []\n",
    "    if 'content' in state:\n",
    "        content = state[\"content\"] or []\n",
    "    \n",
    "    for q in queries:\n",
    "        response = tavily.search(query=q, max_results=2)\n",
    "        for r in response[\"results\"]:\n",
    "            content.append(r[\"content\"])\n",
    "    return {\"content\": content}"
   ]
  },
  {
   "cell_type": "code",
   "execution_count": 18,
   "id": "98f303b1-a4d0-408c-8cc0-515ff980717f",
   "metadata": {
    "height": 285
   },
   "outputs": [],
   "source": [
    "def generation_node(state: AgentState):\n",
    "    # 研究コンテンツを結合して一つの文字列にする\n",
    "    content = \"\\n\\n\".join(state[\"content\"] or [])\n",
    "    \n",
    "    # ユーザーメッセージを作成（タスクと計画を含む）\n",
    "    user_message = HumanMessage(\n",
    "        content=f\"{state['task']}\\n\\n計画は以下の通りです:\\n\\n{state['plan']}\"\n",
    "    )\n",
    "    \n",
    "    # システムメッセージとユーザーメッセージを含むメッセージリストを作成\n",
    "    messages = [\n",
    "        SystemMessage(content=WRITER_PROMPT.format(content=content)),\n",
    "        user_message,\n",
    "    ]\n",
    "    \n",
    "    # モデルを呼び出してエッセイの下書きを生成\n",
    "    response = model.invoke(messages)\n",
    "    \n",
    "    # 下書きと修正回数を更新して返す\n",
    "    return {\n",
    "        \"draft\": response.content,\n",
    "        \"revision_number\": state.get(\"revision_number\", 1) + 1,\n",
    "    }"
   ]
  },
  {
   "cell_type": "code",
   "execution_count": 19,
   "id": "bf4dcb93-6298-4cfd-b3ce-61dfac7fb35f",
   "metadata": {
    "height": 132
   },
   "outputs": [],
   "source": [
    "def reflection_node(state: AgentState):\n",
    "    # 批評用のメッセージリストを作成\n",
    "    messages = [\n",
    "        SystemMessage(content=REFLECTION_PROMPT),  # 教師として批評するシステムプロンプト\n",
    "        HumanMessage(content=state[\"draft\"]),      # 批評対象のエッセイ下書き\n",
    "    ]\n",
    "    \n",
    "    # モデルを呼び出してエッセイの批評を生成\n",
    "    response = model.invoke(messages)\n",
    "    \n",
    "    # 批評内容を状態に追加して返す\n",
    "    return {\"critique\": response.content}"
   ]
  },
  {
   "cell_type": "code",
   "execution_count": 20,
   "id": "27526845",
   "metadata": {},
   "outputs": [],
   "source": [
    "def research_critique_node(state: AgentState):\n",
    "    # シンプルなプロンプトを使用\n",
    "    prompt = f\"\"\"Generate 2 research queries based on the given critique. \n",
    "    Return ONLY a JSON object with the following format:\n",
    "    {{\n",
    "        \"queries\": [\"query1\", \"query2\"]\n",
    "    }}\n",
    "    \n",
    "    Critique: {state['critique']}\n",
    "    \"\"\"\n",
    "    \n",
    "    # モデルを呼び出し\n",
    "    response = model.invoke(prompt)\n",
    "    \n",
    "    # JSONを抽出して解析\n",
    "    response_text = response.content\n",
    "    \n",
    "    # JSONを探す\n",
    "    json_start = response_text.find(\"{\")\n",
    "    json_end = response_text.rfind(\"}\") + 1\n",
    "    queries = []\n",
    "    \n",
    "    if json_start >= 0 and json_end > json_start:\n",
    "        json_str = response_text[json_start:json_end]\n",
    "        try:\n",
    "            queries_dict = json.loads(json_str)\n",
    "            queries = queries_dict.get(\"queries\", [])\n",
    "        except:\n",
    "            # JSONのパースに失敗した場合、正規表現で抽出を試みる\n",
    "            import re\n",
    "            queries = re.findall(r'\"([^\"]+)\"', response_text)\n",
    "    else:\n",
    "        # JSONが見つからない場合、行ごとに分割して処理\n",
    "        lines = [line.strip() for line in response_text.split('\\n') if line.strip()]\n",
    "        for line in lines:\n",
    "            if line.startswith('\"') and line.endswith('\"'):\n",
    "                queries.append(line.strip('\"'))\n",
    "            elif \":\" in line:\n",
    "                parts = line.split(\":\", 1)\n",
    "                if len(parts) == 2:\n",
    "                    queries.append(parts[1].strip())\n",
    "    \n",
    "    # 最大2つまでに制限\n",
    "    queries = queries[:2]\n",
    "    \n",
    "    # クエリが空の場合のフォールバック\n",
    "    if not queries:\n",
    "        queries = [state['task']]\n",
    "    \n",
    "    # content キーが存在しない場合は初期化\n",
    "    content = []\n",
    "    if 'content' in state:\n",
    "        content = state[\"content\"] or []\n",
    "    \n",
    "    for q in queries:\n",
    "        response = tavily.search(query=q, max_results=2)\n",
    "        for r in response[\"results\"]:\n",
    "            content.append(r[\"content\"])\n",
    "    return {\"content\": content}"
   ]
  },
  {
   "cell_type": "code",
   "execution_count": 21,
   "id": "ff362f49-dcf1-4ea1-a86c-e516e9ab897d",
   "metadata": {
    "height": 81
   },
   "outputs": [],
   "source": [
    "def should_continue(state):\n",
    "    if state[\"revision_number\"] > state[\"max_revisions\"]:\n",
    "        return END\n",
    "    return \"reflect\""
   ]
  },
  {
   "cell_type": "markdown",
   "id": "7044a487",
   "metadata": {},
   "source": [
    "## グラフの構築\n",
    "\n",
    "ノードが定義されたので、グラフを構築できます。LangGraphのStateGraphを使用して、エッセイ執筆プロセスのフローを作成します。各ノードをグラフに追加し、エントリーポイントをプランナーに設定し、ノード間のエッジを定義します。\n",
    "\n",
    "ここでの重要な部分は、generateノード後の条件付きエッジです。should_continue関数を使用して、反映と修正を行うか、プロセスを終了するかを決定します。"
   ]
  },
  {
   "cell_type": "code",
   "execution_count": 22,
   "id": "a7e15a20-83d7-434c-8551-bce8dcc32be0",
   "metadata": {
    "height": 30
   },
   "outputs": [],
   "source": [
    "# エージェント状態を使用してStateGraphビルダーを初期化\n",
    "builder = StateGraph(AgentState)"
   ]
  },
  {
   "cell_type": "code",
   "execution_count": 23,
   "id": "54ab2c74-f32e-490c-a85d-932d11444210",
   "metadata": {
    "height": 98
   },
   "outputs": [
    {
     "data": {
      "text/plain": [
       "<langgraph.graph.state.StateGraph at 0x707291d497f0>"
      ]
     },
     "execution_count": 23,
     "metadata": {},
     "output_type": "execute_result"
    }
   ],
   "source": [
    "builder.add_node(\"planner\", plan_node)\n",
    "builder.add_node(\"generate\", generation_node)\n",
    "builder.add_node(\"reflect\", reflection_node)\n",
    "builder.add_node(\"research_plan\", research_plan_node)\n",
    "builder.add_node(\"research_critique\", research_critique_node)"
   ]
  },
  {
   "cell_type": "code",
   "execution_count": 24,
   "id": "a833d3ce-bd31-4319-811d-decff226b970",
   "metadata": {
    "height": 30
   },
   "outputs": [
    {
     "data": {
      "text/plain": [
       "<langgraph.graph.state.StateGraph at 0x707291d497f0>"
      ]
     },
     "execution_count": 24,
     "metadata": {},
     "output_type": "execute_result"
    }
   ],
   "source": [
    "# グラフのエントリーポイントを\"planner\"ノードに設定\n",
    "builder.set_entry_point(\"planner\")"
   ]
  },
  {
   "cell_type": "code",
   "execution_count": 25,
   "id": "76e93cce-6eab-4c7c-ac64-e9993fdb30d6",
   "metadata": {
    "height": 115
   },
   "outputs": [
    {
     "data": {
      "text/plain": [
       "<langgraph.graph.state.StateGraph at 0x707291d497f0>"
      ]
     },
     "execution_count": 25,
     "metadata": {},
     "output_type": "execute_result"
    }
   ],
   "source": [
    "# \"generate\"ノードから条件付きエッジを追加\n",
    "# should_continue関数の結果に基づいて、ENDで終了するか\"reflect\"ノードに進むかを決定\n",
    "builder.add_conditional_edges(\"generate\", should_continue, {END: END, \"reflect\": \"reflect\"})"
   ]
  },
  {
   "cell_type": "code",
   "execution_count": 26,
   "id": "fd2d0990-a932-423f-9ff3-5cada58c5f32",
   "metadata": {
    "height": 98
   },
   "outputs": [
    {
     "data": {
      "text/plain": [
       "<langgraph.graph.state.StateGraph at 0x707291d497f0>"
      ]
     },
     "execution_count": 26,
     "metadata": {},
     "output_type": "execute_result"
    }
   ],
   "source": [
    "# プランナーから研究計画ノードへのエッジを追加\n",
    "builder.add_edge(\"planner\", \"research_plan\")\n",
    "# 研究計画から生成ノードへのエッジを追加\n",
    "builder.add_edge(\"research_plan\", \"generate\")\n",
    "# 反映から研究批評ノードへのエッジを追加\n",
    "builder.add_edge(\"reflect\", \"research_critique\")\n",
    "# 研究批評から生成ノードへのエッジを追加（修正のため）\n",
    "builder.add_edge(\"research_critique\", \"generate\")"
   ]
  },
  {
   "cell_type": "code",
   "execution_count": 27,
   "id": "27cde654-64e2-48bc-80a9-0ed668ccb7dc",
   "metadata": {
    "height": 30
   },
   "outputs": [],
   "source": [
    "graph = builder.compile(checkpointer=memory)"
   ]
  },
  {
   "cell_type": "code",
   "execution_count": 28,
   "id": "4871f644-b131-4065-b7ce-b82c20a41f11",
   "metadata": {
    "height": 64
   },
   "outputs": [
    {
     "data": {
      "image/png": "[encoded data removed]",
      "text/plain": [
       "<IPython.core.display.Image object>"
      ]
     },
     "execution_count": 28,
     "metadata": {},
     "output_type": "execute_result"
    }
   ],
   "source": [
    "from IPython.display import Image\n",
    "\n",
    "# Mermaidを使用して描画\n",
    "Image(graph.get_graph().draw_mermaid_png())\n"
   ]
  },
  {
   "cell_type": "markdown",
   "id": "392cfcff",
   "metadata": {},
   "source": [
    "## グラフの実行\n",
    "\n",
    "エッセイライターをテストするために、graph.streamメソッドを使用しています。これにより、プロセスの各ステップをリアルタイムで確認できます。LangChainとLangSmithの違いについてのエッセイを書くよう依頼し、最大2回の修正を設定しています。\n",
    "\n",
    "実行中は、各ノードからの出力が表示され、計画、研究、執筆、修正の段階を通じてエッセイがどのように進化するかを確認できます。"
   ]
  },
  {
   "cell_type": "code",
   "execution_count": 29,
   "id": "98f3be1d-cc4c-41fa-9863-3e386e88e305",
   "metadata": {
    "height": 132
   },
   "outputs": [
    {
     "name": "stdout",
     "output_type": "stream",
     "text": [
      "{'planner': {'plan': '以下に、「LangchainとLangsmithの違い」に関するエッセイのアウトラインを提案します：\\n\\nタイトル：LangchainとLangsmithの比較：AIアプリケーション開発における役割と特徴\\n\\nI. はじめに\\n- AIアプリケーション開発における両ツールの重要性\\n- 概要：Langchainとlangsmithの基本的な位置づけ\\n\\nII. Langchainの詳細\\nA. 定義と主な機能\\n- オープンソースのLLMアプリケーション開発フレームワーク\\n- チェーンとエージェントの作成を支援\\n\\nB. 主な特徴\\n- モジュラーな設計\\n- 様々なLLMとの統合\\n- プロンプトテンプレートの管理\\n\\nIII. Langsmithの詳細\\nA. 定義と主な目的\\n- LLMアプリケーションの開発、テスト、モニタリングツール\\n- Langchainの公式デバッグ・観察プラットフォーム\\n\\nB. 主な機能\\n- トレース機能\\n- パフォーマンス分析\\n- デバッグサポート\\n\\nIV. 両ツールの関係性\\n- 相互補完的な関係\\n- 開発ワークフローにおける連携\\n\\nV. 比較分析\\nA. 技術的な違い\\nB. ユースケース\\nC. メリットとデメリット\\n\\nVI. 結論\\n- AIアプリケーション開発における両ツールの重要性\\n- 将来の展望\\n\\n注意点：\\n- 技術的な詳細を明確に説明\\n- 実際のコード例や具体的なシナリオを含める\\n- 最新のAI開発トレンドとの関連性を強調\\n\\n推奨ソース：\\n- 公式ドキュメンテーション\\n- GitHubリポジトリ\\n- 最新の技術記事'}}\n",
      "{'research_plan': {'content': ['... 主な機能. 可視化（Observability） LLMは予測不能な結果を出すことがあるため、デバッグが難しいですが、LangSmithを使えばアプリのトレースを分析し', 'LangChainから使用することを考えると実験管理ツールは以下のLangSmith・Langfuseが良さそうです! それぞれのツールの強みは以下の通りです。 LangSmith.', 'LangSmithは、LangChain社が提供する大規模言語モデル（LLM）アプリケーションとエージェントの性能を開発サイクルの各段階で向上させるための商用', 'まとめると、LangChainは、「AI開発便利ツールの集まり」で、LangGraphはそこに「お作法」を与えシステムとして固くさせてくれるもの、そしてLangSmithが', 'LangChainはアプリケーション開発全般に適しており、LangSmithはエージェントのデバッグとモニタリングに特化している一方で、LangGraphは複雑なエージェ', '3者の役割分担・技術選定のポイント まとめると、LangChainは、「AI開発便利ツールの集まり」で、LangGraphはそこに「お作法」を与えシステムとして固く']}}\n",
      "{'generate': {'draft': '以下に、提案されたアウトラインに基づいたエッセイの草稿を作成しました：\\n\\nLangchainとLangsmithの比較：AIアプリケーション開発における役割と特徴\\n\\n人工知能（AI）アプリケーション開発の急速な進化に伴い、開発者は複雑なLanguage Model（LLM）アプリケーションを効率的に構築および管理するための革新的なツールを必要としている。LangchainとLangsmithは、この領域で最も注目されているツールであり、それぞれ独自の重要な役割を果たしている。本稿では、これら二つのツールの詳細な比較を通じて、AIアプリケーション開発における彼らの独自の貢献を探求する。\\n\\nLangchainは、大規模言語モデルを活用したアプリケーション開発のためのオープンソースフレームワークとして設計されている。その最大の特徴は、モジュラーで柔軟なアーキテクチャにある。開発者は、様々なLLMプロバイダ（OpenAI、Anthropic、Hugging Faceなど）と簡単に統合できるチェーンやエージェントを作成できる。プロンプトテンプレートの管理、外部データソースとの連携、複雑なワークフローの構築など、Langchainは開発者に包括的な開発環境を提供している。\\n\\n一方、Langsmithは、Langchainエコシステムにおけるデバッグおよびモニタリングの決定版ツールとして位置づけられる。大規模言語モデルアプリケーションの開発サイクル全体を通じて、詳細なトレース機能とパフォーマンス分析を提供する。特に、LLMの予測不可能性という本質的な課題に対処するため、開発者は各インタラクションを詳細に検査し、アプリケーションの動作を正確に理解できる。トレース機能は、プロンプト、モデルの応答、レイテンシーなどの重要なメトリクスを包括的に可視化する。\\n\\n両ツールの関係性は本質的に相互補完的である。Langchainがアプリケーション開発のための基盤を提供するのに対し、Langsmithはその開発プロセスの品質管理と最適化を担っている。実際の開発ワークフローでは、開発者はLangchainでアプリケーションを構築し、Langsmithでその性能を継続的に分析およびデバッグする。この連携により、より堅牢で信頼性の高いAIアプリケーションの開発が可能となる。\\n\\n結論として、LangchainとLangsmithは、現代のAIアプリケーション開発において不可欠なツールとして急速に認知されつつある。両ツールは、複雑化するAI開発の課題に対する革新的なソリューションを提供し、開発者がより効率的かつ効果的にLanguage Modelベースのアプリケーションを構築できるよう支援している。今後のAI技術の進化とともに、これらのツールがさらに洗練され、より強力な開発環境を提供することが期待される。', 'revision_number': 2}}\n",
      "{'reflect': {'critique': 'エッセイ評価と推奨事項\\n\\n総合評価: 優れた内容と構成\\n\\n強み:\\n1. 明確な論理的構成\\n2. 技術的な詳細の適切な説明\\n3. Langchain と Langsmith の関係性の深い分析\\n4. 専門的で洗練された文体\\n\\n改善点と推奨事項:\\n\\n文章構成について:\\n- 導入部をさらに具体的にし、読者の興味を引く\\n- 各セクションの論点をより明確に強調\\n- 結論部で将来の展望をより詳細に議論\\n\\n技術的深度:\\n- 具体的なコード例や実装シナリオを追加\\n- 比較表や具体的な技術的メトリクスを挿入\\n- 潜在的な制限や課題についてより深く探求\\n\\n文体と言語:\\n- 一部の技術用語の説明をより詳細に\\n- 文章の流れをさらに滑らかにする\\n- 専門用語の使用をバランス良く\\n\\n推奨スコア: A- (90/100)\\n\\n具体的な改善提案:\\n1. 導入部に簡潔な技術的背景を追加\\n2. 各ツールの具体的な使用例を挿入\\n3. 比較の観点をさらに体系的に整理\\n4. 結論部で将来の研究方向性を探求\\n\\n全体として、非常に質の高いエッセイであり、わずかな改善で卓越したものになります。'}}\n",
      "{'research_critique': {'content': ['... 主な機能. 可視化（Observability） LLMは予測不能な結果を出すことがあるため、デバッグが難しいですが、LangSmithを使えばアプリのトレースを分析し', 'LangChainから使用することを考えると実験管理ツールは以下のLangSmith・Langfuseが良さそうです! それぞれのツールの強みは以下の通りです。 LangSmith.', 'LangSmithは、LangChain社が提供する大規模言語モデル（LLM）アプリケーションとエージェントの性能を開発サイクルの各段階で向上させるための商用', 'まとめると、LangChainは、「AI開発便利ツールの集まり」で、LangGraphはそこに「お作法」を与えシステムとして固くさせてくれるもの、そしてLangSmithが', 'LangChainはアプリケーション開発全般に適しており、LangSmithはエージェントのデバッグとモニタリングに特化している一方で、LangGraphは複雑なエージェ', '3者の役割分担・技術選定のポイント まとめると、LangChainは、「AI開発便利ツールの集まり」で、LangGraphはそこに「お作法」を与えシステムとして固く', 'LangServe,LangSmithで、最新のLangChainを使ったLLM OPSを実践しよう （出典: https://python.langchain.com/v0.2/docs/concepts/#langsmith） 6.LangServe ※[all]とするとclient, server両方がinstallされる。[client] or [server]で片方のみinstallできる。 client.pyからエンドポイントを叩いて、promptを送ります。 query: 教えてAIとはどのようなサービスですか? Raw OUTPUT – metadata: source: https://www.gmo.jp/news/article/8971/ 古閑 美保 選手 生成AIプロンプトポータル「教えてAI byGMO」、\\\\r 「教えてAI byGMO」は、目まぐるしく変化する生成AI業界にいち早く対応し、アップデートを続け、最新の体験をユーザーの皆様にいち早くお届けできるよう、進化を続けてまいります。 ●Gemini 1.0 Pro\\\\r Copyright (C) 2024 GMO Oshiete AI, Inc. All Rights Reserved. type: Document – metadata: source: https://www.gmo.jp/news/article/8971/ 古閑 美保 選手 生成AIプロンプトポータル「教えてAI byGMO」、\\\\r 「教えてAI byGMO」は、目まぐるしく変化する生成AI業界にいち早く対応し、アップデートを続け、最新の体験をユーザーの皆様にいち早くお届けできるよう、進化を続けてまいります。 ●Gemini 1.0 Pro\\\\r Copyright (C) 2024 GMO Oshiete AI, Inc. All Rights Reserved. type: Document – metadata: title: å¤©ç§¤.AIã§ç”ŸæˆAIã®æœ€æ–°ãƒ¢ãƒ‡ãƒ«ãŒç„¡æ–™ã§ä½¿ãˆã‚‹ï½œismr page_content: å¤©ç§¤.AIã§ç”ŸæˆAIã®æœ€æ–°ãƒ¢ãƒ‡ãƒ«ãŒç„¡æ–™ã§ä½¿ãˆã‚‹ï½œismr type: Document – metadata: title: å¤©ç§¤.AIã§ç”ŸæˆAIã®æœ€æ–°ãƒ¢ãƒ‡ãƒ«ãŒç„¡æ–™ã§ä½¿ãˆã‚‹ï½œismr type: Document 教えてAIとはどのようなサービスですか? Use the following docs to produce a concise code solution to the user question. llm_output: – 教えてAI by GMO: [https://oshiete.ai](https://oshiete.ai) – 教えてAI by GMO: [https://oshiete.ai](https://oshiete.ai) （出典: https://docs.smith.langchain.com/tutorials/Developers/rag） 続いて、app/rag_for_eval/evaluators/の中に評価関数を実装します。 answer_helpfulness_evaluator https://python.langchain.com/v0.2/docs/introduction/ https://python.langchain.com/v0.2/docs/how_to/installation/ https://docs.smith.langchain.com/tutorials/Developers/rag https://docs.smith.langchain.com/ AI が Selenium を二度と失敗させない「 Test.AI 」の可能性', '1日に何千人もの顧客にサービスを提供している本番環境で、langchain langgraph langsmithスタックをデプロイして、とても気に入っています。 ... 純粋に', 'まとめると、LangChainは、「AI開発便利ツールの集まり」で、LangGraphはそこに「お作法」を与えシステムとして固くさせてくれるもの、そしてLangSmith', '一方、LangSmithやLangfuseは、LLMアプリのログ収集・監視（オブザーバビリティ）や結果の分析・評価を行うための機能を提供し、開発者がAIの振る舞いを']}}\n",
      "{'generate': {'draft': '以下に、提案されたアウトラインに基づいた5段落のエッセイを作成しました：\\n\\nLangchainとLangsmithの比較：AIアプリケーション開発における役割と特徴\\n\\n人工知能（AI）アプリケーション開発の急速な進化に伴い、開発者は効率的で強力なツールを必要としている。LangchainとLangsmithは、この分野で革新的なソリューションを提供する二つの重要なプラットフォームである。両ツールは異なる役割を果たしながら、AIアプリケーション開発のエコシステムにおいて相互補完的な関係を築いている。\\n\\nLangchainは、大規模言語モデル（LLM）アプリケーションを構築するためのオープンソースフレームワークとして知られている。その最大の特徴は、モジュラーで柔軟な設計にある。開発者は、様々な言語モデル、プロンプトテンプレート、メモリ管理、エージェント機能を簡単に統合できる。例えば、OpenAI、Anthropic、Googleなど、異なるプロバイダーのLLMを seamlessに接続し、複雑なAIワークフローを作成することが可能である。\\n\\n一方、Langsmithは、Langchainエコシステムにおけるデバッグ、モニタリング、および分析ツールとして機能する。主に、開発者がLLMアプリケーションのパフォーマンスを詳細に追跡し、改善するための機能を提供する。トレース機能により、各インタラクションの詳細な履歴を記録し、プロンプト、レイテンシ、コスト、出力品質などの重要なメトリクスを可視化できる。これにより、開発者は AIアプリケーションの動作を深く理解し、潜在的な問題を迅速に特定できる。\\n\\n両ツールの関係性は、AIアプリケーション開発のワークフローにおいて非常に重要である。Langchainは基本的な開発フレームワークを提供し、Langsmithはその上に高度な観察性（オブザーバビリティ）レイヤーを追加する。実際の開発プロセスでは、開発者はLangchainを使用してアプリケーションを構築し、Langsmithを通じてその性能を継続的に監視・改善することができる。この統合されたアプローチにより、より堅牢で効率的なAIソリューションの開発が可能となる。\\n\\n結論として、LangchainとLangsmithは、現代のAIアプリケーション開発において不可欠なツールとして位置づけられる。Langchainの柔軟な開発フレームワークと、Langsmithの高度な分析機能は、開発者に強力な開発環境を提供する。今後、AIテクノロジーがさらに進化するにつれ、これらのツールも継続的に改良され、より洗練されたAIアプリケーション開発を支援していくことが期待される。開発者にとって、両ツールの理解と効果的な活用が、次世代のAIソリューション創出の鍵となるだろう。', 'revision_number': 3}}\n"
     ]
    }
   ],
   "source": [
    "thread = {\"configurable\": {\"thread_id\": \"1\"}}\n",
    "for s in graph.stream(\n",
    "    {\n",
    "        \"task\": \"langchainとlangsmithの違いは何ですか\",\n",
    "        \"max_revisions\": 2,\n",
    "        \"revision_number\": 1,\n",
    "    },\n",
    "    thread,\n",
    "):\n",
    "    print(s)"
   ]
  },
  {
   "cell_type": "markdown",
   "id": "4d1664b5-75e0-46b7-9c2b-4ac9171f4597",
   "metadata": {},
   "source": [
    "## エッセイライターインターフェース\n",
    "\n",
    "最後に、Gradioを使用したシンプルなGUIを使って、エッセイライターとの対話を簡単にしましょう。**重要な注意事項**: Amazon SageMaker Code Editor内でGradioを使用するには、アプリを`shared=True`モードで起動する必要があり、これによりパブリックリンクが作成されます。セキュリティの影響を理解するために、[セキュリティとファイルアクセス](https://www.gradio.app/guides/sharing-your-app#security-and-file-access)を確認してください。\n",
    "\n",
    "このGUIでは、エッセイのトピックを入力し、エッセイを生成し、プロセスの各ステップの結果を確認できます。また、各ステップ後にプロセスを中断し、エッセイの現在の状態を表示し、エッセイを異なる方向に導きたい場合はトピックや計画を変更することもできます。\n",
    "\n",
    "このGUIにより、エッセイライターを簡単に実験し、入力やプロセスの変更が最終出力にどのような影響を与えるかを確認できます。\n",
    "\n",
    "これでAIエッセイライタープロジェクトは完了です！幅広いトピックについて研究、執筆、改良を行える複雑で多段階のAIエージェントが完成しました。このプロジェクトは、異なるAIとAPIサービスを組み合わせて強力で実用的なアプリケーションを作成する方法を実証しています。"
   ]
  },
  {
   "cell_type": "code",
   "execution_count": 32,
   "id": "0ad8a6cc-65d4-4ce7-87aa-4e67d7c23d7b",
   "metadata": {
    "height": 30
   },
   "outputs": [
    {
     "name": "stdout",
     "output_type": "stream",
     "text": [
      "The autoreload extension is already loaded. To reload it, use:\n",
      "  %reload_ext autoreload\n",
      "* Running on local URL:  http://127.0.0.1:7861\n",
      "* Running on public URL: https://3687430edda2cfa116.gradio.live\n",
      "\n",
      "This share link expires in 1 week. For free permanent hosting and GPU upgrades, run `gradio deploy` from the terminal in the working directory to deploy to Hugging Face Spaces (https://huggingface.co/spaces)\n"
     ]
    },
    {
     "data": {
      "text/html": [
       "<div><iframe src=\"https://3687430edda2cfa116.gradio.live\" width=\"100%\" height=\"500\" allow=\"autoplay; camera; microphone; clipboard-read; clipboard-write;\" frameborder=\"0\" allowfullscreen></iframe></div>"
      ],
      "text/plain": [
       "<IPython.core.display.HTML object>"
      ]
     },
     "metadata": {},
     "output_type": "display_data"
    }
   ],
   "source": [
    "#set magic variables to allow for a reload when changing code without restarting the kernel\n",
    "%load_ext autoreload\n",
    "%autoreload 2\n",
    "\n",
    "import gradio as gr\n",
    "from helper import ewriter, writer_gui\n",
    "\n",
    "MultiAgent = ewriter()\n",
    "app = writer_gui(MultiAgent.graph)\n",
    "app.launch()"
   ]
  },
  {
   "cell_type": "markdown",
   "id": "e21704cb",
   "metadata": {},
   "source": []
  }
 ],
 "metadata": {
  "kernelspec": {
   "display_name": "mykernel",
   "language": "python",
   "name": "mykernel"
  },
  "language_info": {
   "codemirror_mode": {
    "name": "ipython",
    "version": 3
   },
   "file_extension": ".py",
   "mimetype": "text/x-python",
   "name": "python",
   "nbconvert_exporter": "python",
   "pygments_lexer": "ipython3",
   "version": "3.13.3"
  }
 },
 "nbformat": 4,
 "nbformat_minor": 5
}
