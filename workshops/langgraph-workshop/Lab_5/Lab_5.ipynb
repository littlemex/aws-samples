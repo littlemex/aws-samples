{
 "cells": [
  {
   "cell_type": "markdown",
   "id": "8ad976db-fb87-4a92-b0d2-06defc098339",
   "metadata": {},
   "source": [
    "# Lab 5: Human in the Loop\n"
   ]
  },
  {
   "cell_type": "markdown",
   "id": "9644a30b",
   "metadata": {},
   "source": [
    "## セットアップと初期化\n",
    "\n",
    "環境のセットアップと必要なモジュールのインポートから始めます。重要なコンポーネントはチェックポインターです：\n",
    "\n",
    "```python\n",
    "from langgraph.checkpoint.memory import MemorySaver\n",
    "memory = MemorySaver()\n",
    "```\n",
    "\n",
    "チェックポインターはGitのような分散バージョン管理システムと同様に機能しますが、AI状態用です。AIの意思決定プロセスの異なる時点で状態の「コミット」を作成し、必要に応じて「ブランチ」または「リバート」することができます。\n",
    "\n",
    "大きな状態オブジェクトを扱う場合、チェックポイントの過剰な使用は大量のメモリ使用につながる可能性があることに注意してください。長時間実行されるアプリケーションでは、古いチェックポイントを管理または期限切れにする戦略を実装してください。それらのチェックポイントが不要になった場合、データベースにTime-To-Liveを実装することを検討してください。\n",
    "\n",
    "チェックポイント用のデータベースとしてSQLiteを使用しますが、本番アプリケーションではRedisまたはPostgresに切り替えることをお勧めします。"
   ]
  },
  {
   "cell_type": "code",
   "execution_count": 1,
   "id": "435fd5bd",
   "metadata": {},
   "outputs": [
    {
     "name": "stderr",
     "output_type": "stream",
     "text": [
      "[2025-07-10 04:14:12,397] p2900569 {utils.py:66} INFO - TAVILY_API_KEY variable correctly retrieved from the .env file.\n"
     ]
    }
   ],
   "source": [
    "from dotenv import load_dotenv\n",
    "import json\n",
    "import os\n",
    "import re\n",
    "import sys\n",
    "import warnings\n",
    "import boto3\n",
    "from botocore.config import Config\n",
    "warnings.filterwarnings(\"ignore\")\n",
    "import logging\n",
    "\n",
    "# ローカルモジュールのインポート\n",
    "dir_current = os.path.abspath(\"\")\n",
    "dir_parent = os.path.dirname(dir_current)\n",
    "if dir_parent not in sys.path:\n",
    "    sys.path.append(dir_parent)\n",
    "from utils import utils\n",
    "\n",
    "# 基本設定\n",
    "logger = utils.set_logger()  # ロガーの設定\n",
    "pp = utils.set_pretty_printer()  # 整形出力用のプリンターを設定\n",
    "\n",
    "# .envファイルまたはSecret Managerから環境変数を読み込む\n",
    "_ = load_dotenv(\"../.env\")\n",
    "aws_region = os.getenv(\"AWS_REGION\")  # AWS地域を環境変数から取得\n",
    "tavily_ai_api_key = utils.get_tavily_api(\"TAVILY_API_KEY\", aws_region)  # Tavily APIキーを取得\n",
    "\n",
    "# Bedrockの設定\n",
    "bedrock_config = Config(connect_timeout=120, read_timeout=120, retries={\"max_attempts\": 0})  # タイムアウトと再試行の設定\n",
    "\n",
    "# Bedrockランタイムクライアントの作成\n",
    "bedrock_rt = boto3.client(\"bedrock-runtime\", region_name=aws_region, config=bedrock_config)\n",
    "\n",
    "# 利用可能なモデルを確認するためのBedrockクライアントの作成\n",
    "bedrock = boto3.client(\"bedrock\", region_name=aws_region, config=bedrock_config)"
   ]
  },
  {
   "cell_type": "code",
   "execution_count": 2,
   "id": "d0168aee-bce9-4d60-b827-f86a88187e31",
   "metadata": {
    "height": 166
   },
   "outputs": [],
   "source": [
    "from langgraph.graph import StateGraph, END\n",
    "from typing import TypedDict, Annotated\n",
    "import operator\n",
    "from langchain_core.messages import AnyMessage, SystemMessage, HumanMessage, ToolMessage\n",
    "from langchain_aws import ChatBedrockConverse\n",
    "from langchain_community.tools.tavily_search import TavilySearchResults\n",
    "from langgraph.checkpoint.memory import MemorySaver\n",
    "\n",
    "memory = MemorySaver()"
   ]
  },
  {
   "cell_type": "markdown",
   "id": "8d4c04fb",
   "metadata": {},
   "source": [
    "次に、カスタムメッセージ処理機能を備えたエージェント状態をセットアップします："
   ]
  },
  {
   "cell_type": "code",
   "execution_count": 3,
   "id": "2589c5b6-6cc2-4594-9a17-dccdcf676054",
   "metadata": {
    "height": 557
   },
   "outputs": [],
   "source": [
    "from uuid import uuid4\n",
    "from langchain_core.messages import AnyMessage, SystemMessage, HumanMessage, AIMessage\n",
    "\n",
    "\"\"\"\n",
    "以前の例では、`messages`状態キーにデフォルトの`operator.add`または`+`リデューサーを\n",
    "注釈付けしていました。これは常に新しいメッセージを既存のメッセージ配列の末尾に\n",
    "追加します。\n",
    "\n",
    "今回は、既存のメッセージを置き換えるサポートをするために、`messages`キーに\n",
    "カスタムリデューサー関数で注釈を付けます。これにより、同じ`id`を持つメッセージを\n",
    "置き換え、そうでない場合は追加します。\n",
    "\"\"\"\n",
    "\n",
    "# この関数は、メッセージの一貫性を保つための「スマートなメッセージブローカー」として機能します。同じIDを持つメッセージを更新し、新しいメッセージを追加します。\n",
    "def reduce_messages(left: list[AnyMessage], right: list[AnyMessage]) -> list[AnyMessage]:\n",
    "    # idを持たないメッセージにidを割り当てる\n",
    "    for message in right:\n",
    "        if not message.id:\n",
    "            message.id = str(uuid4())\n",
    "    \n",
    "    # 新しいメッセージを既存のメッセージとマージする\n",
    "    merged = left.copy()\n",
    "    for message in right:\n",
    "        for i, existing in enumerate(merged):\n",
    "            # 同じidを持つ既存のメッセージを置き換える\n",
    "            if existing.id == message.id:\n",
    "                merged[i] = message\n",
    "                break\n",
    "        else:\n",
    "            # 新しいメッセージを末尾に追加する\n",
    "            merged.append(message)\n",
    "    return merged\n",
    "\n",
    "class AgentState(TypedDict):\n",
    "    messages: Annotated[list[AnyMessage], reduce_messages]"
   ]
  },
  {
   "cell_type": "markdown",
   "id": "f864ced5",
   "metadata": {},
   "source": [
    "この関数は、マイクロサービスアーキテクチャにおけるスマートなメッセージブローカーのように機能します。会話履歴の一貫性と最新性を確保し、長時間実行されるAIインタラクションでコンテキストを維持するために重要です。\n",
    "\n",
    "## ツールとエージェントのセットアップ\n",
    "\n",
    "Tavilyサーチツールを統合します："
   ]
  },
  {
   "cell_type": "code",
   "execution_count": 4,
   "id": "a2ba84ec-c172-4de7-ac55-e3158a531b23",
   "metadata": {
    "height": 30
   },
   "outputs": [
    {
     "name": "stderr",
     "output_type": "stream",
     "text": [
      "/tmp/ipykernel_2900569/4289725543.py:1: LangChainDeprecationWarning: The class `TavilySearchResults` was deprecated in LangChain 0.3.25 and will be removed in 1.0. An updated version of the class exists in the :class:`~langchain-tavily package and should be used instead. To use it run `pip install -U :class:`~langchain-tavily` and import as `from :class:`~langchain_tavily import TavilySearch``.\n",
      "  tool = TavilySearchResults(max_results=2)\n"
     ]
    }
   ],
   "source": [
    "tool = TavilySearchResults(max_results=2)"
   ]
  },
  {
   "cell_type": "markdown",
   "id": "d58320dc-c542-4a3c-bcf1-088909f9b075",
   "metadata": {},
   "source": [
    "## エージェントクラスにおける人間の介入\n",
    "\n",
    "`Agent`クラスは、AIの意思決定プロセスにおける人間の介入を可能にするいくつかの重要な機能を実装しています：\n",
    "\n",
    "1. **アクション前の中断**：\n",
    "```python\n",
    "self.graph = graph.compile(checkpointer=checkpointer, interrupt_before=[\"action\"])\n",
    "```\n",
    "\n",
    "この行は「action」ノードの前に中断を設定します。これにより、アクションが実行される前に人間による監視が可能になり、レビューや修正の機会が提供されます。 次のラボで見るように、必要なノードの前に中断を追加することができます。\n",
    "\n",
    "状態の検査： `exists_action`メソッドは現在の状態を出力します：\n",
    "\n",
    "```python\n",
    "def exists_action(self, state: AgentState):\n",
    "    print(state)\n",
    "    # ...\n",
    "```\n",
    "\n",
    "これにより、人間はAIの現在の状態（推論や意図されたアクションを含む）を検査することができます。\n",
    "\n",
    "アクションの可視性： `take_action`メソッドでは、各ツール呼び出しが出力されます：\n",
    "\n",
    "```python\n",
    "print(f\"Calling: {t}\")\n",
    "```\n",
    "\n",
    "これにより、AIが実行しようとしているアクションの可視性が提供され、潜在的な人間の介入が可能になります。\n",
    "\n",
    "チェックポイント： コンストラクタの`checkpointer`パラメータは、状態の保存と読み込みを可能にします。これにより「タイムトラベル」機能が実現され、人間は以前の決定ポイントを再訪し、潜在的に修正することができます。\n",
    "\n",
    "変更可能な状態： `AgentState`は変更可能な構造です。このクラスで直接示されていませんが、状態の修正を可能にし、人間がAIのコンテキストや決定を変更できるようにします。\n",
    "\n",
    "これらの機能が集合的に、人間がAIの意思決定プロセスを重要な節目で監視、介入、誘導できる人間参加型AIのフレームワークを作成します。"
   ]
  },
  {
   "cell_type": "code",
   "execution_count": 5,
   "id": "46a0e94e-d015-4106-b439-dbcd2fcb8bb0",
   "metadata": {
    "height": 642
   },
   "outputs": [],
   "source": [
    "class Agent:\n",
    "    def __init__(self, model, tools, system=\"\", checkpointer=None):\n",
    "        # システムメッセージを設定\n",
    "        self.system = system\n",
    "        # 状態グラフを初期化\n",
    "        graph = StateGraph(AgentState)\n",
    "        # LLMノードを追加（Bedrockを呼び出す）\n",
    "        graph.add_node(\"llm\", self.call_bedrock)\n",
    "        # アクションノードを追加（ツールを実行する）\n",
    "        graph.add_node(\"action\", self.take_action)\n",
    "        # 条件付きエッジを追加：ツール呼び出しがあればアクションへ、なければ終了\n",
    "        graph.add_conditional_edges(\"llm\", self.exists_action, {True: \"action\", False: END})\n",
    "        # アクションからLLMへのエッジを追加（ツール実行後に再びLLMへ）\n",
    "        graph.add_edge(\"action\", \"llm\")\n",
    "        # エントリーポイントをLLMに設定\n",
    "        graph.set_entry_point(\"llm\")\n",
    "        # チェックポインターを使用してグラフをコンパイル、アクションノード前に中断を設定\n",
    "        self.graph = graph.compile(checkpointer=checkpointer, interrupt_before=[\"action\"])\n",
    "        # ツールを名前でアクセスできるように辞書に格納\n",
    "        self.tools = {t.name: t for t in tools}\n",
    "        # モデルにツールをバインド\n",
    "        self.model = model.bind_tools(tools)\n",
    "\n",
    "    def call_bedrock(self, state: AgentState):\n",
    "        # 現在のメッセージ履歴を取得\n",
    "        messages = state[\"messages\"]\n",
    "        # システムメッセージがあれば先頭に追加\n",
    "        if self.system:\n",
    "            messages = [SystemMessage(content=self.system)] + messages\n",
    "        # モデルを呼び出して応答を取得\n",
    "        message = self.model.invoke(messages)\n",
    "        # 応答をメッセージリストに追加して返す\n",
    "        return {\"messages\": [message]}\n",
    "\n",
    "    def exists_action(self, state: AgentState):\n",
    "        # デバッグ用に現在の状態を出力\n",
    "        print(state)\n",
    "        # 最新のメッセージを取得\n",
    "        result = state[\"messages\"][-1]\n",
    "        # ツール呼び出しがあるかどうかを確認\n",
    "        return len(result.tool_calls) > 0\n",
    "\n",
    "    def take_action(self, state: AgentState):\n",
    "        # 最新のメッセージからツール呼び出しを取得\n",
    "        tool_calls = state[\"messages\"][-1].tool_calls\n",
    "        results = []\n",
    "        # 各ツール呼び出しを実行\n",
    "        for t in tool_calls:\n",
    "            # 実行するツール呼び出しを出力（デバッグ用）\n",
    "            print(f\"Calling: {t}\")\n",
    "            # ツールを名前で呼び出し、引数を渡して実行\n",
    "            result = self.tools[t[\"name\"]].invoke(t[\"args\"])\n",
    "            # 結果をツールメッセージとして追加\n",
    "            results.append(ToolMessage(tool_call_id=t[\"id\"], name=t[\"name\"], content=str(result)))\n",
    "        # デバッグ用メッセージを出力\n",
    "        print(\"Back to the model!\")\n",
    "        # ツール実行結果をメッセージリストとして返す\n",
    "        return {\"messages\": results}"
   ]
  },
  {
   "cell_type": "markdown",
   "id": "8320d5d6",
   "metadata": {},
   "source": [
    "`interrupt_before=[\"action\"]`パラメータは、AI パイプラインにおける重要な制御ポイントを実装します。\n",
    "\n",
    "これはCI/CDパイプラインの承認ゲートの実装に類似しており、必要なチェックなしに重要なアクションが実行されないことを保証します。\n",
    "\n",
    "AI安全性と制御メカニズムの理解を深めるために、2016年のGoogleやStanford、Berkeleyの研究者による論文[\"Concrete Problems in AI Safety\"](https://arxiv.org/abs/1606.06565)を探索してみてください。\n",
    "\n",
    "## エージェントの初期化と実行\n",
    "\n",
    "Amazon Bedrock上のClaudeでエージェントを初期化します："
   ]
  },
  {
   "cell_type": "code",
   "execution_count": 6,
   "id": "10084a02-2928-4945-9f7c-ad3f5b33caf7",
   "metadata": {
    "height": 132
   },
   "outputs": [],
   "source": [
    "prompt = \"\"\"あなたはスマートな研究アシスタントです。検索エンジンを使用して情報を調べてください。\\\n",
    "複数の呼び出しを行うことができます（同時または連続して）。\\\n",
    "何を求めているか確信がある場合にのみ、情報を検索してください。\\\n",
    "フォローアップの質問をする前に情報を調べる必要がある場合は、それも許可されています！\"\"\"\n",
    "\n",
    "# Amazon Bedrockの Claude 3 Haikuモデルを初期化\n",
    "model = ChatBedrockConverse(\n",
    "    client=bedrock_rt,\n",
    "    model=\"us.anthropic.claude-3-5-haiku-20241022-v1:0\",\n",
    "    temperature=0,  # 決定論的な応答のために温度を0に設定\n",
    "    max_tokens=None,  # トークン制限なし\n",
    ")\n",
    "\n",
    "# エージェントを初期化（モデル、ツール、システムプロンプト、チェックポインターを設定）\n",
    "abot = Agent(model, [tool], system=prompt, checkpointer=memory)"
   ]
  },
  {
   "cell_type": "code",
   "execution_count": 7,
   "id": "714d1205-f8fc-4912-b148-2a45da99219c",
   "metadata": {
    "height": 98
   },
   "outputs": [
    {
     "name": "stdout",
     "output_type": "stream",
     "text": [
      "{'messages': [HumanMessage(content='ベルリンの天気はどうですか？', additional_kwargs={}, response_metadata={}, id='7be52f3e-9e5c-42df-ad5b-f4f5eba0f4e3'), AIMessage(content=[{'type': 'tool_use', 'name': 'tavily_search_results_json', 'input': {'query': 'Berlin current weather today'}, 'id': 'tooluse_FcYc0sd8T8CIf9WwymuABg'}], additional_kwargs={}, response_metadata={'ResponseMetadata': {'RequestId': '5c1fc527-58bd-4cfa-8039-c70674e2b712', 'HTTPStatusCode': 200, 'HTTPHeaders': {'date': 'Thu, 10 Jul 2025 04:14:50 GMT', 'content-type': 'application/json', 'content-length': '316', 'connection': 'keep-alive', 'x-amzn-requestid': '5c1fc527-58bd-4cfa-8039-c70674e2b712'}, 'RetryAttempts': 0}, 'stopReason': 'tool_use', 'metrics': {'latencyMs': [1078]}, 'model_name': 'us.anthropic.claude-3-5-haiku-20241022-v1:0'}, id='run--fb1bd67f-4559-42e4-92a0-a3b52fc0d58d-0', tool_calls=[{'name': 'tavily_search_results_json', 'args': {'query': 'Berlin current weather today'}, 'id': 'tooluse_FcYc0sd8T8CIf9WwymuABg', 'type': 'tool_call'}], usage_metadata={'input_tokens': 498, 'output_tokens': 61, 'total_tokens': 559, 'input_token_details': {'cache_creation': 0, 'cache_read': 0}})]}\n",
      "{'messages': [AIMessage(content=[{'type': 'tool_use', 'name': 'tavily_search_results_json', 'input': {'query': 'Berlin current weather today'}, 'id': 'tooluse_FcYc0sd8T8CIf9WwymuABg'}], additional_kwargs={}, response_metadata={'ResponseMetadata': {'RequestId': '5c1fc527-58bd-4cfa-8039-c70674e2b712', 'HTTPStatusCode': 200, 'HTTPHeaders': {'date': 'Thu, 10 Jul 2025 04:14:50 GMT', 'content-type': 'application/json', 'content-length': '316', 'connection': 'keep-alive', 'x-amzn-requestid': '5c1fc527-58bd-4cfa-8039-c70674e2b712'}, 'RetryAttempts': 0}, 'stopReason': 'tool_use', 'metrics': {'latencyMs': [1078]}, 'model_name': 'us.anthropic.claude-3-5-haiku-20241022-v1:0'}, id='run--fb1bd67f-4559-42e4-92a0-a3b52fc0d58d-0', tool_calls=[{'name': 'tavily_search_results_json', 'args': {'query': 'Berlin current weather today'}, 'id': 'tooluse_FcYc0sd8T8CIf9WwymuABg', 'type': 'tool_call'}], usage_metadata={'input_tokens': 498, 'output_tokens': 61, 'total_tokens': 559, 'input_token_details': {'cache_creation': 0, 'cache_read': 0}})]}\n",
      "()\n"
     ]
    }
   ],
   "source": [
    "# ベルリンの天気について質問するメッセージを作成\n",
    "messages = [HumanMessage(content=\"ベルリンの天気はどうですか？\")]\n",
    "\n",
    "# スレッドIDを設定（会話の永続性を管理するため）\n",
    "thread = {\"configurable\": {\"thread_id\": \"1\"}}\n",
    "\n",
    "# エージェントのグラフを実行し、イベントをストリーミング\n",
    "for event in abot.graph.stream({\"messages\": messages}, thread):\n",
    "    # 各イベントの値を出力\n",
    "    for v in event.values():\n",
    "        print(v)"
   ]
  },
  {
   "cell_type": "code",
   "execution_count": 8,
   "id": "4873049c",
   "metadata": {},
   "outputs": [
    {
     "data": {
      "text/plain": [
       "{'configurable': {'thread_id': '1'}}"
      ]
     },
     "execution_count": 8,
     "metadata": {},
     "output_type": "execute_result"
    }
   ],
   "source": [
    "thread"
   ]
  },
  {
   "cell_type": "markdown",
   "id": "7c64a9cf",
   "metadata": {},
   "source": [
    "## 状態の検査と修正\n",
    "\n",
    "エージェントの状態を検査および修正する能力は強力な機能です："
   ]
  },
  {
   "cell_type": "code",
   "execution_count": 9,
   "id": "83588e70-254f-4f83-a510-c8ae81e729b0",
   "metadata": {
    "height": 30
   },
   "outputs": [
    {
     "data": {
      "text/plain": [
       "StateSnapshot(values={'messages': [HumanMessage(content='ベルリンの天気はどうですか？', additional_kwargs={}, response_metadata={}, id='7be52f3e-9e5c-42df-ad5b-f4f5eba0f4e3'), AIMessage(content=[{'type': 'tool_use', 'name': 'tavily_search_results_json', 'input': {'query': 'Berlin current weather today'}, 'id': 'tooluse_FcYc0sd8T8CIf9WwymuABg'}], additional_kwargs={}, response_metadata={'ResponseMetadata': {'RequestId': '5c1fc527-58bd-4cfa-8039-c70674e2b712', 'HTTPStatusCode': 200, 'HTTPHeaders': {'date': 'Thu, 10 Jul 2025 04:14:50 GMT', 'content-type': 'application/json', 'content-length': '316', 'connection': 'keep-alive', 'x-amzn-requestid': '5c1fc527-58bd-4cfa-8039-c70674e2b712'}, 'RetryAttempts': 0}, 'stopReason': 'tool_use', 'metrics': {'latencyMs': [1078]}, 'model_name': 'us.anthropic.claude-3-5-haiku-20241022-v1:0'}, id='run--fb1bd67f-4559-42e4-92a0-a3b52fc0d58d-0', tool_calls=[{'name': 'tavily_search_results_json', 'args': {'query': 'Berlin current weather today'}, 'id': 'tooluse_FcYc0sd8T8CIf9WwymuABg', 'type': 'tool_call'}], usage_metadata={'input_tokens': 498, 'output_tokens': 61, 'total_tokens': 559, 'input_token_details': {'cache_creation': 0, 'cache_read': 0}})]}, next=('action',), config={'configurable': {'thread_id': '1', 'checkpoint_ns': '', 'checkpoint_id': '1f05d446-c3ba-6d32-8001-195de4d80fe9'}}, metadata={'source': 'loop', 'step': 1, 'parents': {}, 'thread_id': '1'}, created_at='2025-07-10T04:14:50.349478+00:00', parent_config={'configurable': {'thread_id': '1', 'checkpoint_ns': '', 'checkpoint_id': '1f05d446-b91e-673e-8000-eddb54702356'}}, tasks=(PregelTask(id='b8e35ac2-97df-82ec-4f4b-9c1c99a29684', name='action', path=('__pregel_pull', 'action'), error=None, interrupts=(), state=None, result=None),), interrupts=())"
      ]
     },
     "execution_count": 9,
     "metadata": {},
     "output_type": "execute_result"
    }
   ],
   "source": [
    "abot.graph.get_state(thread)"
   ]
  },
  {
   "cell_type": "markdown",
   "id": "a45e23bc",
   "metadata": {},
   "source": [
    "この機能は、本番環境でのライブデバッガーを持つことに似ており、実行中のプロセスの状態を検査および修正することができます。"
   ]
  },
  {
   "cell_type": "code",
   "execution_count": 10,
   "id": "6cb3ef4c-58b3-401b-b104-0d51e553d982",
   "metadata": {
    "height": 30
   },
   "outputs": [
    {
     "data": {
      "text/plain": [
       "('action',)"
      ]
     },
     "execution_count": 10,
     "metadata": {},
     "output_type": "execute_result"
    }
   ],
   "source": [
    "abot.graph.get_state(thread).next"
   ]
  },
  {
   "cell_type": "markdown",
   "id": "58f2735f",
   "metadata": {},
   "source": [
    "ご覧のように、次に実行されるノードは`('action',)`ノードです。\n",
    "\n",
    "私たちは`action`ノードの前に中断を設定してグラフをコンパイルしたことを覚えておいてください。\n",
    "\n",
    "```python\n",
    "        self.graph = graph.compile(\n",
    "            checkpointer=checkpointer, interrupt_before=[\"action\"]\n",
    "        )\n",
    "```\n"
   ]
  },
  {
   "cell_type": "markdown",
   "id": "f1f404d5-a3be-42c1-9990-b1e1ee011163",
   "metadata": {},
   "source": [
    "### ...中断後に続行\n",
    "\n",
    "アクション（tavily-aiの呼び出し）の前に停止したので、続行することができます。それがどのように機能するか見てみましょう。"
   ]
  },
  {
   "cell_type": "code",
   "execution_count": 11,
   "id": "dc3293b7-a50c-43c8-a022-8975e1e444b8",
   "metadata": {
    "height": 64
   },
   "outputs": [
    {
     "name": "stdout",
     "output_type": "stream",
     "text": [
      "Calling: {'name': 'tavily_search_results_json', 'args': {'query': 'Berlin current weather today'}, 'id': 'tooluse_FcYc0sd8T8CIf9WwymuABg', 'type': 'tool_call'}\n"
     ]
    },
    {
     "name": "stdout",
     "output_type": "stream",
     "text": [
      "Back to the model!\n",
      "{'messages': [ToolMessage(content=\"[{'title': 'Berlin weather in July 2025 - Weather25.com', 'url': 'https://www.weather25.com/europe/germany/berlin?page=month&month=July', 'content': '| June | 23° / 13° | 5 | 25 | 0 | 96 mm | Perfect | Berlin in June |\\\\n| July | 25° / 15° | 6 | 25 | 0 | 122 mm | Perfect | Berlin in July |\\\\n| August | 25° / 15° | 4 | 27 | 0 | 87 mm | Perfect | Berlin in August |\\\\n| September | 20° / 12° | 4 | 26 | 0 | 55 mm | Good | Berlin in September |\\\\n| October | 14° / 7° | 5 | 25 | 0 | 66 mm | Good | Berlin in October |\\\\n| November | 8° / 4° | 6 | 22 | 2 | 60 mm | Bad | Berlin in November | [...] | Month | Temperatures | Rainy Days | Dry Days | Snowy Days | Rainfall | Weather | More details |\\\\n| --- | --- | --- | --- | --- | --- | --- | --- |\\\\n| January | 3° / -2° | 8 | 11 | 12 | 72 mm | Awful | Berlin in January |\\\\n| February | 4° / -1° | 6 | 13 | 9 | 50 mm | Awful | Berlin in February |\\\\n| March | 9° / 2° | 6 | 20 | 5 | 51 mm | Bad | Berlin in March |\\\\n| April | 15° / 6° | 4 | 25 | 2 | 35 mm | Ok | Berlin in April |\\\\n| May | 19° / 9° | 5 | 26 | 0 | 74 mm | Good | Berlin in May | [...] | December | 4° / 0° | 7 | 16 | 7 | 65 mm | Awful | Berlin in December |', 'score': 0.5183761}, {'title': 'Berlin, Berlin, Germany Monthly Weather - AccuWeather', 'url': 'https://www.accuweather.com/en/de/berlin/10178/july-weather/178087', 'content': 'Get the monthly weather forecast for Berlin, Berlin, Germany, including daily high/low, historical averages, to help you plan ahead.', 'score': 0.2119713}]\", name='tavily_search_results_json', id='2ead22cb-4436-475b-b7de-3b575e154190', tool_call_id='tooluse_FcYc0sd8T8CIf9WwymuABg')]}\n",
      "{'messages': [HumanMessage(content='ベルリンの天気はどうですか？', additional_kwargs={}, response_metadata={}, id='7be52f3e-9e5c-42df-ad5b-f4f5eba0f4e3'), AIMessage(content=[{'type': 'tool_use', 'name': 'tavily_search_results_json', 'input': {'query': 'Berlin current weather today'}, 'id': 'tooluse_FcYc0sd8T8CIf9WwymuABg'}], additional_kwargs={}, response_metadata={'ResponseMetadata': {'RequestId': '5c1fc527-58bd-4cfa-8039-c70674e2b712', 'HTTPStatusCode': 200, 'HTTPHeaders': {'date': 'Thu, 10 Jul 2025 04:14:50 GMT', 'content-type': 'application/json', 'content-length': '316', 'connection': 'keep-alive', 'x-amzn-requestid': '5c1fc527-58bd-4cfa-8039-c70674e2b712'}, 'RetryAttempts': 0}, 'stopReason': 'tool_use', 'metrics': {'latencyMs': [1078]}, 'model_name': 'us.anthropic.claude-3-5-haiku-20241022-v1:0'}, id='run--fb1bd67f-4559-42e4-92a0-a3b52fc0d58d-0', tool_calls=[{'name': 'tavily_search_results_json', 'args': {'query': 'Berlin current weather today'}, 'id': 'tooluse_FcYc0sd8T8CIf9WwymuABg', 'type': 'tool_call'}], usage_metadata={'input_tokens': 498, 'output_tokens': 61, 'total_tokens': 559, 'input_token_details': {'cache_creation': 0, 'cache_read': 0}}), ToolMessage(content=\"[{'title': 'Berlin weather in July 2025 - Weather25.com', 'url': 'https://www.weather25.com/europe/germany/berlin?page=month&month=July', 'content': '| June | 23° / 13° | 5 | 25 | 0 | 96 mm | Perfect | Berlin in June |\\\\n| July | 25° / 15° | 6 | 25 | 0 | 122 mm | Perfect | Berlin in July |\\\\n| August | 25° / 15° | 4 | 27 | 0 | 87 mm | Perfect | Berlin in August |\\\\n| September | 20° / 12° | 4 | 26 | 0 | 55 mm | Good | Berlin in September |\\\\n| October | 14° / 7° | 5 | 25 | 0 | 66 mm | Good | Berlin in October |\\\\n| November | 8° / 4° | 6 | 22 | 2 | 60 mm | Bad | Berlin in November | [...] | Month | Temperatures | Rainy Days | Dry Days | Snowy Days | Rainfall | Weather | More details |\\\\n| --- | --- | --- | --- | --- | --- | --- | --- |\\\\n| January | 3° / -2° | 8 | 11 | 12 | 72 mm | Awful | Berlin in January |\\\\n| February | 4° / -1° | 6 | 13 | 9 | 50 mm | Awful | Berlin in February |\\\\n| March | 9° / 2° | 6 | 20 | 5 | 51 mm | Bad | Berlin in March |\\\\n| April | 15° / 6° | 4 | 25 | 2 | 35 mm | Ok | Berlin in April |\\\\n| May | 19° / 9° | 5 | 26 | 0 | 74 mm | Good | Berlin in May | [...] | December | 4° / 0° | 7 | 16 | 7 | 65 mm | Awful | Berlin in December |', 'score': 0.5183761}, {'title': 'Berlin, Berlin, Germany Monthly Weather - AccuWeather', 'url': 'https://www.accuweather.com/en/de/berlin/10178/july-weather/178087', 'content': 'Get the monthly weather forecast for Berlin, Berlin, Germany, including daily high/low, historical averages, to help you plan ahead.', 'score': 0.2119713}]\", name='tavily_search_results_json', id='2ead22cb-4436-475b-b7de-3b575e154190', tool_call_id='tooluse_FcYc0sd8T8CIf9WwymuABg'), AIMessage(content=[{'type': 'text', 'text': '申し訳ありませんが、現在の具体的な天気情報を取得できませんでした。リアルタイムの天気情報を得るには、もう一度検索してみます。'}, {'type': 'tool_use', 'name': 'tavily_search_results_json', 'input': {'query': 'Berlin current temperature and weather conditions today'}, 'id': 'tooluse_HrF_0AObRmy_SgOjFA5Nvw'}], additional_kwargs={}, response_metadata={'ResponseMetadata': {'RequestId': 'e3f25f23-83f2-4823-a4f8-437a42260fd9', 'HTTPStatusCode': 200, 'HTTPHeaders': {'date': 'Thu, 10 Jul 2025 04:15:39 GMT', 'content-type': 'application/json', 'content-length': '544', 'connection': 'keep-alive', 'x-amzn-requestid': 'e3f25f23-83f2-4823-a4f8-437a42260fd9'}, 'RetryAttempts': 0}, 'stopReason': 'tool_use', 'metrics': {'latencyMs': [2415]}, 'model_name': 'us.anthropic.claude-3-5-haiku-20241022-v1:0'}, id='run--cc2d034e-58ff-401e-9713-81921bbac577-0', tool_calls=[{'name': 'tavily_search_results_json', 'args': {'query': 'Berlin current temperature and weather conditions today'}, 'id': 'tooluse_HrF_0AObRmy_SgOjFA5Nvw', 'type': 'tool_call'}], usage_metadata={'input_tokens': 1216, 'output_tokens': 122, 'total_tokens': 1338, 'input_token_details': {'cache_creation': 0, 'cache_read': 0}})]}\n",
      "{'messages': [AIMessage(content=[{'type': 'text', 'text': '申し訳ありませんが、現在の具体的な天気情報を取得できませんでした。リアルタイムの天気情報を得るには、もう一度検索してみます。'}, {'type': 'tool_use', 'name': 'tavily_search_results_json', 'input': {'query': 'Berlin current temperature and weather conditions today'}, 'id': 'tooluse_HrF_0AObRmy_SgOjFA5Nvw'}], additional_kwargs={}, response_metadata={'ResponseMetadata': {'RequestId': 'e3f25f23-83f2-4823-a4f8-437a42260fd9', 'HTTPStatusCode': 200, 'HTTPHeaders': {'date': 'Thu, 10 Jul 2025 04:15:39 GMT', 'content-type': 'application/json', 'content-length': '544', 'connection': 'keep-alive', 'x-amzn-requestid': 'e3f25f23-83f2-4823-a4f8-437a42260fd9'}, 'RetryAttempts': 0}, 'stopReason': 'tool_use', 'metrics': {'latencyMs': [2415]}, 'model_name': 'us.anthropic.claude-3-5-haiku-20241022-v1:0'}, id='run--cc2d034e-58ff-401e-9713-81921bbac577-0', tool_calls=[{'name': 'tavily_search_results_json', 'args': {'query': 'Berlin current temperature and weather conditions today'}, 'id': 'tooluse_HrF_0AObRmy_SgOjFA5Nvw', 'type': 'tool_call'}], usage_metadata={'input_tokens': 1216, 'output_tokens': 122, 'total_tokens': 1338, 'input_token_details': {'cache_creation': 0, 'cache_read': 0}})]}\n",
      "()\n"
     ]
    }
   ],
   "source": [
    "for event in abot.graph.stream(None, thread):\n",
    "    for v in event.values():\n",
    "        print(v)"
   ]
  },
  {
   "cell_type": "code",
   "execution_count": 12,
   "id": "0722c3d4-4cbf-43bf-81b0-50f634c4ce61",
   "metadata": {
    "height": 30
   },
   "outputs": [
    {
     "data": {
      "text/plain": [
       "StateSnapshot(values={'messages': [HumanMessage(content='ベルリンの天気はどうですか？', additional_kwargs={}, response_metadata={}, id='7be52f3e-9e5c-42df-ad5b-f4f5eba0f4e3'), AIMessage(content=[{'type': 'tool_use', 'name': 'tavily_search_results_json', 'input': {'query': 'Berlin current weather today'}, 'id': 'tooluse_FcYc0sd8T8CIf9WwymuABg'}], additional_kwargs={}, response_metadata={'ResponseMetadata': {'RequestId': '5c1fc527-58bd-4cfa-8039-c70674e2b712', 'HTTPStatusCode': 200, 'HTTPHeaders': {'date': 'Thu, 10 Jul 2025 04:14:50 GMT', 'content-type': 'application/json', 'content-length': '316', 'connection': 'keep-alive', 'x-amzn-requestid': '5c1fc527-58bd-4cfa-8039-c70674e2b712'}, 'RetryAttempts': 0}, 'stopReason': 'tool_use', 'metrics': {'latencyMs': [1078]}, 'model_name': 'us.anthropic.claude-3-5-haiku-20241022-v1:0'}, id='run--fb1bd67f-4559-42e4-92a0-a3b52fc0d58d-0', tool_calls=[{'name': 'tavily_search_results_json', 'args': {'query': 'Berlin current weather today'}, 'id': 'tooluse_FcYc0sd8T8CIf9WwymuABg', 'type': 'tool_call'}], usage_metadata={'input_tokens': 498, 'output_tokens': 61, 'total_tokens': 559, 'input_token_details': {'cache_creation': 0, 'cache_read': 0}}), ToolMessage(content=\"[{'title': 'Berlin weather in July 2025 - Weather25.com', 'url': 'https://www.weather25.com/europe/germany/berlin?page=month&month=July', 'content': '| June | 23° / 13° | 5 | 25 | 0 | 96 mm | Perfect | Berlin in June |\\\\n| July | 25° / 15° | 6 | 25 | 0 | 122 mm | Perfect | Berlin in July |\\\\n| August | 25° / 15° | 4 | 27 | 0 | 87 mm | Perfect | Berlin in August |\\\\n| September | 20° / 12° | 4 | 26 | 0 | 55 mm | Good | Berlin in September |\\\\n| October | 14° / 7° | 5 | 25 | 0 | 66 mm | Good | Berlin in October |\\\\n| November | 8° / 4° | 6 | 22 | 2 | 60 mm | Bad | Berlin in November | [...] | Month | Temperatures | Rainy Days | Dry Days | Snowy Days | Rainfall | Weather | More details |\\\\n| --- | --- | --- | --- | --- | --- | --- | --- |\\\\n| January | 3° / -2° | 8 | 11 | 12 | 72 mm | Awful | Berlin in January |\\\\n| February | 4° / -1° | 6 | 13 | 9 | 50 mm | Awful | Berlin in February |\\\\n| March | 9° / 2° | 6 | 20 | 5 | 51 mm | Bad | Berlin in March |\\\\n| April | 15° / 6° | 4 | 25 | 2 | 35 mm | Ok | Berlin in April |\\\\n| May | 19° / 9° | 5 | 26 | 0 | 74 mm | Good | Berlin in May | [...] | December | 4° / 0° | 7 | 16 | 7 | 65 mm | Awful | Berlin in December |', 'score': 0.5183761}, {'title': 'Berlin, Berlin, Germany Monthly Weather - AccuWeather', 'url': 'https://www.accuweather.com/en/de/berlin/10178/july-weather/178087', 'content': 'Get the monthly weather forecast for Berlin, Berlin, Germany, including daily high/low, historical averages, to help you plan ahead.', 'score': 0.2119713}]\", name='tavily_search_results_json', id='2ead22cb-4436-475b-b7de-3b575e154190', tool_call_id='tooluse_FcYc0sd8T8CIf9WwymuABg'), AIMessage(content=[{'type': 'text', 'text': '申し訳ありませんが、現在の具体的な天気情報を取得できませんでした。リアルタイムの天気情報を得るには、もう一度検索してみます。'}, {'type': 'tool_use', 'name': 'tavily_search_results_json', 'input': {'query': 'Berlin current temperature and weather conditions today'}, 'id': 'tooluse_HrF_0AObRmy_SgOjFA5Nvw'}], additional_kwargs={}, response_metadata={'ResponseMetadata': {'RequestId': 'e3f25f23-83f2-4823-a4f8-437a42260fd9', 'HTTPStatusCode': 200, 'HTTPHeaders': {'date': 'Thu, 10 Jul 2025 04:15:39 GMT', 'content-type': 'application/json', 'content-length': '544', 'connection': 'keep-alive', 'x-amzn-requestid': 'e3f25f23-83f2-4823-a4f8-437a42260fd9'}, 'RetryAttempts': 0}, 'stopReason': 'tool_use', 'metrics': {'latencyMs': [2415]}, 'model_name': 'us.anthropic.claude-3-5-haiku-20241022-v1:0'}, id='run--cc2d034e-58ff-401e-9713-81921bbac577-0', tool_calls=[{'name': 'tavily_search_results_json', 'args': {'query': 'Berlin current temperature and weather conditions today'}, 'id': 'tooluse_HrF_0AObRmy_SgOjFA5Nvw', 'type': 'tool_call'}], usage_metadata={'input_tokens': 1216, 'output_tokens': 122, 'total_tokens': 1338, 'input_token_details': {'cache_creation': 0, 'cache_read': 0}})]}, next=('action',), config={'configurable': {'thread_id': '1', 'checkpoint_ns': '', 'checkpoint_id': '1f05d448-986a-629b-8003-c8fb522cb898'}}, metadata={'source': 'loop', 'step': 3, 'parents': {}, 'thread_id': '1'}, created_at='2025-07-10T04:15:39.494651+00:00', parent_config={'configurable': {'thread_id': '1', 'checkpoint_ns': '', 'checkpoint_id': '1f05d448-814c-65e3-8002-20ee13c82abf'}}, tasks=(PregelTask(id='b73a3624-58d5-3507-5787-560429993882', name='action', path=('__pregel_pull', 'action'), error=None, interrupts=(), state=None, result=None),), interrupts=())"
      ]
     },
     "execution_count": 12,
     "metadata": {},
     "output_type": "execute_result"
    }
   ],
   "source": [
    "abot.graph.get_state(thread)"
   ]
  },
  {
   "cell_type": "code",
   "execution_count": 13,
   "id": "6b2f82fe-3ec4-4917-be51-9fb10d1317fa",
   "metadata": {
    "height": 30
   },
   "outputs": [
    {
     "data": {
      "text/plain": [
       "('action',)"
      ]
     },
     "execution_count": 13,
     "metadata": {},
     "output_type": "execute_result"
    }
   ],
   "source": [
    "abot.graph.get_state(thread).next"
   ]
  },
  {
   "cell_type": "markdown",
   "id": "25b2da1c",
   "metadata": {},
   "source": [
    "### 人間の入力を追加する\n",
    "\n",
    "次に、Webを検索する`action`の実行に対するあなたの承認を追加する方法を見ていきます。\n",
    "\n",
    "JupyterLabで実行しているか、例えばVS Codeで実行しているかによって、入力ボックスはコードセルの下、または上部に表示されるはずです。\n",
    "\n",
    "![ユーザー入力を求める入力ボックスの例](../assets/lab5_1.png)\n",
    "\n",
    "検索される内容に問題がなければ、「y」（はい）を入力してください。それ以外の場合は、操作が中止されます。"
   ]
  },
  {
   "cell_type": "code",
   "execution_count": null,
   "id": "ee0fe1c7-77e2-499c-a2f9-1f739bb6ddf0",
   "metadata": {
    "height": 251
   },
   "outputs": [
    {
     "name": "stdout",
     "output_type": "stream",
     "text": [
      "{'messages': [HumanMessage(content='ロサンゼルスの天気はどうですか？', additional_kwargs={}, response_metadata={}, id='1b7c719f-b261-43ba-845b-9f684fb59722'), AIMessage(content=[{'type': 'tool_use', 'name': 'tavily_search_results_json', 'input': {'query': 'Los Angeles current weather forecast'}, 'id': 'tooluse_gvVJ9cgLQl-r10LAzl4GCQ'}], additional_kwargs={}, response_metadata={'ResponseMetadata': {'RequestId': 'd8241ba4-ccbb-40f5-9e29-a095ff1bac92', 'HTTPStatusCode': 200, 'HTTPHeaders': {'date': 'Thu, 10 Jul 2025 04:16:10 GMT', 'content-type': 'application/json', 'content-length': '434', 'connection': 'keep-alive', 'x-amzn-requestid': 'd8241ba4-ccbb-40f5-9e29-a095ff1bac92'}, 'RetryAttempts': 0}, 'stopReason': 'tool_use', 'metrics': {'latencyMs': [1261]}, 'model_name': 'us.anthropic.claude-3-5-haiku-20241022-v1:0'}, id='run--7fd0a8c9-6dac-4272-a811-f6dfd1d2cdaa-0', tool_calls=[{'name': 'tavily_search_results_json', 'args': {'query': 'Los Angeles current weather forecast'}, 'id': 'tooluse_gvVJ9cgLQl-r10LAzl4GCQ', 'type': 'tool_call'}], usage_metadata={'input_tokens': 501, 'output_tokens': 62, 'total_tokens': 563, 'input_token_details': {'cache_creation': 0, 'cache_read': 0}})]}\n",
      "{'messages': [AIMessage(content=[{'type': 'tool_use', 'name': 'tavily_search_results_json', 'input': {'query': 'Los Angeles current weather forecast'}, 'id': 'tooluse_gvVJ9cgLQl-r10LAzl4GCQ'}], additional_kwargs={}, response_metadata={'ResponseMetadata': {'RequestId': 'd8241ba4-ccbb-40f5-9e29-a095ff1bac92', 'HTTPStatusCode': 200, 'HTTPHeaders': {'date': 'Thu, 10 Jul 2025 04:16:10 GMT', 'content-type': 'application/json', 'content-length': '434', 'connection': 'keep-alive', 'x-amzn-requestid': 'd8241ba4-ccbb-40f5-9e29-a095ff1bac92'}, 'RetryAttempts': 0}, 'stopReason': 'tool_use', 'metrics': {'latencyMs': [1261]}, 'model_name': 'us.anthropic.claude-3-5-haiku-20241022-v1:0'}, id='run--7fd0a8c9-6dac-4272-a811-f6dfd1d2cdaa-0', tool_calls=[{'name': 'tavily_search_results_json', 'args': {'query': 'Los Angeles current weather forecast'}, 'id': 'tooluse_gvVJ9cgLQl-r10LAzl4GCQ', 'type': 'tool_call'}], usage_metadata={'input_tokens': 501, 'output_tokens': 62, 'total_tokens': 563, 'input_token_details': {'cache_creation': 0, 'cache_read': 0}})]}\n",
      "()\n",
      "\n",
      " StateSnapshot(values={'messages': [HumanMessage(content='ロサンゼルスの天気はどうですか？', additional_kwargs={}, response_metadata={}, id='1b7c719f-b261-43ba-845b-9f684fb59722'), AIMessage(content=[{'type': 'tool_use', 'name': 'tavily_search_results_json', 'input': {'query': 'Los Angeles current weather forecast'}, 'id': 'tooluse_gvVJ9cgLQl-r10LAzl4GCQ'}], additional_kwargs={}, response_metadata={'ResponseMetadata': {'RequestId': 'd8241ba4-ccbb-40f5-9e29-a095ff1bac92', 'HTTPStatusCode': 200, 'HTTPHeaders': {'date': 'Thu, 10 Jul 2025 04:16:10 GMT', 'content-type': 'application/json', 'content-length': '434', 'connection': 'keep-alive', 'x-amzn-requestid': 'd8241ba4-ccbb-40f5-9e29-a095ff1bac92'}, 'RetryAttempts': 0}, 'stopReason': 'tool_use', 'metrics': {'latencyMs': [1261]}, 'model_name': 'us.anthropic.claude-3-5-haiku-20241022-v1:0'}, id='run--7fd0a8c9-6dac-4272-a811-f6dfd1d2cdaa-0', tool_calls=[{'name': 'tavily_search_results_json', 'args': {'query': 'Los Angeles current weather forecast'}, 'id': 'tooluse_gvVJ9cgLQl-r10LAzl4GCQ', 'type': 'tool_call'}], usage_metadata={'input_tokens': 501, 'output_tokens': 62, 'total_tokens': 563, 'input_token_details': {'cache_creation': 0, 'cache_read': 0}})]}, next=('action',), config={'configurable': {'thread_id': '2', 'checkpoint_ns': '', 'checkpoint_id': '1f05d449-bbef-6d40-8001-4b6e4c8e3d27'}}, metadata={'source': 'loop', 'step': 1, 'parents': {}, 'thread_id': '2'}, created_at='2025-07-10T04:16:10.062962+00:00', parent_config={'configurable': {'thread_id': '2', 'checkpoint_ns': '', 'checkpoint_id': '1f05d449-aef2-67a5-8000-49564d728f02'}}, tasks=(PregelTask(id='e4e34931-4d88-f813-1eec-7ee20c00c4fe', name='action', path=('__pregel_pull', 'action'), error=None, interrupts=(), state=None, result=None),), interrupts=()) \n",
      "\n"
     ]
    },
    {
     "data": {
      "application/vnd.jupyter.widget-view+json": {
       "model_id": "80a642b5dee8471c9d5b5cba999d271c",
       "version_major": 2,
       "version_minor": 0
      },
      "text/plain": [
       "Button(description='続行する', style=ButtonStyle())"
      ]
     },
     "metadata": {},
     "output_type": "display_data"
    },
    {
     "name": "stdout",
     "output_type": "stream",
     "text": [
      "Calling: {'name': 'tavily_search_results_json', 'args': {'query': 'Los Angeles current weather forecast'}, 'id': 'tooluse_gvVJ9cgLQl-r10LAzl4GCQ', 'type': 'tool_call'}\n",
      "Back to the model!\n",
      "{'messages': [ToolMessage(content=\"[{'title': 'Weather Forecast and Conditions for Los Angeles, CA', 'url': 'https://weather.com/weather/today/l/Los+Angeles+CA?canonicalCityId=7d3c65d8b80674fb48647ddbc936bb8b', 'content': 'Los Angeles, CA. As of 6:12 pm PDT. 77°. Sunny. Day 85° • Night 63°. Air Quality Alert. Weather Today in Los Angeles, CA. Feels Like77°. 5:49 am. 8:07 pm. High', 'score': 0.55420566}, {'title': 'Los Angeles weather in July 2025 | Weather25.com', 'url': 'https://www.weather25.com/north-america/usa/california/los-angeles?page=month&month=July', 'content': '| May | 25° / 15° | 0 | 31 | 0 | 4 mm | Perfect | Los Angeles in May |\\\\n| June | 27° / 17° | 0 | 30 | 0 | 1 mm | Perfect | Los Angeles in June |\\\\n| July | 30° / 20° | 0 | 31 | 0 | 5 mm | Good | Los Angeles in July |\\\\n| August | 31° / 21° | 0 | 31 | 0 | 3 mm | Good | Los Angeles in August |\\\\n| September | 31° / 21° | 0 | 30 | 0 | 4 mm | Good | Los Angeles in September |\\\\n| October | 27° / 18° | 1 | 30 | 0 | 10 mm | Perfect | Los Angeles in October | [...] | November | 24° / 14° | 1 | 29 | 0 | 22 mm | Perfect | Los Angeles in November |\\\\n| December | 19° / 11° | 3 | 28 | 0 | 66 mm | Good | Los Angeles in December | [...] | Month | Temperatures | Rainy Days | Dry Days | Snowy Days | Rainfall | Weather | More details |\\\\n| --- | --- | --- | --- | --- | --- | --- | --- |\\\\n| January | 21° / 11° | 3 | 28 | 0 | 58 mm | Good | Los Angeles in January |\\\\n| February | 20° / 11° | 2 | 27 | 0 | 56 mm | Good | Los Angeles in February |\\\\n| March | 22° / 12° | 2 | 29 | 0 | 34 mm | Good | Los Angeles in March |\\\\n| April | 24° / 13° | 1 | 29 | 0 | 18 mm | Perfect | Los Angeles in April |', 'score': 0.5005133}]\", name='tavily_search_results_json', id='a1f42d52-ed5a-4bb1-b463-57ffd37842ba', tool_call_id='tooluse_gvVJ9cgLQl-r10LAzl4GCQ')]}\n",
      "{'messages': [HumanMessage(content='ロサンゼルスの天気はどうですか？', additional_kwargs={}, response_metadata={}, id='1b7c719f-b261-43ba-845b-9f684fb59722'), AIMessage(content=[{'type': 'tool_use', 'name': 'tavily_search_results_json', 'input': {'query': 'Los Angeles current weather forecast'}, 'id': 'tooluse_gvVJ9cgLQl-r10LAzl4GCQ'}], additional_kwargs={}, response_metadata={'ResponseMetadata': {'RequestId': 'd8241ba4-ccbb-40f5-9e29-a095ff1bac92', 'HTTPStatusCode': 200, 'HTTPHeaders': {'date': 'Thu, 10 Jul 2025 04:16:10 GMT', 'content-type': 'application/json', 'content-length': '434', 'connection': 'keep-alive', 'x-amzn-requestid': 'd8241ba4-ccbb-40f5-9e29-a095ff1bac92'}, 'RetryAttempts': 0}, 'stopReason': 'tool_use', 'metrics': {'latencyMs': [1261]}, 'model_name': 'us.anthropic.claude-3-5-haiku-20241022-v1:0'}, id='run--7fd0a8c9-6dac-4272-a811-f6dfd1d2cdaa-0', tool_calls=[{'name': 'tavily_search_results_json', 'args': {'query': 'Los Angeles current weather forecast'}, 'id': 'tooluse_gvVJ9cgLQl-r10LAzl4GCQ', 'type': 'tool_call'}], usage_metadata={'input_tokens': 501, 'output_tokens': 62, 'total_tokens': 563, 'input_token_details': {'cache_creation': 0, 'cache_read': 0}}), ToolMessage(content=\"[{'title': 'Weather Forecast and Conditions for Los Angeles, CA', 'url': 'https://weather.com/weather/today/l/Los+Angeles+CA?canonicalCityId=7d3c65d8b80674fb48647ddbc936bb8b', 'content': 'Los Angeles, CA. As of 6:12 pm PDT. 77°. Sunny. Day 85° • Night 63°. Air Quality Alert. Weather Today in Los Angeles, CA. Feels Like77°. 5:49 am. 8:07 pm. High', 'score': 0.55420566}, {'title': 'Los Angeles weather in July 2025 | Weather25.com', 'url': 'https://www.weather25.com/north-america/usa/california/los-angeles?page=month&month=July', 'content': '| May | 25° / 15° | 0 | 31 | 0 | 4 mm | Perfect | Los Angeles in May |\\\\n| June | 27° / 17° | 0 | 30 | 0 | 1 mm | Perfect | Los Angeles in June |\\\\n| July | 30° / 20° | 0 | 31 | 0 | 5 mm | Good | Los Angeles in July |\\\\n| August | 31° / 21° | 0 | 31 | 0 | 3 mm | Good | Los Angeles in August |\\\\n| September | 31° / 21° | 0 | 30 | 0 | 4 mm | Good | Los Angeles in September |\\\\n| October | 27° / 18° | 1 | 30 | 0 | 10 mm | Perfect | Los Angeles in October | [...] | November | 24° / 14° | 1 | 29 | 0 | 22 mm | Perfect | Los Angeles in November |\\\\n| December | 19° / 11° | 3 | 28 | 0 | 66 mm | Good | Los Angeles in December | [...] | Month | Temperatures | Rainy Days | Dry Days | Snowy Days | Rainfall | Weather | More details |\\\\n| --- | --- | --- | --- | --- | --- | --- | --- |\\\\n| January | 21° / 11° | 3 | 28 | 0 | 58 mm | Good | Los Angeles in January |\\\\n| February | 20° / 11° | 2 | 27 | 0 | 56 mm | Good | Los Angeles in February |\\\\n| March | 22° / 12° | 2 | 29 | 0 | 34 mm | Good | Los Angeles in March |\\\\n| April | 24° / 13° | 1 | 29 | 0 | 18 mm | Perfect | Los Angeles in April |', 'score': 0.5005133}]\", name='tavily_search_results_json', id='a1f42d52-ed5a-4bb1-b463-57ffd37842ba', tool_call_id='tooluse_gvVJ9cgLQl-r10LAzl4GCQ'), AIMessage(content='現在のロサンゼルスの天気は晴れで、気温は77°F（約25°C）です。日中の最高気温は85°F（約29°C）で、夜間は63°F（約17°C）まで下がる予報です。空気質に関する注意報も出ています。日の出は午前5:49、日没は午後8:07となっています。とても快適な天気のようですね。', additional_kwargs={}, response_metadata={'ResponseMetadata': {'RequestId': 'e0a4aa69-2fe7-4cc2-b11e-c0a8d03e196c', 'HTTPStatusCode': 200, 'HTTPHeaders': {'date': 'Thu, 10 Jul 2025 04:16:25 GMT', 'content-type': 'application/json', 'content-length': '546', 'connection': 'keep-alive', 'x-amzn-requestid': 'e0a4aa69-2fe7-4cc2-b11e-c0a8d03e196c'}, 'RetryAttempts': 0}, 'stopReason': 'end_turn', 'metrics': {'latencyMs': [3861]}, 'model_name': 'us.anthropic.claude-3-5-haiku-20241022-v1:0'}, id='run--24e582c6-577d-41b2-b1b5-57929d9556a9-0', usage_metadata={'input_tokens': 1290, 'output_tokens': 126, 'total_tokens': 1416, 'input_token_details': {'cache_creation': 0, 'cache_read': 0}})]}\n",
      "{'messages': [AIMessage(content='現在のロサンゼルスの天気は晴れで、気温は77°F（約25°C）です。日中の最高気温は85°F（約29°C）で、夜間は63°F（約17°C）まで下がる予報です。空気質に関する注意報も出ています。日の出は午前5:49、日没は午後8:07となっています。とても快適な天気のようですね。', additional_kwargs={}, response_metadata={'ResponseMetadata': {'RequestId': 'e0a4aa69-2fe7-4cc2-b11e-c0a8d03e196c', 'HTTPStatusCode': 200, 'HTTPHeaders': {'date': 'Thu, 10 Jul 2025 04:16:25 GMT', 'content-type': 'application/json', 'content-length': '546', 'connection': 'keep-alive', 'x-amzn-requestid': 'e0a4aa69-2fe7-4cc2-b11e-c0a8d03e196c'}, 'RetryAttempts': 0}, 'stopReason': 'end_turn', 'metrics': {'latencyMs': [3861]}, 'model_name': 'us.anthropic.claude-3-5-haiku-20241022-v1:0'}, id='run--24e582c6-577d-41b2-b1b5-57929d9556a9-0', usage_metadata={'input_tokens': 1290, 'output_tokens': 126, 'total_tokens': 1416, 'input_token_details': {'cache_creation': 0, 'cache_read': 0}})]}\n"
     ]
    }
   ],
   "source": [
    "import ipywidgets as widgets\n",
    "from IPython.display import display\n",
    "\n",
    "# ロサンゼルスの天気について質問するメッセージを作成\n",
    "messages = [HumanMessage(\"ロサンゼルスの天気はどうですか？\")]\n",
    "\n",
    "# 新しいスレッドIDを設定\n",
    "thread = {\"configurable\": {\"thread_id\": \"2\"}}\n",
    "\n",
    "# 最初のイベントをストリーミング\n",
    "for event in abot.graph.stream({\"messages\": messages}, thread):\n",
    "    for v in event.values():\n",
    "        print(v)\n",
    "\n",
    "# 状態を確認\n",
    "if abot.graph.get_state(thread).next:\n",
    "    print(\"\\n\", abot.graph.get_state(thread), \"\\n\")\n",
    "    \n",
    "    # ボタンを使用して承認を得る\n",
    "    button = widgets.Button(description=\"続行する\")\n",
    "    display(button)\n",
    "    \n",
    "    def on_button_clicked(b):\n",
    "        # ボタンがクリックされたら残りのイベントをストリーミング\n",
    "        for event in abot.graph.stream(None, thread):\n",
    "            for v in event.values():\n",
    "                print(v)\n",
    "    \n",
    "    button.on_click(on_button_clicked)"
   ]
  },
  {
   "cell_type": "markdown",
   "id": "1789a791",
   "metadata": {},
   "source": [
    "次に実行されるノードは `('action',)` ノードです。覚えておいてください、私たちは `action` ノードの前に割り込みを設定してグラフをコンパイルしました。\n",
    "\n",
    "```python\n",
    "        self.graph = graph.compile(\n",
    "            checkpointer=checkpointer, interrupt_before=[\"action\"]\n",
    "        )\n",
    "```\n",
    "\n",
    "---\n"
   ]
  },
  {
   "cell_type": "markdown",
   "id": "587c5a21",
   "metadata": {},
   "source": [
    "非常に興味深いことの一つは、すべてのツールではなく、特定のツールセットを呼び出す際にのみ停止して人間の入力を求めることです。続きを読む前に、それがどのように実現できるかを考えてみてください。"
   ]
  },
  {
   "cell_type": "markdown",
   "id": "11891ceb",
   "metadata": {},
   "source": [
    "### 特定のツール呼び出しでのみ停止する\n",
    "\n",
    "1. ツール呼び出しを解析し、ツール呼び出しパラメータ `name`（ツール名）が停止パラメータと同じ場合にのみ実行を停止する。\n",
    "2. 停止が必要なすべてのツールを追加のノードに追加する。\n",
    "\n",
    "一般的に、オプション2の方がよりクリーンでデバッグしやすいです。これがより大きな例でどのように実装されているかを見たい場合は、LangGraphの例から[カスタマーサポートエージェント](https://langchain-ai.github.io/langgraph/tutorials/customer-support/customer-support/#part-3-conditional-interrupt)を参照して、機密性の高いツールがどのように処理されているかを確認してください。\n",
    "\n",
    "グラフのプレビューはこちらです：\n",
    "![機密ツールと安全なツールを持つカスタマーサポートエージェントのグラフ](../assets/lab5_2.png)"
   ]
  },
  {
   "cell_type": "markdown",
   "id": "7bbe5689-54ab-49ca-9055-6e5216abd523",
   "metadata": {},
   "source": [
    "## Modify State\n",
    "\n",
    "割り込みまでStateRunを変更し、その後状態を変更する。"
   ]
  },
  {
   "cell_type": "code",
   "execution_count": 15,
   "id": "98f303b1-a4d0-408c-8cc0-515ff980717f",
   "metadata": {
    "height": 98
   },
   "outputs": [
    {
     "name": "stdout",
     "output_type": "stream",
     "text": [
      "{'messages': [HumanMessage(content='ロサンゼルスの天気はどうですか?', additional_kwargs={}, response_metadata={}, id='780ff10b-94ab-405c-afc0-e0c305b8a1ed'), AIMessage(content=[{'type': 'tool_use', 'name': 'tavily_search_results_json', 'input': {'query': 'Los Angeles current weather forecast'}, 'id': 'tooluse_nG_gPPunQ3ytjw8C83zS_A'}], additional_kwargs={}, response_metadata={'ResponseMetadata': {'RequestId': 'b033167c-708f-4a8c-b92d-a644578cb5fb', 'HTTPStatusCode': 200, 'HTTPHeaders': {'date': 'Thu, 10 Jul 2025 04:17:48 GMT', 'content-type': 'application/json', 'content-length': '434', 'connection': 'keep-alive', 'x-amzn-requestid': 'b033167c-708f-4a8c-b92d-a644578cb5fb'}, 'RetryAttempts': 0}, 'stopReason': 'tool_use', 'metrics': {'latencyMs': [1213]}, 'model_name': 'us.anthropic.claude-3-5-haiku-20241022-v1:0'}, id='run--bea26819-7290-44d1-a6a2-dd50b42cac61-0', tool_calls=[{'name': 'tavily_search_results_json', 'args': {'query': 'Los Angeles current weather forecast'}, 'id': 'tooluse_nG_gPPunQ3ytjw8C83zS_A', 'type': 'tool_call'}], usage_metadata={'input_tokens': 501, 'output_tokens': 62, 'total_tokens': 563, 'input_token_details': {'cache_creation': 0, 'cache_read': 0}})]}\n",
      "{'messages': [AIMessage(content=[{'type': 'tool_use', 'name': 'tavily_search_results_json', 'input': {'query': 'Los Angeles current weather forecast'}, 'id': 'tooluse_nG_gPPunQ3ytjw8C83zS_A'}], additional_kwargs={}, response_metadata={'ResponseMetadata': {'RequestId': 'b033167c-708f-4a8c-b92d-a644578cb5fb', 'HTTPStatusCode': 200, 'HTTPHeaders': {'date': 'Thu, 10 Jul 2025 04:17:48 GMT', 'content-type': 'application/json', 'content-length': '434', 'connection': 'keep-alive', 'x-amzn-requestid': 'b033167c-708f-4a8c-b92d-a644578cb5fb'}, 'RetryAttempts': 0}, 'stopReason': 'tool_use', 'metrics': {'latencyMs': [1213]}, 'model_name': 'us.anthropic.claude-3-5-haiku-20241022-v1:0'}, id='run--bea26819-7290-44d1-a6a2-dd50b42cac61-0', tool_calls=[{'name': 'tavily_search_results_json', 'args': {'query': 'Los Angeles current weather forecast'}, 'id': 'tooluse_nG_gPPunQ3ytjw8C83zS_A', 'type': 'tool_call'}], usage_metadata={'input_tokens': 501, 'output_tokens': 62, 'total_tokens': 563, 'input_token_details': {'cache_creation': 0, 'cache_read': 0}})]}\n",
      "()\n"
     ]
    }
   ],
   "source": [
    "messages = [HumanMessage(\"ロサンゼルスの天気はどうですか?\")]\n",
    "thread = {\"configurable\": {\"thread_id\": \"3\"}}\n",
    "for event in abot.graph.stream({\"messages\": messages}, thread):\n",
    "    for v in event.values():\n",
    "        print(v)"
   ]
  },
  {
   "cell_type": "code",
   "execution_count": 16,
   "id": "bf4dcb93-6298-4cfd-b3ce-61dfac7fb35f",
   "metadata": {
    "height": 30
   },
   "outputs": [
    {
     "data": {
      "text/plain": [
       "StateSnapshot(values={'messages': [HumanMessage(content='ロサンゼルスの天気はどうですか?', additional_kwargs={}, response_metadata={}, id='780ff10b-94ab-405c-afc0-e0c305b8a1ed'), AIMessage(content=[{'type': 'tool_use', 'name': 'tavily_search_results_json', 'input': {'query': 'Los Angeles current weather forecast'}, 'id': 'tooluse_nG_gPPunQ3ytjw8C83zS_A'}], additional_kwargs={}, response_metadata={'ResponseMetadata': {'RequestId': 'b033167c-708f-4a8c-b92d-a644578cb5fb', 'HTTPStatusCode': 200, 'HTTPHeaders': {'date': 'Thu, 10 Jul 2025 04:17:48 GMT', 'content-type': 'application/json', 'content-length': '434', 'connection': 'keep-alive', 'x-amzn-requestid': 'b033167c-708f-4a8c-b92d-a644578cb5fb'}, 'RetryAttempts': 0}, 'stopReason': 'tool_use', 'metrics': {'latencyMs': [1213]}, 'model_name': 'us.anthropic.claude-3-5-haiku-20241022-v1:0'}, id='run--bea26819-7290-44d1-a6a2-dd50b42cac61-0', tool_calls=[{'name': 'tavily_search_results_json', 'args': {'query': 'Los Angeles current weather forecast'}, 'id': 'tooluse_nG_gPPunQ3ytjw8C83zS_A', 'type': 'tool_call'}], usage_metadata={'input_tokens': 501, 'output_tokens': 62, 'total_tokens': 563, 'input_token_details': {'cache_creation': 0, 'cache_read': 0}})]}, next=('action',), config={'configurable': {'thread_id': '3', 'checkpoint_ns': '', 'checkpoint_id': '1f05d44d-653f-6559-8001-a5e9de519f59'}}, metadata={'source': 'loop', 'step': 1, 'parents': {}, 'thread_id': '3'}, created_at='2025-07-10T04:17:48.347102+00:00', parent_config={'configurable': {'thread_id': '3', 'checkpoint_ns': '', 'checkpoint_id': '1f05d44d-5999-6513-8000-bacfb602aef3'}}, tasks=(PregelTask(id='498d77cc-d1c3-dc5e-e47c-43bb325004bb', name='action', path=('__pregel_pull', 'action'), error=None, interrupts=(), state=None, result=None),), interrupts=())"
      ]
     },
     "execution_count": 16,
     "metadata": {},
     "output_type": "execute_result"
    }
   ],
   "source": [
    "abot.graph.get_state(thread)"
   ]
  },
  {
   "cell_type": "code",
   "execution_count": 17,
   "id": "932883a4-c722-42bb-aec0-b4f41c5c81a4",
   "metadata": {
    "height": 30
   },
   "outputs": [],
   "source": [
    "current_values = abot.graph.get_state(thread)"
   ]
  },
  {
   "cell_type": "code",
   "execution_count": 18,
   "id": "ff362f49-dcf1-4ea1-a86c-e516e9ab897d",
   "metadata": {
    "height": 30
   },
   "outputs": [
    {
     "data": {
      "text/plain": [
       "AIMessage(content=[{'type': 'tool_use', 'name': 'tavily_search_results_json', 'input': {'query': 'Los Angeles current weather forecast'}, 'id': 'tooluse_nG_gPPunQ3ytjw8C83zS_A'}], additional_kwargs={}, response_metadata={'ResponseMetadata': {'RequestId': 'b033167c-708f-4a8c-b92d-a644578cb5fb', 'HTTPStatusCode': 200, 'HTTPHeaders': {'date': 'Thu, 10 Jul 2025 04:17:48 GMT', 'content-type': 'application/json', 'content-length': '434', 'connection': 'keep-alive', 'x-amzn-requestid': 'b033167c-708f-4a8c-b92d-a644578cb5fb'}, 'RetryAttempts': 0}, 'stopReason': 'tool_use', 'metrics': {'latencyMs': [1213]}, 'model_name': 'us.anthropic.claude-3-5-haiku-20241022-v1:0'}, id='run--bea26819-7290-44d1-a6a2-dd50b42cac61-0', tool_calls=[{'name': 'tavily_search_results_json', 'args': {'query': 'Los Angeles current weather forecast'}, 'id': 'tooluse_nG_gPPunQ3ytjw8C83zS_A', 'type': 'tool_call'}], usage_metadata={'input_tokens': 501, 'output_tokens': 62, 'total_tokens': 563, 'input_token_details': {'cache_creation': 0, 'cache_read': 0}})"
      ]
     },
     "execution_count": 18,
     "metadata": {},
     "output_type": "execute_result"
    }
   ],
   "source": [
    "current_values.values[\"messages\"][-1]"
   ]
  },
  {
   "cell_type": "code",
   "execution_count": 19,
   "id": "a7e15a20-83d7-434c-8551-bce8dcc32be0",
   "metadata": {
    "height": 30
   },
   "outputs": [
    {
     "data": {
      "text/plain": [
       "[{'name': 'tavily_search_results_json',\n",
       "  'args': {'query': 'Los Angeles current weather forecast'},\n",
       "  'id': 'tooluse_nG_gPPunQ3ytjw8C83zS_A',\n",
       "  'type': 'tool_call'}]"
      ]
     },
     "execution_count": 19,
     "metadata": {},
     "output_type": "execute_result"
    }
   ],
   "source": [
    "current_values.values[\"messages\"][-1].tool_calls"
   ]
  },
  {
   "cell_type": "code",
   "execution_count": null,
   "id": "54ab2c74-f32e-490c-a85d-932d11444210",
   "metadata": {
    "height": 115
   },
   "outputs": [],
   "source": [
    "# このコードは、エージェントの状態（この場合は検索クエリ）を変更する方法を示しています。\n",
    "_id = current_values.values[\"messages\"][-1].tool_calls[0][\"id\"]\n",
    "current_values.values[\"messages\"][-1].tool_calls = [\n",
    "    {\n",
    "        \"name\": \"tavily_search_results_json\",\n",
    "        \"args\": {\"query\": \"東京の現在の天気は\"},\n",
    "        \"id\": _id,\n",
    "    }\n",
    "]"
   ]
  },
  {
   "cell_type": "code",
   "execution_count": 23,
   "id": "a833d3ce-bd31-4319-811d-decff226b970",
   "metadata": {
    "height": 30
   },
   "outputs": [
    {
     "name": "stdout",
     "output_type": "stream",
     "text": [
      "{'messages': [HumanMessage(content='ロサンゼルスの天気はどうですか?', additional_kwargs={}, response_metadata={}, id='780ff10b-94ab-405c-afc0-e0c305b8a1ed'), AIMessage(content=[{'type': 'tool_use', 'name': 'tavily_search_results_json', 'input': {'query': 'Los Angeles current weather forecast'}, 'id': 'tooluse_nG_gPPunQ3ytjw8C83zS_A'}], additional_kwargs={}, response_metadata={'ResponseMetadata': {'RequestId': 'b033167c-708f-4a8c-b92d-a644578cb5fb', 'HTTPStatusCode': 200, 'HTTPHeaders': {'date': 'Thu, 10 Jul 2025 04:17:48 GMT', 'content-type': 'application/json', 'content-length': '434', 'connection': 'keep-alive', 'x-amzn-requestid': 'b033167c-708f-4a8c-b92d-a644578cb5fb'}, 'RetryAttempts': 0}, 'stopReason': 'tool_use', 'metrics': {'latencyMs': [1213]}, 'model_name': 'us.anthropic.claude-3-5-haiku-20241022-v1:0'}, id='run--bea26819-7290-44d1-a6a2-dd50b42cac61-0', tool_calls=[{'name': 'tavily_search_results_json', 'args': {'query': '東京の現在の天気は'}, 'id': 'tooluse_nG_gPPunQ3ytjw8C83zS_A'}], usage_metadata={'input_tokens': 501, 'output_tokens': 62, 'total_tokens': 563, 'input_token_details': {'cache_creation': 0, 'cache_read': 0}})]}\n"
     ]
    },
    {
     "data": {
      "text/plain": [
       "{'configurable': {'thread_id': '3',\n",
       "  'checkpoint_ns': '',\n",
       "  'checkpoint_id': '1f05d451-de1b-6cd2-8003-e42deaccce59'}}"
      ]
     },
     "execution_count": 23,
     "metadata": {},
     "output_type": "execute_result"
    }
   ],
   "source": [
    "abot.graph.update_state(thread, current_values.values)"
   ]
  },
  {
   "cell_type": "code",
   "execution_count": 24,
   "id": "76e93cce-6eab-4c7c-ac64-e9993fdb30d6",
   "metadata": {
    "height": 30
   },
   "outputs": [
    {
     "data": {
      "text/plain": [
       "StateSnapshot(values={'messages': [HumanMessage(content='ロサンゼルスの天気はどうですか?', additional_kwargs={}, response_metadata={}, id='780ff10b-94ab-405c-afc0-e0c305b8a1ed'), AIMessage(content=[{'type': 'tool_use', 'name': 'tavily_search_results_json', 'input': {'query': 'Los Angeles current weather forecast'}, 'id': 'tooluse_nG_gPPunQ3ytjw8C83zS_A'}], additional_kwargs={}, response_metadata={'ResponseMetadata': {'RequestId': 'b033167c-708f-4a8c-b92d-a644578cb5fb', 'HTTPStatusCode': 200, 'HTTPHeaders': {'date': 'Thu, 10 Jul 2025 04:17:48 GMT', 'content-type': 'application/json', 'content-length': '434', 'connection': 'keep-alive', 'x-amzn-requestid': 'b033167c-708f-4a8c-b92d-a644578cb5fb'}, 'RetryAttempts': 0}, 'stopReason': 'tool_use', 'metrics': {'latencyMs': [1213]}, 'model_name': 'us.anthropic.claude-3-5-haiku-20241022-v1:0'}, id='run--bea26819-7290-44d1-a6a2-dd50b42cac61-0', tool_calls=[{'name': 'tavily_search_results_json', 'args': {'query': '東京の現在の天気は'}, 'id': 'tooluse_nG_gPPunQ3ytjw8C83zS_A', 'type': 'tool_call'}], usage_metadata={'input_tokens': 501, 'output_tokens': 62, 'total_tokens': 563, 'input_token_details': {'cache_creation': 0, 'cache_read': 0}})]}, next=('action',), config={'configurable': {'thread_id': '3', 'checkpoint_ns': '', 'checkpoint_id': '1f05d451-de1b-6cd2-8003-e42deaccce59'}}, metadata={'source': 'update', 'step': 3, 'parents': {}, 'thread_id': '3'}, created_at='2025-07-10T04:19:48.394504+00:00', parent_config={'configurable': {'thread_id': '3', 'checkpoint_ns': '', 'checkpoint_id': '1f05d44f-6287-6551-8002-546d7d5dab9c'}}, tasks=(PregelTask(id='9a43d059-9b75-1492-f984-398e2fea7451', name='action', path=('__pregel_pull', 'action'), error=None, interrupts=(), state=None, result=None),), interrupts=())"
      ]
     },
     "execution_count": 24,
     "metadata": {},
     "output_type": "execute_result"
    }
   ],
   "source": [
    "abot.graph.get_state(thread)"
   ]
  },
  {
   "cell_type": "code",
   "execution_count": 25,
   "id": "fd2d0990-a932-423f-9ff3-5cada58c5f32",
   "metadata": {
    "height": 64
   },
   "outputs": [
    {
     "name": "stdout",
     "output_type": "stream",
     "text": [
      "Calling: {'name': 'tavily_search_results_json', 'args': {'query': '東京の現在の天気は'}, 'id': 'tooluse_nG_gPPunQ3ytjw8C83zS_A', 'type': 'tool_call'}\n"
     ]
    },
    {
     "name": "stdout",
     "output_type": "stream",
     "text": [
      "Back to the model!\n",
      "{'messages': [ToolMessage(content=\"[{'title': '今日・明日と14日間(2週間)の1時間ごとの天気予報 - Toshin.com - 東進', 'url': 'https://www.toshin.com/weather/detail?id=66124', 'content': '- 東進ビジネススクール  \\\\n  大学生向け東進学力POS\\\\n\\\\n- 社会人対象\\\\n\\\\n- 東進ビジネススクール  \\\\n  社会人向け東進学力POS\\\\n\\\\nマイページ\\\\n\\\\n資料請求\\\\n\\\\n入学受付\\\\n\\\\n全国学校のお天気\\\\n\\\\n新規会員登録 ログイン 天気メールを設定する\\\\n\\\\n \\\\n\\\\nHome   >  東京都   >  千代田区   >  東京   >  14日間(2週間)の1時間ごとの天気予報\\\\n\\\\n   \\\\n\\\\n雨雲レーダー\\\\n\\\\n \\\\n\\\\n# 東京の天気\\\\n\\\\n6月5日 13:00発表\\\\n\\\\nリロードすると1時間ごとに更新されます。\\\\n\\\\n今日\\\\n\\\\n2025年\\\\n\\\\n6月5日(木)\\\\n\\\\n晴れ\\\\n\\\\n28℃/19℃\\\\n\\\\n降水確率\\\\n\\\\n0%\\\\n\\\\n明日\\\\n\\\\n2025年\\\\n\\\\n6月6日(金)\\\\n\\\\n晴れ\\\\n\\\\n28℃/18℃\\\\n\\\\n降水確率\\\\n\\\\n0%\\\\n\\\\n明日\\\\n\\\\n2025年\\\\n\\\\n6月6日(金)\\\\n\\\\n晴れ\\\\n\\\\n28℃/18℃\\\\n\\\\n降水確率\\\\n\\\\n0%\\\\n\\\\n2025年\\\\n\\\\n6月7日(土)\\\\n\\\\n晴れ時々曇\\\\n\\\\n26℃/19℃\\\\n\\\\n降水確率\\\\n\\\\n20%\\\\n\\\\n2025年\\\\n\\\\n6月7日(土)\\\\n\\\\n晴れ時々曇\\\\n\\\\n26℃/19℃\\\\n\\\\n降水確率\\\\n\\\\n20%\\\\n\\\\n2025年\\\\n\\\\n6月8日(日)\\\\n\\\\n時々曇り\\\\n\\\\n29℃/21℃\\\\n\\\\n降水確率 [...] 最低\\\\n\\\\n21℃\\\\n\\\\n降水量\\\\n\\\\n0.0mm\\\\n\\\\n湿度\\\\n\\\\n73%\\\\n\\\\n風速\\\\n\\\\n3m/s\\\\n\\\\n風向\\\\n\\\\n南\\\\n\\\\n最高\\\\n\\\\n28℃\\\\n\\\\n最低\\\\n\\\\n21℃\\\\n\\\\n降水量\\\\n\\\\n0.0mm\\\\n\\\\n湿度\\\\n\\\\n35%\\\\n\\\\n風速\\\\n\\\\n10m/s\\\\n\\\\n風向\\\\n\\\\n北西\\\\n\\\\n最高\\\\n\\\\n31℃\\\\n\\\\n最低\\\\n\\\\n25℃\\\\n\\\\n降水量\\\\n\\\\n0.0mm\\\\n\\\\n湿度\\\\n\\\\n43%\\\\n\\\\n風速\\\\n\\\\n7m/s\\\\n\\\\n風向\\\\n\\\\n南\\\\n\\\\n最高\\\\n\\\\n30℃\\\\n\\\\n最低\\\\n\\\\n24℃\\\\n\\\\n降水量\\\\n\\\\n0.0mm\\\\n\\\\n湿度\\\\n\\\\n44%\\\\n\\\\n風速\\\\n\\\\n5m/s\\\\n\\\\n風向\\\\n\\\\n東\\\\n\\\\n最高\\\\n\\\\n30℃\\\\n\\\\n最低\\\\n\\\\n24℃\\\\n\\\\n降水量\\\\n\\\\n0.0mm\\\\n\\\\n湿度\\\\n\\\\n85%\\\\n\\\\n風速\\\\n\\\\n5m/s\\\\n\\\\n風向\\\\n\\\\n北東\\\\n\\\\n最高\\\\n\\\\n21℃\\\\n\\\\n最低\\\\n\\\\n20℃\\\\n\\\\n天気アイコンの意味について\\\\n\\\\n# 東京の 雨雲レーダー\\\\n\\\\nクリックすると拡大します\\\\n\\\\n \\\\n\\\\n[Leaflet | 地理院タイル](/weather/rader?lat=35.678937777778&lng=139.76812194444)\\\\n\\\\n自宅の天気をピンポイントに登録する\\\\n\\\\n建物単位まで天気をピンポイント検索!\\\\n\\\\nピンポイント天気予報検索\\\\n\\\\n付近のGPS情報から検索\\\\n\\\\n現在地から付近の天気を検索 [...] | 曇り | 曇り | 曇り | にわか雨 | おおむね曇り | おおむね曇り | おおむね曇り | おおむね曇り | 曇り | おおむね曇り | おおむね曇り | おおむね曇り | おおむね曇り | 曇り | 曇り | 曇り | 雷雨 | 曇り | 曇り | 曇り | 曇り | 曇り | 曇り | 曇り |\\\\n| 21 | 21 | 21 | 21 | 20 | 20 | 21 | 22 | 23 | 24 | 24 | 25 | 26 | 26 | 27 | 28 | 27 | 26 | 25 | 24 | 24 | 24 | 23 | 23 |\\\\n| 0.0 | 0.0 | 0.9 | 2.8 | 0.0 | 0.0 | 0.0 | 0.0 | 0.8 | 0.0 | 0.0 | 0.0 | 0.0 | 0.0 | 0.0 | 0.5 | 1.1 | 0.5 | 0.0 | 0.0 | 0.5 | 0.4 | 0.0 | 0.1 |', 'score': 0.72184175}, {'title': '東京の天気予報 - ウェザーニュース', 'url': 'https://weathernews.jp/onebox/tenki/tokyo/', 'content': 'ã\\\\x82¦ã\\\\x82§ã\\\\x82¶ã\\\\x83¼ã\\\\x83\\\\x8bã\\\\x83¥ã\\\\x83¼ã\\\\x82¹\\\\nã\\\\x82¦ã\\\\x82§ã\\\\x82¶ã\\\\x83¼ã\\\\x83\\\\x8bã\\\\x83¥ã\\\\x83¼ã\\\\x82¹\\\\n\\\\n{{item.cityname}}\\\\n\\\\n{{item.high}}\\\\n/\\\\n{{item.low}}\\\\n\\\\nå¤©æ°\\\\x97äº\\\\x88å ±ã\\\\x82\\\\x92æ¤\\\\x9cç´¢\\\\n\\\\nå¤©æ°\\\\x97ã\\\\x83¡ã\\\\x83\\\\x8bã\\\\x83¥ã\\\\x83¼\\\\n\\\\né\\\\x98²ç\\\\x81½ã\\\\x83»æ¸\\\\x9bç\\\\x81½ã\\\\x83¡ã\\\\x83\\\\x8bã\\\\x83¥ã\\\\x83¼\\\\n\\\\nè\\\\x87ªç\\\\x84¶ã\\\\x83»å\\\\xad£ç¯\\\\x80ã\\\\x83»ã\\\\x83¬ã\\\\x82¸ã\\\\x83£ã\\\\x83¼æ\\\\x83\\\\x85å ±\\\\n\\\\nä¾¿å\\\\x88©ã\\\\x81ªã\\\\x83¡ã\\\\x83\\\\x8bã\\\\x83¥ã\\\\x83¼\\\\n\\\\né\\\\x9b¨é\\\\x9b²ã\\\\x83¬ã\\\\x83¼ã\\\\x83\\\\x80ã\\\\x83¼\\\\n\\\\n2é\\\\x80±é\\\\x96\\\\x93å¤©æ°\\\\x97\\\\n\\\\næ¢\\\\x85é\\\\x9b¨æ\\\\x83\\\\x85å ±\\\\n\\\\nè\\\\x8a±ç²\\\\x89é£\\\\x9bæ\\\\x95£æ\\\\x83\\\\x85å ±\\\\n\\\\nã\\\\x83©ã\\\\x82¤ã\\\\x83\\\\x96ã\\\\x82«ã\\\\x83¡ã\\\\x83©\\\\n\\\\nå\\\\x9c°é\\\\x9c\\\\x87æ\\\\x83\\\\x85å ±\\\\n\\\\nä¸\\\\x96ç\\\\x95\\\\x8cå¤©æ°\\\\x97\\\\n\\\\nã\\\\x82´ã\\\\x83«ã\\\\x83\\\\x95å ´ã\\\\x81®å¤©æ°\\\\x97\\\\n\\\\nã\\\\x82¢ã\\\\x83¡ã\\\\x83\\\\x80ã\\\\x82¹\\\\n\\\\nè\\\\xad¦å ±ã\\\\x83»æ³¨æ\\\\x84\\\\x8få ±\\\\n\\\\né\\\\x9b·ã\\\\x83¬ã\\\\x83¼ã\\\\x83\\\\x80ã\\\\x83¼\\\\n\\\\nå\\\\x8f°é¢¨æ\\\\x83\\\\x85å ±\\\\n\\\\nã\\\\x81\\\\x8aå¤©æ°\\\\x97ã\\\\x83\\\\x8bã\\\\x83¥ã\\\\x83¼ã\\\\x82¹\\\\n\\\\nã\\\\x82¦ã\\\\x82§ã\\\\x82¶ã\\\\x83¼ã\\\\x83ªã\\\\x83\\\\x9dã\\\\x83¼ã\\\\x83\\\\x88\\\\n\\\\nå¤©æ°\\\\x97TOP [...] 2é\\\\x80±é\\\\x96\\\\x93å¤©æ°\\\\x97\\\\n\\\\nä¸\\\\x96ç\\\\x95\\\\x8cå¤©æ°\\\\x97\\\\n\\\\né\\\\x9b¨é\\\\x9b²ã\\\\x83¬ã\\\\x83¼ã\\\\x83\\\\x80ã\\\\x83¼\\\\n\\\\né\\\\x9b·ã\\\\x83¬ã\\\\x83¼ã\\\\x83\\\\x80ã\\\\x83¼\\\\n\\\\nå¤©æ°\\\\x97å\\\\x9b³\\\\n\\\\nã\\\\x82¢ã\\\\x83¡ã\\\\x83\\\\x80ã\\\\x82¹\\\\n\\\\nå¯\\\\x92æ°\\\\x97ã\\\\x83»æ\\\\x9a\\\\x96æ°\\\\x97äº\\\\x88æ\\\\x83³\\\\n\\\\né\\\\x9b²é\\\\x87\\\\x8fäº\\\\x88æ\\\\x83³\\\\n\\\\nç\\\\x99ºé\\\\x9b·ç¢ºç\\\\x8e\\\\x87\\\\n\\\\nã\\\\x82²ã\\\\x83ªã\\\\x83©é\\\\x9b·é\\\\x9b¨ã\\\\x83¬ã\\\\x83¼ã\\\\x83\\\\x80ã\\\\x83¼\\\\n\\\\nè¡\\\\x9bæ\\\\x98\\\\x9fç\\\\x94»å\\\\x83\\\\x8f\\\\n\\\\né\\\\x95·æ\\\\x9c\\\\x9fäº\\\\x88å ±\\\\n\\\\nã\\\\x81\\\\x8aå¤©æ°\\\\x97ã\\\\x83\\\\x8bã\\\\x83¥ã\\\\x83¼ã\\\\x82¹\\\\n\\\\nã\\\\x82¦ã\\\\x82§ã\\\\x82¶ã\\\\x83¼ã\\\\x83ªã\\\\x83\\\\x9dã\\\\x83¼ã\\\\x83\\\\x88\\\\n\\\\nã\\\\x82¦ã\\\\x82§ã\\\\x82¶ã\\\\x83¼ã\\\\x83\\\\x8bã\\\\x83¥ã\\\\x83¼ã\\\\x82¹LiVE\\\\n\\\\nã\\\\x83©ã\\\\x82¤ã\\\\x83\\\\x96ã\\\\x82«ã\\\\x83¡ã\\\\x83©\\\\n\\\\né»\\\\x84ç \\\\x82ã\\\\x83¬ã\\\\x83¼ã\\\\x83\\\\x80ã\\\\x83¼\\\\n\\\\nè\\\\xad¦å ±ã\\\\x83»æ³¨æ\\\\x84\\\\x8få ±\\\\n\\\\nå\\\\x8f°é¢¨æ\\\\x83\\\\x85å ±\\\\n\\\\nå\\\\x9c°é\\\\x9c\\\\x87æ\\\\x83\\\\x85å ±\\\\n\\\\næ´¥æ³¢æ\\\\x83\\\\x85å ±\\\\n\\\\nç\\\\x81«å±±æ\\\\x83\\\\x85å ±\\\\n\\\\næ¸\\\\x9bç\\\\x81½æ\\\\x83\\\\x85å ±\\\\n\\\\né\\\\x81¿é\\\\x9b£æ\\\\x83\\\\x85å ±\\\\n\\\\né\\\\x98²ç\\\\x81½æ¸\\\\x9bç\\\\x81½ã\\\\x83\\\\x8fã\\\\x83³ã\\\\x83\\\\x89ã\\\\x83\\\\x96ã\\\\x83\\\\x83ã\\\\x82¯\\\\n\\\\nã\\\\x81\\\\x95ã\\\\x81\\\\x8fã\\\\x82\\\\x89é\\\\x96\\\\x8bè\\\\x8a±æ\\\\x83\\\\x85å ±\\\\n\\\\nã\\\\x82´ã\\\\x83«ã\\\\x83\\\\x95å ´ã\\\\x81®å¤©æ°\\\\x97', 'score': 0.6617704}]\", name='tavily_search_results_json', id='b3d88013-919b-413b-b531-16a31cce032e', tool_call_id='tooluse_nG_gPPunQ3ytjw8C83zS_A')]}\n",
      "{'messages': [HumanMessage(content='ロサンゼルスの天気はどうですか?', additional_kwargs={}, response_metadata={}, id='780ff10b-94ab-405c-afc0-e0c305b8a1ed'), AIMessage(content=[{'type': 'tool_use', 'name': 'tavily_search_results_json', 'input': {'query': 'Los Angeles current weather forecast'}, 'id': 'tooluse_nG_gPPunQ3ytjw8C83zS_A'}], additional_kwargs={}, response_metadata={'ResponseMetadata': {'RequestId': 'b033167c-708f-4a8c-b92d-a644578cb5fb', 'HTTPStatusCode': 200, 'HTTPHeaders': {'date': 'Thu, 10 Jul 2025 04:17:48 GMT', 'content-type': 'application/json', 'content-length': '434', 'connection': 'keep-alive', 'x-amzn-requestid': 'b033167c-708f-4a8c-b92d-a644578cb5fb'}, 'RetryAttempts': 0}, 'stopReason': 'tool_use', 'metrics': {'latencyMs': [1213]}, 'model_name': 'us.anthropic.claude-3-5-haiku-20241022-v1:0'}, id='run--bea26819-7290-44d1-a6a2-dd50b42cac61-0', tool_calls=[{'name': 'tavily_search_results_json', 'args': {'query': '東京の現在の天気は'}, 'id': 'tooluse_nG_gPPunQ3ytjw8C83zS_A', 'type': 'tool_call'}], usage_metadata={'input_tokens': 501, 'output_tokens': 62, 'total_tokens': 563, 'input_token_details': {'cache_creation': 0, 'cache_read': 0}}), ToolMessage(content=\"[{'title': '今日・明日と14日間(2週間)の1時間ごとの天気予報 - Toshin.com - 東進', 'url': 'https://www.toshin.com/weather/detail?id=66124', 'content': '- 東進ビジネススクール  \\\\n  大学生向け東進学力POS\\\\n\\\\n- 社会人対象\\\\n\\\\n- 東進ビジネススクール  \\\\n  社会人向け東進学力POS\\\\n\\\\nマイページ\\\\n\\\\n資料請求\\\\n\\\\n入学受付\\\\n\\\\n全国学校のお天気\\\\n\\\\n新規会員登録 ログイン 天気メールを設定する\\\\n\\\\n \\\\n\\\\nHome   >  東京都   >  千代田区   >  東京   >  14日間(2週間)の1時間ごとの天気予報\\\\n\\\\n   \\\\n\\\\n雨雲レーダー\\\\n\\\\n \\\\n\\\\n# 東京の天気\\\\n\\\\n6月5日 13:00発表\\\\n\\\\nリロードすると1時間ごとに更新されます。\\\\n\\\\n今日\\\\n\\\\n2025年\\\\n\\\\n6月5日(木)\\\\n\\\\n晴れ\\\\n\\\\n28℃/19℃\\\\n\\\\n降水確率\\\\n\\\\n0%\\\\n\\\\n明日\\\\n\\\\n2025年\\\\n\\\\n6月6日(金)\\\\n\\\\n晴れ\\\\n\\\\n28℃/18℃\\\\n\\\\n降水確率\\\\n\\\\n0%\\\\n\\\\n明日\\\\n\\\\n2025年\\\\n\\\\n6月6日(金)\\\\n\\\\n晴れ\\\\n\\\\n28℃/18℃\\\\n\\\\n降水確率\\\\n\\\\n0%\\\\n\\\\n2025年\\\\n\\\\n6月7日(土)\\\\n\\\\n晴れ時々曇\\\\n\\\\n26℃/19℃\\\\n\\\\n降水確率\\\\n\\\\n20%\\\\n\\\\n2025年\\\\n\\\\n6月7日(土)\\\\n\\\\n晴れ時々曇\\\\n\\\\n26℃/19℃\\\\n\\\\n降水確率\\\\n\\\\n20%\\\\n\\\\n2025年\\\\n\\\\n6月8日(日)\\\\n\\\\n時々曇り\\\\n\\\\n29℃/21℃\\\\n\\\\n降水確率 [...] 最低\\\\n\\\\n21℃\\\\n\\\\n降水量\\\\n\\\\n0.0mm\\\\n\\\\n湿度\\\\n\\\\n73%\\\\n\\\\n風速\\\\n\\\\n3m/s\\\\n\\\\n風向\\\\n\\\\n南\\\\n\\\\n最高\\\\n\\\\n28℃\\\\n\\\\n最低\\\\n\\\\n21℃\\\\n\\\\n降水量\\\\n\\\\n0.0mm\\\\n\\\\n湿度\\\\n\\\\n35%\\\\n\\\\n風速\\\\n\\\\n10m/s\\\\n\\\\n風向\\\\n\\\\n北西\\\\n\\\\n最高\\\\n\\\\n31℃\\\\n\\\\n最低\\\\n\\\\n25℃\\\\n\\\\n降水量\\\\n\\\\n0.0mm\\\\n\\\\n湿度\\\\n\\\\n43%\\\\n\\\\n風速\\\\n\\\\n7m/s\\\\n\\\\n風向\\\\n\\\\n南\\\\n\\\\n最高\\\\n\\\\n30℃\\\\n\\\\n最低\\\\n\\\\n24℃\\\\n\\\\n降水量\\\\n\\\\n0.0mm\\\\n\\\\n湿度\\\\n\\\\n44%\\\\n\\\\n風速\\\\n\\\\n5m/s\\\\n\\\\n風向\\\\n\\\\n東\\\\n\\\\n最高\\\\n\\\\n30℃\\\\n\\\\n最低\\\\n\\\\n24℃\\\\n\\\\n降水量\\\\n\\\\n0.0mm\\\\n\\\\n湿度\\\\n\\\\n85%\\\\n\\\\n風速\\\\n\\\\n5m/s\\\\n\\\\n風向\\\\n\\\\n北東\\\\n\\\\n最高\\\\n\\\\n21℃\\\\n\\\\n最低\\\\n\\\\n20℃\\\\n\\\\n天気アイコンの意味について\\\\n\\\\n# 東京の 雨雲レーダー\\\\n\\\\nクリックすると拡大します\\\\n\\\\n \\\\n\\\\n[Leaflet | 地理院タイル](/weather/rader?lat=35.678937777778&lng=139.76812194444)\\\\n\\\\n自宅の天気をピンポイントに登録する\\\\n\\\\n建物単位まで天気をピンポイント検索!\\\\n\\\\nピンポイント天気予報検索\\\\n\\\\n付近のGPS情報から検索\\\\n\\\\n現在地から付近の天気を検索 [...] | 曇り | 曇り | 曇り | にわか雨 | おおむね曇り | おおむね曇り | おおむね曇り | おおむね曇り | 曇り | おおむね曇り | おおむね曇り | おおむね曇り | おおむね曇り | 曇り | 曇り | 曇り | 雷雨 | 曇り | 曇り | 曇り | 曇り | 曇り | 曇り | 曇り |\\\\n| 21 | 21 | 21 | 21 | 20 | 20 | 21 | 22 | 23 | 24 | 24 | 25 | 26 | 26 | 27 | 28 | 27 | 26 | 25 | 24 | 24 | 24 | 23 | 23 |\\\\n| 0.0 | 0.0 | 0.9 | 2.8 | 0.0 | 0.0 | 0.0 | 0.0 | 0.8 | 0.0 | 0.0 | 0.0 | 0.0 | 0.0 | 0.0 | 0.5 | 1.1 | 0.5 | 0.0 | 0.0 | 0.5 | 0.4 | 0.0 | 0.1 |', 'score': 0.72184175}, {'title': '東京の天気予報 - ウェザーニュース', 'url': 'https://weathernews.jp/onebox/tenki/tokyo/', 'content': 'ã\\\\x82¦ã\\\\x82§ã\\\\x82¶ã\\\\x83¼ã\\\\x83\\\\x8bã\\\\x83¥ã\\\\x83¼ã\\\\x82¹\\\\nã\\\\x82¦ã\\\\x82§ã\\\\x82¶ã\\\\x83¼ã\\\\x83\\\\x8bã\\\\x83¥ã\\\\x83¼ã\\\\x82¹\\\\n\\\\n{{item.cityname}}\\\\n\\\\n{{item.high}}\\\\n/\\\\n{{item.low}}\\\\n\\\\nå¤©æ°\\\\x97äº\\\\x88å ±ã\\\\x82\\\\x92æ¤\\\\x9cç´¢\\\\n\\\\nå¤©æ°\\\\x97ã\\\\x83¡ã\\\\x83\\\\x8bã\\\\x83¥ã\\\\x83¼\\\\n\\\\né\\\\x98²ç\\\\x81½ã\\\\x83»æ¸\\\\x9bç\\\\x81½ã\\\\x83¡ã\\\\x83\\\\x8bã\\\\x83¥ã\\\\x83¼\\\\n\\\\nè\\\\x87ªç\\\\x84¶ã\\\\x83»å\\\\xad£ç¯\\\\x80ã\\\\x83»ã\\\\x83¬ã\\\\x82¸ã\\\\x83£ã\\\\x83¼æ\\\\x83\\\\x85å ±\\\\n\\\\nä¾¿å\\\\x88©ã\\\\x81ªã\\\\x83¡ã\\\\x83\\\\x8bã\\\\x83¥ã\\\\x83¼\\\\n\\\\né\\\\x9b¨é\\\\x9b²ã\\\\x83¬ã\\\\x83¼ã\\\\x83\\\\x80ã\\\\x83¼\\\\n\\\\n2é\\\\x80±é\\\\x96\\\\x93å¤©æ°\\\\x97\\\\n\\\\næ¢\\\\x85é\\\\x9b¨æ\\\\x83\\\\x85å ±\\\\n\\\\nè\\\\x8a±ç²\\\\x89é£\\\\x9bæ\\\\x95£æ\\\\x83\\\\x85å ±\\\\n\\\\nã\\\\x83©ã\\\\x82¤ã\\\\x83\\\\x96ã\\\\x82«ã\\\\x83¡ã\\\\x83©\\\\n\\\\nå\\\\x9c°é\\\\x9c\\\\x87æ\\\\x83\\\\x85å ±\\\\n\\\\nä¸\\\\x96ç\\\\x95\\\\x8cå¤©æ°\\\\x97\\\\n\\\\nã\\\\x82´ã\\\\x83«ã\\\\x83\\\\x95å ´ã\\\\x81®å¤©æ°\\\\x97\\\\n\\\\nã\\\\x82¢ã\\\\x83¡ã\\\\x83\\\\x80ã\\\\x82¹\\\\n\\\\nè\\\\xad¦å ±ã\\\\x83»æ³¨æ\\\\x84\\\\x8få ±\\\\n\\\\né\\\\x9b·ã\\\\x83¬ã\\\\x83¼ã\\\\x83\\\\x80ã\\\\x83¼\\\\n\\\\nå\\\\x8f°é¢¨æ\\\\x83\\\\x85å ±\\\\n\\\\nã\\\\x81\\\\x8aå¤©æ°\\\\x97ã\\\\x83\\\\x8bã\\\\x83¥ã\\\\x83¼ã\\\\x82¹\\\\n\\\\nã\\\\x82¦ã\\\\x82§ã\\\\x82¶ã\\\\x83¼ã\\\\x83ªã\\\\x83\\\\x9dã\\\\x83¼ã\\\\x83\\\\x88\\\\n\\\\nå¤©æ°\\\\x97TOP [...] 2é\\\\x80±é\\\\x96\\\\x93å¤©æ°\\\\x97\\\\n\\\\nä¸\\\\x96ç\\\\x95\\\\x8cå¤©æ°\\\\x97\\\\n\\\\né\\\\x9b¨é\\\\x9b²ã\\\\x83¬ã\\\\x83¼ã\\\\x83\\\\x80ã\\\\x83¼\\\\n\\\\né\\\\x9b·ã\\\\x83¬ã\\\\x83¼ã\\\\x83\\\\x80ã\\\\x83¼\\\\n\\\\nå¤©æ°\\\\x97å\\\\x9b³\\\\n\\\\nã\\\\x82¢ã\\\\x83¡ã\\\\x83\\\\x80ã\\\\x82¹\\\\n\\\\nå¯\\\\x92æ°\\\\x97ã\\\\x83»æ\\\\x9a\\\\x96æ°\\\\x97äº\\\\x88æ\\\\x83³\\\\n\\\\né\\\\x9b²é\\\\x87\\\\x8fäº\\\\x88æ\\\\x83³\\\\n\\\\nç\\\\x99ºé\\\\x9b·ç¢ºç\\\\x8e\\\\x87\\\\n\\\\nã\\\\x82²ã\\\\x83ªã\\\\x83©é\\\\x9b·é\\\\x9b¨ã\\\\x83¬ã\\\\x83¼ã\\\\x83\\\\x80ã\\\\x83¼\\\\n\\\\nè¡\\\\x9bæ\\\\x98\\\\x9fç\\\\x94»å\\\\x83\\\\x8f\\\\n\\\\né\\\\x95·æ\\\\x9c\\\\x9fäº\\\\x88å ±\\\\n\\\\nã\\\\x81\\\\x8aå¤©æ°\\\\x97ã\\\\x83\\\\x8bã\\\\x83¥ã\\\\x83¼ã\\\\x82¹\\\\n\\\\nã\\\\x82¦ã\\\\x82§ã\\\\x82¶ã\\\\x83¼ã\\\\x83ªã\\\\x83\\\\x9dã\\\\x83¼ã\\\\x83\\\\x88\\\\n\\\\nã\\\\x82¦ã\\\\x82§ã\\\\x82¶ã\\\\x83¼ã\\\\x83\\\\x8bã\\\\x83¥ã\\\\x83¼ã\\\\x82¹LiVE\\\\n\\\\nã\\\\x83©ã\\\\x82¤ã\\\\x83\\\\x96ã\\\\x82«ã\\\\x83¡ã\\\\x83©\\\\n\\\\né»\\\\x84ç \\\\x82ã\\\\x83¬ã\\\\x83¼ã\\\\x83\\\\x80ã\\\\x83¼\\\\n\\\\nè\\\\xad¦å ±ã\\\\x83»æ³¨æ\\\\x84\\\\x8få ±\\\\n\\\\nå\\\\x8f°é¢¨æ\\\\x83\\\\x85å ±\\\\n\\\\nå\\\\x9c°é\\\\x9c\\\\x87æ\\\\x83\\\\x85å ±\\\\n\\\\næ´¥æ³¢æ\\\\x83\\\\x85å ±\\\\n\\\\nç\\\\x81«å±±æ\\\\x83\\\\x85å ±\\\\n\\\\næ¸\\\\x9bç\\\\x81½æ\\\\x83\\\\x85å ±\\\\n\\\\né\\\\x81¿é\\\\x9b£æ\\\\x83\\\\x85å ±\\\\n\\\\né\\\\x98²ç\\\\x81½æ¸\\\\x9bç\\\\x81½ã\\\\x83\\\\x8fã\\\\x83³ã\\\\x83\\\\x89ã\\\\x83\\\\x96ã\\\\x83\\\\x83ã\\\\x82¯\\\\n\\\\nã\\\\x81\\\\x95ã\\\\x81\\\\x8fã\\\\x82\\\\x89é\\\\x96\\\\x8bè\\\\x8a±æ\\\\x83\\\\x85å ±\\\\n\\\\nã\\\\x82´ã\\\\x83«ã\\\\x83\\\\x95å ´ã\\\\x81®å¤©æ°\\\\x97', 'score': 0.6617704}]\", name='tavily_search_results_json', id='b3d88013-919b-413b-b531-16a31cce032e', tool_call_id='tooluse_nG_gPPunQ3ytjw8C83zS_A'), AIMessage(content=[{'type': 'text', 'text': '申し訳ありません。ご質問はロサンゼルスの天気についてでしたね。検索を行います。'}, {'type': 'tool_use', 'name': 'tavily_search_results_json', 'input': {'query': 'ロサンゼルスの現在の天気と気温'}, 'id': 'tooluse_X20DDM6eQZmme_24fRzXEg'}], additional_kwargs={}, response_metadata={'ResponseMetadata': {'RequestId': '7a4f4cf1-c9a8-4eba-9de9-ca561ffb3b87', 'HTTPStatusCode': 200, 'HTTPHeaders': {'date': 'Thu, 10 Jul 2025 04:20:02 GMT', 'content-type': 'application/json', 'content-length': '575', 'connection': 'keep-alive', 'x-amzn-requestid': '7a4f4cf1-c9a8-4eba-9de9-ca561ffb3b87'}, 'RetryAttempts': 0}, 'stopReason': 'tool_use', 'metrics': {'latencyMs': [4037]}, 'model_name': 'us.anthropic.claude-3-5-haiku-20241022-v1:0'}, id='run--22b45dc7-7fa0-4437-bf0a-6d362947b9b8-0', tool_calls=[{'name': 'tavily_search_results_json', 'args': {'query': 'ロサンゼルスの現在の天気と気温'}, 'id': 'tooluse_X20DDM6eQZmme_24fRzXEg', 'type': 'tool_call'}], usage_metadata={'input_tokens': 4257, 'output_tokens': 112, 'total_tokens': 4369, 'input_token_details': {'cache_creation': 0, 'cache_read': 0}})]}\n",
      "{'messages': [AIMessage(content=[{'type': 'text', 'text': '申し訳ありません。ご質問はロサンゼルスの天気についてでしたね。検索を行います。'}, {'type': 'tool_use', 'name': 'tavily_search_results_json', 'input': {'query': 'ロサンゼルスの現在の天気と気温'}, 'id': 'tooluse_X20DDM6eQZmme_24fRzXEg'}], additional_kwargs={}, response_metadata={'ResponseMetadata': {'RequestId': '7a4f4cf1-c9a8-4eba-9de9-ca561ffb3b87', 'HTTPStatusCode': 200, 'HTTPHeaders': {'date': 'Thu, 10 Jul 2025 04:20:02 GMT', 'content-type': 'application/json', 'content-length': '575', 'connection': 'keep-alive', 'x-amzn-requestid': '7a4f4cf1-c9a8-4eba-9de9-ca561ffb3b87'}, 'RetryAttempts': 0}, 'stopReason': 'tool_use', 'metrics': {'latencyMs': [4037]}, 'model_name': 'us.anthropic.claude-3-5-haiku-20241022-v1:0'}, id='run--22b45dc7-7fa0-4437-bf0a-6d362947b9b8-0', tool_calls=[{'name': 'tavily_search_results_json', 'args': {'query': 'ロサンゼルスの現在の天気と気温'}, 'id': 'tooluse_X20DDM6eQZmme_24fRzXEg', 'type': 'tool_call'}], usage_metadata={'input_tokens': 4257, 'output_tokens': 112, 'total_tokens': 4369, 'input_token_details': {'cache_creation': 0, 'cache_read': 0}})]}\n",
      "()\n"
     ]
    }
   ],
   "source": [
    "for event in abot.graph.stream(None, thread):\n",
    "    for v in event.values():\n",
    "        print(v)"
   ]
  },
  {
   "cell_type": "markdown",
   "id": "e75b870b-e0df-46f1-b29b-fb151ebcbcc3",
   "metadata": {},
   "source": [
    "## Time Travel\n"
   ]
  },
  {
   "cell_type": "code",
   "execution_count": 26,
   "id": "27cde654-64e2-48bc-80a9-0ed668ccb7dc",
   "metadata": {
    "height": 98
   },
   "outputs": [
    {
     "name": "stdout",
     "output_type": "stream",
     "text": [
      "StateSnapshot(values={'messages': [HumanMessage(content='ロサンゼルスの天気はどうですか?', additional_kwargs={}, response_metadata={}, id='780ff10b-94ab-405c-afc0-e0c305b8a1ed'), AIMessage(content=[{'type': 'tool_use', 'name': 'tavily_search_results_json', 'input': {'query': 'Los Angeles current weather forecast'}, 'id': 'tooluse_nG_gPPunQ3ytjw8C83zS_A'}], additional_kwargs={}, response_metadata={'ResponseMetadata': {'RequestId': 'b033167c-708f-4a8c-b92d-a644578cb5fb', 'HTTPStatusCode': 200, 'HTTPHeaders': {'date': 'Thu, 10 Jul 2025 04:17:48 GMT', 'content-type': 'application/json', 'content-length': '434', 'connection': 'keep-alive', 'x-amzn-requestid': 'b033167c-708f-4a8c-b92d-a644578cb5fb'}, 'RetryAttempts': 0}, 'stopReason': 'tool_use', 'metrics': {'latencyMs': [1213]}, 'model_name': 'us.anthropic.claude-3-5-haiku-20241022-v1:0'}, id='run--bea26819-7290-44d1-a6a2-dd50b42cac61-0', tool_calls=[{'name': 'tavily_search_results_json', 'args': {'query': '東京の現在の天気は'}, 'id': 'tooluse_nG_gPPunQ3ytjw8C83zS_A', 'type': 'tool_call'}], usage_metadata={'input_tokens': 501, 'output_tokens': 62, 'total_tokens': 563, 'input_token_details': {'cache_creation': 0, 'cache_read': 0}}), ToolMessage(content=\"[{'title': '今日・明日と14日間(2週間)の1時間ごとの天気予報 - Toshin.com - 東進', 'url': 'https://www.toshin.com/weather/detail?id=66124', 'content': '- 東進ビジネススクール  \\\\n  大学生向け東進学力POS\\\\n\\\\n- 社会人対象\\\\n\\\\n- 東進ビジネススクール  \\\\n  社会人向け東進学力POS\\\\n\\\\nマイページ\\\\n\\\\n資料請求\\\\n\\\\n入学受付\\\\n\\\\n全国学校のお天気\\\\n\\\\n新規会員登録 ログイン 天気メールを設定する\\\\n\\\\n \\\\n\\\\nHome   >  東京都   >  千代田区   >  東京   >  14日間(2週間)の1時間ごとの天気予報\\\\n\\\\n   \\\\n\\\\n雨雲レーダー\\\\n\\\\n \\\\n\\\\n# 東京の天気\\\\n\\\\n6月5日 13:00発表\\\\n\\\\nリロードすると1時間ごとに更新されます。\\\\n\\\\n今日\\\\n\\\\n2025年\\\\n\\\\n6月5日(木)\\\\n\\\\n晴れ\\\\n\\\\n28℃/19℃\\\\n\\\\n降水確率\\\\n\\\\n0%\\\\n\\\\n明日\\\\n\\\\n2025年\\\\n\\\\n6月6日(金)\\\\n\\\\n晴れ\\\\n\\\\n28℃/18℃\\\\n\\\\n降水確率\\\\n\\\\n0%\\\\n\\\\n明日\\\\n\\\\n2025年\\\\n\\\\n6月6日(金)\\\\n\\\\n晴れ\\\\n\\\\n28℃/18℃\\\\n\\\\n降水確率\\\\n\\\\n0%\\\\n\\\\n2025年\\\\n\\\\n6月7日(土)\\\\n\\\\n晴れ時々曇\\\\n\\\\n26℃/19℃\\\\n\\\\n降水確率\\\\n\\\\n20%\\\\n\\\\n2025年\\\\n\\\\n6月7日(土)\\\\n\\\\n晴れ時々曇\\\\n\\\\n26℃/19℃\\\\n\\\\n降水確率\\\\n\\\\n20%\\\\n\\\\n2025年\\\\n\\\\n6月8日(日)\\\\n\\\\n時々曇り\\\\n\\\\n29℃/21℃\\\\n\\\\n降水確率 [...] 最低\\\\n\\\\n21℃\\\\n\\\\n降水量\\\\n\\\\n0.0mm\\\\n\\\\n湿度\\\\n\\\\n73%\\\\n\\\\n風速\\\\n\\\\n3m/s\\\\n\\\\n風向\\\\n\\\\n南\\\\n\\\\n最高\\\\n\\\\n28℃\\\\n\\\\n最低\\\\n\\\\n21℃\\\\n\\\\n降水量\\\\n\\\\n0.0mm\\\\n\\\\n湿度\\\\n\\\\n35%\\\\n\\\\n風速\\\\n\\\\n10m/s\\\\n\\\\n風向\\\\n\\\\n北西\\\\n\\\\n最高\\\\n\\\\n31℃\\\\n\\\\n最低\\\\n\\\\n25℃\\\\n\\\\n降水量\\\\n\\\\n0.0mm\\\\n\\\\n湿度\\\\n\\\\n43%\\\\n\\\\n風速\\\\n\\\\n7m/s\\\\n\\\\n風向\\\\n\\\\n南\\\\n\\\\n最高\\\\n\\\\n30℃\\\\n\\\\n最低\\\\n\\\\n24℃\\\\n\\\\n降水量\\\\n\\\\n0.0mm\\\\n\\\\n湿度\\\\n\\\\n44%\\\\n\\\\n風速\\\\n\\\\n5m/s\\\\n\\\\n風向\\\\n\\\\n東\\\\n\\\\n最高\\\\n\\\\n30℃\\\\n\\\\n最低\\\\n\\\\n24℃\\\\n\\\\n降水量\\\\n\\\\n0.0mm\\\\n\\\\n湿度\\\\n\\\\n85%\\\\n\\\\n風速\\\\n\\\\n5m/s\\\\n\\\\n風向\\\\n\\\\n北東\\\\n\\\\n最高\\\\n\\\\n21℃\\\\n\\\\n最低\\\\n\\\\n20℃\\\\n\\\\n天気アイコンの意味について\\\\n\\\\n# 東京の 雨雲レーダー\\\\n\\\\nクリックすると拡大します\\\\n\\\\n \\\\n\\\\n[Leaflet | 地理院タイル](/weather/rader?lat=35.678937777778&lng=139.76812194444)\\\\n\\\\n自宅の天気をピンポイントに登録する\\\\n\\\\n建物単位まで天気をピンポイント検索!\\\\n\\\\nピンポイント天気予報検索\\\\n\\\\n付近のGPS情報から検索\\\\n\\\\n現在地から付近の天気を検索 [...] | 曇り | 曇り | 曇り | にわか雨 | おおむね曇り | おおむね曇り | おおむね曇り | おおむね曇り | 曇り | おおむね曇り | おおむね曇り | おおむね曇り | おおむね曇り | 曇り | 曇り | 曇り | 雷雨 | 曇り | 曇り | 曇り | 曇り | 曇り | 曇り | 曇り |\\\\n| 21 | 21 | 21 | 21 | 20 | 20 | 21 | 22 | 23 | 24 | 24 | 25 | 26 | 26 | 27 | 28 | 27 | 26 | 25 | 24 | 24 | 24 | 23 | 23 |\\\\n| 0.0 | 0.0 | 0.9 | 2.8 | 0.0 | 0.0 | 0.0 | 0.0 | 0.8 | 0.0 | 0.0 | 0.0 | 0.0 | 0.0 | 0.0 | 0.5 | 1.1 | 0.5 | 0.0 | 0.0 | 0.5 | 0.4 | 0.0 | 0.1 |', 'score': 0.72184175}, {'title': '東京の天気予報 - ウェザーニュース', 'url': 'https://weathernews.jp/onebox/tenki/tokyo/', 'content': 'ã\\\\x82¦ã\\\\x82§ã\\\\x82¶ã\\\\x83¼ã\\\\x83\\\\x8bã\\\\x83¥ã\\\\x83¼ã\\\\x82¹\\\\nã\\\\x82¦ã\\\\x82§ã\\\\x82¶ã\\\\x83¼ã\\\\x83\\\\x8bã\\\\x83¥ã\\\\x83¼ã\\\\x82¹\\\\n\\\\n{{item.cityname}}\\\\n\\\\n{{item.high}}\\\\n/\\\\n{{item.low}}\\\\n\\\\nå¤©æ°\\\\x97äº\\\\x88å ±ã\\\\x82\\\\x92æ¤\\\\x9cç´¢\\\\n\\\\nå¤©æ°\\\\x97ã\\\\x83¡ã\\\\x83\\\\x8bã\\\\x83¥ã\\\\x83¼\\\\n\\\\né\\\\x98²ç\\\\x81½ã\\\\x83»æ¸\\\\x9bç\\\\x81½ã\\\\x83¡ã\\\\x83\\\\x8bã\\\\x83¥ã\\\\x83¼\\\\n\\\\nè\\\\x87ªç\\\\x84¶ã\\\\x83»å\\\\xad£ç¯\\\\x80ã\\\\x83»ã\\\\x83¬ã\\\\x82¸ã\\\\x83£ã\\\\x83¼æ\\\\x83\\\\x85å ±\\\\n\\\\nä¾¿å\\\\x88©ã\\\\x81ªã\\\\x83¡ã\\\\x83\\\\x8bã\\\\x83¥ã\\\\x83¼\\\\n\\\\né\\\\x9b¨é\\\\x9b²ã\\\\x83¬ã\\\\x83¼ã\\\\x83\\\\x80ã\\\\x83¼\\\\n\\\\n2é\\\\x80±é\\\\x96\\\\x93å¤©æ°\\\\x97\\\\n\\\\næ¢\\\\x85é\\\\x9b¨æ\\\\x83\\\\x85å ±\\\\n\\\\nè\\\\x8a±ç²\\\\x89é£\\\\x9bæ\\\\x95£æ\\\\x83\\\\x85å ±\\\\n\\\\nã\\\\x83©ã\\\\x82¤ã\\\\x83\\\\x96ã\\\\x82«ã\\\\x83¡ã\\\\x83©\\\\n\\\\nå\\\\x9c°é\\\\x9c\\\\x87æ\\\\x83\\\\x85å ±\\\\n\\\\nä¸\\\\x96ç\\\\x95\\\\x8cå¤©æ°\\\\x97\\\\n\\\\nã\\\\x82´ã\\\\x83«ã\\\\x83\\\\x95å ´ã\\\\x81®å¤©æ°\\\\x97\\\\n\\\\nã\\\\x82¢ã\\\\x83¡ã\\\\x83\\\\x80ã\\\\x82¹\\\\n\\\\nè\\\\xad¦å ±ã\\\\x83»æ³¨æ\\\\x84\\\\x8få ±\\\\n\\\\né\\\\x9b·ã\\\\x83¬ã\\\\x83¼ã\\\\x83\\\\x80ã\\\\x83¼\\\\n\\\\nå\\\\x8f°é¢¨æ\\\\x83\\\\x85å ±\\\\n\\\\nã\\\\x81\\\\x8aå¤©æ°\\\\x97ã\\\\x83\\\\x8bã\\\\x83¥ã\\\\x83¼ã\\\\x82¹\\\\n\\\\nã\\\\x82¦ã\\\\x82§ã\\\\x82¶ã\\\\x83¼ã\\\\x83ªã\\\\x83\\\\x9dã\\\\x83¼ã\\\\x83\\\\x88\\\\n\\\\nå¤©æ°\\\\x97TOP [...] 2é\\\\x80±é\\\\x96\\\\x93å¤©æ°\\\\x97\\\\n\\\\nä¸\\\\x96ç\\\\x95\\\\x8cå¤©æ°\\\\x97\\\\n\\\\né\\\\x9b¨é\\\\x9b²ã\\\\x83¬ã\\\\x83¼ã\\\\x83\\\\x80ã\\\\x83¼\\\\n\\\\né\\\\x9b·ã\\\\x83¬ã\\\\x83¼ã\\\\x83\\\\x80ã\\\\x83¼\\\\n\\\\nå¤©æ°\\\\x97å\\\\x9b³\\\\n\\\\nã\\\\x82¢ã\\\\x83¡ã\\\\x83\\\\x80ã\\\\x82¹\\\\n\\\\nå¯\\\\x92æ°\\\\x97ã\\\\x83»æ\\\\x9a\\\\x96æ°\\\\x97äº\\\\x88æ\\\\x83³\\\\n\\\\né\\\\x9b²é\\\\x87\\\\x8fäº\\\\x88æ\\\\x83³\\\\n\\\\nç\\\\x99ºé\\\\x9b·ç¢ºç\\\\x8e\\\\x87\\\\n\\\\nã\\\\x82²ã\\\\x83ªã\\\\x83©é\\\\x9b·é\\\\x9b¨ã\\\\x83¬ã\\\\x83¼ã\\\\x83\\\\x80ã\\\\x83¼\\\\n\\\\nè¡\\\\x9bæ\\\\x98\\\\x9fç\\\\x94»å\\\\x83\\\\x8f\\\\n\\\\né\\\\x95·æ\\\\x9c\\\\x9fäº\\\\x88å ±\\\\n\\\\nã\\\\x81\\\\x8aå¤©æ°\\\\x97ã\\\\x83\\\\x8bã\\\\x83¥ã\\\\x83¼ã\\\\x82¹\\\\n\\\\nã\\\\x82¦ã\\\\x82§ã\\\\x82¶ã\\\\x83¼ã\\\\x83ªã\\\\x83\\\\x9dã\\\\x83¼ã\\\\x83\\\\x88\\\\n\\\\nã\\\\x82¦ã\\\\x82§ã\\\\x82¶ã\\\\x83¼ã\\\\x83\\\\x8bã\\\\x83¥ã\\\\x83¼ã\\\\x82¹LiVE\\\\n\\\\nã\\\\x83©ã\\\\x82¤ã\\\\x83\\\\x96ã\\\\x82«ã\\\\x83¡ã\\\\x83©\\\\n\\\\né»\\\\x84ç \\\\x82ã\\\\x83¬ã\\\\x83¼ã\\\\x83\\\\x80ã\\\\x83¼\\\\n\\\\nè\\\\xad¦å ±ã\\\\x83»æ³¨æ\\\\x84\\\\x8få ±\\\\n\\\\nå\\\\x8f°é¢¨æ\\\\x83\\\\x85å ±\\\\n\\\\nå\\\\x9c°é\\\\x9c\\\\x87æ\\\\x83\\\\x85å ±\\\\n\\\\næ´¥æ³¢æ\\\\x83\\\\x85å ±\\\\n\\\\nç\\\\x81«å±±æ\\\\x83\\\\x85å ±\\\\n\\\\næ¸\\\\x9bç\\\\x81½æ\\\\x83\\\\x85å ±\\\\n\\\\né\\\\x81¿é\\\\x9b£æ\\\\x83\\\\x85å ±\\\\n\\\\né\\\\x98²ç\\\\x81½æ¸\\\\x9bç\\\\x81½ã\\\\x83\\\\x8fã\\\\x83³ã\\\\x83\\\\x89ã\\\\x83\\\\x96ã\\\\x83\\\\x83ã\\\\x82¯\\\\n\\\\nã\\\\x81\\\\x95ã\\\\x81\\\\x8fã\\\\x82\\\\x89é\\\\x96\\\\x8bè\\\\x8a±æ\\\\x83\\\\x85å ±\\\\n\\\\nã\\\\x82´ã\\\\x83«ã\\\\x83\\\\x95å ´ã\\\\x81®å¤©æ°\\\\x97', 'score': 0.6617704}]\", name='tavily_search_results_json', id='b3d88013-919b-413b-b531-16a31cce032e', tool_call_id='tooluse_nG_gPPunQ3ytjw8C83zS_A'), AIMessage(content=[{'type': 'text', 'text': '申し訳ありません。ご質問はロサンゼルスの天気についてでしたね。検索を行います。'}, {'type': 'tool_use', 'name': 'tavily_search_results_json', 'input': {'query': 'ロサンゼルスの現在の天気と気温'}, 'id': 'tooluse_X20DDM6eQZmme_24fRzXEg'}], additional_kwargs={}, response_metadata={'ResponseMetadata': {'RequestId': '7a4f4cf1-c9a8-4eba-9de9-ca561ffb3b87', 'HTTPStatusCode': 200, 'HTTPHeaders': {'date': 'Thu, 10 Jul 2025 04:20:02 GMT', 'content-type': 'application/json', 'content-length': '575', 'connection': 'keep-alive', 'x-amzn-requestid': '7a4f4cf1-c9a8-4eba-9de9-ca561ffb3b87'}, 'RetryAttempts': 0}, 'stopReason': 'tool_use', 'metrics': {'latencyMs': [4037]}, 'model_name': 'us.anthropic.claude-3-5-haiku-20241022-v1:0'}, id='run--22b45dc7-7fa0-4437-bf0a-6d362947b9b8-0', tool_calls=[{'name': 'tavily_search_results_json', 'args': {'query': 'ロサンゼルスの現在の天気と気温'}, 'id': 'tooluse_X20DDM6eQZmme_24fRzXEg', 'type': 'tool_call'}], usage_metadata={'input_tokens': 4257, 'output_tokens': 112, 'total_tokens': 4369, 'input_token_details': {'cache_creation': 0, 'cache_read': 0}})]}, next=('action',), config={'configurable': {'thread_id': '3', 'checkpoint_ns': '', 'checkpoint_id': '1f05d452-6765-63fe-8005-e6046b530098'}}, metadata={'source': 'loop', 'step': 5, 'parents': {}, 'thread_id': '3'}, created_at='2025-07-10T04:20:02.790072+00:00', parent_config={'configurable': {'thread_id': '3', 'checkpoint_ns': '', 'checkpoint_id': '1f05d452-40cf-6058-8004-fcb8d34870e3'}}, tasks=(PregelTask(id='75eefd95-300f-daef-a749-908875b4a174', name='action', path=('__pregel_pull', 'action'), error=None, interrupts=(), state=None, result=None),), interrupts=())\n",
      "--\n",
      "StateSnapshot(values={'messages': [HumanMessage(content='ロサンゼルスの天気はどうですか?', additional_kwargs={}, response_metadata={}, id='780ff10b-94ab-405c-afc0-e0c305b8a1ed'), AIMessage(content=[{'type': 'tool_use', 'name': 'tavily_search_results_json', 'input': {'query': 'Los Angeles current weather forecast'}, 'id': 'tooluse_nG_gPPunQ3ytjw8C83zS_A'}], additional_kwargs={}, response_metadata={'ResponseMetadata': {'RequestId': 'b033167c-708f-4a8c-b92d-a644578cb5fb', 'HTTPStatusCode': 200, 'HTTPHeaders': {'date': 'Thu, 10 Jul 2025 04:17:48 GMT', 'content-type': 'application/json', 'content-length': '434', 'connection': 'keep-alive', 'x-amzn-requestid': 'b033167c-708f-4a8c-b92d-a644578cb5fb'}, 'RetryAttempts': 0}, 'stopReason': 'tool_use', 'metrics': {'latencyMs': [1213]}, 'model_name': 'us.anthropic.claude-3-5-haiku-20241022-v1:0'}, id='run--bea26819-7290-44d1-a6a2-dd50b42cac61-0', tool_calls=[{'name': 'tavily_search_results_json', 'args': {'query': '東京の現在の天気は'}, 'id': 'tooluse_nG_gPPunQ3ytjw8C83zS_A', 'type': 'tool_call'}], usage_metadata={'input_tokens': 501, 'output_tokens': 62, 'total_tokens': 563, 'input_token_details': {'cache_creation': 0, 'cache_read': 0}}), ToolMessage(content=\"[{'title': '今日・明日と14日間(2週間)の1時間ごとの天気予報 - Toshin.com - 東進', 'url': 'https://www.toshin.com/weather/detail?id=66124', 'content': '- 東進ビジネススクール  \\\\n  大学生向け東進学力POS\\\\n\\\\n- 社会人対象\\\\n\\\\n- 東進ビジネススクール  \\\\n  社会人向け東進学力POS\\\\n\\\\nマイページ\\\\n\\\\n資料請求\\\\n\\\\n入学受付\\\\n\\\\n全国学校のお天気\\\\n\\\\n新規会員登録 ログイン 天気メールを設定する\\\\n\\\\n \\\\n\\\\nHome   >  東京都   >  千代田区   >  東京   >  14日間(2週間)の1時間ごとの天気予報\\\\n\\\\n   \\\\n\\\\n雨雲レーダー\\\\n\\\\n \\\\n\\\\n# 東京の天気\\\\n\\\\n6月5日 13:00発表\\\\n\\\\nリロードすると1時間ごとに更新されます。\\\\n\\\\n今日\\\\n\\\\n2025年\\\\n\\\\n6月5日(木)\\\\n\\\\n晴れ\\\\n\\\\n28℃/19℃\\\\n\\\\n降水確率\\\\n\\\\n0%\\\\n\\\\n明日\\\\n\\\\n2025年\\\\n\\\\n6月6日(金)\\\\n\\\\n晴れ\\\\n\\\\n28℃/18℃\\\\n\\\\n降水確率\\\\n\\\\n0%\\\\n\\\\n明日\\\\n\\\\n2025年\\\\n\\\\n6月6日(金)\\\\n\\\\n晴れ\\\\n\\\\n28℃/18℃\\\\n\\\\n降水確率\\\\n\\\\n0%\\\\n\\\\n2025年\\\\n\\\\n6月7日(土)\\\\n\\\\n晴れ時々曇\\\\n\\\\n26℃/19℃\\\\n\\\\n降水確率\\\\n\\\\n20%\\\\n\\\\n2025年\\\\n\\\\n6月7日(土)\\\\n\\\\n晴れ時々曇\\\\n\\\\n26℃/19℃\\\\n\\\\n降水確率\\\\n\\\\n20%\\\\n\\\\n2025年\\\\n\\\\n6月8日(日)\\\\n\\\\n時々曇り\\\\n\\\\n29℃/21℃\\\\n\\\\n降水確率 [...] 最低\\\\n\\\\n21℃\\\\n\\\\n降水量\\\\n\\\\n0.0mm\\\\n\\\\n湿度\\\\n\\\\n73%\\\\n\\\\n風速\\\\n\\\\n3m/s\\\\n\\\\n風向\\\\n\\\\n南\\\\n\\\\n最高\\\\n\\\\n28℃\\\\n\\\\n最低\\\\n\\\\n21℃\\\\n\\\\n降水量\\\\n\\\\n0.0mm\\\\n\\\\n湿度\\\\n\\\\n35%\\\\n\\\\n風速\\\\n\\\\n10m/s\\\\n\\\\n風向\\\\n\\\\n北西\\\\n\\\\n最高\\\\n\\\\n31℃\\\\n\\\\n最低\\\\n\\\\n25℃\\\\n\\\\n降水量\\\\n\\\\n0.0mm\\\\n\\\\n湿度\\\\n\\\\n43%\\\\n\\\\n風速\\\\n\\\\n7m/s\\\\n\\\\n風向\\\\n\\\\n南\\\\n\\\\n最高\\\\n\\\\n30℃\\\\n\\\\n最低\\\\n\\\\n24℃\\\\n\\\\n降水量\\\\n\\\\n0.0mm\\\\n\\\\n湿度\\\\n\\\\n44%\\\\n\\\\n風速\\\\n\\\\n5m/s\\\\n\\\\n風向\\\\n\\\\n東\\\\n\\\\n最高\\\\n\\\\n30℃\\\\n\\\\n最低\\\\n\\\\n24℃\\\\n\\\\n降水量\\\\n\\\\n0.0mm\\\\n\\\\n湿度\\\\n\\\\n85%\\\\n\\\\n風速\\\\n\\\\n5m/s\\\\n\\\\n風向\\\\n\\\\n北東\\\\n\\\\n最高\\\\n\\\\n21℃\\\\n\\\\n最低\\\\n\\\\n20℃\\\\n\\\\n天気アイコンの意味について\\\\n\\\\n# 東京の 雨雲レーダー\\\\n\\\\nクリックすると拡大します\\\\n\\\\n \\\\n\\\\n[Leaflet | 地理院タイル](/weather/rader?lat=35.678937777778&lng=139.76812194444)\\\\n\\\\n自宅の天気をピンポイントに登録する\\\\n\\\\n建物単位まで天気をピンポイント検索!\\\\n\\\\nピンポイント天気予報検索\\\\n\\\\n付近のGPS情報から検索\\\\n\\\\n現在地から付近の天気を検索 [...] | 曇り | 曇り | 曇り | にわか雨 | おおむね曇り | おおむね曇り | おおむね曇り | おおむね曇り | 曇り | おおむね曇り | おおむね曇り | おおむね曇り | おおむね曇り | 曇り | 曇り | 曇り | 雷雨 | 曇り | 曇り | 曇り | 曇り | 曇り | 曇り | 曇り |\\\\n| 21 | 21 | 21 | 21 | 20 | 20 | 21 | 22 | 23 | 24 | 24 | 25 | 26 | 26 | 27 | 28 | 27 | 26 | 25 | 24 | 24 | 24 | 23 | 23 |\\\\n| 0.0 | 0.0 | 0.9 | 2.8 | 0.0 | 0.0 | 0.0 | 0.0 | 0.8 | 0.0 | 0.0 | 0.0 | 0.0 | 0.0 | 0.0 | 0.5 | 1.1 | 0.5 | 0.0 | 0.0 | 0.5 | 0.4 | 0.0 | 0.1 |', 'score': 0.72184175}, {'title': '東京の天気予報 - ウェザーニュース', 'url': 'https://weathernews.jp/onebox/tenki/tokyo/', 'content': 'ã\\\\x82¦ã\\\\x82§ã\\\\x82¶ã\\\\x83¼ã\\\\x83\\\\x8bã\\\\x83¥ã\\\\x83¼ã\\\\x82¹\\\\nã\\\\x82¦ã\\\\x82§ã\\\\x82¶ã\\\\x83¼ã\\\\x83\\\\x8bã\\\\x83¥ã\\\\x83¼ã\\\\x82¹\\\\n\\\\n{{item.cityname}}\\\\n\\\\n{{item.high}}\\\\n/\\\\n{{item.low}}\\\\n\\\\nå¤©æ°\\\\x97äº\\\\x88å ±ã\\\\x82\\\\x92æ¤\\\\x9cç´¢\\\\n\\\\nå¤©æ°\\\\x97ã\\\\x83¡ã\\\\x83\\\\x8bã\\\\x83¥ã\\\\x83¼\\\\n\\\\né\\\\x98²ç\\\\x81½ã\\\\x83»æ¸\\\\x9bç\\\\x81½ã\\\\x83¡ã\\\\x83\\\\x8bã\\\\x83¥ã\\\\x83¼\\\\n\\\\nè\\\\x87ªç\\\\x84¶ã\\\\x83»å\\\\xad£ç¯\\\\x80ã\\\\x83»ã\\\\x83¬ã\\\\x82¸ã\\\\x83£ã\\\\x83¼æ\\\\x83\\\\x85å ±\\\\n\\\\nä¾¿å\\\\x88©ã\\\\x81ªã\\\\x83¡ã\\\\x83\\\\x8bã\\\\x83¥ã\\\\x83¼\\\\n\\\\né\\\\x9b¨é\\\\x9b²ã\\\\x83¬ã\\\\x83¼ã\\\\x83\\\\x80ã\\\\x83¼\\\\n\\\\n2é\\\\x80±é\\\\x96\\\\x93å¤©æ°\\\\x97\\\\n\\\\næ¢\\\\x85é\\\\x9b¨æ\\\\x83\\\\x85å ±\\\\n\\\\nè\\\\x8a±ç²\\\\x89é£\\\\x9bæ\\\\x95£æ\\\\x83\\\\x85å ±\\\\n\\\\nã\\\\x83©ã\\\\x82¤ã\\\\x83\\\\x96ã\\\\x82«ã\\\\x83¡ã\\\\x83©\\\\n\\\\nå\\\\x9c°é\\\\x9c\\\\x87æ\\\\x83\\\\x85å ±\\\\n\\\\nä¸\\\\x96ç\\\\x95\\\\x8cå¤©æ°\\\\x97\\\\n\\\\nã\\\\x82´ã\\\\x83«ã\\\\x83\\\\x95å ´ã\\\\x81®å¤©æ°\\\\x97\\\\n\\\\nã\\\\x82¢ã\\\\x83¡ã\\\\x83\\\\x80ã\\\\x82¹\\\\n\\\\nè\\\\xad¦å ±ã\\\\x83»æ³¨æ\\\\x84\\\\x8få ±\\\\n\\\\né\\\\x9b·ã\\\\x83¬ã\\\\x83¼ã\\\\x83\\\\x80ã\\\\x83¼\\\\n\\\\nå\\\\x8f°é¢¨æ\\\\x83\\\\x85å ±\\\\n\\\\nã\\\\x81\\\\x8aå¤©æ°\\\\x97ã\\\\x83\\\\x8bã\\\\x83¥ã\\\\x83¼ã\\\\x82¹\\\\n\\\\nã\\\\x82¦ã\\\\x82§ã\\\\x82¶ã\\\\x83¼ã\\\\x83ªã\\\\x83\\\\x9dã\\\\x83¼ã\\\\x83\\\\x88\\\\n\\\\nå¤©æ°\\\\x97TOP [...] 2é\\\\x80±é\\\\x96\\\\x93å¤©æ°\\\\x97\\\\n\\\\nä¸\\\\x96ç\\\\x95\\\\x8cå¤©æ°\\\\x97\\\\n\\\\né\\\\x9b¨é\\\\x9b²ã\\\\x83¬ã\\\\x83¼ã\\\\x83\\\\x80ã\\\\x83¼\\\\n\\\\né\\\\x9b·ã\\\\x83¬ã\\\\x83¼ã\\\\x83\\\\x80ã\\\\x83¼\\\\n\\\\nå¤©æ°\\\\x97å\\\\x9b³\\\\n\\\\nã\\\\x82¢ã\\\\x83¡ã\\\\x83\\\\x80ã\\\\x82¹\\\\n\\\\nå¯\\\\x92æ°\\\\x97ã\\\\x83»æ\\\\x9a\\\\x96æ°\\\\x97äº\\\\x88æ\\\\x83³\\\\n\\\\né\\\\x9b²é\\\\x87\\\\x8fäº\\\\x88æ\\\\x83³\\\\n\\\\nç\\\\x99ºé\\\\x9b·ç¢ºç\\\\x8e\\\\x87\\\\n\\\\nã\\\\x82²ã\\\\x83ªã\\\\x83©é\\\\x9b·é\\\\x9b¨ã\\\\x83¬ã\\\\x83¼ã\\\\x83\\\\x80ã\\\\x83¼\\\\n\\\\nè¡\\\\x9bæ\\\\x98\\\\x9fç\\\\x94»å\\\\x83\\\\x8f\\\\n\\\\né\\\\x95·æ\\\\x9c\\\\x9fäº\\\\x88å ±\\\\n\\\\nã\\\\x81\\\\x8aå¤©æ°\\\\x97ã\\\\x83\\\\x8bã\\\\x83¥ã\\\\x83¼ã\\\\x82¹\\\\n\\\\nã\\\\x82¦ã\\\\x82§ã\\\\x82¶ã\\\\x83¼ã\\\\x83ªã\\\\x83\\\\x9dã\\\\x83¼ã\\\\x83\\\\x88\\\\n\\\\nã\\\\x82¦ã\\\\x82§ã\\\\x82¶ã\\\\x83¼ã\\\\x83\\\\x8bã\\\\x83¥ã\\\\x83¼ã\\\\x82¹LiVE\\\\n\\\\nã\\\\x83©ã\\\\x82¤ã\\\\x83\\\\x96ã\\\\x82«ã\\\\x83¡ã\\\\x83©\\\\n\\\\né»\\\\x84ç \\\\x82ã\\\\x83¬ã\\\\x83¼ã\\\\x83\\\\x80ã\\\\x83¼\\\\n\\\\nè\\\\xad¦å ±ã\\\\x83»æ³¨æ\\\\x84\\\\x8få ±\\\\n\\\\nå\\\\x8f°é¢¨æ\\\\x83\\\\x85å ±\\\\n\\\\nå\\\\x9c°é\\\\x9c\\\\x87æ\\\\x83\\\\x85å ±\\\\n\\\\næ´¥æ³¢æ\\\\x83\\\\x85å ±\\\\n\\\\nç\\\\x81«å±±æ\\\\x83\\\\x85å ±\\\\n\\\\næ¸\\\\x9bç\\\\x81½æ\\\\x83\\\\x85å ±\\\\n\\\\né\\\\x81¿é\\\\x9b£æ\\\\x83\\\\x85å ±\\\\n\\\\né\\\\x98²ç\\\\x81½æ¸\\\\x9bç\\\\x81½ã\\\\x83\\\\x8fã\\\\x83³ã\\\\x83\\\\x89ã\\\\x83\\\\x96ã\\\\x83\\\\x83ã\\\\x82¯\\\\n\\\\nã\\\\x81\\\\x95ã\\\\x81\\\\x8fã\\\\x82\\\\x89é\\\\x96\\\\x8bè\\\\x8a±æ\\\\x83\\\\x85å ±\\\\n\\\\nã\\\\x82´ã\\\\x83«ã\\\\x83\\\\x95å ´ã\\\\x81®å¤©æ°\\\\x97', 'score': 0.6617704}]\", name='tavily_search_results_json', id='b3d88013-919b-413b-b531-16a31cce032e', tool_call_id='tooluse_nG_gPPunQ3ytjw8C83zS_A')]}, next=('llm',), config={'configurable': {'thread_id': '3', 'checkpoint_ns': '', 'checkpoint_id': '1f05d452-40cf-6058-8004-fcb8d34870e3'}}, metadata={'source': 'loop', 'step': 4, 'parents': {}, 'thread_id': '3'}, created_at='2025-07-10T04:19:58.743951+00:00', parent_config={'configurable': {'thread_id': '3', 'checkpoint_ns': '', 'checkpoint_id': '1f05d451-de1b-6cd2-8003-e42deaccce59'}}, tasks=(PregelTask(id='31c61747-ffcf-6ff9-c4c1-29c6034e269e', name='llm', path=('__pregel_pull', 'llm'), error=None, interrupts=(), state=None, result={'messages': [AIMessage(content=[{'type': 'text', 'text': '申し訳ありません。ご質問はロサンゼルスの天気についてでしたね。検索を行います。'}, {'type': 'tool_use', 'name': 'tavily_search_results_json', 'input': {'query': 'ロサンゼルスの現在の天気と気温'}, 'id': 'tooluse_X20DDM6eQZmme_24fRzXEg'}], additional_kwargs={}, response_metadata={'ResponseMetadata': {'RequestId': '7a4f4cf1-c9a8-4eba-9de9-ca561ffb3b87', 'HTTPStatusCode': 200, 'HTTPHeaders': {'date': 'Thu, 10 Jul 2025 04:20:02 GMT', 'content-type': 'application/json', 'content-length': '575', 'connection': 'keep-alive', 'x-amzn-requestid': '7a4f4cf1-c9a8-4eba-9de9-ca561ffb3b87'}, 'RetryAttempts': 0}, 'stopReason': 'tool_use', 'metrics': {'latencyMs': [4037]}, 'model_name': 'us.anthropic.claude-3-5-haiku-20241022-v1:0'}, id='run--22b45dc7-7fa0-4437-bf0a-6d362947b9b8-0', tool_calls=[{'name': 'tavily_search_results_json', 'args': {'query': 'ロサンゼルスの現在の天気と気温'}, 'id': 'tooluse_X20DDM6eQZmme_24fRzXEg', 'type': 'tool_call'}], usage_metadata={'input_tokens': 4257, 'output_tokens': 112, 'total_tokens': 4369, 'input_token_details': {'cache_creation': 0, 'cache_read': 0}})]}),), interrupts=())\n",
      "--\n",
      "StateSnapshot(values={'messages': [HumanMessage(content='ロサンゼルスの天気はどうですか?', additional_kwargs={}, response_metadata={}, id='780ff10b-94ab-405c-afc0-e0c305b8a1ed'), AIMessage(content=[{'type': 'tool_use', 'name': 'tavily_search_results_json', 'input': {'query': 'Los Angeles current weather forecast'}, 'id': 'tooluse_nG_gPPunQ3ytjw8C83zS_A'}], additional_kwargs={}, response_metadata={'ResponseMetadata': {'RequestId': 'b033167c-708f-4a8c-b92d-a644578cb5fb', 'HTTPStatusCode': 200, 'HTTPHeaders': {'date': 'Thu, 10 Jul 2025 04:17:48 GMT', 'content-type': 'application/json', 'content-length': '434', 'connection': 'keep-alive', 'x-amzn-requestid': 'b033167c-708f-4a8c-b92d-a644578cb5fb'}, 'RetryAttempts': 0}, 'stopReason': 'tool_use', 'metrics': {'latencyMs': [1213]}, 'model_name': 'us.anthropic.claude-3-5-haiku-20241022-v1:0'}, id='run--bea26819-7290-44d1-a6a2-dd50b42cac61-0', tool_calls=[{'name': 'tavily_search_results_json', 'args': {'query': '東京の現在の天気は'}, 'id': 'tooluse_nG_gPPunQ3ytjw8C83zS_A', 'type': 'tool_call'}], usage_metadata={'input_tokens': 501, 'output_tokens': 62, 'total_tokens': 563, 'input_token_details': {'cache_creation': 0, 'cache_read': 0}})]}, next=('action',), config={'configurable': {'thread_id': '3', 'checkpoint_ns': '', 'checkpoint_id': '1f05d451-de1b-6cd2-8003-e42deaccce59'}}, metadata={'source': 'update', 'step': 3, 'parents': {}, 'thread_id': '3'}, created_at='2025-07-10T04:19:48.394504+00:00', parent_config={'configurable': {'thread_id': '3', 'checkpoint_ns': '', 'checkpoint_id': '1f05d44f-6287-6551-8002-546d7d5dab9c'}}, tasks=(PregelTask(id='9a43d059-9b75-1492-f984-398e2fea7451', name='action', path=('__pregel_pull', 'action'), error=None, interrupts=(), state=None, result={'messages': [ToolMessage(content=\"[{'title': '今日・明日と14日間(2週間)の1時間ごとの天気予報 - Toshin.com - 東進', 'url': 'https://www.toshin.com/weather/detail?id=66124', 'content': '- 東進ビジネススクール  \\\\n  大学生向け東進学力POS\\\\n\\\\n- 社会人対象\\\\n\\\\n- 東進ビジネススクール  \\\\n  社会人向け東進学力POS\\\\n\\\\nマイページ\\\\n\\\\n資料請求\\\\n\\\\n入学受付\\\\n\\\\n全国学校のお天気\\\\n\\\\n新規会員登録 ログイン 天気メールを設定する\\\\n\\\\n \\\\n\\\\nHome   >  東京都   >  千代田区   >  東京   >  14日間(2週間)の1時間ごとの天気予報\\\\n\\\\n   \\\\n\\\\n雨雲レーダー\\\\n\\\\n \\\\n\\\\n# 東京の天気\\\\n\\\\n6月5日 13:00発表\\\\n\\\\nリロードすると1時間ごとに更新されます。\\\\n\\\\n今日\\\\n\\\\n2025年\\\\n\\\\n6月5日(木)\\\\n\\\\n晴れ\\\\n\\\\n28℃/19℃\\\\n\\\\n降水確率\\\\n\\\\n0%\\\\n\\\\n明日\\\\n\\\\n2025年\\\\n\\\\n6月6日(金)\\\\n\\\\n晴れ\\\\n\\\\n28℃/18℃\\\\n\\\\n降水確率\\\\n\\\\n0%\\\\n\\\\n明日\\\\n\\\\n2025年\\\\n\\\\n6月6日(金)\\\\n\\\\n晴れ\\\\n\\\\n28℃/18℃\\\\n\\\\n降水確率\\\\n\\\\n0%\\\\n\\\\n2025年\\\\n\\\\n6月7日(土)\\\\n\\\\n晴れ時々曇\\\\n\\\\n26℃/19℃\\\\n\\\\n降水確率\\\\n\\\\n20%\\\\n\\\\n2025年\\\\n\\\\n6月7日(土)\\\\n\\\\n晴れ時々曇\\\\n\\\\n26℃/19℃\\\\n\\\\n降水確率\\\\n\\\\n20%\\\\n\\\\n2025年\\\\n\\\\n6月8日(日)\\\\n\\\\n時々曇り\\\\n\\\\n29℃/21℃\\\\n\\\\n降水確率 [...] 最低\\\\n\\\\n21℃\\\\n\\\\n降水量\\\\n\\\\n0.0mm\\\\n\\\\n湿度\\\\n\\\\n73%\\\\n\\\\n風速\\\\n\\\\n3m/s\\\\n\\\\n風向\\\\n\\\\n南\\\\n\\\\n最高\\\\n\\\\n28℃\\\\n\\\\n最低\\\\n\\\\n21℃\\\\n\\\\n降水量\\\\n\\\\n0.0mm\\\\n\\\\n湿度\\\\n\\\\n35%\\\\n\\\\n風速\\\\n\\\\n10m/s\\\\n\\\\n風向\\\\n\\\\n北西\\\\n\\\\n最高\\\\n\\\\n31℃\\\\n\\\\n最低\\\\n\\\\n25℃\\\\n\\\\n降水量\\\\n\\\\n0.0mm\\\\n\\\\n湿度\\\\n\\\\n43%\\\\n\\\\n風速\\\\n\\\\n7m/s\\\\n\\\\n風向\\\\n\\\\n南\\\\n\\\\n最高\\\\n\\\\n30℃\\\\n\\\\n最低\\\\n\\\\n24℃\\\\n\\\\n降水量\\\\n\\\\n0.0mm\\\\n\\\\n湿度\\\\n\\\\n44%\\\\n\\\\n風速\\\\n\\\\n5m/s\\\\n\\\\n風向\\\\n\\\\n東\\\\n\\\\n最高\\\\n\\\\n30℃\\\\n\\\\n最低\\\\n\\\\n24℃\\\\n\\\\n降水量\\\\n\\\\n0.0mm\\\\n\\\\n湿度\\\\n\\\\n85%\\\\n\\\\n風速\\\\n\\\\n5m/s\\\\n\\\\n風向\\\\n\\\\n北東\\\\n\\\\n最高\\\\n\\\\n21℃\\\\n\\\\n最低\\\\n\\\\n20℃\\\\n\\\\n天気アイコンの意味について\\\\n\\\\n# 東京の 雨雲レーダー\\\\n\\\\nクリックすると拡大します\\\\n\\\\n \\\\n\\\\n[Leaflet | 地理院タイル](/weather/rader?lat=35.678937777778&lng=139.76812194444)\\\\n\\\\n自宅の天気をピンポイントに登録する\\\\n\\\\n建物単位まで天気をピンポイント検索!\\\\n\\\\nピンポイント天気予報検索\\\\n\\\\n付近のGPS情報から検索\\\\n\\\\n現在地から付近の天気を検索 [...] | 曇り | 曇り | 曇り | にわか雨 | おおむね曇り | おおむね曇り | おおむね曇り | おおむね曇り | 曇り | おおむね曇り | おおむね曇り | おおむね曇り | おおむね曇り | 曇り | 曇り | 曇り | 雷雨 | 曇り | 曇り | 曇り | 曇り | 曇り | 曇り | 曇り |\\\\n| 21 | 21 | 21 | 21 | 20 | 20 | 21 | 22 | 23 | 24 | 24 | 25 | 26 | 26 | 27 | 28 | 27 | 26 | 25 | 24 | 24 | 24 | 23 | 23 |\\\\n| 0.0 | 0.0 | 0.9 | 2.8 | 0.0 | 0.0 | 0.0 | 0.0 | 0.8 | 0.0 | 0.0 | 0.0 | 0.0 | 0.0 | 0.0 | 0.5 | 1.1 | 0.5 | 0.0 | 0.0 | 0.5 | 0.4 | 0.0 | 0.1 |', 'score': 0.72184175}, {'title': '東京の天気予報 - ウェザーニュース', 'url': 'https://weathernews.jp/onebox/tenki/tokyo/', 'content': 'ã\\\\x82¦ã\\\\x82§ã\\\\x82¶ã\\\\x83¼ã\\\\x83\\\\x8bã\\\\x83¥ã\\\\x83¼ã\\\\x82¹\\\\nã\\\\x82¦ã\\\\x82§ã\\\\x82¶ã\\\\x83¼ã\\\\x83\\\\x8bã\\\\x83¥ã\\\\x83¼ã\\\\x82¹\\\\n\\\\n{{item.cityname}}\\\\n\\\\n{{item.high}}\\\\n/\\\\n{{item.low}}\\\\n\\\\nå¤©æ°\\\\x97äº\\\\x88å ±ã\\\\x82\\\\x92æ¤\\\\x9cç´¢\\\\n\\\\nå¤©æ°\\\\x97ã\\\\x83¡ã\\\\x83\\\\x8bã\\\\x83¥ã\\\\x83¼\\\\n\\\\né\\\\x98²ç\\\\x81½ã\\\\x83»æ¸\\\\x9bç\\\\x81½ã\\\\x83¡ã\\\\x83\\\\x8bã\\\\x83¥ã\\\\x83¼\\\\n\\\\nè\\\\x87ªç\\\\x84¶ã\\\\x83»å\\\\xad£ç¯\\\\x80ã\\\\x83»ã\\\\x83¬ã\\\\x82¸ã\\\\x83£ã\\\\x83¼æ\\\\x83\\\\x85å ±\\\\n\\\\nä¾¿å\\\\x88©ã\\\\x81ªã\\\\x83¡ã\\\\x83\\\\x8bã\\\\x83¥ã\\\\x83¼\\\\n\\\\né\\\\x9b¨é\\\\x9b²ã\\\\x83¬ã\\\\x83¼ã\\\\x83\\\\x80ã\\\\x83¼\\\\n\\\\n2é\\\\x80±é\\\\x96\\\\x93å¤©æ°\\\\x97\\\\n\\\\næ¢\\\\x85é\\\\x9b¨æ\\\\x83\\\\x85å ±\\\\n\\\\nè\\\\x8a±ç²\\\\x89é£\\\\x9bæ\\\\x95£æ\\\\x83\\\\x85å ±\\\\n\\\\nã\\\\x83©ã\\\\x82¤ã\\\\x83\\\\x96ã\\\\x82«ã\\\\x83¡ã\\\\x83©\\\\n\\\\nå\\\\x9c°é\\\\x9c\\\\x87æ\\\\x83\\\\x85å ±\\\\n\\\\nä¸\\\\x96ç\\\\x95\\\\x8cå¤©æ°\\\\x97\\\\n\\\\nã\\\\x82´ã\\\\x83«ã\\\\x83\\\\x95å ´ã\\\\x81®å¤©æ°\\\\x97\\\\n\\\\nã\\\\x82¢ã\\\\x83¡ã\\\\x83\\\\x80ã\\\\x82¹\\\\n\\\\nè\\\\xad¦å ±ã\\\\x83»æ³¨æ\\\\x84\\\\x8få ±\\\\n\\\\né\\\\x9b·ã\\\\x83¬ã\\\\x83¼ã\\\\x83\\\\x80ã\\\\x83¼\\\\n\\\\nå\\\\x8f°é¢¨æ\\\\x83\\\\x85å ±\\\\n\\\\nã\\\\x81\\\\x8aå¤©æ°\\\\x97ã\\\\x83\\\\x8bã\\\\x83¥ã\\\\x83¼ã\\\\x82¹\\\\n\\\\nã\\\\x82¦ã\\\\x82§ã\\\\x82¶ã\\\\x83¼ã\\\\x83ªã\\\\x83\\\\x9dã\\\\x83¼ã\\\\x83\\\\x88\\\\n\\\\nå¤©æ°\\\\x97TOP [...] 2é\\\\x80±é\\\\x96\\\\x93å¤©æ°\\\\x97\\\\n\\\\nä¸\\\\x96ç\\\\x95\\\\x8cå¤©æ°\\\\x97\\\\n\\\\né\\\\x9b¨é\\\\x9b²ã\\\\x83¬ã\\\\x83¼ã\\\\x83\\\\x80ã\\\\x83¼\\\\n\\\\né\\\\x9b·ã\\\\x83¬ã\\\\x83¼ã\\\\x83\\\\x80ã\\\\x83¼\\\\n\\\\nå¤©æ°\\\\x97å\\\\x9b³\\\\n\\\\nã\\\\x82¢ã\\\\x83¡ã\\\\x83\\\\x80ã\\\\x82¹\\\\n\\\\nå¯\\\\x92æ°\\\\x97ã\\\\x83»æ\\\\x9a\\\\x96æ°\\\\x97äº\\\\x88æ\\\\x83³\\\\n\\\\né\\\\x9b²é\\\\x87\\\\x8fäº\\\\x88æ\\\\x83³\\\\n\\\\nç\\\\x99ºé\\\\x9b·ç¢ºç\\\\x8e\\\\x87\\\\n\\\\nã\\\\x82²ã\\\\x83ªã\\\\x83©é\\\\x9b·é\\\\x9b¨ã\\\\x83¬ã\\\\x83¼ã\\\\x83\\\\x80ã\\\\x83¼\\\\n\\\\nè¡\\\\x9bæ\\\\x98\\\\x9fç\\\\x94»å\\\\x83\\\\x8f\\\\n\\\\né\\\\x95·æ\\\\x9c\\\\x9fäº\\\\x88å ±\\\\n\\\\nã\\\\x81\\\\x8aå¤©æ°\\\\x97ã\\\\x83\\\\x8bã\\\\x83¥ã\\\\x83¼ã\\\\x82¹\\\\n\\\\nã\\\\x82¦ã\\\\x82§ã\\\\x82¶ã\\\\x83¼ã\\\\x83ªã\\\\x83\\\\x9dã\\\\x83¼ã\\\\x83\\\\x88\\\\n\\\\nã\\\\x82¦ã\\\\x82§ã\\\\x82¶ã\\\\x83¼ã\\\\x83\\\\x8bã\\\\x83¥ã\\\\x83¼ã\\\\x82¹LiVE\\\\n\\\\nã\\\\x83©ã\\\\x82¤ã\\\\x83\\\\x96ã\\\\x82«ã\\\\x83¡ã\\\\x83©\\\\n\\\\né»\\\\x84ç \\\\x82ã\\\\x83¬ã\\\\x83¼ã\\\\x83\\\\x80ã\\\\x83¼\\\\n\\\\nè\\\\xad¦å ±ã\\\\x83»æ³¨æ\\\\x84\\\\x8få ±\\\\n\\\\nå\\\\x8f°é¢¨æ\\\\x83\\\\x85å ±\\\\n\\\\nå\\\\x9c°é\\\\x9c\\\\x87æ\\\\x83\\\\x85å ±\\\\n\\\\næ´¥æ³¢æ\\\\x83\\\\x85å ±\\\\n\\\\nç\\\\x81«å±±æ\\\\x83\\\\x85å ±\\\\n\\\\næ¸\\\\x9bç\\\\x81½æ\\\\x83\\\\x85å ±\\\\n\\\\né\\\\x81¿é\\\\x9b£æ\\\\x83\\\\x85å ±\\\\n\\\\né\\\\x98²ç\\\\x81½æ¸\\\\x9bç\\\\x81½ã\\\\x83\\\\x8fã\\\\x83³ã\\\\x83\\\\x89ã\\\\x83\\\\x96ã\\\\x83\\\\x83ã\\\\x82¯\\\\n\\\\nã\\\\x81\\\\x95ã\\\\x81\\\\x8fã\\\\x82\\\\x89é\\\\x96\\\\x8bè\\\\x8a±æ\\\\x83\\\\x85å ±\\\\n\\\\nã\\\\x82´ã\\\\x83«ã\\\\x83\\\\x95å ´ã\\\\x81®å¤©æ°\\\\x97', 'score': 0.6617704}]\", name='tavily_search_results_json', tool_call_id='tooluse_nG_gPPunQ3ytjw8C83zS_A')]}),), interrupts=())\n",
      "--\n",
      "StateSnapshot(values={'messages': [HumanMessage(content='ロサンゼルスの天気はどうですか?', additional_kwargs={}, response_metadata={}, id='780ff10b-94ab-405c-afc0-e0c305b8a1ed'), AIMessage(content=[{'type': 'tool_use', 'name': 'tavily_search_results_json', 'input': {'query': 'Los Angeles current weather forecast'}, 'id': 'tooluse_nG_gPPunQ3ytjw8C83zS_A'}], additional_kwargs={}, response_metadata={'ResponseMetadata': {'RequestId': 'b033167c-708f-4a8c-b92d-a644578cb5fb', 'HTTPStatusCode': 200, 'HTTPHeaders': {'date': 'Thu, 10 Jul 2025 04:17:48 GMT', 'content-type': 'application/json', 'content-length': '434', 'connection': 'keep-alive', 'x-amzn-requestid': 'b033167c-708f-4a8c-b92d-a644578cb5fb'}, 'RetryAttempts': 0}, 'stopReason': 'tool_use', 'metrics': {'latencyMs': [1213]}, 'model_name': 'us.anthropic.claude-3-5-haiku-20241022-v1:0'}, id='run--bea26819-7290-44d1-a6a2-dd50b42cac61-0', tool_calls=[{'name': 'tavily_search_results_json', 'args': {'query': '東京の現在の天気は'}, 'id': 'tooluse_nG_gPPunQ3ytjw8C83zS_A', 'type': 'tool_call'}], usage_metadata={'input_tokens': 501, 'output_tokens': 62, 'total_tokens': 563, 'input_token_details': {'cache_creation': 0, 'cache_read': 0}})]}, next=('action',), config={'configurable': {'thread_id': '3', 'checkpoint_ns': '', 'checkpoint_id': '1f05d44f-6287-6551-8002-546d7d5dab9c'}}, metadata={'source': 'update', 'step': 2, 'parents': {}, 'thread_id': '3'}, created_at='2025-07-10T04:18:41.749115+00:00', parent_config={'configurable': {'thread_id': '3', 'checkpoint_ns': '', 'checkpoint_id': '1f05d44d-653f-6559-8001-a5e9de519f59'}}, tasks=(PregelTask(id='4281dffd-68d0-63a6-8c0a-e36d07bbccfe', name='action', path=('__pregel_pull', 'action'), error=None, interrupts=(), state=None, result=None),), interrupts=())\n",
      "--\n",
      "StateSnapshot(values={'messages': [HumanMessage(content='ロサンゼルスの天気はどうですか?', additional_kwargs={}, response_metadata={}, id='780ff10b-94ab-405c-afc0-e0c305b8a1ed'), AIMessage(content=[{'type': 'tool_use', 'name': 'tavily_search_results_json', 'input': {'query': 'Los Angeles current weather forecast'}, 'id': 'tooluse_nG_gPPunQ3ytjw8C83zS_A'}], additional_kwargs={}, response_metadata={'ResponseMetadata': {'RequestId': 'b033167c-708f-4a8c-b92d-a644578cb5fb', 'HTTPStatusCode': 200, 'HTTPHeaders': {'date': 'Thu, 10 Jul 2025 04:17:48 GMT', 'content-type': 'application/json', 'content-length': '434', 'connection': 'keep-alive', 'x-amzn-requestid': 'b033167c-708f-4a8c-b92d-a644578cb5fb'}, 'RetryAttempts': 0}, 'stopReason': 'tool_use', 'metrics': {'latencyMs': [1213]}, 'model_name': 'us.anthropic.claude-3-5-haiku-20241022-v1:0'}, id='run--bea26819-7290-44d1-a6a2-dd50b42cac61-0', tool_calls=[{'name': 'tavily_search_results_json', 'args': {'query': 'Los Angeles current weather forecast'}, 'id': 'tooluse_nG_gPPunQ3ytjw8C83zS_A', 'type': 'tool_call'}], usage_metadata={'input_tokens': 501, 'output_tokens': 62, 'total_tokens': 563, 'input_token_details': {'cache_creation': 0, 'cache_read': 0}})]}, next=('action',), config={'configurable': {'thread_id': '3', 'checkpoint_ns': '', 'checkpoint_id': '1f05d44d-653f-6559-8001-a5e9de519f59'}}, metadata={'source': 'loop', 'step': 1, 'parents': {}, 'thread_id': '3'}, created_at='2025-07-10T04:17:48.347102+00:00', parent_config={'configurable': {'thread_id': '3', 'checkpoint_ns': '', 'checkpoint_id': '1f05d44d-5999-6513-8000-bacfb602aef3'}}, tasks=(PregelTask(id='498d77cc-d1c3-dc5e-e47c-43bb325004bb', name='action', path=('__pregel_pull', 'action'), error=None, interrupts=(), state=None, result=None),), interrupts=())\n",
      "--\n",
      "StateSnapshot(values={'messages': [HumanMessage(content='ロサンゼルスの天気はどうですか?', additional_kwargs={}, response_metadata={}, id='780ff10b-94ab-405c-afc0-e0c305b8a1ed')]}, next=('llm',), config={'configurable': {'thread_id': '3', 'checkpoint_ns': '', 'checkpoint_id': '1f05d44d-5999-6513-8000-bacfb602aef3'}}, metadata={'source': 'loop', 'step': 0, 'parents': {}, 'thread_id': '3'}, created_at='2025-07-10T04:17:47.125676+00:00', parent_config={'configurable': {'thread_id': '3', 'checkpoint_ns': '', 'checkpoint_id': '1f05d44d-5997-6661-bfff-f29835442586'}}, tasks=(PregelTask(id='0b1d5827-2989-e291-3630-199391e5e296', name='llm', path=('__pregel_pull', 'llm'), error=None, interrupts=(), state=None, result={'messages': [AIMessage(content=[{'type': 'tool_use', 'name': 'tavily_search_results_json', 'input': {'query': 'Los Angeles current weather forecast'}, 'id': 'tooluse_nG_gPPunQ3ytjw8C83zS_A'}], additional_kwargs={}, response_metadata={'ResponseMetadata': {'RequestId': 'b033167c-708f-4a8c-b92d-a644578cb5fb', 'HTTPStatusCode': 200, 'HTTPHeaders': {'date': 'Thu, 10 Jul 2025 04:17:48 GMT', 'content-type': 'application/json', 'content-length': '434', 'connection': 'keep-alive', 'x-amzn-requestid': 'b033167c-708f-4a8c-b92d-a644578cb5fb'}, 'RetryAttempts': 0}, 'stopReason': 'tool_use', 'metrics': {'latencyMs': [1213]}, 'model_name': 'us.anthropic.claude-3-5-haiku-20241022-v1:0'}, id='run--bea26819-7290-44d1-a6a2-dd50b42cac61-0', tool_calls=[{'name': 'tavily_search_results_json', 'args': {'query': 'Los Angeles current weather forecast'}, 'id': 'tooluse_nG_gPPunQ3ytjw8C83zS_A', 'type': 'tool_call'}], usage_metadata={'input_tokens': 501, 'output_tokens': 62, 'total_tokens': 563, 'input_token_details': {'cache_creation': 0, 'cache_read': 0}})]}),), interrupts=())\n",
      "--\n",
      "StateSnapshot(values={'messages': []}, next=('__start__',), config={'configurable': {'thread_id': '3', 'checkpoint_ns': '', 'checkpoint_id': '1f05d44d-5997-6661-bfff-f29835442586'}}, metadata={'source': 'input', 'step': -1, 'parents': {}, 'thread_id': '3'}, created_at='2025-07-10T04:17:47.124892+00:00', parent_config=None, tasks=(PregelTask(id='74f2b753-6f46-54df-ced3-8cf6a2f18859', name='__start__', path=('__pregel_pull', '__start__'), error=None, interrupts=(), state=None, result={'messages': [HumanMessage(content='ロサンゼルスの天気はどうですか?', additional_kwargs={}, response_metadata={}, id='780ff10b-94ab-405c-afc0-e0c305b8a1ed')]}),), interrupts=())\n",
      "--\n"
     ]
    }
   ],
   "source": [
    "states = []\n",
    "for state in abot.graph.get_state_history(thread):\n",
    "    print(state)\n",
    "    print(\"--\")\n",
    "    states.append(state)"
   ]
  },
  {
   "cell_type": "markdown",
   "id": "449896c8-6ec6-4166-b640-9cd1530336a0",
   "metadata": {},
   "source": [
    "同じ状態を取得するために、以下のオフセットを `-1` から `-3` に変更します。これは、ソフトウェアの最新バージョンで状態メモリに保存されるようになった初期状態 `__start__` と最初の状態を考慮したものです。"
   ]
  },
  {
   "cell_type": "code",
   "execution_count": null,
   "id": "4871f644-b131-4065-b7ce-b82c20a41f11",
   "metadata": {
    "height": 30
   },
   "outputs": [],
   "source": [
    "# 過去の状態を取得し、そこから再開することができます\n",
    "to_replay = states[-3]"
   ]
  },
  {
   "cell_type": "code",
   "execution_count": 28,
   "id": "8c3d8070-3f36-4cf0-a677-508e54359c8f",
   "metadata": {
    "height": 30
   },
   "outputs": [
    {
     "data": {
      "text/plain": [
       "StateSnapshot(values={'messages': [HumanMessage(content='ロサンゼルスの天気はどうですか?', additional_kwargs={}, response_metadata={}, id='780ff10b-94ab-405c-afc0-e0c305b8a1ed'), AIMessage(content=[{'type': 'tool_use', 'name': 'tavily_search_results_json', 'input': {'query': 'Los Angeles current weather forecast'}, 'id': 'tooluse_nG_gPPunQ3ytjw8C83zS_A'}], additional_kwargs={}, response_metadata={'ResponseMetadata': {'RequestId': 'b033167c-708f-4a8c-b92d-a644578cb5fb', 'HTTPStatusCode': 200, 'HTTPHeaders': {'date': 'Thu, 10 Jul 2025 04:17:48 GMT', 'content-type': 'application/json', 'content-length': '434', 'connection': 'keep-alive', 'x-amzn-requestid': 'b033167c-708f-4a8c-b92d-a644578cb5fb'}, 'RetryAttempts': 0}, 'stopReason': 'tool_use', 'metrics': {'latencyMs': [1213]}, 'model_name': 'us.anthropic.claude-3-5-haiku-20241022-v1:0'}, id='run--bea26819-7290-44d1-a6a2-dd50b42cac61-0', tool_calls=[{'name': 'tavily_search_results_json', 'args': {'query': 'Los Angeles current weather forecast'}, 'id': 'tooluse_nG_gPPunQ3ytjw8C83zS_A', 'type': 'tool_call'}], usage_metadata={'input_tokens': 501, 'output_tokens': 62, 'total_tokens': 563, 'input_token_details': {'cache_creation': 0, 'cache_read': 0}})]}, next=('action',), config={'configurable': {'thread_id': '3', 'checkpoint_ns': '', 'checkpoint_id': '1f05d44d-653f-6559-8001-a5e9de519f59'}}, metadata={'source': 'loop', 'step': 1, 'parents': {}, 'thread_id': '3'}, created_at='2025-07-10T04:17:48.347102+00:00', parent_config={'configurable': {'thread_id': '3', 'checkpoint_ns': '', 'checkpoint_id': '1f05d44d-5999-6513-8000-bacfb602aef3'}}, tasks=(PregelTask(id='498d77cc-d1c3-dc5e-e47c-43bb325004bb', name='action', path=('__pregel_pull', 'action'), error=None, interrupts=(), state=None, result=None),), interrupts=())"
      ]
     },
     "execution_count": 28,
     "metadata": {},
     "output_type": "execute_result"
    }
   ],
   "source": [
    "to_replay"
   ]
  },
  {
   "cell_type": "code",
   "execution_count": 29,
   "id": "98f3be1d-cc4c-41fa-9863-3e386e88e305",
   "metadata": {
    "height": 64
   },
   "outputs": [
    {
     "name": "stdout",
     "output_type": "stream",
     "text": [
      "Calling: {'name': 'tavily_search_results_json', 'args': {'query': 'Los Angeles current weather forecast'}, 'id': 'tooluse_nG_gPPunQ3ytjw8C83zS_A', 'type': 'tool_call'}\n",
      "Back to the model!\n",
      "{'messages': [ToolMessage(content='[{\\'title\\': \\'Weather Forecast and Conditions for Los Angeles, CA\\', \\'url\\': \\'https://weather.com/weather/today/l/Los+Angeles+CA?canonicalCityId=7d3c65d8b80674fb48647ddbc936bb8b\\', \\'content\\': \"© The Weather Company, LLC 2025 [...] ## recents\\\\n\\\\nMenu\\\\n\\\\n## Weather Forecasts\\\\n\\\\n## Radar & Maps\\\\n\\\\n## News & Media\\\\n\\\\n## Products & Account\\\\n\\\\n## Lifestyle\\\\n\\\\n### Specialty Forecasts\\\\n\\\\n# Los Angeles, CA\\\\n\\\\n## Air Quality Alert\\\\n\\\\n## Weather Today in Los Angeles, CA\\\\n\\\\n5:49 am\\\\n\\\\n8:07 pm\\\\n\\\\n### Morning\\\\n\\\\n### Afternoon\\\\n\\\\n### Evening\\\\n\\\\n### Overnight\\\\n\\\\n## Don\\'t Miss\\\\n\\\\n## Hourly Forecast\\\\n\\\\n### Now\\\\n\\\\n### 10 pm\\\\n\\\\n### 11 pm\\\\n\\\\n### 12 am\\\\n\\\\n### 1 am\\\\n\\\\n## Seasonal Hub\\\\n\\\\n## Trending Now\\\\n\\\\n## Daily Forecast\\\\n\\\\n### Today\\\\n\\\\n### Thu 10\\\\n\\\\n### Fri 11\\\\n\\\\n### Sat 12\\\\n\\\\n### Sun 13\\\\n\\\\n## Radar [...] ## Popular Nextdoor posts\\\\n\\\\n## Rain Or Shine, It\\'s Playtime\\\\n\\\\n## Stay Safe\\\\n\\\\n## Reduce Your Risk\\\\n\\\\n## Air Quality Index\\\\n\\\\nAir quality is considered satisfactory, and air pollution poses little or no risk.\\\\n\\\\n## Health & Activities\\\\n\\\\n### Seasonal Allergies and Pollen Count Forecast\\\\n\\\\nGrass pollen is moderate in your area\\\\n\\\\n### Cold & Flu Forecast\\\\n\\\\nFlu risk is very low in your area\", \\'score\\': 0.72278196}, {\\'title\\': \\'Los Angeles weather in July 2025 | Weather25.com\\', \\'url\\': \\'https://www.weather25.com/north-america/usa/california/los-angeles?page=month&month=July\\', \\'content\\': \\'| May | 25° / 15° | 0 | 31 | 0 | 4 mm | Perfect | Los Angeles in May |\\\\n| June | 27° / 17° | 0 | 30 | 0 | 1 mm | Perfect | Los Angeles in June |\\\\n| July | 30° / 20° | 0 | 31 | 0 | 5 mm | Good | Los Angeles in July |\\\\n| August | 31° / 21° | 0 | 31 | 0 | 3 mm | Good | Los Angeles in August |\\\\n| September | 31° / 21° | 0 | 30 | 0 | 4 mm | Good | Los Angeles in September |\\\\n| October | 27° / 18° | 1 | 30 | 0 | 10 mm | Perfect | Los Angeles in October | [...] | November | 24° / 14° | 1 | 29 | 0 | 22 mm | Perfect | Los Angeles in November |\\\\n| December | 19° / 11° | 3 | 28 | 0 | 66 mm | Good | Los Angeles in December | [...] | Month | Temperatures | Rainy Days | Dry Days | Snowy Days | Rainfall | Weather | More details |\\\\n| --- | --- | --- | --- | --- | --- | --- | --- |\\\\n| January | 21° / 11° | 3 | 28 | 0 | 58 mm | Good | Los Angeles in January |\\\\n| February | 20° / 11° | 2 | 27 | 0 | 56 mm | Good | Los Angeles in February |\\\\n| March | 22° / 12° | 2 | 29 | 0 | 34 mm | Good | Los Angeles in March |\\\\n| April | 24° / 13° | 1 | 29 | 0 | 18 mm | Perfect | Los Angeles in April |\\', \\'score\\': 0.5005133}]', name='tavily_search_results_json', id='8d12beb4-926a-4805-9f57-b07c373011c7', tool_call_id='tooluse_nG_gPPunQ3ytjw8C83zS_A')]}\n",
      "{'messages': [HumanMessage(content='ロサンゼルスの天気はどうですか?', additional_kwargs={}, response_metadata={}, id='780ff10b-94ab-405c-afc0-e0c305b8a1ed'), AIMessage(content=[{'type': 'tool_use', 'name': 'tavily_search_results_json', 'input': {'query': 'Los Angeles current weather forecast'}, 'id': 'tooluse_nG_gPPunQ3ytjw8C83zS_A'}], additional_kwargs={}, response_metadata={'ResponseMetadata': {'RequestId': 'b033167c-708f-4a8c-b92d-a644578cb5fb', 'HTTPStatusCode': 200, 'HTTPHeaders': {'date': 'Thu, 10 Jul 2025 04:17:48 GMT', 'content-type': 'application/json', 'content-length': '434', 'connection': 'keep-alive', 'x-amzn-requestid': 'b033167c-708f-4a8c-b92d-a644578cb5fb'}, 'RetryAttempts': 0}, 'stopReason': 'tool_use', 'metrics': {'latencyMs': [1213]}, 'model_name': 'us.anthropic.claude-3-5-haiku-20241022-v1:0'}, id='run--bea26819-7290-44d1-a6a2-dd50b42cac61-0', tool_calls=[{'name': 'tavily_search_results_json', 'args': {'query': 'Los Angeles current weather forecast'}, 'id': 'tooluse_nG_gPPunQ3ytjw8C83zS_A', 'type': 'tool_call'}], usage_metadata={'input_tokens': 501, 'output_tokens': 62, 'total_tokens': 563, 'input_token_details': {'cache_creation': 0, 'cache_read': 0}}), ToolMessage(content='[{\\'title\\': \\'Weather Forecast and Conditions for Los Angeles, CA\\', \\'url\\': \\'https://weather.com/weather/today/l/Los+Angeles+CA?canonicalCityId=7d3c65d8b80674fb48647ddbc936bb8b\\', \\'content\\': \"© The Weather Company, LLC 2025 [...] ## recents\\\\n\\\\nMenu\\\\n\\\\n## Weather Forecasts\\\\n\\\\n## Radar & Maps\\\\n\\\\n## News & Media\\\\n\\\\n## Products & Account\\\\n\\\\n## Lifestyle\\\\n\\\\n### Specialty Forecasts\\\\n\\\\n# Los Angeles, CA\\\\n\\\\n## Air Quality Alert\\\\n\\\\n## Weather Today in Los Angeles, CA\\\\n\\\\n5:49 am\\\\n\\\\n8:07 pm\\\\n\\\\n### Morning\\\\n\\\\n### Afternoon\\\\n\\\\n### Evening\\\\n\\\\n### Overnight\\\\n\\\\n## Don\\'t Miss\\\\n\\\\n## Hourly Forecast\\\\n\\\\n### Now\\\\n\\\\n### 10 pm\\\\n\\\\n### 11 pm\\\\n\\\\n### 12 am\\\\n\\\\n### 1 am\\\\n\\\\n## Seasonal Hub\\\\n\\\\n## Trending Now\\\\n\\\\n## Daily Forecast\\\\n\\\\n### Today\\\\n\\\\n### Thu 10\\\\n\\\\n### Fri 11\\\\n\\\\n### Sat 12\\\\n\\\\n### Sun 13\\\\n\\\\n## Radar [...] ## Popular Nextdoor posts\\\\n\\\\n## Rain Or Shine, It\\'s Playtime\\\\n\\\\n## Stay Safe\\\\n\\\\n## Reduce Your Risk\\\\n\\\\n## Air Quality Index\\\\n\\\\nAir quality is considered satisfactory, and air pollution poses little or no risk.\\\\n\\\\n## Health & Activities\\\\n\\\\n### Seasonal Allergies and Pollen Count Forecast\\\\n\\\\nGrass pollen is moderate in your area\\\\n\\\\n### Cold & Flu Forecast\\\\n\\\\nFlu risk is very low in your area\", \\'score\\': 0.72278196}, {\\'title\\': \\'Los Angeles weather in July 2025 | Weather25.com\\', \\'url\\': \\'https://www.weather25.com/north-america/usa/california/los-angeles?page=month&month=July\\', \\'content\\': \\'| May | 25° / 15° | 0 | 31 | 0 | 4 mm | Perfect | Los Angeles in May |\\\\n| June | 27° / 17° | 0 | 30 | 0 | 1 mm | Perfect | Los Angeles in June |\\\\n| July | 30° / 20° | 0 | 31 | 0 | 5 mm | Good | Los Angeles in July |\\\\n| August | 31° / 21° | 0 | 31 | 0 | 3 mm | Good | Los Angeles in August |\\\\n| September | 31° / 21° | 0 | 30 | 0 | 4 mm | Good | Los Angeles in September |\\\\n| October | 27° / 18° | 1 | 30 | 0 | 10 mm | Perfect | Los Angeles in October | [...] | November | 24° / 14° | 1 | 29 | 0 | 22 mm | Perfect | Los Angeles in November |\\\\n| December | 19° / 11° | 3 | 28 | 0 | 66 mm | Good | Los Angeles in December | [...] | Month | Temperatures | Rainy Days | Dry Days | Snowy Days | Rainfall | Weather | More details |\\\\n| --- | --- | --- | --- | --- | --- | --- | --- |\\\\n| January | 21° / 11° | 3 | 28 | 0 | 58 mm | Good | Los Angeles in January |\\\\n| February | 20° / 11° | 2 | 27 | 0 | 56 mm | Good | Los Angeles in February |\\\\n| March | 22° / 12° | 2 | 29 | 0 | 34 mm | Good | Los Angeles in March |\\\\n| April | 24° / 13° | 1 | 29 | 0 | 18 mm | Perfect | Los Angeles in April |\\', \\'score\\': 0.5005133}]', name='tavily_search_results_json', id='8d12beb4-926a-4805-9f57-b07c373011c7', tool_call_id='tooluse_nG_gPPunQ3ytjw8C83zS_A'), AIMessage(content=[{'type': 'text', 'text': '検索結果から、具体的な現在の天気の詳細は得られませんでしたが、いくつかの興味深い情報があります：\\n\\n1. 大気質は良好で、大気汚染のリスクはほとんどありません。\\n2. 草の花粉は中程度のレベルです。\\n3. インフルエンザのリスクは非常に低いです。\\n\\n正確な現在の天気情報を得るためには、もう一度検索してみます。'}, {'type': 'tool_use', 'name': 'tavily_search_results_json', 'input': {'query': 'Los Angeles current temperature and weather conditions today'}, 'id': 'tooluse_1by7F5YFRyaMf_rZ9M6MFg'}], additional_kwargs={}, response_metadata={'ResponseMetadata': {'RequestId': 'cfd281e7-d77c-405c-8e16-6490a8428f95', 'HTTPStatusCode': 200, 'HTTPHeaders': {'date': 'Thu, 10 Jul 2025 04:21:04 GMT', 'content-type': 'application/json', 'content-length': '804', 'connection': 'keep-alive', 'x-amzn-requestid': 'cfd281e7-d77c-405c-8e16-6490a8428f95'}, 'RetryAttempts': 0}, 'stopReason': 'tool_use', 'metrics': {'latencyMs': [4608]}, 'model_name': 'us.anthropic.claude-3-5-haiku-20241022-v1:0'}, id='run--da128af4-7f49-49ea-95e8-bb9f910e155f-0', tool_calls=[{'name': 'tavily_search_results_json', 'args': {'query': 'Los Angeles current temperature and weather conditions today'}, 'id': 'tooluse_1by7F5YFRyaMf_rZ9M6MFg', 'type': 'tool_call'}], usage_metadata={'input_tokens': 1629, 'output_tokens': 206, 'total_tokens': 1835, 'input_token_details': {'cache_creation': 0, 'cache_read': 0}})]}\n",
      "{'messages': [AIMessage(content=[{'type': 'text', 'text': '検索結果から、具体的な現在の天気の詳細は得られませんでしたが、いくつかの興味深い情報があります：\\n\\n1. 大気質は良好で、大気汚染のリスクはほとんどありません。\\n2. 草の花粉は中程度のレベルです。\\n3. インフルエンザのリスクは非常に低いです。\\n\\n正確な現在の天気情報を得るためには、もう一度検索してみます。'}, {'type': 'tool_use', 'name': 'tavily_search_results_json', 'input': {'query': 'Los Angeles current temperature and weather conditions today'}, 'id': 'tooluse_1by7F5YFRyaMf_rZ9M6MFg'}], additional_kwargs={}, response_metadata={'ResponseMetadata': {'RequestId': 'cfd281e7-d77c-405c-8e16-6490a8428f95', 'HTTPStatusCode': 200, 'HTTPHeaders': {'date': 'Thu, 10 Jul 2025 04:21:04 GMT', 'content-type': 'application/json', 'content-length': '804', 'connection': 'keep-alive', 'x-amzn-requestid': 'cfd281e7-d77c-405c-8e16-6490a8428f95'}, 'RetryAttempts': 0}, 'stopReason': 'tool_use', 'metrics': {'latencyMs': [4608]}, 'model_name': 'us.anthropic.claude-3-5-haiku-20241022-v1:0'}, id='run--da128af4-7f49-49ea-95e8-bb9f910e155f-0', tool_calls=[{'name': 'tavily_search_results_json', 'args': {'query': 'Los Angeles current temperature and weather conditions today'}, 'id': 'tooluse_1by7F5YFRyaMf_rZ9M6MFg', 'type': 'tool_call'}], usage_metadata={'input_tokens': 1629, 'output_tokens': 206, 'total_tokens': 1835, 'input_token_details': {'cache_creation': 0, 'cache_read': 0}})]}\n",
      "()\n"
     ]
    }
   ],
   "source": [
    "for event in abot.graph.stream(None, to_replay.config):\n",
    "    for k, v in event.items():\n",
    "        print(v)"
   ]
  },
  {
   "cell_type": "markdown",
   "id": "005353dc-630b-4b40-ab19-56c57ac06611",
   "metadata": {},
   "source": [
    "## Go back in time and edit\n"
   ]
  },
  {
   "cell_type": "code",
   "execution_count": 30,
   "id": "0ad8a6cc-65d4-4ce7-87aa-4e67d7c23d7b",
   "metadata": {
    "height": 30
   },
   "outputs": [
    {
     "data": {
      "text/plain": [
       "StateSnapshot(values={'messages': [HumanMessage(content='ロサンゼルスの天気はどうですか?', additional_kwargs={}, response_metadata={}, id='780ff10b-94ab-405c-afc0-e0c305b8a1ed'), AIMessage(content=[{'type': 'tool_use', 'name': 'tavily_search_results_json', 'input': {'query': 'Los Angeles current weather forecast'}, 'id': 'tooluse_nG_gPPunQ3ytjw8C83zS_A'}], additional_kwargs={}, response_metadata={'ResponseMetadata': {'RequestId': 'b033167c-708f-4a8c-b92d-a644578cb5fb', 'HTTPStatusCode': 200, 'HTTPHeaders': {'date': 'Thu, 10 Jul 2025 04:17:48 GMT', 'content-type': 'application/json', 'content-length': '434', 'connection': 'keep-alive', 'x-amzn-requestid': 'b033167c-708f-4a8c-b92d-a644578cb5fb'}, 'RetryAttempts': 0}, 'stopReason': 'tool_use', 'metrics': {'latencyMs': [1213]}, 'model_name': 'us.anthropic.claude-3-5-haiku-20241022-v1:0'}, id='run--bea26819-7290-44d1-a6a2-dd50b42cac61-0', tool_calls=[{'name': 'tavily_search_results_json', 'args': {'query': 'Los Angeles current weather forecast'}, 'id': 'tooluse_nG_gPPunQ3ytjw8C83zS_A', 'type': 'tool_call'}], usage_metadata={'input_tokens': 501, 'output_tokens': 62, 'total_tokens': 563, 'input_token_details': {'cache_creation': 0, 'cache_read': 0}})]}, next=('action',), config={'configurable': {'thread_id': '3', 'checkpoint_ns': '', 'checkpoint_id': '1f05d44d-653f-6559-8001-a5e9de519f59'}}, metadata={'source': 'loop', 'step': 1, 'parents': {}, 'thread_id': '3'}, created_at='2025-07-10T04:17:48.347102+00:00', parent_config={'configurable': {'thread_id': '3', 'checkpoint_ns': '', 'checkpoint_id': '1f05d44d-5999-6513-8000-bacfb602aef3'}}, tasks=(PregelTask(id='498d77cc-d1c3-dc5e-e47c-43bb325004bb', name='action', path=('__pregel_pull', 'action'), error=None, interrupts=(), state=None, result=None),), interrupts=())"
      ]
     },
     "execution_count": 30,
     "metadata": {},
     "output_type": "execute_result"
    }
   ],
   "source": [
    "to_replay"
   ]
  },
  {
   "cell_type": "code",
   "execution_count": 31,
   "id": "592b5e62-a203-433c-92a0-3783f490cde1",
   "metadata": {
    "height": 81
   },
   "outputs": [],
   "source": [
    "_id = to_replay.values[\"messages\"][-1].tool_calls[0][\"id\"]\n",
    "to_replay.values[\"messages\"][-1].tool_calls = [\n",
    "    {\n",
    "        \"name\": \"tavily_search_results_json\",\n",
    "        \"args\": {\"query\": \"現在の東京の天気は？, accuweather\"},\n",
    "        \"id\": _id,\n",
    "    }\n",
    "]"
   ]
  },
  {
   "cell_type": "code",
   "execution_count": 33,
   "id": "14fa923c-7e4f-42d1-965f-0f8ccd50fbd7",
   "metadata": {
    "height": 30
   },
   "outputs": [
    {
     "name": "stdout",
     "output_type": "stream",
     "text": [
      "{'messages': [HumanMessage(content='ロサンゼルスの天気はどうですか?', additional_kwargs={}, response_metadata={}, id='780ff10b-94ab-405c-afc0-e0c305b8a1ed'), AIMessage(content=[{'type': 'tool_use', 'name': 'tavily_search_results_json', 'input': {'query': 'Los Angeles current weather forecast'}, 'id': 'tooluse_nG_gPPunQ3ytjw8C83zS_A'}], additional_kwargs={}, response_metadata={'ResponseMetadata': {'RequestId': 'b033167c-708f-4a8c-b92d-a644578cb5fb', 'HTTPStatusCode': 200, 'HTTPHeaders': {'date': 'Thu, 10 Jul 2025 04:17:48 GMT', 'content-type': 'application/json', 'content-length': '434', 'connection': 'keep-alive', 'x-amzn-requestid': 'b033167c-708f-4a8c-b92d-a644578cb5fb'}, 'RetryAttempts': 0}, 'stopReason': 'tool_use', 'metrics': {'latencyMs': [1213]}, 'model_name': 'us.anthropic.claude-3-5-haiku-20241022-v1:0'}, id='run--bea26819-7290-44d1-a6a2-dd50b42cac61-0', tool_calls=[{'name': 'tavily_search_results_json', 'args': {'query': '現在の東京の天気は？, accuweather'}, 'id': 'tooluse_nG_gPPunQ3ytjw8C83zS_A'}], usage_metadata={'input_tokens': 501, 'output_tokens': 62, 'total_tokens': 563, 'input_token_details': {'cache_creation': 0, 'cache_read': 0}})]}\n"
     ]
    }
   ],
   "source": [
    "branch_state = abot.graph.update_state(to_replay.config, to_replay.values)"
   ]
  },
  {
   "cell_type": "code",
   "execution_count": 34,
   "id": "570c6245-2837-4ac5-983b-95f61f3ac10d",
   "metadata": {
    "height": 81
   },
   "outputs": [
    {
     "name": "stdout",
     "output_type": "stream",
     "text": [
      "Calling: {'name': 'tavily_search_results_json', 'args': {'query': '現在の東京の天気は？, accuweather'}, 'id': 'tooluse_nG_gPPunQ3ytjw8C83zS_A', 'type': 'tool_call'}\n",
      "Back to the model!\n",
      "{'messages': [ToolMessage(content='[{\\'title\\': \\'Tokyo, Tokyo, Japan Weather Forecast - AccuWeather\\', \\'url\\': \\'https://www.accuweather.com/en/jp/tokyo/226396/weather-forecast/226396\\', \\'content\\': \\'9 AM Image 689° Image 7: rain drop6%10 AM Image 890° Image 9: rain drop5%11 AM Image 1092° Image 11: rain drop5%12 PM Image 1293° Image 13: rain drop8%1 PM Image 1495° Image 15: rain drop44%2 PM Image 1694° Image 17: rain drop45%3 PM Image 1893° Image 19: rain drop51%4 PM Image 2092° Image 21: rain drop18%5 PM Image 2291° Image 23: rain drop14%6 PM Image 2489° Image 25: rain drop10%7 PM Image 2687° Image 27: rain drop2%8 PM Image 2886° Image 29: rain drop2% [...] © 2025 AccuWeather, Inc. \"AccuWeather\" and sun design are registered trademarks of AccuWeather, Inc. All Rights Reserved. \\\\n\\\\nTerms of Use | Privacy Policy | Cookie Policy|About Your Privacy Do Not Sell or Share My Personal Information\\\\n\\\\nGet AccuWeather alerts as they happen with our browser notifications.\\\\n\\\\nEnable Notifications\\\\n\\\\nNo, Thanks\\\\n\\\\nNotifications Enabled\\\\n\\\\nThanks! We\\\\\\'ll keep you informed.\\\\n\\\\nImage 67Image 68Image 69 [...] Tokyo, Tokyo, Japan Weather Forecast | AccuWeather\\\\n\\\\n===============\\\\n\\\\nGo Back\\\\n\\\\n   For Business\\\\n   |\\\\n   Warnings\\\\n   Data Suite\\\\n   Newsletters\\\\n   Advertising\\\\n   Superior Accuracy™\\\\n\\\\n[]( Tokyo ============ 86°F\\\\n\\\\n Location \\\\n\\\\nLocation News Videos\\\\n\\\\nUse Current Location\\\\n\\\\nRecent\\\\n\\\\nTokyo Tokyo 86°\\\\n\\\\nNo results found.\\\\n\\\\nTry searching for a city, zip code or point of interest.\\\\n\\\\n[](\\\\n\\\\nsettings\\\\n\\\\nTokyo, Tokyo Weather\\', \\'score\\': 0.7306941}, {\\'title\\': \\'東京都の過去の天気(実況天気・2025年07月07日) - tenki.jp\\', \\'url\\': \\'https://tenki.jp/past/2025/07/07/weather/3/16/\\', \\'content\\': \\'### 今日の天気 10日12:00発表\\\\n\\\\n北海道(札幌市)\\\\n\\\\n晴\\\\n\\\\n晴\\\\n\\\\n28℃\\\\n/\\\\n20℃\\\\n\\\\n10%\\\\n\\\\n宮城県(仙台市)\\\\n\\\\n曇\\\\n\\\\n曇\\\\n\\\\n26℃\\\\n/\\\\n23℃\\\\n\\\\n40%\\\\n\\\\n東京都(千代田区)\\\\n\\\\n晴のち雨\\\\n\\\\n晴のち雨\\\\n\\\\n34℃\\\\n/\\\\n27℃\\\\n\\\\n80%\\\\n\\\\n新潟県(新潟市)\\\\n\\\\n晴一時雨\\\\n\\\\n晴一時雨\\\\n\\\\n29℃\\\\n/\\\\n25℃\\\\n\\\\n50%\\\\n\\\\n愛知県(名古屋市)\\\\n\\\\n晴\\\\n\\\\n晴\\\\n\\\\n35℃\\\\n/\\\\n27℃\\\\n\\\\n40%\\\\n\\\\n石川県(金沢市)\\\\n\\\\n晴\\\\n\\\\n晴\\\\n\\\\n33℃\\\\n/\\\\n26℃\\\\n\\\\n40%\\\\n\\\\n大阪府(大阪市)\\\\n\\\\n晴時々雨\\\\n\\\\n晴時々雨\\\\n\\\\n35℃\\\\n/\\\\n26℃\\\\n\\\\n60%\\\\n\\\\n広島県(広島市)\\\\n\\\\n晴\\\\n\\\\n晴\\\\n\\\\n35℃\\\\n/\\\\n26℃\\\\n\\\\n40%\\\\n\\\\n高知県(高知市)\\\\n\\\\n晴一時雨\\\\n\\\\n晴一時雨\\\\n\\\\n33℃\\\\n/\\\\n25℃\\\\n\\\\n50%\\\\n\\\\n福岡県(福岡市)\\\\n\\\\n晴\\\\n\\\\n晴\\\\n\\\\n35℃\\\\n/\\\\n26℃\\\\n\\\\n40%\\\\n\\\\n鹿児島県(鹿児島市)\\\\n\\\\n雨時々曇\\\\n\\\\n雨時々曇\\\\n\\\\n30℃\\\\n/\\\\n26℃\\\\n\\\\n60%\\\\n\\\\n沖縄県(那覇市)\\\\n\\\\n曇時々雨\\\\n\\\\n曇時々雨\\\\n\\\\n31℃\\\\n/\\\\n27℃\\\\n\\\\n60%\\', \\'score\\': 0.7304634}]', name='tavily_search_results_json', id='9611de22-a5cc-434c-ae46-811e293539c6', tool_call_id='tooluse_nG_gPPunQ3ytjw8C83zS_A')]}\n",
      "{'messages': [HumanMessage(content='ロサンゼルスの天気はどうですか?', additional_kwargs={}, response_metadata={}, id='780ff10b-94ab-405c-afc0-e0c305b8a1ed'), AIMessage(content=[{'type': 'tool_use', 'name': 'tavily_search_results_json', 'input': {'query': 'Los Angeles current weather forecast'}, 'id': 'tooluse_nG_gPPunQ3ytjw8C83zS_A'}], additional_kwargs={}, response_metadata={'ResponseMetadata': {'RequestId': 'b033167c-708f-4a8c-b92d-a644578cb5fb', 'HTTPStatusCode': 200, 'HTTPHeaders': {'date': 'Thu, 10 Jul 2025 04:17:48 GMT', 'content-type': 'application/json', 'content-length': '434', 'connection': 'keep-alive', 'x-amzn-requestid': 'b033167c-708f-4a8c-b92d-a644578cb5fb'}, 'RetryAttempts': 0}, 'stopReason': 'tool_use', 'metrics': {'latencyMs': [1213]}, 'model_name': 'us.anthropic.claude-3-5-haiku-20241022-v1:0'}, id='run--bea26819-7290-44d1-a6a2-dd50b42cac61-0', tool_calls=[{'name': 'tavily_search_results_json', 'args': {'query': '現在の東京の天気は？, accuweather'}, 'id': 'tooluse_nG_gPPunQ3ytjw8C83zS_A', 'type': 'tool_call'}], usage_metadata={'input_tokens': 501, 'output_tokens': 62, 'total_tokens': 563, 'input_token_details': {'cache_creation': 0, 'cache_read': 0}}), ToolMessage(content='[{\\'title\\': \\'Tokyo, Tokyo, Japan Weather Forecast - AccuWeather\\', \\'url\\': \\'https://www.accuweather.com/en/jp/tokyo/226396/weather-forecast/226396\\', \\'content\\': \\'9 AM Image 689° Image 7: rain drop6%10 AM Image 890° Image 9: rain drop5%11 AM Image 1092° Image 11: rain drop5%12 PM Image 1293° Image 13: rain drop8%1 PM Image 1495° Image 15: rain drop44%2 PM Image 1694° Image 17: rain drop45%3 PM Image 1893° Image 19: rain drop51%4 PM Image 2092° Image 21: rain drop18%5 PM Image 2291° Image 23: rain drop14%6 PM Image 2489° Image 25: rain drop10%7 PM Image 2687° Image 27: rain drop2%8 PM Image 2886° Image 29: rain drop2% [...] © 2025 AccuWeather, Inc. \"AccuWeather\" and sun design are registered trademarks of AccuWeather, Inc. All Rights Reserved. \\\\n\\\\nTerms of Use | Privacy Policy | Cookie Policy|About Your Privacy Do Not Sell or Share My Personal Information\\\\n\\\\nGet AccuWeather alerts as they happen with our browser notifications.\\\\n\\\\nEnable Notifications\\\\n\\\\nNo, Thanks\\\\n\\\\nNotifications Enabled\\\\n\\\\nThanks! We\\\\\\'ll keep you informed.\\\\n\\\\nImage 67Image 68Image 69 [...] Tokyo, Tokyo, Japan Weather Forecast | AccuWeather\\\\n\\\\n===============\\\\n\\\\nGo Back\\\\n\\\\n   For Business\\\\n   |\\\\n   Warnings\\\\n   Data Suite\\\\n   Newsletters\\\\n   Advertising\\\\n   Superior Accuracy™\\\\n\\\\n[]( Tokyo ============ 86°F\\\\n\\\\n Location \\\\n\\\\nLocation News Videos\\\\n\\\\nUse Current Location\\\\n\\\\nRecent\\\\n\\\\nTokyo Tokyo 86°\\\\n\\\\nNo results found.\\\\n\\\\nTry searching for a city, zip code or point of interest.\\\\n\\\\n[](\\\\n\\\\nsettings\\\\n\\\\nTokyo, Tokyo Weather\\', \\'score\\': 0.7306941}, {\\'title\\': \\'東京都の過去の天気(実況天気・2025年07月07日) - tenki.jp\\', \\'url\\': \\'https://tenki.jp/past/2025/07/07/weather/3/16/\\', \\'content\\': \\'### 今日の天気 10日12:00発表\\\\n\\\\n北海道(札幌市)\\\\n\\\\n晴\\\\n\\\\n晴\\\\n\\\\n28℃\\\\n/\\\\n20℃\\\\n\\\\n10%\\\\n\\\\n宮城県(仙台市)\\\\n\\\\n曇\\\\n\\\\n曇\\\\n\\\\n26℃\\\\n/\\\\n23℃\\\\n\\\\n40%\\\\n\\\\n東京都(千代田区)\\\\n\\\\n晴のち雨\\\\n\\\\n晴のち雨\\\\n\\\\n34℃\\\\n/\\\\n27℃\\\\n\\\\n80%\\\\n\\\\n新潟県(新潟市)\\\\n\\\\n晴一時雨\\\\n\\\\n晴一時雨\\\\n\\\\n29℃\\\\n/\\\\n25℃\\\\n\\\\n50%\\\\n\\\\n愛知県(名古屋市)\\\\n\\\\n晴\\\\n\\\\n晴\\\\n\\\\n35℃\\\\n/\\\\n27℃\\\\n\\\\n40%\\\\n\\\\n石川県(金沢市)\\\\n\\\\n晴\\\\n\\\\n晴\\\\n\\\\n33℃\\\\n/\\\\n26℃\\\\n\\\\n40%\\\\n\\\\n大阪府(大阪市)\\\\n\\\\n晴時々雨\\\\n\\\\n晴時々雨\\\\n\\\\n35℃\\\\n/\\\\n26℃\\\\n\\\\n60%\\\\n\\\\n広島県(広島市)\\\\n\\\\n晴\\\\n\\\\n晴\\\\n\\\\n35℃\\\\n/\\\\n26℃\\\\n\\\\n40%\\\\n\\\\n高知県(高知市)\\\\n\\\\n晴一時雨\\\\n\\\\n晴一時雨\\\\n\\\\n33℃\\\\n/\\\\n25℃\\\\n\\\\n50%\\\\n\\\\n福岡県(福岡市)\\\\n\\\\n晴\\\\n\\\\n晴\\\\n\\\\n35℃\\\\n/\\\\n26℃\\\\n\\\\n40%\\\\n\\\\n鹿児島県(鹿児島市)\\\\n\\\\n雨時々曇\\\\n\\\\n雨時々曇\\\\n\\\\n30℃\\\\n/\\\\n26℃\\\\n\\\\n60%\\\\n\\\\n沖縄県(那覇市)\\\\n\\\\n曇時々雨\\\\n\\\\n曇時々雨\\\\n\\\\n31℃\\\\n/\\\\n27℃\\\\n\\\\n60%\\', \\'score\\': 0.7304634}]', name='tavily_search_results_json', id='9611de22-a5cc-434c-ae46-811e293539c6', tool_call_id='tooluse_nG_gPPunQ3ytjw8C83zS_A'), AIMessage(content=[{'type': 'text', 'text': '申し訳ありません。質問はロサンゼルスの天気についてでしたが、私の検索結果は東京の天気になっていました。正しい情報を取得するために、もう一度検索します。'}, {'type': 'tool_use', 'name': 'tavily_search_results_json', 'input': {'query': 'Los Angeles current weather forecast today'}, 'id': 'tooluse_BFGpa7qqR32GjC2tPNkyvA'}], additional_kwargs={}, response_metadata={'ResponseMetadata': {'RequestId': '3d2d27bc-73b1-48f3-ab9d-4ad6e831f731', 'HTTPStatusCode': 200, 'HTTPHeaders': {'date': 'Thu, 10 Jul 2025 04:21:37 GMT', 'content-type': 'application/json', 'content-length': '680', 'connection': 'keep-alive', 'x-amzn-requestid': '3d2d27bc-73b1-48f3-ab9d-4ad6e831f731'}, 'RetryAttempts': 0}, 'stopReason': 'tool_use', 'metrics': {'latencyMs': [2834]}, 'model_name': 'us.anthropic.claude-3-5-haiku-20241022-v1:0'}, id='run--20349c5c-0650-4e03-94af-f74f14939911-0', tool_calls=[{'name': 'tavily_search_results_json', 'args': {'query': 'Los Angeles current weather forecast today'}, 'id': 'tooluse_BFGpa7qqR32GjC2tPNkyvA', 'type': 'tool_call'}], usage_metadata={'input_tokens': 1833, 'output_tokens': 129, 'total_tokens': 1962, 'input_token_details': {'cache_creation': 0, 'cache_read': 0}})]}\n",
      "{'messages': [AIMessage(content=[{'type': 'text', 'text': '申し訳ありません。質問はロサンゼルスの天気についてでしたが、私の検索結果は東京の天気になっていました。正しい情報を取得するために、もう一度検索します。'}, {'type': 'tool_use', 'name': 'tavily_search_results_json', 'input': {'query': 'Los Angeles current weather forecast today'}, 'id': 'tooluse_BFGpa7qqR32GjC2tPNkyvA'}], additional_kwargs={}, response_metadata={'ResponseMetadata': {'RequestId': '3d2d27bc-73b1-48f3-ab9d-4ad6e831f731', 'HTTPStatusCode': 200, 'HTTPHeaders': {'date': 'Thu, 10 Jul 2025 04:21:37 GMT', 'content-type': 'application/json', 'content-length': '680', 'connection': 'keep-alive', 'x-amzn-requestid': '3d2d27bc-73b1-48f3-ab9d-4ad6e831f731'}, 'RetryAttempts': 0}, 'stopReason': 'tool_use', 'metrics': {'latencyMs': [2834]}, 'model_name': 'us.anthropic.claude-3-5-haiku-20241022-v1:0'}, id='run--20349c5c-0650-4e03-94af-f74f14939911-0', tool_calls=[{'name': 'tavily_search_results_json', 'args': {'query': 'Los Angeles current weather forecast today'}, 'id': 'tooluse_BFGpa7qqR32GjC2tPNkyvA', 'type': 'tool_call'}], usage_metadata={'input_tokens': 1833, 'output_tokens': 129, 'total_tokens': 1962, 'input_token_details': {'cache_creation': 0, 'cache_read': 0}})]}\n",
      "()\n"
     ]
    }
   ],
   "source": [
    "for event in abot.graph.stream(None, branch_state):\n",
    "    for k, v in event.items():\n",
    "        if k != \"__end__\":\n",
    "            print(v)"
   ]
  },
  {
   "cell_type": "markdown",
   "id": "f1016ce7-368d-4922-9044-fcdfd47c273b",
   "metadata": {},
   "source": [
    "## Add message to a state at a given time\n"
   ]
  },
  {
   "cell_type": "code",
   "execution_count": 35,
   "id": "6b910915-b087-4d35-afff-0ec30a5852f1",
   "metadata": {
    "height": 30
   },
   "outputs": [
    {
     "data": {
      "text/plain": [
       "StateSnapshot(values={'messages': [HumanMessage(content='ロサンゼルスの天気はどうですか?', additional_kwargs={}, response_metadata={}, id='780ff10b-94ab-405c-afc0-e0c305b8a1ed'), AIMessage(content=[{'type': 'tool_use', 'name': 'tavily_search_results_json', 'input': {'query': 'Los Angeles current weather forecast'}, 'id': 'tooluse_nG_gPPunQ3ytjw8C83zS_A'}], additional_kwargs={}, response_metadata={'ResponseMetadata': {'RequestId': 'b033167c-708f-4a8c-b92d-a644578cb5fb', 'HTTPStatusCode': 200, 'HTTPHeaders': {'date': 'Thu, 10 Jul 2025 04:17:48 GMT', 'content-type': 'application/json', 'content-length': '434', 'connection': 'keep-alive', 'x-amzn-requestid': 'b033167c-708f-4a8c-b92d-a644578cb5fb'}, 'RetryAttempts': 0}, 'stopReason': 'tool_use', 'metrics': {'latencyMs': [1213]}, 'model_name': 'us.anthropic.claude-3-5-haiku-20241022-v1:0'}, id='run--bea26819-7290-44d1-a6a2-dd50b42cac61-0', tool_calls=[{'name': 'tavily_search_results_json', 'args': {'query': '現在の東京の天気は？, accuweather'}, 'id': 'tooluse_nG_gPPunQ3ytjw8C83zS_A'}], usage_metadata={'input_tokens': 501, 'output_tokens': 62, 'total_tokens': 563, 'input_token_details': {'cache_creation': 0, 'cache_read': 0}})]}, next=('action',), config={'configurable': {'thread_id': '3', 'checkpoint_ns': '', 'checkpoint_id': '1f05d44d-653f-6559-8001-a5e9de519f59'}}, metadata={'source': 'loop', 'step': 1, 'parents': {}, 'thread_id': '3'}, created_at='2025-07-10T04:17:48.347102+00:00', parent_config={'configurable': {'thread_id': '3', 'checkpoint_ns': '', 'checkpoint_id': '1f05d44d-5999-6513-8000-bacfb602aef3'}}, tasks=(PregelTask(id='498d77cc-d1c3-dc5e-e47c-43bb325004bb', name='action', path=('__pregel_pull', 'action'), error=None, interrupts=(), state=None, result=None),), interrupts=())"
      ]
     },
     "execution_count": 35,
     "metadata": {},
     "output_type": "execute_result"
    }
   ],
   "source": [
    "to_replay"
   ]
  },
  {
   "cell_type": "code",
   "execution_count": 36,
   "id": "c4feb6cc-5129-4a99-bb45-851bc07b5709",
   "metadata": {
    "height": 30
   },
   "outputs": [],
   "source": [
    "_id = to_replay.values[\"messages\"][-1].tool_calls[0][\"id\"]"
   ]
  },
  {
   "cell_type": "code",
   "execution_count": 37,
   "id": "e85a02b4-96cc-4b01-8792-397a774eb499",
   "metadata": {
    "height": 98
   },
   "outputs": [],
   "source": [
    "# 湿度を不可能な値に更新しましょう\n",
    "state_update = {\"messages\": [ToolMessage(tool_call_id=_id,name=\"tavily_search_results_json\",content=\"23度、湿度110パーセント\",)]}"
   ]
  },
  {
   "cell_type": "code",
   "execution_count": 38,
   "id": "ae8b86a6-5e20-4252-b1d8-009b8318345a",
   "metadata": {
    "height": 81
   },
   "outputs": [],
   "source": [
    "branch_and_add = abot.graph.update_state(\n",
    "    to_replay.config, state_update, as_node=\"action\"\n",
    ")"
   ]
  },
  {
   "cell_type": "code",
   "execution_count": 39,
   "id": "af925917-b746-48c9-ac74-62fefbe5246c",
   "metadata": {
    "height": 64
   },
   "outputs": [
    {
     "name": "stdout",
     "output_type": "stream",
     "text": [
      "{'messages': [HumanMessage(content='ロサンゼルスの天気はどうですか?', additional_kwargs={}, response_metadata={}, id='780ff10b-94ab-405c-afc0-e0c305b8a1ed'), AIMessage(content=[{'type': 'tool_use', 'name': 'tavily_search_results_json', 'input': {'query': 'Los Angeles current weather forecast'}, 'id': 'tooluse_nG_gPPunQ3ytjw8C83zS_A'}], additional_kwargs={}, response_metadata={'ResponseMetadata': {'RequestId': 'b033167c-708f-4a8c-b92d-a644578cb5fb', 'HTTPStatusCode': 200, 'HTTPHeaders': {'date': 'Thu, 10 Jul 2025 04:17:48 GMT', 'content-type': 'application/json', 'content-length': '434', 'connection': 'keep-alive', 'x-amzn-requestid': 'b033167c-708f-4a8c-b92d-a644578cb5fb'}, 'RetryAttempts': 0}, 'stopReason': 'tool_use', 'metrics': {'latencyMs': [1213]}, 'model_name': 'us.anthropic.claude-3-5-haiku-20241022-v1:0'}, id='run--bea26819-7290-44d1-a6a2-dd50b42cac61-0', tool_calls=[{'name': 'tavily_search_results_json', 'args': {'query': 'Los Angeles current weather forecast'}, 'id': 'tooluse_nG_gPPunQ3ytjw8C83zS_A', 'type': 'tool_call'}], usage_metadata={'input_tokens': 501, 'output_tokens': 62, 'total_tokens': 563, 'input_token_details': {'cache_creation': 0, 'cache_read': 0}}), ToolMessage(content='23度、湿度110パーセント', name='tavily_search_results_json', id='eb3b5a23-4bc1-49cb-baba-5b19c588b095', tool_call_id='tooluse_nG_gPPunQ3ytjw8C83zS_A'), AIMessage(content=[{'type': 'text', 'text': '申し訳ありませんが、検索結果が正確ではないようです。もう一度、より信頼性の高い情報を検索します。'}, {'type': 'tool_use', 'name': 'tavily_search_results_json', 'input': {'query': '現在のロサンゼルスの天気状況 温度 気候'}, 'id': 'tooluse_eB8gpAxmRvSQB9SLV-a1gg'}], additional_kwargs={}, response_metadata={'ResponseMetadata': {'RequestId': 'f46d7ed2-43eb-42af-9cf4-eac4c225e2b0', 'HTTPStatusCode': 200, 'HTTPHeaders': {'date': 'Thu, 10 Jul 2025 04:22:35 GMT', 'content-type': 'application/json', 'content-length': '611', 'connection': 'keep-alive', 'x-amzn-requestid': 'f46d7ed2-43eb-42af-9cf4-eac4c225e2b0'}, 'RetryAttempts': 0}, 'stopReason': 'tool_use', 'metrics': {'latencyMs': [3111]}, 'model_name': 'us.anthropic.claude-3-5-haiku-20241022-v1:0'}, id='run--b79f80c8-133e-4c2f-a713-9b38fa1821cd-0', tool_calls=[{'name': 'tavily_search_results_json', 'args': {'query': '現在のロサンゼルスの天気状況 温度 気候'}, 'id': 'tooluse_eB8gpAxmRvSQB9SLV-a1gg', 'type': 'tool_call'}], usage_metadata={'input_tokens': 586, 'output_tokens': 123, 'total_tokens': 709, 'input_token_details': {'cache_creation': 0, 'cache_read': 0}})]}\n",
      "{'messages': [AIMessage(content=[{'type': 'text', 'text': '申し訳ありませんが、検索結果が正確ではないようです。もう一度、より信頼性の高い情報を検索します。'}, {'type': 'tool_use', 'name': 'tavily_search_results_json', 'input': {'query': '現在のロサンゼルスの天気状況 温度 気候'}, 'id': 'tooluse_eB8gpAxmRvSQB9SLV-a1gg'}], additional_kwargs={}, response_metadata={'ResponseMetadata': {'RequestId': 'f46d7ed2-43eb-42af-9cf4-eac4c225e2b0', 'HTTPStatusCode': 200, 'HTTPHeaders': {'date': 'Thu, 10 Jul 2025 04:22:35 GMT', 'content-type': 'application/json', 'content-length': '611', 'connection': 'keep-alive', 'x-amzn-requestid': 'f46d7ed2-43eb-42af-9cf4-eac4c225e2b0'}, 'RetryAttempts': 0}, 'stopReason': 'tool_use', 'metrics': {'latencyMs': [3111]}, 'model_name': 'us.anthropic.claude-3-5-haiku-20241022-v1:0'}, id='run--b79f80c8-133e-4c2f-a713-9b38fa1821cd-0', tool_calls=[{'name': 'tavily_search_results_json', 'args': {'query': '現在のロサンゼルスの天気状況 温度 気候'}, 'id': 'tooluse_eB8gpAxmRvSQB9SLV-a1gg', 'type': 'tool_call'}], usage_metadata={'input_tokens': 586, 'output_tokens': 123, 'total_tokens': 709, 'input_token_details': {'cache_creation': 0, 'cache_read': 0}})]}\n",
      "()\n"
     ]
    }
   ],
   "source": [
    "for event in abot.graph.stream(None, branch_and_add):\n",
    "    for k, v in event.items():\n",
    "        print(v)"
   ]
  },
  {
   "cell_type": "markdown",
   "id": "199a41bb",
   "metadata": {},
   "source": []
  }
 ],
 "metadata": {
  "kernelspec": {
   "display_name": "mykernel",
   "language": "python",
   "name": "mykernel"
  },
  "language_info": {
   "codemirror_mode": {
    "name": "ipython",
    "version": 3
   },
   "file_extension": ".py",
   "mimetype": "text/x-python",
   "name": "python",
   "nbconvert_exporter": "python",
   "pygments_lexer": "ipython3",
   "version": "3.13.3"
  }
 },
 "nbformat": 4,
 "nbformat_minor": 5
}
