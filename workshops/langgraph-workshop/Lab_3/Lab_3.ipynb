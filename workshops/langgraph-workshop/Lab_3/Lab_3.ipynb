{
 "cells": [
  {
   "cell_type": "markdown",
   "id": "2544dd96-a13c-42df-ab63-c427e68fd41e",
   "metadata": {},
   "source": [
    "# Lab 3: Agentic Search Tools\n"
   ]
  },
  {
   "cell_type": "markdown",
   "id": "575640a8",
   "metadata": {},
   "source": [
    "## 環境設定"
   ]
  },
  {
   "cell_type": "code",
   "execution_count": 1,
   "id": "d0168aee-bce9-4d60-b827-f86a88187e31",
   "metadata": {
    "height": 198
   },
   "outputs": [
    {
     "name": "stderr",
     "output_type": "stream",
     "text": [
      "[2025-07-09 18:54:25,669] p1141744 {utils.py:66} INFO - TAVILY_API_KEY variable correctly retrieved from the .env file.\n"
     ]
    }
   ],
   "source": [
    "from dotenv import load_dotenv\n",
    "import json\n",
    "import os\n",
    "import re\n",
    "import sys\n",
    "import warnings\n",
    "import boto3\n",
    "from botocore.config import Config\n",
    "warnings.filterwarnings(\"ignore\")\n",
    "import logging\n",
    "\n",
    "# ローカルモジュールのインポート\n",
    "dir_current = os.path.abspath(\"\")\n",
    "dir_parent = os.path.dirname(dir_current)\n",
    "if dir_parent not in sys.path:\n",
    "    sys.path.append(dir_parent)\n",
    "from utils import utils\n",
    "\n",
    "# 基本設定\n",
    "logger = utils.set_logger()  # ロガーの設定\n",
    "pp = utils.set_pretty_printer()  # 整形出力用のプリンターを設定\n",
    "\n",
    "# .envファイルまたはSecret Managerから環境変数を読み込む\n",
    "_ = load_dotenv(\"../.env\")\n",
    "aws_region = os.getenv(\"AWS_REGION\")  # AWS地域を環境変数から取得\n",
    "tavily_ai_api_key = utils.get_tavily_api(\"TAVILY_API_KEY\", aws_region)  # Tavily APIキーを取得\n",
    "\n",
    "# Bedrockの設定\n",
    "bedrock_config = Config(connect_timeout=120, read_timeout=120, retries={\"max_attempts\": 0})  # タイムアウトと再試行の設定\n",
    "\n",
    "# Bedrockランタイムクライアントの作成\n",
    "bedrock_rt = boto3.client(\"bedrock-runtime\", region_name=aws_region, config=bedrock_config)\n",
    "\n",
    "# 利用可能なモデルを確認するためのBedrockクライアントの作成\n",
    "bedrock = boto3.client(\"bedrock\", region_name=aws_region, config=bedrock_config)"
   ]
  },
  {
   "cell_type": "code",
   "execution_count": 3,
   "id": "a2ba84ec-c172-4de7-ac55-e3158a531b23",
   "metadata": {
    "height": 147
   },
   "outputs": [
    {
     "data": {
      "text/plain": [
       "'NVIDIAの新しいBlackwell GPUには、GDDR7メモリと第2世代Transformer Engineが搭載されています。最大30Gbpsの速度を持つGDDR7メモリが使用されています。'"
      ]
     },
     "execution_count": 3,
     "metadata": {},
     "output_type": "execute_result"
    }
   ],
   "source": [
    "from tavily import TavilyClient\n",
    "\n",
    "# TavilyClientの初期化 - 環境変数から取得したAPIキーを使用\n",
    "client = TavilyClient(api_key=tavily_ai_api_key)\n",
    "\n",
    "# 検索の実行 - NVIDIAの新しいBlackwell GPUについての情報を検索\n",
    "# include_answer=Trueを指定することで、検索結果だけでなく要約された回答も取得\n",
    "result = client.search(\"NVIDIAの新しいBlackwell GPUには何が搭載されていますか？\", include_answer=True)\n",
    "\n",
    "# 回答を出力\n",
    "# result[\"answer\"]には、検索結果から生成された要約回答が含まれている\n",
    "result[\"answer\"]"
   ]
  },
  {
   "cell_type": "markdown",
   "id": "d7f3f33c-c7bd-4b7f-9616-b65eef104514",
   "metadata": {},
   "source": [
    "## Regular search\n"
   ]
  },
  {
   "cell_type": "code",
   "execution_count": 4,
   "id": "876d5092-b8ef-4e38-b4d7-0e80c609bf7a",
   "metadata": {
    "height": 166
   },
   "outputs": [],
   "source": [
    "# choose location (try to change to your own city!)\n",
    "\n",
    "city = \"Tokyo\"\n",
    "\n",
    "# 天気情報と旅行の推奨に関する質問を作成\n",
    "# {city}は変数で、特定の都市名が代入される想定\n",
    "# 最後の\"weather.com\"は情報源を指定している可能性がある\n",
    "query = f\"\"\"現在の{city}の天気はどうですか？\n",
    "今日そこへ旅行すべきでしょうか？\n",
    "'weather.com'\"\"\""
   ]
  },
  {
   "cell_type": "markdown",
   "id": "2128e40f-11ef-41ed-ac1f-7feeb5546224",
   "metadata": {},
   "source": [
    "> 注意: 例外が発生した場合に予想される結果を返すように検索が修正されました。大量の学生トラフィックにより、レート制限の例外が発生することがあります。"
   ]
  },
  {
   "cell_type": "code",
   "execution_count": 6,
   "id": "10084a02-2928-4945-9f7c-ad3f5b33caf7",
   "metadata": {
    "height": 402
   },
   "outputs": [
    {
     "name": "stdout",
     "output_type": "stream",
     "text": [
      "https://www.youtube.com/\n",
      "https://www.youtube.com/feed\n",
      "https://support.google.com/youtube/?hl=en\n",
      "https://music.youtube.com/\n",
      "https://play.google.com/store/apps/details?id=com.google.android.youtube&hl=en-US\n",
      "https://support.google.com/youtube/answer/3227660?hl=en&co=GENIE.Platform=Android\n"
     ]
    },
    {
     "name": "stderr",
     "output_type": "stream",
     "text": [
      "/tmp/ipykernel_1141744/552516275.py:7: RuntimeWarning: This package (`duckduckgo_search`) has been renamed to `ddgs`! Use `pip install ddgs` instead.\n",
      "  ddg = DDGS()\n"
     ]
    }
   ],
   "source": [
    "import requests\n",
    "from bs4 import BeautifulSoup\n",
    "from duckduckgo_search import DDGS\n",
    "import re\n",
    "\n",
    "# DuckDuckGoの検索クライアントを初期化\n",
    "ddg = DDGS()\n",
    "\n",
    "def search(query, max_results=6):\n",
    "    try:\n",
    "        # DuckDuckGoで検索を実行し、指定された最大結果数を取得\n",
    "        results = ddg.text(query, max_results=max_results)\n",
    "        # 結果からURLのリストを返す\n",
    "        return [i[\"href\"] for i in results]\n",
    "    except Exception as e:\n",
    "        # 高トラフィック量によるDDGのレート制限などの例外が発生した場合\n",
    "        print(f\"DDGへのアクセスで例外が発生したため、事前に用意した結果を返します。\")\n",
    "        # 天気関連の検索結果をフォールバックとして提供\n",
    "        results = [  # 高トラフィック量によるDDGのレート制限の場合に備えて\n",
    "            \"https://weather.com/weather/today/l/USCA0987:1:US\",\n",
    "            \"https://weather.com/weather/hourbyhour/l/54f9d8baac32496f6b5497b4bf7a277c3e2e6cc5625de69680e6169e7e38e9a8\",\n",
    "        ]\n",
    "        return results\n",
    "\n",
    "# 検索を実行し、結果のURLを表示\n",
    "for i in search(query):\n",
    "    print(i)"
   ]
  },
  {
   "cell_type": "code",
   "execution_count": 7,
   "id": "d31c432d-8e22-412f-b302-961ace0b00bd",
   "metadata": {
    "height": 283
   },
   "outputs": [],
   "source": [
    "def scrape_weather_info(url):\n",
    "    \"\"\"指定されたURLからコンテンツをスクレイピングする\"\"\"\n",
    "    if not url:\n",
    "        return \"天気情報が見つかりませんでした。\"\n",
    "    \n",
    "    # データを取得\n",
    "    # User-Agentヘッダーを設定してブラウザからのリクエストに見せかける\n",
    "    headers = {\"User-Agent\": \"Mozilla/5.0\"}\n",
    "    response = requests.get(url, headers=headers)\n",
    "    \n",
    "    # レスポンスのステータスコードをチェック\n",
    "    if response.status_code != 200:\n",
    "        return \"ウェブページの取得に失敗しました。\"\n",
    "    \n",
    "    # 結果を解析\n",
    "    # BeautifulSoupを使用してHTMLを解析し、操作可能なオブジェクトに変換\n",
    "    soup = BeautifulSoup(response.text, \"html.parser\")\n",
    "    return soup"
   ]
  },
  {
   "cell_type": "markdown",
   "id": "0b67d8ad-a439-4c91-9dfe-7c84998ef644",
   "metadata": {},
   "source": [
    "> 注意: これは長い出力を生成します。簡単に確認した後、スクロールを避けるために右クリックしてセル出力をクリアすることをお勧めします。"
   ]
  },
  {
   "cell_type": "code",
   "execution_count": 9,
   "id": "714d1205-f8fc-4912-b148-2a45da99219c",
   "metadata": {
    "height": 164
   },
   "outputs": [
    {
     "name": "stdout",
     "output_type": "stream",
     "text": [
      "Website: https://www.credit-agricole.fr/particulier/conseils/magazine/tout-un-mag/vos-comptes-en-ligne-a-vous-la-liberte.html\n",
      "\n",
      "\n",
      "<body>\n",
      "<div class=\"SkipLinksBanner sr-only\">\n",
      "<nav aria-label=\"AccÃ¨s rapide\" role=\"navigation\">\n",
      "<ul class=\"skiplinks\">\n",
      "<li>\n",
      "<a class=\"npc-msl-link inverted npc-msl-small\" href=\"#header\" id=\"byPassAllerAuHeader\">Aller au Menu</a>\n",
      "</li>\n",
      "<li>\n",
      "<a class=\"npc-msl-link inverted npc-msl-small\" href=\"#content\" id=\"byPassAllerAuContenu\">Aller au Contenu</a>\n",
      "</li>\n",
      "<li>\n",
      "<a class=\"npc-msl-link inverted npc-msl-small\" href=\"#footer\" id=\"byPassAllerAuFooter\">Aller au Pied de page</a>\n",
      "</li>\n",
      "</ul>\n",
      "</nav>\n",
      "</div>\n",
      "\n"
     ]
    }
   ],
   "source": [
    "# use DuckDuckGo to find websites and take the first result\n",
    "url = search(query)[0]\n",
    "\n",
    "# scrape first wesbsite\n",
    "soup = scrape_weather_info(url)\n",
    "\n",
    "print(f\"Website: {url}\\n\\n\")\n",
    "print(str(soup.body)[:500])  # limit long outputs"
   ]
  },
  {
   "cell_type": "code",
   "execution_count": 10,
   "id": "6cb3ef4c-58b3-401b-b104-0d51e553d982",
   "metadata": {
    "height": 251
   },
   "outputs": [
    {
     "name": "stdout",
     "output_type": "stream",
     "text": [
      "Website: https://www.credit-agricole.fr/particulier/conseils/magazine/tout-un-mag/vos-comptes-en-ligne-a-vous-la-liberte.html\n",
      "\n",
      "\n",
      "Malheureusement, votre configuration de navigation actuelle ne vous permet pas de naviguer dans de bonnes conditions. Vous ne pourrez pas profiter de toutes les fonctionnalitÃ©s de notre site ni accÃ©der Ã votre espace client. FIN DE CONNEXION Vous n'Ãªtes actuellement plus connectÃ© Ã CrÃ©dit Agricole en Ligne. Si vous souhaitez poursuivre la consultation de vos comptes, nous vous invitons Ã vous identifier Ã nouveau. Vous n'Ãªtes actuellement plus connectÃ© Ã CrÃ©dit Agricole en Ligne Vous n'Ãªtes actuellement plus connectÃ© Ã CrÃ©dit Agricole en Ligne. Si vous souhaitez poursuivre la consultation de vos comptes, nous vous invitons Ã vous identifier Ã nouveau. Vous n'Ãªtes actuellement plus connectÃ© Ã CrÃ©dit Agricole en Ligne. Si vous souhaitez poursuivre la consultation de vos comptes, nous vous invitons Ã vous identifier Ã nouveau. Vous n'Ãªtes actuellement plus connectÃ© Ã CrÃ©dit Agricole en Ligne. Si vous souhaitez poursuivre la consultation de vos comptes, nous vous invitons Ã vous identifier Ã nouveau. Devenez sociÃ©taire du CrÃ©dit Agricole ! Rejoignez nos 12 millions de sociÃ©taires pour faire bouger votre territoire. AuprÃ¨s des particuliers, des associations, des professionnels, des entreprises, des collectivitÃ©s... Le CrÃ©dit Agricole Åuvre chaque jour au dÃ©veloppement Ã©conomique et social des territoires. Mise Ã jour de votre navigateur Mise Ã jour de votre navigateur Afin de profiter pleinement de toutes les fonctionalitÃ©s de votre Espace Client, il est nÃ©cÃ©ssaire de mettre Ã jour votre navigateur. Cette opÃ©ration ne prend que quelques minutes. Votre navigateur est obsolÃ¨te Le site que vous visitez ne peut Ãªtre visualisÃ© que sur un navigateur moderne. Nous vous invitons Ã mettre Ã jour votre navigateur pour amÃ©liorer la qualitÃ© et la sÃ©curitÃ© de votre navigation. Pour ce faire, veuillez sÃ©lectionner le navigateur vous concernant ci-dessous. Vos comptes en ligne : Ã vous la libertÃ© ! 17/09/2024 - 2 min de lecture Rubrique : Moyens de Paiement Envoyer par email Les informations recueillies sur ce formulaire ne seront utilisÃ©es que pour permettre lâenvoi du message au destinataire et ne seront pas conservÃ©es. tout un mag pour vous Vos comptes en ligne : Ã vous la libertÃ© ! Pour Ãªtre redirigÃ© sur votre compte bancaire en ligne, cliquez ci-dessous pour vous connecter avec votre identifiant et mot de passe. > ME CONNECTER Ã MON COMPTE CRÃDIT AGRICOLE Pour consulter vos comptes bancaires en ligne quelques clics suffisent Pour vous connecter en direct avec vos comptes , vous aurez besoin dâun identifiant et dâun code dâaccÃ¨s . Votre agence vous a communiquÃ© ces Ã©lÃ©ments. Si, par hasard, vous les aviez Ã©garÃ©s, un nouveau code vous sera communiquÃ© sur demande. En vous rendant sur le site de votre banque muni de ces informations, vous pourrez non seulement consulter le solde de votre compte en un coup dâÅil, mais aussi, selon les banques, vÃ©rifier le montant de vos paiements par carte bancaire, visualiser les prÃ©lÃ¨vements, virer de lâargent sur vos diffÃ©rents comptes ( livret de dÃ©veloppement durable solidaire (LDDS) , plan ou compte Ã©pargne logement â¦) ou sur le compte dâun tiers, commander un chÃ©quier, imprimer un RIBâ¦ Avec lâ Appli Ma Banque du CrÃ©dit Agricole , vous pouvez depuis votre smartphone accÃ©der Ã vos comptes et rÃ©aliser la plupart de vos opÃ©rations comme depuis votre ordinateur. En bref, vous pilotez tranquillement la gestion de vos comptes depuis votre ordinateur ou votre smartphone. Les avantages de la banque en ligne Le fait de pouvoir gÃ©rer ses comptes de chez soi, sans avoir Ã se dÃ©placer Ã son agence, Ã attendre son relevÃ© par courrier ou Ã Ã©crire pour demander un virement est bien Ã©videmment le premier avantage de la banque en ligne, puisque vous pouvez accÃ©der Ã vos comptes quels que soient le jour et lâheure. Autre point non nÃ©gligeable : en pouvant consulter facilement le solde de cotre compte et les opÃ©rations que vous avez rÃ©alisÃ©es, il est plus facile dâÃ©viter le dÃ©couvert (et les agios) et de prÃ©voir les actions Ã effectuer. Et pour ne pas oublier certaines Ã©chÃ©ances, il vous est possible, sur votre espace banque en ligne, de programmer vos virements . Dans la plupart des applis des banques, vous pouvez aussi programmer des alertes lorsque le solde de votre compte descend au-dessous du seuil que vous aurez fixÃ©. Vous pouvez aussi prÃ©parer un projet en virant une somme tous les mois Ã date fixe sur un compte dâÃ©pargne. Surfez sur vos comptes en ligne en toute sÃ©curitÃ© LâaccÃ¨s Ã vos comptes via Internet est sÃ©curisÃ© par votre banque. Cependant, comme pour toute navigation sur la toile, quelques prÃ©cautions sâimposent pour Ãªtre totalement tranquille. Dâabord, connectez-vous depuis un ordinateur muni des garanties de sÃ©curitÃ© indispensables : anti-virus, anti-spam, anti-spyware, pare-feuâ¦ Le tout mis Ã jour rÃ©guliÃ¨rement bien sÃ»r ! Ãvitez si possible les ordinateurs publics, et dans tous les cas, nâoubliez pas de vous dÃ©connecter lorsque vous avez fini de consulter vos comptes (en cliquant sur le bouton prÃ©vu Ã cet effet !). VÃ©rifiez que lâadresse qui sâaffiche dans la barre de navigation commence par un petit cadenas fermÃ© et les lettres https. Quant Ã votre identifiant et Ã votre code dâaccÃ¨s, gardez-les pour vous. Vraiment. Et ne les notez nulle part, vous avez une mÃ©moire fantastique, faites-la marcher ! Une vÃ©rification de votre identitÃ© (ce quâon appelle une Â«Â authentificationÂ Â») vous est demandÃ©e pour la plupart de vos achats en ligneÂ rÃ©alisÃ©s avec votre carte bancaire du CrÃ©dit Agricole. Pour valider vos opÃ©rations, vous devrez utiliser le service SECURIPASS Ã partir de votre appli Ma banque (et saisir votre code SECURIPASS ou en validant grÃ¢ce aux fonctionnalitÃ©s biomÃ©triques de votre smartphoneÂ : reconnaissance digitale ou faciale). Â Pour en savoir plus :Â Â Facilitez et sÃ©curisez vos opÃ©rations en ligne avec SÃ©curiPass Halte au phishing ! LâhameÃ§onnage, en anglais phishing, est une technique utilisÃ©e par les pirates pour obtenir des renseignements personnels dans le but dâusurper votre identitÃ© et de vous voler de lâargent. Le procÃ©dÃ© consiste Ã faire croire Ã la victime quâelle sâadresse Ã un tiers de confiance (banque, administration, etc.) afin de lui soutirer des renseignements personnels : mots de passe, numÃ©ros de carte de crÃ©dit, date de naissanceâ¦ Ã lire Ã©galement : Phishing bancaire : exemples et remboursement Pour Ã©viter ces piÃ¨ges, nâouvrez aucun courriel suspect, mÃªme sâil semble provenir de votre Ã©tablissement bancaire. Certains messages peuvent afficher son logo, un lien vers un site qui ressemble au sien, mais qui ne lâest pas. Supprimez simplement ce message et avertissez votre banque. De plus, votre banque ne vous demandera jamais votre code confidentiel et mot de passe par mail ou par tÃ©lÃ©phone. Prenez quelques minutes pour lire nos conseils dans notre Â« Guide sÃ©curitÃ© Â» . Â© Uni-mÃ©dias - DerniÃ¨re mise Ã jour Septembre 2024 Article Ã caractÃ¨re informatif et publicitaire. Certains produits et services mentionnÃ©s dans cet article peuvent Ãªtre commercialisÃ©s par le CrÃ©dit Agricole : renseignez-vous sur leur disponibilitÃ© dans votre Caisse rÃ©gionale. La souscription Ã ces produits et services peut Ãªtre soumise Ã conditions ou Ã la rÃ©glementation en vigueur, ainsi quâÃ lâÃ©tude et Ã lâacceptation de votre dossier par votre Caisse rÃ©gionale. AccÃ©dez au dÃ©tail de ces produits et services en cliquant sur les liens hypertexte prÃ©vus Ã cet effet dans la prÃ©sente page Internet. Guide sÃ©curitÃ© Ne vous laissez pas arnaquer Appli Ma Banque Une Appli pour gÃ©rer vos comptes sur votre mobile TOUT UN MAG POUR VOUS TOUT UN MAG POUR VOUS Suivant le montant dont vous disposez et la durÃ©e envisagÃ©e, voici 4 pistes qui sâoffrent Ã vous selon vos objectifs pour mettre Ã lâabri vos Ã©conomies sans craindre de perdre votre capital. Les documents Ã©changÃ©s avec sa banque lors de lâouverture dâun compte, de lâoctroi dâun crÃ©dit ou dâune simple transaction (virementâ¦) sont tous des papiers importants. Mais ils peuvent aussi se rÃ©vÃ©ler encombrants ! Certains doivent Ãªtre gardÃ©s, sous format papier ou en version dÃ©matÃ©rialisÃ©e car ils contiennent des informations bancaires essentielles, dâautres peuvent Ãªtre jetÃ©s, rapidement ou passÃ© un certain dÃ©lai. Petite revue de dÃ©tail pour vous aider Ã faire le tri. Les FranÃ§ais disposent dâune large palette de solutions dâinvestissement assorties dâincitations fiscales, Ã adapter selon leur profil. LE CREDIT AGRICOLE LE CREDIT AGRICOLE RELATION BANQUE CLIENT RELATION BANQUE CLIENT SITES SPECIALISESÂ SITES SPECIALISESÂ AccessibilitÃ© numÃ©rique du site AccessibilitÃ© numÃ©rique du site\n"
     ]
    }
   ],
   "source": [
    "# extract text\n",
    "weather_data = []\n",
    "for tag in soup.find_all([\"h1\", \"h2\", \"h3\", \"p\"]):\n",
    "    text = tag.get_text(\" \", strip=True)\n",
    "    weather_data.append(text)\n",
    "\n",
    "# combine all elements into a single string\n",
    "weather_data = \"\\n\".join(weather_data)\n",
    "\n",
    "# remove all spaces from the combined text\n",
    "weather_data = re.sub(r\"\\s+\", \" \", weather_data)\n",
    "\n",
    "print(f\"Website: {url}\\n\\n\")\n",
    "print(weather_data)"
   ]
  },
  {
   "cell_type": "markdown",
   "id": "92db676d-d8d9-4558-8dcf-1b20fcb48e45",
   "metadata": {},
   "source": [
    "## Agentic Search\n"
   ]
  },
  {
   "cell_type": "code",
   "execution_count": 11,
   "id": "dc3293b7-a50c-43c8-a022-8975e1e444b8",
   "metadata": {
    "height": 132
   },
   "outputs": [
    {
     "name": "stdout",
     "output_type": "stream",
     "text": [
      "{'location': {'name': 'Tokyo', 'region': 'Tokyo', 'country': 'Japan', 'lat': 35.6895, 'lon': 139.6917, 'tz_id': 'Asia/Tokyo', 'localtime_epoch': 1752087784, 'localtime': '2025-07-10 04:03'}, 'current': {'last_updated_epoch': 1752087600, 'last_updated': '2025-07-10 04:00', 'temp_c': 27.2, 'temp_f': 81.0, 'is_day': 0, 'condition': {'text': 'Clear', 'icon': '//cdn.weatherapi.com/weather/64x64/night/113.png', 'code': 1000}, 'wind_mph': 8.9, 'wind_kph': 14.4, 'wind_degree': 190, 'wind_dir': 'S', 'pressure_mb': 1011.0, 'pressure_in': 29.85, 'precip_mm': 0.0, 'precip_in': 0.0, 'humidity': 84, 'cloud': 25, 'feelslike_c': 30.5, 'feelslike_f': 87.0, 'windchill_c': 27.0, 'windchill_f': 80.6, 'heatindex_c': 30.1, 'heatindex_f': 86.2, 'dewpoint_c': 23.0, 'dewpoint_f': 73.4, 'vis_km': 10.0, 'vis_miles': 6.0, 'uv': 0.0, 'gust_mph': 12.5, 'gust_kph': 20.1}}\n"
     ]
    }
   ],
   "source": [
    "# run search\n",
    "result = client.search(query, max_results=1)\n",
    "\n",
    "# print first result\n",
    "data = result[\"results\"][0][\"content\"]\n",
    "\n",
    "print(data)"
   ]
  },
  {
   "cell_type": "code",
   "execution_count": 12,
   "id": "0722c3d4-4cbf-43bf-81b0-50f634c4ce61",
   "metadata": {
    "height": 266
   },
   "outputs": [
    {
     "name": "stdout",
     "output_type": "stream",
     "text": [
      "{\u001b[37m\u001b[39;49;00m\n",
      "\u001b[37m    \u001b[39;49;00m\u001b[94m\"location\"\u001b[39;49;00m:\u001b[37m \u001b[39;49;00m{\u001b[37m\u001b[39;49;00m\n",
      "\u001b[37m        \u001b[39;49;00m\u001b[94m\"name\"\u001b[39;49;00m:\u001b[37m \u001b[39;49;00m\u001b[33m\"Tokyo\"\u001b[39;49;00m,\u001b[37m\u001b[39;49;00m\n",
      "\u001b[37m        \u001b[39;49;00m\u001b[94m\"region\"\u001b[39;49;00m:\u001b[37m \u001b[39;49;00m\u001b[33m\"Tokyo\"\u001b[39;49;00m,\u001b[37m\u001b[39;49;00m\n",
      "\u001b[37m        \u001b[39;49;00m\u001b[94m\"country\"\u001b[39;49;00m:\u001b[37m \u001b[39;49;00m\u001b[33m\"Japan\"\u001b[39;49;00m,\u001b[37m\u001b[39;49;00m\n",
      "\u001b[37m        \u001b[39;49;00m\u001b[94m\"lat\"\u001b[39;49;00m:\u001b[37m \u001b[39;49;00m\u001b[34m35.6895\u001b[39;49;00m,\u001b[37m\u001b[39;49;00m\n",
      "\u001b[37m        \u001b[39;49;00m\u001b[94m\"lon\"\u001b[39;49;00m:\u001b[37m \u001b[39;49;00m\u001b[34m139.6917\u001b[39;49;00m,\u001b[37m\u001b[39;49;00m\n",
      "\u001b[37m        \u001b[39;49;00m\u001b[94m\"tz_id\"\u001b[39;49;00m:\u001b[37m \u001b[39;49;00m\u001b[33m\"Asia/Tokyo\"\u001b[39;49;00m,\u001b[37m\u001b[39;49;00m\n",
      "\u001b[37m        \u001b[39;49;00m\u001b[94m\"localtime_epoch\"\u001b[39;49;00m:\u001b[37m \u001b[39;49;00m\u001b[34m1752087784\u001b[39;49;00m,\u001b[37m\u001b[39;49;00m\n",
      "\u001b[37m        \u001b[39;49;00m\u001b[94m\"localtime\"\u001b[39;49;00m:\u001b[37m \u001b[39;49;00m\u001b[33m\"2025-07-10 04:03\"\u001b[39;49;00m\u001b[37m\u001b[39;49;00m\n",
      "\u001b[37m    \u001b[39;49;00m},\u001b[37m\u001b[39;49;00m\n",
      "\u001b[37m    \u001b[39;49;00m\u001b[94m\"current\"\u001b[39;49;00m:\u001b[37m \u001b[39;49;00m{\u001b[37m\u001b[39;49;00m\n",
      "\u001b[37m        \u001b[39;49;00m\u001b[94m\"last_updated_epoch\"\u001b[39;49;00m:\u001b[37m \u001b[39;49;00m\u001b[34m1752087600\u001b[39;49;00m,\u001b[37m\u001b[39;49;00m\n",
      "\u001b[37m        \u001b[39;49;00m\u001b[94m\"last_updated\"\u001b[39;49;00m:\u001b[37m \u001b[39;49;00m\u001b[33m\"2025-07-10 04:00\"\u001b[39;49;00m,\u001b[37m\u001b[39;49;00m\n",
      "\u001b[37m        \u001b[39;49;00m\u001b[94m\"temp_c\"\u001b[39;49;00m:\u001b[37m \u001b[39;49;00m\u001b[34m27.2\u001b[39;49;00m,\u001b[37m\u001b[39;49;00m\n",
      "\u001b[37m        \u001b[39;49;00m\u001b[94m\"temp_f\"\u001b[39;49;00m:\u001b[37m \u001b[39;49;00m\u001b[34m81.0\u001b[39;49;00m,\u001b[37m\u001b[39;49;00m\n",
      "\u001b[37m        \u001b[39;49;00m\u001b[94m\"is_day\"\u001b[39;49;00m:\u001b[37m \u001b[39;49;00m\u001b[34m0\u001b[39;49;00m,\u001b[37m\u001b[39;49;00m\n",
      "\u001b[37m        \u001b[39;49;00m\u001b[94m\"condition\"\u001b[39;49;00m:\u001b[37m \u001b[39;49;00m{\u001b[37m\u001b[39;49;00m\n",
      "\u001b[37m            \u001b[39;49;00m\u001b[94m\"text\"\u001b[39;49;00m:\u001b[37m \u001b[39;49;00m\u001b[33m\"Clear\"\u001b[39;49;00m,\u001b[37m\u001b[39;49;00m\n",
      "\u001b[37m            \u001b[39;49;00m\u001b[94m\"icon\"\u001b[39;49;00m:\u001b[37m \u001b[39;49;00m\u001b[33m\"//cdn.weatherapi.com/weather/64x64/night/113.png\"\u001b[39;49;00m,\u001b[37m\u001b[39;49;00m\n",
      "\u001b[37m            \u001b[39;49;00m\u001b[94m\"code\"\u001b[39;49;00m:\u001b[37m \u001b[39;49;00m\u001b[34m1000\u001b[39;49;00m\u001b[37m\u001b[39;49;00m\n",
      "\u001b[37m        \u001b[39;49;00m},\u001b[37m\u001b[39;49;00m\n",
      "\u001b[37m        \u001b[39;49;00m\u001b[94m\"wind_mph\"\u001b[39;49;00m:\u001b[37m \u001b[39;49;00m\u001b[34m8.9\u001b[39;49;00m,\u001b[37m\u001b[39;49;00m\n",
      "\u001b[37m        \u001b[39;49;00m\u001b[94m\"wind_kph\"\u001b[39;49;00m:\u001b[37m \u001b[39;49;00m\u001b[34m14.4\u001b[39;49;00m,\u001b[37m\u001b[39;49;00m\n",
      "\u001b[37m        \u001b[39;49;00m\u001b[94m\"wind_degree\"\u001b[39;49;00m:\u001b[37m \u001b[39;49;00m\u001b[34m190\u001b[39;49;00m,\u001b[37m\u001b[39;49;00m\n",
      "\u001b[37m        \u001b[39;49;00m\u001b[94m\"wind_dir\"\u001b[39;49;00m:\u001b[37m \u001b[39;49;00m\u001b[33m\"S\"\u001b[39;49;00m,\u001b[37m\u001b[39;49;00m\n",
      "\u001b[37m        \u001b[39;49;00m\u001b[94m\"pressure_mb\"\u001b[39;49;00m:\u001b[37m \u001b[39;49;00m\u001b[34m1011.0\u001b[39;49;00m,\u001b[37m\u001b[39;49;00m\n",
      "\u001b[37m        \u001b[39;49;00m\u001b[94m\"pressure_in\"\u001b[39;49;00m:\u001b[37m \u001b[39;49;00m\u001b[34m29.85\u001b[39;49;00m,\u001b[37m\u001b[39;49;00m\n",
      "\u001b[37m        \u001b[39;49;00m\u001b[94m\"precip_mm\"\u001b[39;49;00m:\u001b[37m \u001b[39;49;00m\u001b[34m0.0\u001b[39;49;00m,\u001b[37m\u001b[39;49;00m\n",
      "\u001b[37m        \u001b[39;49;00m\u001b[94m\"precip_in\"\u001b[39;49;00m:\u001b[37m \u001b[39;49;00m\u001b[34m0.0\u001b[39;49;00m,\u001b[37m\u001b[39;49;00m\n",
      "\u001b[37m        \u001b[39;49;00m\u001b[94m\"humidity\"\u001b[39;49;00m:\u001b[37m \u001b[39;49;00m\u001b[34m84\u001b[39;49;00m,\u001b[37m\u001b[39;49;00m\n",
      "\u001b[37m        \u001b[39;49;00m\u001b[94m\"cloud\"\u001b[39;49;00m:\u001b[37m \u001b[39;49;00m\u001b[34m25\u001b[39;49;00m,\u001b[37m\u001b[39;49;00m\n",
      "\u001b[37m        \u001b[39;49;00m\u001b[94m\"feelslike_c\"\u001b[39;49;00m:\u001b[37m \u001b[39;49;00m\u001b[34m30.5\u001b[39;49;00m,\u001b[37m\u001b[39;49;00m\n",
      "\u001b[37m        \u001b[39;49;00m\u001b[94m\"feelslike_f\"\u001b[39;49;00m:\u001b[37m \u001b[39;49;00m\u001b[34m87.0\u001b[39;49;00m,\u001b[37m\u001b[39;49;00m\n",
      "\u001b[37m        \u001b[39;49;00m\u001b[94m\"windchill_c\"\u001b[39;49;00m:\u001b[37m \u001b[39;49;00m\u001b[34m27.0\u001b[39;49;00m,\u001b[37m\u001b[39;49;00m\n",
      "\u001b[37m        \u001b[39;49;00m\u001b[94m\"windchill_f\"\u001b[39;49;00m:\u001b[37m \u001b[39;49;00m\u001b[34m80.6\u001b[39;49;00m,\u001b[37m\u001b[39;49;00m\n",
      "\u001b[37m        \u001b[39;49;00m\u001b[94m\"heatindex_c\"\u001b[39;49;00m:\u001b[37m \u001b[39;49;00m\u001b[34m30.1\u001b[39;49;00m,\u001b[37m\u001b[39;49;00m\n",
      "\u001b[37m        \u001b[39;49;00m\u001b[94m\"heatindex_f\"\u001b[39;49;00m:\u001b[37m \u001b[39;49;00m\u001b[34m86.2\u001b[39;49;00m,\u001b[37m\u001b[39;49;00m\n",
      "\u001b[37m        \u001b[39;49;00m\u001b[94m\"dewpoint_c\"\u001b[39;49;00m:\u001b[37m \u001b[39;49;00m\u001b[34m23.0\u001b[39;49;00m,\u001b[37m\u001b[39;49;00m\n",
      "\u001b[37m        \u001b[39;49;00m\u001b[94m\"dewpoint_f\"\u001b[39;49;00m:\u001b[37m \u001b[39;49;00m\u001b[34m73.4\u001b[39;49;00m,\u001b[37m\u001b[39;49;00m\n",
      "\u001b[37m        \u001b[39;49;00m\u001b[94m\"vis_km\"\u001b[39;49;00m:\u001b[37m \u001b[39;49;00m\u001b[34m10.0\u001b[39;49;00m,\u001b[37m\u001b[39;49;00m\n",
      "\u001b[37m        \u001b[39;49;00m\u001b[94m\"vis_miles\"\u001b[39;49;00m:\u001b[37m \u001b[39;49;00m\u001b[34m6.0\u001b[39;49;00m,\u001b[37m\u001b[39;49;00m\n",
      "\u001b[37m        \u001b[39;49;00m\u001b[94m\"uv\"\u001b[39;49;00m:\u001b[37m \u001b[39;49;00m\u001b[34m0.0\u001b[39;49;00m,\u001b[37m\u001b[39;49;00m\n",
      "\u001b[37m        \u001b[39;49;00m\u001b[94m\"gust_mph\"\u001b[39;49;00m:\u001b[37m \u001b[39;49;00m\u001b[34m12.5\u001b[39;49;00m,\u001b[37m\u001b[39;49;00m\n",
      "\u001b[37m        \u001b[39;49;00m\u001b[94m\"gust_kph\"\u001b[39;49;00m:\u001b[37m \u001b[39;49;00m\u001b[34m20.1\u001b[39;49;00m\u001b[37m\u001b[39;49;00m\n",
      "\u001b[37m    \u001b[39;49;00m}\u001b[37m\u001b[39;49;00m\n",
      "}\u001b[37m\u001b[39;49;00m\n",
      "\n"
     ]
    }
   ],
   "source": [
    "import json\n",
    "from pygments import highlight, lexers, formatters\n",
    "\n",
    "# parse JSON\n",
    "parsed_json = json.loads(data.replace(\"'\", '\"'))\n",
    "\n",
    "# pretty print JSON with syntax highlighting\n",
    "formatted_json = json.dumps(parsed_json, indent=4)\n",
    "colorful_json = highlight(\n",
    "    formatted_json, lexers.JsonLexer(), formatters.TerminalFormatter()\n",
    ")\n",
    "\n",
    "print(colorful_json)"
   ]
  }
 ],
 "metadata": {
  "kernelspec": {
   "display_name": "mykernel",
   "language": "python",
   "name": "mykernel"
  },
  "language_info": {
   "codemirror_mode": {
    "name": "ipython",
    "version": 3
   },
   "file_extension": ".py",
   "mimetype": "text/x-python",
   "name": "python",
   "nbconvert_exporter": "python",
   "pygments_lexer": "ipython3",
   "version": "3.13.3"
  }
 },
 "nbformat": 4,
 "nbformat_minor": 5
}
