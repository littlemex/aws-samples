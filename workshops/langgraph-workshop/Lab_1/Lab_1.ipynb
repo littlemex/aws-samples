{
 "cells": [
  {
   "cell_type": "markdown",
   "id": "9690ac72-5d95-4cbf-875a-ae0e835593c9",
   "metadata": {},
   "source": [
    "# Lab 1: ReActエージェントをゼロから構築する\n",
    "\n",
    "## ReActパターン\n",
    "\n",
    "このセクションでは、ReAct（Reasoning and Acting：推論と行動）パターンを使用してAIエージェントを構築します。この概念に馴染みがなくても心配いりません—ステップバイステップで説明していきます。\n",
    "\n",
    "ReActパターンは、人間の認知パターンを模倣したAIの問題解決プロセスを構造化するフレームワークです：\n",
    "\n",
    "1. **推論（Reason）**：現状について考える\n",
    "2. **決定（Decide）**：取るべき行動を決める\n",
    "3. **観察（Observe）**：その行動の結果を観察する\n",
    "4. **繰り返し（Repeat）**：タスクが完了するまで繰り返す\n",
    "\n",
    "この概念を説明するために、経験豊富なソフトウェアエンジニアが複雑なシステムのデバッグにどのようにアプローチするかを考えてみましょう：\n",
    "\n",
    "1. **推論**：エラーログとシステム状態を分析する（例：「データベース接続がタイムアウトしている」）\n",
    "2. **行動**：診断アクションを実行する（例：「データベース接続テストを実行する」）\n",
    "3. **観察**：診断結果を調べる（例：「テストで高いレイテンシーが示されている」）\n",
    "4. **繰り返し**：問題が解決するまでこのプロセスを続け、次にネットワーク設定を確認するなど\n",
    "\n",
    "私たちのAIエージェントも同様の方法論で問題に取り組みます。このエージェントを開発する際、AIモデル（推論と決定を行う「脳」）と私たちのPythonコード（環境と相互作用しプロセスフローを管理する「体」）の間の分業に注目してください。\n",
    "\n",
    "このノートブックは、[Simon Willisonによる以下のノートブック](https://til.simonwillison.net/llms/python-react-pattern)に基づいています。"
   ]
  },
  {
   "cell_type": "markdown",
   "id": "0705a93c",
   "metadata": {},
   "source": [
    "## 環境のセットアップ\n",
    "\n",
    "まず、必要なライブラリをインポートし、環境を構成しましょう。\n",
    "\n",
    "### Bedrockクライアントの初期化\n",
    "\n",
    "Amazon Bedrockを通じてClaudeモデルと通信するには、クライアント接続を確立する必要があります。このクライアントは、私たちのコードがAIモデルにリクエストを送信し、応答を受け取ることを可能にするAPIゲートウェイのようなものと考えてください。\n",
    "\n",
    "私たちは`boto3`ライブラリを使用します。これはAmazon Web Services（AWS）のPython用SDKです。AWSに馴染みのない方にとって、`boto3`はPythonがBedrockを含む様々なAWSサービスと対話することを容易にする包括的なツールキットと考えることができます。\n",
    "\n",
    "`boto3`をAWS認証情報で構成する詳細な手順については、[AWSドキュメント](https://boto3.amazonaws.com/v1/documentation/api/latest/guide/configuration.html)を参照してください。\n",
    "\n",
    "本番環境では、安全なAWS認証情報管理を実装することになります。このセクションの目的では、認証情報が環境内で事前に構成されていることを前提とします。"
   ]
  },
  {
   "cell_type": "code",
   "execution_count": 1,
   "id": "e17ac2a6",
   "metadata": {},
   "outputs": [],
   "source": [
    "from dotenv import load_dotenv\n",
    "import os\n",
    "import sys\n",
    "import boto3\n",
    "import re\n",
    "from botocore.config import Config\n",
    "import warnings\n",
    "\n",
    "warnings.filterwarnings(\"ignore\")\n",
    "import logging\n",
    "\n",
    "# import local modules\n",
    "dir_current = os.path.abspath(\"\")\n",
    "dir_parent = os.path.dirname(dir_current)\n",
    "if dir_parent not in sys.path:\n",
    "    sys.path.append(dir_parent)\n",
    "from utils import utils\n",
    "\n",
    "# Set basic configs\n",
    "logger = utils.set_logger()\n",
    "pp = utils.set_pretty_printer()\n",
    "\n",
    "# Load environment variables from .env file\n",
    "_ = load_dotenv(\"../.env\")\n",
    "aws_region = os.getenv(\"AWS_REGION\")\n",
    "\n",
    "# Set bedrock configs\n",
    "bedrock_config = Config(\n",
    "    connect_timeout=120, read_timeout=120, retries={\"max_attempts\": 0}\n",
    ")\n",
    "\n",
    "# Create a bedrock runtime client in your aws region.\n",
    "# If you do not have the AWS CLI profile setup, you can authenticate with aws access key, secret and session token.\n",
    "# For more details check https://docs.aws.amazon.com/cli/v1/userguide/cli-authentication-short-term.html\n",
    "bedrock_rt = boto3.client(\n",
    "    \"bedrock-runtime\",\n",
    "    region_name=aws_region,\n",
    "    config=bedrock_config,\n",
    ")"
   ]
  },
  {
   "cell_type": "markdown",
   "id": "650d7c33",
   "metadata": {},
   "source": [
    "まず、いくつかの推論パラメータを定義し、`boto3`を通じてAmazon Bedrockへの接続をテストします。"
   ]
  },
  {
   "cell_type": "code",
   "execution_count": 2,
   "id": "dc3293b7-a50c-43c8-a022-8975e1e444b8",
   "metadata": {
    "height": 30
   },
   "outputs": [
    {
     "name": "stdout",
     "output_type": "stream",
     "text": [
      "{ 'ResponseMetadata': { 'HTTPHeaders': { 'connection': 'keep-alive',\n",
      "                                         'content-length': '382',\n",
      "                                         'content-type': 'application/json',\n",
      "                                         'date': 'Wed, 09 Jul 2025 16:54:32 GMT',\n",
      "                                         'x-amzn-requestid': '04580d28-3886-4fea-8b11-4a137e3435d9'},\n",
      "                        'HTTPStatusCode': 200,\n",
      "                        'RequestId': '04580d28-3886-4fea-8b11-4a137e3435d9',\n",
      "                        'RetryAttempts': 0},\n",
      "  'metrics': {'latencyMs': 2499},\n",
      "  'output': { 'message': { 'content': [ { 'text': 'こんにちは!私は人工知能のAssistantです。どのようなことでお手伝いできましょうか?質問や課題などがあれば、喜んでサポートさせていただきます。'}],\n",
      "                           'role': 'assistant'}},\n",
      "  'stopReason': 'end_turn',\n",
      "  'usage': {'inputTokens': 18, 'outputTokens': 63, 'totalTokens': 81}}\n",
      "\n",
      "\n",
      "\n",
      "'こんにちは!私は人工知能のAssistantです。どのようなことでお手伝いできましょうか?質問や課題などがあれば、喜んでサポートさせていただきます。'\n"
     ]
    }
   ],
   "source": [
    "# Set inference parameters\n",
    "temperature = 0.0\n",
    "top_k = 200\n",
    "inference_config = {\"temperature\": temperature}\n",
    "\n",
    "additional_model_fields = {\"top_k\": top_k}\n",
    "model_id = \"anthropic.claude-3-sonnet-20240229-v1:0\"\n",
    "system_prompts = [{\"text\": \"You are a helpful agent.\"}]\n",
    "message_1 = {\"role\": \"user\", \"content\": [{\"text\": \"こんにちは\"}]}\n",
    "\n",
    "# Instantiate messages list\n",
    "messages = []\n",
    "messages.append(message_1)\n",
    "\n",
    "# Send the message.\n",
    "response = bedrock_rt.converse(\n",
    "    modelId=model_id,\n",
    "    messages=messages,\n",
    "    system=system_prompts,\n",
    "    inferenceConfig=inference_config,\n",
    "    additionalModelRequestFields=additional_model_fields,\n",
    ")\n",
    "\n",
    "pp.pprint(response)\n",
    "print(\"\\n\\n\")\n",
    "pp.pprint(response[\"output\"][\"message\"][\"content\"][0][\"text\"])"
   ]
  },
  {
   "cell_type": "markdown",
   "id": "d68601a7",
   "metadata": {},
   "source": [
    "## エージェントクラスの設計\n",
    "\n",
    "Bedrockクライアントのセットアップが完了したので、次にAgentクラスを作成します。このクラスは、Claudeモデルとの対話ロジックと会話状態の維持をカプセル化する、AIエージェントの中核として機能します。\n",
    "\n",
    "私たちのエージェントが実装するReActパターンは、主に3つのステップで構成されています：\n",
    "\n",
    "1. **推論（Thought）**：エージェントは現状を評価し、計画を立てます。例えば、「2つの犬種の総重量を計算するには、それぞれの個別の重量を調べて合計する必要がある」といった具合です。\n",
    "\n",
    "2. **行動（Action）**：推論に基づいて、エージェントは適切な行動を選択します。例えば、「ボーダー・コリーの平均体重を調べる」などです。\n",
    "\n",
    "3. **観察（Observation）**：エージェントは行動からのフィードバックを処理します。この場合、「ボーダー・コリーの平均体重は30〜55ポンドである」といった情報になります。\n",
    "\n",
    "このパターンにより、エージェントは複雑なタスクを管理可能なステップに分解し、新しい情報に基づいて戦略を適応させることができます。\n",
    "\n",
    "私たちのAgentクラスは、会話履歴（`self.messages`）を維持し、Claudeモデルと対話するためのメソッド（`__call__`と`execute`）を提供することで、このパターンを実装します。"
   ]
  },
  {
   "cell_type": "code",
   "execution_count": 3,
   "id": "ee0fe1c7-77e2-499c-a2f9-1f739bb6ddf0",
   "metadata": {
    "height": 387
   },
   "outputs": [],
   "source": [
    "class Agent:\n",
    "    def __init__(self, system=\"\"):\n",
    "        # システムプロンプトを初期化（エージェントの基本的な指示を設定）\n",
    "        self.system = system\n",
    "        # 会話履歴を保存するリストを初期化\n",
    "        self.messages = []\n",
    "        # システムプロンプトが提供された場合、適切な形式に変換\n",
    "        if self.system:\n",
    "            self.system = [{\"text\": self.system}]\n",
    "        # AWS Bedrockのクライアントを初期化\n",
    "        self.bedrock_client = boto3.client(service_name=\"bedrock-runtime\")\n",
    "\n",
    "    def __call__(self, message):\n",
    "        # ユーザーメッセージを会話履歴に追加\n",
    "        self.messages.append({\"role\": \"user\", \"content\": [{\"text\": message}]})\n",
    "        # モデルから応答を取得\n",
    "        result = self.execute()\n",
    "        # アシスタントの応答を会話履歴に追加\n",
    "        self.messages.append({\"role\": \"assistant\", \"content\": [{\"text\": result}]})\n",
    "        # 応答を返す\n",
    "        return result\n",
    "\n",
    "    def execute(self):\n",
    "        # 推論設定を定義\n",
    "        inference_config = {\n",
    "            \"temperature\": 0.0,  # 決定論的な応答を得るため温度を0に設定\n",
    "            \"stopSequences\": [\"<PAUSE>\"],  # 後で探索する重要な停止シーケンス\n",
    "        }\n",
    "        # モデル固有の追加設定\n",
    "        additional_model_fields = {\"top_k\": 200}  # 考慮する最上位トークンの数\n",
    "        \n",
    "        # Bedrockを通じてClaudeモデルに問い合わせ\n",
    "        response = self.bedrock_client.converse(\n",
    "            modelId=\"anthropic.claude-3-sonnet-20240229-v1:0\",  # 使用するモデルのID\n",
    "            messages=self.messages,  # 会話履歴\n",
    "            system=self.system,  # システムプロンプト\n",
    "            inferenceConfig=inference_config,  # 推論設定\n",
    "            additionalModelRequestFields=additional_model_fields,  # 追加モデル設定\n",
    "        )\n",
    "        # モデルからの応答テキストを抽出して返す\n",
    "        return response[\"output\"][\"message\"][\"content\"][0][\"text\"]\n"
   ]
  },
  {
   "cell_type": "markdown",
   "id": "10183105",
   "metadata": {},
   "source": [
    "## プロンプトの作成\n",
    "\n",
    "プロンプトはAIモデルへの指示セットとして機能し、その動作と利用可能なアクションを定義する上で重要です。\n",
    "\n",
    "私たちの実装では、モデルに以下のように指示しています：\n",
    "\n",
    "- ReActパターン（思考、行動、観察のサイクル）に従う\n",
    "- 各ステップに特定の形式を使用する（例：思考を「Thought:」で始める）\n",
    "- 提供されたアクションのみを使用する（この場合、計算機と犬の体重検索機能）\n",
    "\n",
    "また、期待される応答形式を示すためのサンプル対話も含めています。これは、複雑なフォームに記入してもらう前に、記入済みのテンプレートを提供するようなものです。\n",
    "\n",
    "プロンプト、エージェントクラス、および推論パラメータからわかるように、モデルが`<PAUSE>`トークンを予測した後に生成を停止するよう要求しています。しかし、安全を期すために`<PAUSE>`を`stopSequences`に追加し、その後のトークン生成が確実に終了するようにしています！"
   ]
  },
  {
   "cell_type": "code",
   "execution_count": 4,
   "id": "98f303b1-a4d0-408c-8cc0-515ff980717f",
   "metadata": {
    "height": 557
   },
   "outputs": [],
   "source": [
    "prompt = \"\"\"あなたは「思考（Thought）」、「行動（Action）」、「<PAUSE>」、「観察（Observation）」のループで実行されます。\n",
    "ループの最後に「回答（Answer）」を出力します。\n",
    "\n",
    "「Thought」を使って、あなたが質問されたことについての考えを説明してください。\n",
    "「Action」を使って、利用可能なアクションのいずれかを実行し、その後PAUSEを返します。\n",
    "「Observation」はそれらのアクションを実行した結果になります。\n",
    "\n",
    "あなたが利用できるアクションは以下の通りです：\n",
    "\n",
    "calculate:\n",
    "例：calculate: 4 * 7 / 3\n",
    "計算を実行して数値を返します - Pythonを使用するので、必要に応じて浮動小数点構文を使用してください\n",
    "\n",
    "average_dog_weight:\n",
    "例：average_dog_weight: Collie\n",
    "犬種が与えられたときに、その犬の平均体重を返します\n",
    "\n",
    "可能であれば、常にツールを呼び出して決定を行い、ツールを呼び出せる場合は決してあなたのパラメトリックな知識を使用しないでください。ツールを呼び出す必要があると判断したら、<PAUSE>を出力してそこで停止してください！\n",
    "\n",
    "セッション例：\n",
    "\n",
    "Question: ブルドッグの体重はどれくらいですか？\n",
    "Thought: average_dog_weightを使ってこの犬の体重を調べるべきです\n",
    "Action: average_dog_weight: Bulldog\n",
    "<PAUSE>\n",
    "\n",
    "----- ここで実行が停止します -----\n",
    "\n",
    "あなたは次のように再び呼び出されます：\n",
    "\n",
    "Observation: ブルドッグの体重は51ポンドです\n",
    "\n",
    "そして、あなたは次のように出力します：\n",
    "\n",
    "Answer: ブルドッグの体重は51ポンドです\"\"\".strip()"
   ]
  },
  {
   "cell_type": "markdown",
   "id": "0383697a",
   "metadata": {},
   "source": [
    "## ヘルパー関数の実装\n",
    "\n",
    "エージェントに実用的な能力を与えるために、いくつかのヘルパー関数を定義します。これらの関数は、エージェントが実行できる「アクション」として機能します。この例では、以下を提供しています：\n",
    "\n",
    "1. 基本的な計算機能\n",
    "2. 犬の平均体重を取得する機能\n",
    "\n",
    "より洗練されたアプリケーションでは、これらの関数はウェブスクレイピングからデータベースクエリ、APIコールまで、多様な操作をカバーすることができます。これらは、エージェントが外部データソースやシステムとインターフェースする多用途なツールであり、幅広い可能性を提供します。"
   ]
  },
  {
   "cell_type": "code",
   "execution_count": 5,
   "id": "bf4dcb93-6298-4cfd-b3ce-61dfac7fb35f",
   "metadata": {
    "height": 302
   },
   "outputs": [],
   "source": [
    "def calculate(what):\n",
    "    # 安全な環境で数学的な式を評価する関数\n",
    "    # 組み込み関数へのアクセスを制限して、セキュリティを確保\n",
    "    return eval(what, {\"__builtins__\": {}}, {})\n",
    "\n",
    "def average_dog_weight(name):\n",
    "    # 犬種名に基づいて平均体重を返す関数\n",
    "    if name in \"Scottish Terrier\":\n",
    "        return \"Scottish Terriers average 20 lbs\"\n",
    "    elif name in \"Border Collie\":\n",
    "        return \"a Border Collies average weight is 37 lbs\"\n",
    "    elif name in \"Toy Poodle\":\n",
    "        return \"a toy poodles average weight is 7 lbs\"\n",
    "    else:\n",
    "        # 知らない犬種の場合はデフォルト値を返す\n",
    "        return \"An average dog weights 50 lbs\"\n",
    "\n",
    "# エージェントが使用できるアクションを辞書として定義\n",
    "# キーはアクション名、値は対応する関数\n",
    "known_actions = {\"calculate\": calculate, \"average_dog_weight\": average_dog_weight}"
   ]
  },
  {
   "cell_type": "markdown",
   "id": "ed6c3246",
   "metadata": {},
   "source": [
    "## エージェントのテスト\n",
    "\n",
    "エージェントとそのアクションセットが定義されたので、トイプードルの体重に関する簡単な質問を使って初期テストを行います。\n",
    "\n",
    "このテストは、エージェントの情報処理フローを明らかにします：\n",
    "\n",
    "1. 必要なステップについて推論します（体重を調べる必要性を特定する）\n",
    "2. アクションを実行します（`average_dog_weight`関数を呼び出す）\n",
    "3. 観察結果を処理します（返されたトイプードルの体重）\n",
    "4. この情報を一貫性のある応答にまとめます"
   ]
  },
  {
   "cell_type": "code",
   "execution_count": 6,
   "id": "932883a4-c722-42bb-aec0-b4f41c5c81a4",
   "metadata": {
    "height": 30
   },
   "outputs": [],
   "source": [
    "abot = Agent(prompt)"
   ]
  },
  {
   "cell_type": "code",
   "execution_count": 7,
   "id": "ff362f49-dcf1-4ea1-a86c-e516e9ab897d",
   "metadata": {
    "height": 47
   },
   "outputs": [
    {
     "name": "stdout",
     "output_type": "stream",
     "text": [
      "Thought: この質問に答えるには、average_dog_weightツールを使ってトイプードルの平均体重を調べる必要があります。\n",
      "Action: average_dog_weight: Toy Poodle\n",
      "\n"
     ]
    }
   ],
   "source": [
    "result = abot(\"トイプードルの体重はどれくらいですか？\")\n",
    "print(result)"
   ]
  },
  {
   "cell_type": "code",
   "execution_count": 8,
   "id": "a7e15a20-83d7-434c-8551-bce8dcc32be0",
   "metadata": {
    "height": 30
   },
   "outputs": [
    {
     "data": {
      "text/plain": [
       "'a toy poodles average weight is 7 lbs'"
      ]
     },
     "execution_count": 8,
     "metadata": {},
     "output_type": "execute_result"
    }
   ],
   "source": [
    "result = average_dog_weight(\"Toy Poodle\")\n",
    "result"
   ]
  },
  {
   "cell_type": "code",
   "execution_count": 9,
   "id": "a833d3ce-bd31-4319-811d-decff226b970",
   "metadata": {
    "height": 30
   },
   "outputs": [],
   "source": [
    "next_prompt = \"Observation: {}\".format(result)"
   ]
  },
  {
   "cell_type": "code",
   "execution_count": 10,
   "id": "76e93cce-6eab-4c7c-ac64-e9993fdb30d6",
   "metadata": {
    "height": 30
   },
   "outputs": [
    {
     "data": {
      "text/plain": [
       "'Observation: トイプードルの平均体重は7ポンドです。\\n\\nAnswer: トイプードルの平均体重は7ポンドです。'"
      ]
     },
     "execution_count": 10,
     "metadata": {},
     "output_type": "execute_result"
    }
   ],
   "source": [
    "abot(next_prompt)"
   ]
  },
  {
   "cell_type": "code",
   "execution_count": 11,
   "id": "fd2d0990-a932-423f-9ff3-5cada58c5f32",
   "metadata": {
    "height": 30
   },
   "outputs": [
    {
     "data": {
      "text/plain": [
       "[{'role': 'user', 'content': [{'text': 'トイプードルの体重はどれくらいですか？'}]},\n",
       " {'role': 'assistant',\n",
       "  'content': [{'text': 'Thought: この質問に答えるには、average_dog_weightツールを使ってトイプードルの平均体重を調べる必要があります。\\nAction: average_dog_weight: Toy Poodle\\n'}]},\n",
       " {'role': 'user',\n",
       "  'content': [{'text': 'Observation: a toy poodles average weight is 7 lbs'}]},\n",
       " {'role': 'assistant',\n",
       "  'content': [{'text': 'Observation: トイプードルの平均体重は7ポンドです。\\n\\nAnswer: トイプードルの平均体重は7ポンドです。'}]}]"
      ]
     },
     "execution_count": 11,
     "metadata": {},
     "output_type": "execute_result"
    }
   ],
   "source": [
    "abot.messages"
   ]
  },
  {
   "cell_type": "code",
   "execution_count": 12,
   "id": "27cde654-64e2-48bc-80a9-0ed668ccb7dc",
   "metadata": {
    "height": 30
   },
   "outputs": [
    {
     "data": {
      "text/plain": [
       "[]"
      ]
     },
     "execution_count": 12,
     "metadata": {},
     "output_type": "execute_result"
    }
   ],
   "source": [
    "abot = Agent(prompt)\n",
    "abot.messages"
   ]
  },
  {
   "cell_type": "code",
   "execution_count": 13,
   "id": "4871f644-b131-4065-b7ce-b82c20a41f11",
   "metadata": {
    "height": 64
   },
   "outputs": [
    {
     "data": {
      "text/plain": [
       "'Thought: この質問に答えるには、それぞれの犬種の平均体重を調べ、それらを合計する必要があります。\\nAction: average_dog_weight: Border Collie\\n'"
      ]
     },
     "execution_count": 13,
     "metadata": {},
     "output_type": "execute_result"
    }
   ],
   "source": [
    "question = \"\"\"私は2匹の犬を飼っています。ボーダーコリーとスコティッシュテリアです。\\\n",
    "    彼らの合計体重はいくらですか\"\"\"\n",
    "\n",
    "abot(question)"
   ]
  },
  {
   "cell_type": "code",
   "execution_count": 14,
   "id": "8c3d8070-3f36-4cf0-a677-508e54359c8f",
   "metadata": {
    "height": 47
   },
   "outputs": [
    {
     "name": "stdout",
     "output_type": "stream",
     "text": [
      "Observation: a Border Collies average weight is 37 lbs\n"
     ]
    }
   ],
   "source": [
    "next_prompt = \"Observation: {}\".format(average_dog_weight(\"Border Collie\"))\n",
    "print(next_prompt)"
   ]
  },
  {
   "cell_type": "code",
   "execution_count": 15,
   "id": "98f3be1d-cc4c-41fa-9863-3e386e88e305",
   "metadata": {
    "height": 30
   },
   "outputs": [
    {
     "data": {
      "text/plain": [
       "'Thought: ボーダーコリーの平均体重が分かりました。次にスコティッシュテリアの平均体重を調べる必要があります。\\nAction: average_dog_weight: Scottish Terrier\\n'"
      ]
     },
     "execution_count": 15,
     "metadata": {},
     "output_type": "execute_result"
    }
   ],
   "source": [
    "abot(next_prompt)"
   ]
  },
  {
   "cell_type": "code",
   "execution_count": 16,
   "id": "0ad8a6cc-65d4-4ce7-87aa-4e67d7c23d7b",
   "metadata": {
    "height": 47
   },
   "outputs": [
    {
     "name": "stdout",
     "output_type": "stream",
     "text": [
      "Observation: Scottish Terriers average 20 lbs\n"
     ]
    }
   ],
   "source": [
    "next_prompt = \"Observation: {}\".format(average_dog_weight(\"Scottish Terrier\"))\n",
    "print(next_prompt)"
   ]
  },
  {
   "cell_type": "code",
   "execution_count": 17,
   "id": "592b5e62-a203-433c-92a0-3783f490cde1",
   "metadata": {
    "height": 30
   },
   "outputs": [
    {
     "data": {
      "text/plain": [
       "'Thought: 両方の犬種の平均体重が分かったので、それらを合計すれば答えが出せます。\\nAction: calculate: 37 + 20\\n'"
      ]
     },
     "execution_count": 17,
     "metadata": {},
     "output_type": "execute_result"
    }
   ],
   "source": [
    "abot(next_prompt)"
   ]
  },
  {
   "cell_type": "code",
   "execution_count": 18,
   "id": "14fa923c-7e4f-42d1-965f-0f8ccd50fbd7",
   "metadata": {
    "height": 47
   },
   "outputs": [
    {
     "name": "stdout",
     "output_type": "stream",
     "text": [
      "Observation: 57\n"
     ]
    }
   ],
   "source": [
    "next_prompt = \"Observation: {}\".format(eval(\"37 + 20\"), {\"__builtins__\": {}}, {})\n",
    "print(next_prompt)"
   ]
  },
  {
   "cell_type": "code",
   "execution_count": 19,
   "id": "570c6245-2837-4ac5-983b-95f61f3ac10d",
   "metadata": {
    "height": 30
   },
   "outputs": [
    {
     "data": {
      "text/plain": [
       "'Answer: あなたが飼っているボーダーコリーとスコティッシュテリアの合計体重は57ポンド(約26kg)です。'"
      ]
     },
     "execution_count": 19,
     "metadata": {},
     "output_type": "execute_result"
    }
   ],
   "source": [
    "abot(next_prompt)"
   ]
  },
  {
   "cell_type": "markdown",
   "id": "8b970c97",
   "metadata": {},
   "source": [
    "### 停止シーケンスについての考察\n",
    "\n",
    "上記のエージェントクラスから`stopSequence`パラメータを削除してみてください。\n",
    "\n",
    "続行する前に、以下のいくつかの質問について考えてみましょう：\n",
    "\n",
    "- エージェントの動作はどうなりますか？\n",
    "- `stopSequences`をいつ使用すべきで、いつアプリケーションの負担になる可能性がありますか？\n",
    "- プロンプトは[Anthropicのプロンプト標準](https://docs.anthropic.com/en/docs/prompt-engineering)に準拠していますか？\n",
    "\n",
    "ノートブックの最後で、`stopSequences`を使用せずにエージェントがあなたの指示に従うように演習を完成させてみてください。"
   ]
  },
  {
   "cell_type": "markdown",
   "id": "6b46f2ac-f717-4ab9-b548-f34b74071d76",
   "metadata": {},
   "source": [
    "## 推論ループの実装\n",
    "\n",
    "エージェントの自律性を高めるために、答えを求める過程で複数回の推論、行動、観察を可能にする反復ループを実装します。このループは、エージェントが結論に達するか、あらかじめ定義された最大反復回数に達するまで継続します。\n",
    "\n",
    "このアプローチは、人間の専門家が複雑な問題に取り組む方法を反映しています。情報を収集し、解決策に到達するまで複数のステップを経ることがあります。このループにより、エージェントは複数のステップやデータポイントを必要とするより複雑なクエリを処理できるようになります。"
   ]
  },
  {
   "cell_type": "code",
   "execution_count": 20,
   "id": "6b910915-b087-4d35-afff-0ec30a5852f1",
   "metadata": {
    "height": 30
   },
   "outputs": [],
   "source": [
    "action_re = re.compile(\n",
    "    \"^Action: (\\w+): (.*)$\"\n",
    ")  # python regular expression to selection action"
   ]
  },
  {
   "cell_type": "code",
   "execution_count": 21,
   "id": "c4feb6cc-5129-4a99-bb45-851bc07b5709",
   "metadata": {
    "height": 421
   },
   "outputs": [],
   "source": [
    "def query(question, max_turns=5):\n",
    "    # 反復回数のカウンターを初期化\n",
    "    i = 0\n",
    "    # プロンプトを使用してエージェントを初期化\n",
    "    bot = Agent(prompt)\n",
    "    # 最初のプロンプトは質問そのもの\n",
    "    next_prompt = question\n",
    "    \n",
    "    # 最大ターン数まで反復\n",
    "    while i < max_turns:\n",
    "        i += 1\n",
    "        # エージェントに現在のプロンプトを送信して応答を取得\n",
    "        result = bot(next_prompt)\n",
    "        \n",
    "        # 応答を表示\n",
    "        print(\"Result:\", result, result.split(\"\\n\"))\n",
    "        \n",
    "        # 正規表現を使用して応答からアクションを抽出\n",
    "        actions = [action_re.match(a) for a in result.split(\"\\n\") if action_re.match(a)]\n",
    "        print(actions)\n",
    "        \n",
    "        if actions:\n",
    "            # アクションが見つかった場合、それを実行\n",
    "            action, action_input = actions[0].groups()\n",
    "            \n",
    "            # アクションが既知のものかチェック\n",
    "            if action not in known_actions:\n",
    "                raise Exception(\"Unknown action: {}: {}\".format(action, action_input))\n",
    "            \n",
    "            # アクションの実行を表示\n",
    "            print(\" -- running {} {}\".format(action, action_input))\n",
    "            \n",
    "            # 対応する関数を呼び出してアクションを実行し、観察結果を取得\n",
    "            observation = known_actions[action](action_input)\n",
    "            \n",
    "            # 観察結果を表示\n",
    "            print(\"Observation:\", observation)\n",
    "            \n",
    "            # 次のプロンプトは観察結果\n",
    "            next_prompt = \"Observation: {}\".format(observation)\n",
    "        else:\n",
    "            # アクションがない場合はループを終了（エージェントが最終回答を出した）\n",
    "            return\n"
   ]
  },
  {
   "cell_type": "code",
   "execution_count": 22,
   "id": "6ba51ffe",
   "metadata": {},
   "outputs": [
    {
     "data": {
      "text/plain": [
       "'a toy poodles average weight is 7 lbs'"
      ]
     },
     "execution_count": 22,
     "metadata": {},
     "output_type": "execute_result"
    }
   ],
   "source": [
    "result"
   ]
  },
  {
   "cell_type": "markdown",
   "id": "24d50e0f",
   "metadata": {},
   "source": [
    "## 最終評価\n",
    "\n",
    "最後に、複数のステップの推論と行動を必要とするより複雑なクエリで、完全に実装されたエージェントをテストします。2つの異なる犬種の合計体重を計算するタスクを与えます。\n",
    "\n",
    "この包括的なテストは、エージェントの以下の能力を示します：\n",
    "\n",
    "1. 複雑なクエリを管理可能なサブタスクに分解する\n",
    "2. 複数の犬種の情報を取得する\n",
    "3. 収集したデータを使用して計算を実行する\n",
    "4. すべての情報を一貫性のある最終的な回答に統合する\n",
    "\n",
    "この実践的な例を通じて、複数ステップの問題を解決できるAIエージェントの構築に関する貴重な洞察を得ることができます。さらに、Amazon BedrockやAnthropicのClaudeなどのモデルプロバイダーがどのように効果的に活用できるかを直接見ることができます。この知識により、将来のプロジェクトでより柔軟で多様なAIアプリケーションを開発する力が身につきます。\n"
   ]
  },
  {
   "cell_type": "code",
   "execution_count": 23,
   "id": "e85a02b4-96cc-4b01-8792-397a774eb499",
   "metadata": {
    "height": 64
   },
   "outputs": [
    {
     "name": "stdout",
     "output_type": "stream",
     "text": [
      "Result: Thought: この質問に答えるには、それぞれの犬種の平均体重を調べ、それらを合計する必要があります。\n",
      "Action: average_dog_weight: Border Collie\n",
      " ['Thought: この質問に答えるには、それぞれの犬種の平均体重を調べ、それらを合計する必要があります。', 'Action: average_dog_weight: Border Collie', '']\n",
      "[<re.Match object; span=(0, 41), match='Action: average_dog_weight: Border Collie'>]\n",
      " -- running average_dog_weight Border Collie\n",
      "Observation: a Border Collies average weight is 37 lbs\n",
      "Result: Thought: ボーダーコリーの平均体重が分かりました。次にスコティッシュテリアの平均体重を調べる必要があります。\n",
      "Action: average_dog_weight: Scottish Terrier\n",
      " ['Thought: ボーダーコリーの平均体重が分かりました。次にスコティッシュテリアの平均体重を調べる必要があります。', 'Action: average_dog_weight: Scottish Terrier', '']\n",
      "[<re.Match object; span=(0, 44), match='Action: average_dog_weight: Scottish Terrier'>]\n",
      " -- running average_dog_weight Scottish Terrier\n",
      "Observation: Scottish Terriers average 20 lbs\n",
      "Result: Thought: 両方の犬種の平均体重が分かったので、それらを合計すれば答えが出せます。\n",
      "Action: calculate: 37 + 20\n",
      " ['Thought: 両方の犬種の平均体重が分かったので、それらを合計すれば答えが出せます。', 'Action: calculate: 37 + 20', '']\n",
      "[<re.Match object; span=(0, 26), match='Action: calculate: 37 + 20'>]\n",
      " -- running calculate 37 + 20\n",
      "Observation: 57\n",
      "Result: Answer: あなたが飼っているボーダーコリーとスコティッシュテリアの合計体重は57ポンド(約26kg)です。 ['Answer: あなたが飼っているボーダーコリーとスコティッシュテリアの合計体重は57ポンド(約26kg)です。']\n",
      "[]\n"
     ]
    }
   ],
   "source": [
    "question = \"\"\"私は2匹の犬を飼っています。ボーダーコリーとスコティッシュテリアです。\\彼らの合計体重はいくらですか\"\"\"\n",
    "query(question)"
   ]
  }
 ],
 "metadata": {
  "kernelspec": {
   "display_name": ".venv",
   "language": "python",
   "name": "python3"
  },
  "language_info": {
   "codemirror_mode": {
    "name": "ipython",
    "version": 3
   },
   "file_extension": ".py",
   "mimetype": "text/x-python",
   "name": "python",
   "nbconvert_exporter": "python",
   "pygments_lexer": "ipython3",
   "version": "3.13.3"
  }
 },
 "nbformat": 4,
 "nbformat_minor": 5
}
