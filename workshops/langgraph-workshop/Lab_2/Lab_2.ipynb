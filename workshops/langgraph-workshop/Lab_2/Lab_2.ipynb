{
 "cells": [
  {
   "cell_type": "markdown",
   "id": "21fa2e13-567d-4509-9023-c99fb230f31f",
   "metadata": {},
   "source": [
    "# Lab 2: LangGraph Components\n"
   ]
  },
  {
   "cell_type": "markdown",
   "id": "fcd7ea45",
   "metadata": {},
   "source": [
    "## 環境設定"
   ]
  },
  {
   "cell_type": "code",
   "execution_count": 1,
   "id": "f5762271-8736-4e94-9444-8c92bd0e8074",
   "metadata": {
    "height": 47
   },
   "outputs": [
    {
     "name": "stderr",
     "output_type": "stream",
     "text": [
      "[2025-07-09 18:50:37,641] p1128869 {utils.py:66} INFO - TAVILY_API_KEY variable correctly retrieved from the .env file.\n"
     ]
    }
   ],
   "source": [
    "from dotenv import load_dotenv\n",
    "import json\n",
    "import os\n",
    "import re\n",
    "import sys\n",
    "import warnings\n",
    "import boto3\n",
    "from botocore.config import Config\n",
    "warnings.filterwarnings(\"ignore\")\n",
    "import logging\n",
    "\n",
    "# ローカルモジュールのインポート\n",
    "dir_current = os.path.abspath(\"\")\n",
    "dir_parent = os.path.dirname(dir_current)\n",
    "if dir_parent not in sys.path:\n",
    "    sys.path.append(dir_parent)\n",
    "from utils import utils\n",
    "\n",
    "# 基本設定\n",
    "logger = utils.set_logger()  # ロガーの設定\n",
    "pp = utils.set_pretty_printer()  # 整形出力用のプリンターを設定\n",
    "\n",
    "# .envファイルまたはSecret Managerから環境変数を読み込む\n",
    "_ = load_dotenv(\"../.env\")\n",
    "aws_region = os.getenv(\"AWS_REGION\")  # AWS地域を環境変数から取得\n",
    "tavily_ai_api_key = utils.get_tavily_api(\"TAVILY_API_KEY\", aws_region)  # Tavily APIキーを取得\n",
    "\n",
    "# Bedrockの設定\n",
    "bedrock_config = Config(connect_timeout=120, read_timeout=120, retries={\"max_attempts\": 0})  # タイムアウトと再試行の設定\n",
    "\n",
    "# Bedrockランタイムクライアントの作成\n",
    "bedrock_rt = boto3.client(\"bedrock-runtime\", region_name=aws_region, config=bedrock_config)\n",
    "\n",
    "# 利用可能なモデルを確認するためのBedrockクライアントの作成\n",
    "bedrock = boto3.client(\"bedrock\", region_name=aws_region, config=bedrock_config)\n"
   ]
  },
  {
   "cell_type": "markdown",
   "id": "d6a89cc9",
   "metadata": {},
   "source": [
    "## LangGraphをステートマシンとして\n",
    "\n",
    "システム設計に精通したソリューションアーキテクトにとって、LangGraphは言語モデルのためのステートマシンと考えることができます。ソフトウェアエンジニアリングにおけるステートマシンが状態の集合とその間の遷移を定義するのと同様に、LangGraphでは会話の状態（ノードで表現）とその間の遷移（エッジで表現）を定義することができます。\n",
    "\n",
    "**アナロジー**: LangGraphをスマートシティの交通管制システムと考えてみましょう。各交差点（ノード）は決断ポイントを表し、その間の道路（エッジ）は可能な経路を表します。信号機（条件付きエッジ）は現在の状況に基づいてどの経路を取るかを決定します。私たちのケースでは、「交通」はAIエージェント内の情報と決定のフローを表しています。"
   ]
  },
  {
   "cell_type": "code",
   "execution_count": 2,
   "id": "d0168aee-bce9-4d60-b827-f86a88187e31",
   "metadata": {
    "height": 115
   },
   "outputs": [],
   "source": [
    "import operator\n",
    "from typing import Annotated, TypedDict\n",
    "\n",
    "from langchain_aws import ChatBedrockConverse\n",
    "from langchain_community.tools.tavily_search import TavilySearchResults\n",
    "from langchain_core.messages import AnyMessage, HumanMessage, SystemMessage, ToolMessage\n",
    "from langgraph.graph import END, StateGraph"
   ]
  },
  {
   "cell_type": "code",
   "execution_count": 3,
   "id": "2589c5b6-6cc2-4594-9a17-dccdcf676054",
   "metadata": {
    "height": 64
   },
   "outputs": [
    {
     "name": "stdout",
     "output_type": "stream",
     "text": [
      "<class 'langchain_community.tools.tavily_search.tool.TavilySearchResults'>\n",
      "tavily_search_results_json\n"
     ]
    },
    {
     "name": "stderr",
     "output_type": "stream",
     "text": [
      "/tmp/ipykernel_1128869/4073101922.py:1: LangChainDeprecationWarning: The class `TavilySearchResults` was deprecated in LangChain 0.3.25 and will be removed in 1.0. An updated version of the class exists in the :class:`~langchain-tavily package and should be used instead. To use it run `pip install -U :class:`~langchain-tavily` and import as `from :class:`~langchain_tavily import TavilySearch``.\n",
      "  tool = TavilySearchResults(max_results=4)  # increased number of results\n"
     ]
    }
   ],
   "source": [
    "tool = TavilySearchResults(max_results=4)  # increased number of results\n",
    "print(type(tool))\n",
    "print(tool.name)"
   ]
  },
  {
   "cell_type": "markdown",
   "id": "e196c186-af55-4f2d-b569-b7d63a859304",
   "metadata": {},
   "source": [
    "> Pythonの型アノテーションに馴染みがない場合は、[Pythonのドキュメント](https://docs.python.org/3/library/typing.html)を参照してください。"
   ]
  },
  {
   "cell_type": "markdown",
   "id": "5e40395e",
   "metadata": {},
   "source": [
    "## エージェント状態の概念\n",
    "\n",
    "AgentStateクラスは、会話全体を通じてコンテキストを維持するために重要です。データサイエンティストにとって、これはリカレントニューラルネットワークにおける状態の維持に例えることができます。\n",
    "\n",
    "**アナロジー**: AgentStateを洗練されたメモ帳と考えてみましょう。アイデアをブレインストーミングする（クエリを処理する）際に、重要なポイント（メッセージ）をメモします。このメモ帳は単に記録するだけでなく、新しいメモ（メッセージ）が既存のものとシームレスに統合され、一貫した思考の流れを維持するという特別な特性を持っています。\n",
    "\n",
    "同時に、いつでも時間を遡って一部を書き直すことができます - これを「タイムトラベル」と呼んでいます。"
   ]
  },
  {
   "cell_type": "code",
   "execution_count": 4,
   "id": "a2ba84ec-c172-4de7-ac55-e3158a531b23",
   "metadata": {
    "height": 47
   },
   "outputs": [],
   "source": [
    "class AgentState(TypedDict):\n",
    "    messages: Annotated[list[AnyMessage], operator.add]\n",
    "    # TypedDictを使用してエージェントの状態を定義\n",
    "    # messagesはAnyMessage型のリストで、operator.addでアノテーションされている\n",
    "    # これは、messagesリストが加算演算子(+)を使って結合できることを示している\n",
    "    # つまり、新しいメッセージを既存のメッセージリストに追加する操作が可能"
   ]
  },
  {
   "cell_type": "markdown",
   "id": "74c7ba73-e603-453b-b06f-5db92c567b19",
   "metadata": {},
   "source": [
    "> 注意: 以下の`take_action`では、LLMが存在しないツール名を返した場合に対応するためのロジックが追加されています。\n",
    "```python\n",
    "if not t[\"name\"] in self.tools:  # LLMから不正なツール名をチェック\n",
    "    print(\"\\n ....不正なツール名....\")\n",
    "    result = \"不正なツール名、再試行してください\"  # 不正な場合はLLMに再試行を指示"
   ]
  },
  {
   "cell_type": "code",
   "execution_count": 5,
   "id": "876d5092-b8ef-4e38-b4d7-0e80c609bf7a",
   "metadata": {
    "height": 727
   },
   "outputs": [],
   "source": [
    "class Agent:\n",
    "    def __init__(self, model, tools, system=\"\"):\n",
    "        # システムプロンプトを初期化\n",
    "        self.system = system\n",
    "        \n",
    "        # AgentStateを使用してステートグラフを作成\n",
    "        graph = StateGraph(AgentState)\n",
    "        \n",
    "        # ノードの追加: LLMを呼び出すノードとアクションを実行するノード\n",
    "        graph.add_node(\"llm\", self.call_bedrock)\n",
    "        graph.add_node(\"action\", self.take_action)\n",
    "        \n",
    "        # 条件付きエッジの追加: アクションが存在するかどうかで分岐\n",
    "        graph.add_conditional_edges(\"llm\", self.exists_action, {True: \"action\", False: END})\n",
    "        \n",
    "        # アクションからLLMへのエッジを追加（結果をLLMに戻す）\n",
    "        graph.add_edge(\"action\", \"llm\")\n",
    "        \n",
    "        # エントリーポイントをLLMに設定\n",
    "        graph.set_entry_point(\"llm\")\n",
    "        \n",
    "        # グラフをコンパイル\n",
    "        self.graph = graph.compile()\n",
    "        \n",
    "        # ツールを名前でアクセスできるように辞書に変換\n",
    "        self.tools = {t.name: t for t in tools}\n",
    "        \n",
    "        # モデルにツールをバインド\n",
    "        self.model = model.bind_tools(tools)\n",
    "    \n",
    "    def exists_action(self, state: AgentState):\n",
    "        # 最新のメッセージにツール呼び出しがあるかチェック\n",
    "        result = state[\"messages\"][-1]\n",
    "        return len(result.tool_calls) > 0\n",
    "    \n",
    "    def call_bedrock(self, state: AgentState):\n",
    "        # メッセージを取得\n",
    "        messages = state[\"messages\"]\n",
    "        \n",
    "        # システムプロンプトがある場合は先頭に追加\n",
    "        if self.system:\n",
    "            messages = [SystemMessage(content=self.system)] + messages\n",
    "        \n",
    "        # モデルを呼び出して応答を取得\n",
    "        message = self.model.invoke(messages)\n",
    "        return {\"messages\": [message]}\n",
    "    \n",
    "    def take_action(self, state: AgentState):\n",
    "        # 最新のメッセージからツール呼び出しを取得\n",
    "        tool_calls = state[\"messages\"][-1].tool_calls\n",
    "        results = []\n",
    "        \n",
    "        # 各ツール呼び出しを処理\n",
    "        for t in tool_calls:\n",
    "            print(f\"Calling: {t}\")\n",
    "            \n",
    "            # ツール名が存在するかチェック\n",
    "            if not t[\"name\"] in self.tools:  # LLMから不正なツール名をチェック\n",
    "                print(\"\\n ....bad tool name....\")\n",
    "                result = \"bad tool name, retry\"  # 不正な場合はLLMに再試行を指示\n",
    "            else:\n",
    "                # ツールを呼び出して結果を取得\n",
    "                result = self.tools[t[\"name\"]].invoke(t[\"args\"])\n",
    "            \n",
    "            # 結果をToolMessageとして追加\n",
    "            results.append(ToolMessage(tool_call_id=t[\"id\"], name=t[\"name\"], content=str(result)))\n",
    "        \n",
    "        print(\"Back to the model!\")\n",
    "        return {\"messages\": results}\n"
   ]
  },
  {
   "cell_type": "markdown",
   "id": "2cd50074",
   "metadata": {},
   "source": [
    "Pythonで関数やオブジェクトのコードを調査するための`??`という機能は、しばしば見落とされています。\n",
    "\n",
    "`ChatBedrockConverse`クラスの`bind_tools`メソッドを調査してみましょう。\n",
    "\n",
    "私たちのtavilyツールがサポートされているか、また何か制限があるかを見つけることができますか？\n",
    "\n",
    "もし不明な場合、どのように確認しますか？"
   ]
  },
  {
   "cell_type": "code",
   "execution_count": 6,
   "id": "a61313ff",
   "metadata": {},
   "outputs": [
    {
     "name": "stdout",
     "output_type": "stream",
     "text": [
      "\u001b[31mSignature:\u001b[39m\n",
      "ChatBedrockConverse.bind_tools(\n",
      "    self,\n",
      "    tools: Sequence[Union[Dict[str, Any], type[pydantic.main.BaseModel], Callable, langchain_core.tools.base.BaseTool]],\n",
      "    *,\n",
      "    tool_choice: Union[dict, str, Literal[\u001b[33m'auto'\u001b[39m, \u001b[33m'any'\u001b[39m], NoneType] = \u001b[38;5;28;01mNone\u001b[39;00m,\n",
      "    **kwargs: Any,\n",
      ") -> langchain_core.runnables.base.Runnable[typing.Union[langchain_core.prompt_values.PromptValue, str, collections.abc.Sequence[typing.Union[langchain_core.messages.base.BaseMessage, list[str], tuple[str, str], str, dict[str, typing.Any]]]], langchain_core.messages.base.BaseMessage]\n",
      "\u001b[31mDocstring:\u001b[39m\n",
      "Bind tools to the model.\n",
      "\n",
      "Args:\n",
      "    tools: Sequence of tools to bind to the model.\n",
      "    tool_choice: The tool to use. If \"any\" then any tool can be used.\n",
      "\n",
      "Returns:\n",
      "    A Runnable that returns a message.\n",
      "\u001b[31mSource:\u001b[39m   \n",
      "    \u001b[38;5;28;01mdef\u001b[39;00m bind_tools(\n",
      "        self,\n",
      "        tools: Sequence[Union[Dict[str, Any], TypeBaseModel, Callable, BaseTool]],\n",
      "        *,\n",
      "        tool_choice: Optional[Union[dict, str, Literal[\u001b[33m\"auto\"\u001b[39m, \u001b[33m\"any\"\u001b[39m]]] = \u001b[38;5;28;01mNone\u001b[39;00m,\n",
      "        **kwargs: Any,\n",
      "    ) -> Runnable[LanguageModelInput, BaseMessage]:\n",
      "        formatted_tools = []\n",
      "        \u001b[38;5;28;01mfor\u001b[39;00m tool \u001b[38;5;28;01min\u001b[39;00m tools:\n",
      "            \u001b[38;5;28;01mif\u001b[39;00m _is_cache_point(tool):\n",
      "                formatted_tools.append(tool)\n",
      "            \u001b[38;5;28;01melse\u001b[39;00m:\n",
      "                \u001b[38;5;28;01mtry\u001b[39;00m:\n",
      "                    formatted_tools.append(convert_to_openai_tool(tool))\n",
      "                \u001b[38;5;28;01mexcept\u001b[39;00m Exception:\n",
      "                    formatted_tools.append(_format_tools([tool])[\u001b[32m0\u001b[39m])\n",
      "        \u001b[38;5;28;01mif\u001b[39;00m tool_choice:\n",
      "            tool_choice = _format_tool_choice(tool_choice)\n",
      "            tool_choice_type = list(tool_choice.keys())[\u001b[32m0\u001b[39m]\n",
      "            \u001b[38;5;28;01mif\u001b[39;00m tool_choice_type \u001b[38;5;28;01mnot\u001b[39;00m \u001b[38;5;28;01min\u001b[39;00m list(self.supports_tool_choice_values \u001b[38;5;28;01mor\u001b[39;00m []):\n",
      "                \u001b[38;5;28;01mif\u001b[39;00m self.supports_tool_choice_values:\n",
      "                    supported = (\n",
      "                        f\"Model {self._get_base_model()} does not currently support tool_choice \"\n",
      "                        f\"of type {tool_choice_type}. The following tool_choice types \"\n",
      "                        f\"are supported: {self.supports_tool_choice_values}.\"\n",
      "                    )\n",
      "                \u001b[38;5;28;01melse\u001b[39;00m:\n",
      "                    supported = f\"Model {self._get_base_model()} does not currently support tool_choice.\"\n",
      "\n",
      "                \u001b[38;5;28;01mraise\u001b[39;00m ValueError(\n",
      "                    f\"{supported} Please see \"\n",
      "                    f\"https://docs.aws.amazon.com/bedrock/latest/APIReference/API_runtime_ToolChoice.html \"  \u001b[38;5;66;03m# noqa: E501\u001b[39;00m\n",
      "                    f\"for the latest documentation on models that support tool choice.\"\n",
      "                )\n",
      "            kwargs[\u001b[33m\"tool_choice\"\u001b[39m] = _format_tool_choice(tool_choice)\n",
      "\n",
      "        \u001b[38;5;28;01mreturn\u001b[39;00m self.bind(tools=formatted_tools, **kwargs)\n",
      "\u001b[31mFile:\u001b[39m      ~/aws-samples/workshops/langgraph-workshop/.venv/lib/python3.13/site-packages/langchain_aws/chat_models/bedrock_converse.py\n",
      "\u001b[31mType:\u001b[39m      function"
     ]
    }
   ],
   "source": [
    "??ChatBedrockConverse.bind_tools"
   ]
  },
  {
   "cell_type": "code",
   "execution_count": 7,
   "id": "10084a02-2928-4945-9f7c-ad3f5b33caf7",
   "metadata": {
    "height": 149
   },
   "outputs": [],
   "source": [
    "prompt = \"\"\"あなたは賢い研究アシスタントです。検索エンジンを使用して情報を調べてください。\n",
    "複数の呼び出しを行うことができます（一緒に、または連続して）。\n",
    "可能な限り、推論時間を短縮するために複数のツールを一度に呼び出すようにしてください！\n",
    "何を調べたいか確信がある場合にのみ情報を検索してください。\n",
    "フォローアップの質問をする前に情報を調べる必要がある場合は、それも許可されています！\"\"\"\n",
    "\n",
    "# Bedrockモデルの初期化\n",
    "model = ChatBedrockConverse(\n",
    "    client=bedrock_rt,\n",
    "    model=\"us.anthropic.claude-3-5-haiku-20241022-v1:0\",\n",
    "    temperature=0,  # 決定論的な応答を得るため温度を0に設定\n",
    "    max_tokens=None,  # トークン数の制限なし\n",
    ")\n",
    "\n",
    "# エージェントの初期化（モデル、ツール、システムプロンプトを指定）\n",
    "abot = Agent(model, [tool], system=prompt)"
   ]
  },
  {
   "cell_type": "code",
   "execution_count": 8,
   "id": "9b07046d",
   "metadata": {},
   "outputs": [
    {
     "data": {
      "image/png": "[encoded data removed]",
      "text/plain": [
       "<IPython.core.display.Image object>"
      ]
     },
     "metadata": {},
     "output_type": "display_data"
    }
   ],
   "source": [
    "# エージェントの初期化後に関数を呼び出す\n",
    "utils.visualize_graph(abot)"
   ]
  },
  {
   "cell_type": "code",
   "execution_count": 9,
   "id": "83588e70-254f-4f83-a510-c8ae81e729b0",
   "metadata": {
    "height": 47
   },
   "outputs": [
    {
     "name": "stdout",
     "output_type": "stream",
     "text": [
      "Calling: {'name': 'tavily_search_results_json', 'args': {'query': '現在のサンフランシスコの天気 気温 天候'}, 'id': 'tooluse_o-C6pBT-QtyNAN-w-m7VBQ', 'type': 'tool_call'}\n",
      "Back to the model!\n"
     ]
    }
   ],
   "source": [
    "# メッセージの初期化 - サンフランシスコの天気を尋ねる質問\n",
    "messages = [HumanMessage(content=\"サンフランシスコの天気はどうですか？\")]\n",
    "\n",
    "# グラフを実行して結果を取得\n",
    "result = abot.graph.invoke({\"messages\": messages})"
   ]
  },
  {
   "cell_type": "code",
   "execution_count": 10,
   "id": "89a06a8c-fcd4-4ca6-98f0-36c5809813e6",
   "metadata": {
    "height": 30,
    "scrolled": true
   },
   "outputs": [
    {
     "name": "stdout",
     "output_type": "stream",
     "text": [
      "content='サンフランシスコの天気はどうですか？' additional_kwargs={} response_metadata={}\n",
      "\n",
      "content=[{'type': 'tool_use', 'name': 'tavily_search_results_json', 'input': {'query': '現在のサンフランシスコの天気 気温 天候'}, 'id': 'tooluse_o-C6pBT-QtyNAN-w-m7VBQ'}] additional_kwargs={} response_metadata={'ResponseMetadata': {'RequestId': '0e5f48e1-fc56-4e18-b9ee-5c115f89f98d', 'HTTPStatusCode': 200, 'HTTPHeaders': {'date': 'Wed, 09 Jul 2025 18:50:40 GMT', 'content-type': 'application/json', 'content-length': '454', 'connection': 'keep-alive', 'x-amzn-requestid': '0e5f48e1-fc56-4e18-b9ee-5c115f89f98d'}, 'RetryAttempts': 0}, 'stopReason': 'tool_use', 'metrics': {'latencyMs': [1415]}, 'model_name': 'us.anthropic.claude-3-5-haiku-20241022-v1:0'} id='run--572e8897-d6ed-4f8d-875e-40fd65346838-0' tool_calls=[{'name': 'tavily_search_results_json', 'args': {'query': '現在のサンフランシスコの天気 気温 天候'}, 'id': 'tooluse_o-C6pBT-QtyNAN-w-m7VBQ', 'type': 'tool_call'}] usage_metadata={'input_tokens': 542, 'output_tokens': 76, 'total_tokens': 618, 'input_token_details': {'cache_creation': 0, 'cache_read': 0}}\n",
      "\n",
      "content=\"[{'title': 'サンフランシスコ(アメリカ)の天気 - 日本気象協会 tenki.jp', 'url': 'https://tenki.jp/world/7/92/72494/', 'content': '# tenki.jp\\\\n\\\\n雨雲レーダー)\\\\n天気図\\\\nPM2.5分布予測\\\\n地震情報\\\\n日直予報士\\\\n熱中症情報\\\\n\\\\n## サンフランシスコの天気09日17:00(日本時)発表\\\\n\\\\n### 予報・実況\\\\n\\\\n### 過去の天気\\\\n\\\\n| 現在の天気09日00:00(日本時)観測 | 今日(10日)の天気 |\\\\n| --- | --- |\\\\n| |  | | --- | | 曇曇 | | 気温 | : | 13.9℃ | 現地気圧 | | | : | 1018.1hpa | | | 風向 | : | 西西 | 露点 | : | 11.1℃ | 雲量 | : | 隙間無 | | 風速 | : | 4m/s | 湿度 | : | 83% | 視程 | : | 16.0km |   もっと見る(過去の天気) |\\\\n 09日17:00(日本時)発表  |  |  |  |  | | --- | --- | --- | --- | | 晴晴 | 最高気温 | : | 25℃ | | 最低気温 | : | 11℃ | | 平均湿度 | : | 73% | | 平均風速 | : | 8m/s | | [...] #### 現在の天気09日00:00(日本時)観測\\\\n\\\\n#### 今日(10日)の天気\\\\n\\\\n|  |\\\\n| --- |\\\\n| 曇曇 |\\\\n| 気温 | : | 13.9℃ | 現地気圧 | | | : | 1018.1hpa | |\\\\n| 風向 | : | 西西 | 露点 | : | 11.1℃ | 雲量 | : | 隙間無 |\\\\n| 風速 | : | 4m/s | 湿度 | : | 83% | 視程 | : | 16.0km |\\\\n\\\\n曇\\\\n西\\\\n\\\\n|  |  |  |  |\\\\n| --- | --- | --- | --- |\\\\n| 晴晴 | 最高気温 | : | 25℃ |\\\\n| 最低気温 | : | 11℃ |\\\\n| 平均湿度 | : | 73% |\\\\n| 平均風速 | : | 8m/s |\\\\n\\\\n晴\\\\nLINEの友達追加\\\\n\\\\n### この先1週間の天気(現地時間)09日17:00(日本時)発表 [...] |  |  |  |  |  |  |  |  |\\\\n| --- | --- | --- | --- | --- | --- | --- | --- |\\\\n| 日付 | 07月11日 (金) | 07月12日 (土) | 07月13日 (日) | 07月14日 (月) | 07月15日 (火) | 07月16日 (水) | 07月17日 (木) |\\\\n| 天気 | 晴 晴 | 晴 晴 | 晴時々曇 晴時々曇 | 晴時々曇 晴時々曇 | 晴時々曇 晴時々曇 | 晴時々曇 晴時々曇 | --- |\\\\n| 気温(℃) | 28℃ 11℃ | 25℃ 12℃ | 22℃ 9℃ | 20℃ 10℃ | 19℃ 9℃ | 19℃ 10℃ | --- --- |\\\\n| 湿度(％) | 70% | 73% | 67% | 69% | 70% | 71% | --- |\\\\n| 風速(m/s) | 8 | 10 | 11 | 11 | 11 | 11 | --- |\\\\n\\\\n晴\\\\n\\\\n晴\\\\n\\\\n晴\\\\n\\\\n晴\\\\n\\\\n晴時々曇\\\\n\\\\n晴時々曇\\\\n\\\\n晴時々曇\\\\n\\\\n晴時々曇\\\\n\\\\n晴時々曇\\\\n\\\\n晴時々曇\\\\n\\\\n晴時々曇\\\\n\\\\n晴時々曇', 'score': 0.8719229}, {'title': 'サンフランシスコ（アメリカ）の天気 - Yahoo!天気・災害', 'url': 'https://weather.yahoo.co.jp/weather/world/US/72494/', 'content': 'このページの先頭です\\\\nこのページの本文へ\\\\n\\\\nパーソナル天気\\\\n\\\\n現在位置：\\\\n天気・災害トップ\\\\n> 世界の天気\\\\n> アメリカ\\\\n> サンフランシスコ\\\\n\\\\nここから本文です\\\\n\\\\n## サンフランシスコの天気\\\\n\\\\n日本時刻 2025年7月10日 0時00分 発表\\\\n\\\\nサンフランシスコ現地時刻 7月9日 11時34分\\\\n\\\\nサンフランシスコ/-105.7747563,40.28496136,2/300x244?access_token=pk.eyJ1IjoieWFob29qYXBhbiIsImEiOiJjazRtZ29oamYwdHphM2tuNTA0M3gyOGI2In0.KVkgy3pqcZ1OcDpqUvITog&logo=false&attribution=false)\\\\n曇り\\\\n曇り\\\\n\\\\n### 週間天気 [...] | 7/11(金) | 7/12(土) | 7/13(日) | 7/14(月) | 7/15(火) | 7/16(水) |\\\\n| --- | --- | --- | --- | --- | --- |\\\\n| 曇時々晴 | 晴時々曇 | 曇り | 曇のち晴 | 曇時々晴 | 曇り |\\\\n| 20℃11℃ | 20℃12℃ | 19℃11℃ | 18℃11℃ | 18℃13℃ | 19℃13℃ |\\\\n\\\\n曇時々晴\\\\n晴時々曇\\\\n曇り\\\\n曇のち晴\\\\n曇時々晴\\\\n曇り\\\\n\\\\n各都市の予報は現地日付のものです。経過した時間帯の予想気温は「---」 と表示します。  \\\\n日の出日の入り時刻は、緯度経度から算出したもので標高や地形については考慮していません。また白夜や極夜の場合は「-」と表示します。\\\\n\\\\n### アメリカの都市\\\\n\\\\n# 防災情報\\\\n\\\\n## 気象災害\\\\n\\\\n## 地震・津波\\\\n\\\\n## 火山噴火\\\\n\\\\n## 過去の災害を知る・災害に備える\\\\n\\\\n# 天気情報\\\\n\\\\n## レーダー\\\\n\\\\n## 気象データ\\\\n\\\\n## 海と風の情報\\\\n\\\\n## 季節の情報\\\\n\\\\nYahoo!天気アプリをダウンロード\\\\n本文はここまでです\\\\nこのページの先頭へ', 'score': 0.7395922}, {'title': '10日間の天気-サウスサンフランシスコ, CA, アメリカ合衆国', 'url': 'https://weather.com/ja-JP/weather/tenday/l/South+San+Francisco+CA+United+States?canonicalCityId=d9909813b4b077bd115f4e969590f69a', 'content': '## recents\\\\n\\\\nメニュー\\\\n\\\\n## Products & Account\\\\n\\\\n### 分野別予報\\\\n\\\\n# 10日間の天気-サウスサンフランシスコ, CA, アメリカ合衆国\\\\n\\\\n## 今日\\\\n\\\\n## 水 09 | 昼間\\\\n\\\\n所により曇り。 最高気温18°C。 西北西の風25～40キロメートル毎時。\\\\n\\\\n## 水 09 | 夜間\\\\n\\\\n所により曇り。 最低気温12°C。 西の風15～30キロメートル毎時。\\\\n\\\\n## 木 10\\\\n\\\\n## 木 10 | 昼間\\\\n\\\\n所により曇り。 最高気温20°C。 西の風15～30キロメートル毎時。\\\\n\\\\n## 木 10 | 夜間\\\\n\\\\n所により曇り。 最低気温12°C。 西南西の風15～30キロメートル毎時。\\\\n\\\\n## 金 11\\\\n\\\\n## 金 11 | 昼間\\\\n\\\\n大体晴れ。 最高気温21°C。 西の風15～30キロメートル毎時。\\\\n\\\\n## 金 11 | 夜間\\\\n\\\\n所により曇り。 最低気温12°C。 西南西の風15～30キロメートル毎時。\\\\n\\\\n## 土 12\\\\n\\\\n## 土 12 | 昼間\\\\n\\\\n大体晴れ。 最高気温20°C。 西南西の風15～30キロメートル毎時。\\\\n\\\\n## 土 12 | 夜間 [...] 所により曇り。 最低気温13°C。 西南西の風15～30キロメートル毎時。\\\\n\\\\n## 日 13\\\\n\\\\n## 日 13 | 昼間\\\\n\\\\n所により曇り。 最高気温20°C。 西の風15～30キロメートル毎時。\\\\n\\\\n## 日 13 | 夜間\\\\n\\\\n所により曇り。 最低気温12°C。 西の風15～25キロメートル毎時。\\\\n\\\\n## 月 14\\\\n\\\\n## 月 14 | 昼間\\\\n\\\\n大体晴れ。 最高気温19°C。 西の風15～30キロメートル毎時。\\\\n\\\\n## 月 14 | 夜間\\\\n\\\\n所により曇り。 最低気温13°C。 西の風15～25キロメートル毎時。\\\\n\\\\n## 火 15\\\\n\\\\n## 火 15 | 昼間\\\\n\\\\n所により曇り。 最高気温19°C。 西の風15～30キロメートル毎時。\\\\n\\\\n## 火 15 | 夜間\\\\n\\\\n所により曇り。 最低気温13°C。 西南西の風15～30キロメートル毎時。\\\\n\\\\n## 水 16\\\\n\\\\n## 水 16 | 昼間\\\\n\\\\n大体晴れ。 最高気温19°C。 西の風15～30キロメートル毎時。\\\\n\\\\n## 水 16 | 夜間\\\\n\\\\n所により曇り。 最低気温13°C。 西の風15～25キロメートル毎時。\\\\n\\\\n## 木 17 [...] ## 木 17 | 昼間\\\\n\\\\n所により曇り。 最高気温19°C。 西の風15～30キロメートル毎時。\\\\n\\\\n## 木 17 | 夜間\\\\n\\\\n所により曇り。 最低気温13°C。 西の風15～30キロメートル毎時。\\\\n\\\\n## 金 18\\\\n\\\\n## 金 18 | 昼間\\\\n\\\\n大体晴れ。 最高気温20°C。 西の風15～30キロメートル毎時。\\\\n\\\\n## 金 18 | 夜間\\\\n\\\\n所により曇り。 最低気温13°C。 西の風15～30キロメートル毎時。\\\\n\\\\n## レーダー\\\\n\\\\nThe Weather Company\\\\nThe Weather Channel\\\\nWeather Underground\\\\nStorm Radar\\\\nGeorgia Org\\\\nLink to eSSENTIAL Accessibility assistive technology\\\\n\\\\n当社は、データとテクノロジーの使用に常に責任を負います。当社は、お客様のデータを利用または当社のデータベンダーと共有する場合があります。ユーザーの皆様のデータを管理します。', 'score': 0.69249696}, {'title': 'サンフランシスコ, CA, アメリカ合衆国 の天気 - The Weather Channel', 'url': 'https://weather.com/ja-JP/weather/today/l/San+Francisco+CA+94104:4:US', 'content': '## recents\\\\n\\\\nメニュー\\\\n\\\\n## Products & Account\\\\n\\\\n### 分野別予報\\\\n\\\\n# サンフランシスコ, CA, アメリカ合衆国\\\\n\\\\n## サンフランシスコ, CA, アメリカ合衆国 の今日の天気\\\\n\\\\n5:55\\\\n\\\\n20:33\\\\n\\\\n### 午前\\\\n\\\\n### 午後\\\\n\\\\n### 夕方\\\\n\\\\n### 夜間\\\\n\\\\n## 1時間ごとの予報\\\\n\\\\n### 現在\\\\n\\\\n### 12:00\\\\n\\\\n### 13:00\\\\n\\\\n### 14:00\\\\n\\\\n### 15:00\\\\n\\\\n## 毎日の予報\\\\n\\\\n### 今日\\\\n\\\\n### 木 10\\\\n\\\\n### 金 11\\\\n\\\\n### 土 12\\\\n\\\\n### 日 13\\\\n\\\\n## レーダー\\\\n\\\\n## 大気質指数\\\\n\\\\n大気質は良好で、大気汚染による危険性はほとんどありません。\\\\n\\\\n## ヘルスケア＆アクティビティ\\\\n\\\\n### 季節ごとのアレルギーと花粉飛散量予報\\\\n\\\\n登録されている場所の牧草花粉飛散量は普通です [...] The Weather Company\\\\nThe Weather Channel\\\\nWeather Underground\\\\nStorm Radar\\\\nGeorgia Org\\\\nLink to eSSENTIAL Accessibility assistive technology\\\\n\\\\n当社は、データとテクノロジーの使用に常に責任を負います。当社は、お客様のデータを利用または当社のデータベンダーと共有する場合があります。ユーザーの皆様のデータを管理します。\\\\n\\\\nThe Weather Channelは世界で最も正確な天気予報サービスです（The Weather Companyの委託による、ForecastWatch、グローバルおよび地方の天気予報精度の概要、2021-2024）。\\\\n\\\\nWeather Channel\\\\n\\\\n© The Weather Company, LLC 2025', 'score': 0.64639384}]\" name='tavily_search_results_json' tool_call_id='tooluse_o-C6pBT-QtyNAN-w-m7VBQ'\n",
      "\n",
      "content='現在のサンフランシスコの天気は以下のようです：\\n\\n🌤️ 天候: 曇り時々晴れ\\n🌡️ 気温: \\n- 現在の気温: 約14℃\\n- 最高気温: 20-25℃\\n- 最低気温: 11-13℃\\n\\n💨 風:\\n- 風向: 西または西西\\n- 風速: 4-8 m/s\\n\\nその他の詳細:\\n- 湿度: 約70-80%\\n- 視程: 16km\\n- 雲量: 隙間なし\\n\\n今後数日の予報も似たような天候で、曇りや晴れ時々曇りが続く見込みです。サンフランシスコは典型的な夏の天候で、日中は穏やかで涼しめです。' additional_kwargs={} response_metadata={'ResponseMetadata': {'RequestId': 'dfbe115a-e867-4c5a-ac70-1a194102f550', 'HTTPStatusCode': 200, 'HTTPHeaders': {'date': 'Wed, 09 Jul 2025 18:50:48 GMT', 'content-type': 'application/json', 'content-length': '744', 'connection': 'keep-alive', 'x-amzn-requestid': 'dfbe115a-e867-4c5a-ac70-1a194102f550'}, 'RetryAttempts': 0}, 'stopReason': 'end_turn', 'metrics': {'latencyMs': [6771]}, 'model_name': 'us.anthropic.claude-3-5-haiku-20241022-v1:0'} id='run--a2f95a84-9876-4ded-8c1f-00129a5989e6-0' usage_metadata={'input_tokens': 4847, 'output_tokens': 241, 'total_tokens': 5088, 'input_token_details': {'cache_creation': 0, 'cache_read': 0}}\n",
      "\n"
     ]
    }
   ],
   "source": [
    "for message in result[\"messages\"]:\n",
    "    print(f\"{message}\\n\")"
   ]
  },
  {
   "cell_type": "code",
   "execution_count": 11,
   "id": "6cb3ef4c-58b3-401b-b104-0d51e553d982",
   "metadata": {
    "height": 30
   },
   "outputs": [
    {
     "name": "stdout",
     "output_type": "stream",
     "text": [
      "現在のサンフランシスコの天気は以下のようです：\n",
      "\n",
      "🌤️ 天候: 曇り時々晴れ\n",
      "🌡️ 気温: \n",
      "- 現在の気温: 約14℃\n",
      "- 最高気温: 20-25℃\n",
      "- 最低気温: 11-13℃\n",
      "\n",
      "💨 風:\n",
      "- 風向: 西または西西\n",
      "- 風速: 4-8 m/s\n",
      "\n",
      "その他の詳細:\n",
      "- 湿度: 約70-80%\n",
      "- 視程: 16km\n",
      "- 雲量: 隙間なし\n",
      "\n",
      "今後数日の予報も似たような天候で、曇りや晴れ時々曇りが続く見込みです。サンフランシスコは典型的な夏の天候で、日中は穏やかで涼しめです。\n"
     ]
    }
   ],
   "source": [
    "print(result[\"messages\"][-1].content)"
   ]
  },
  {
   "cell_type": "code",
   "execution_count": 12,
   "id": "dc3293b7-a50c-43c8-a022-8975e1e444b8",
   "metadata": {
    "height": 47
   },
   "outputs": [
    {
     "name": "stdout",
     "output_type": "stream",
     "text": [
      "Calling: {'name': 'tavily_search_results_json', 'args': {'query': 'Current weather in San Francisco and Los Angeles today'}, 'id': 'tooluse_40dTvFi9TSy4mXq0_TZSOg', 'type': 'tool_call'}\n",
      "Back to the model!\n",
      "Calling: {'name': 'tavily_search_results_json', 'args': {'query': \"Today's exact temperature and weather conditions in San Francisco and Los Angeles\"}, 'id': 'tooluse_RE4PGuXpSX6lZ6KJOjSTAQ', 'type': 'tool_call'}\n",
      "Back to the model!\n"
     ]
    }
   ],
   "source": [
    "# メッセージの初期化 - サンフランシスコとロサンゼルスの天気を尋ねる質問\n",
    "messages = [HumanMessage(content=\"サンフランシスコとロサンゼルスの天気はどうですか？\")]\n",
    "\n",
    "# グラフを実行して結果を取得\n",
    "# この質問は2つの都市の天気を同時に尋ねているため、モデルが並列ツール呼び出しを行う可能性がある\n",
    "result = abot.graph.invoke({\"messages\": messages})"
   ]
  },
  {
   "cell_type": "code",
   "execution_count": 13,
   "id": "0722c3d4-4cbf-43bf-81b0-50f634c4ce61",
   "metadata": {
    "height": 30
   },
   "outputs": [
    {
     "name": "stdout",
     "output_type": "stream",
     "text": [
      "申し訳ありませんが、リアルタイムの正確な天気情報を得るのは難しいようです。ただし、一般的な情報をお伝えできます：\n",
      "\n",
      "サンフランシスコ：\n",
      "- 天候：部分的に曇り\n",
      "- 気温：高温約65°F（約18°C）\n",
      "- 風：西風 15〜25 mph\n",
      "- 午前は雲がちですが、午後は概ね晴れる予報\n",
      "\n",
      "ロサンゼルス：\n",
      "- 天候：部分的に曇り\n",
      "- 空気質：良好\n",
      "- アレルギー情報：草の花粉が中程度\n",
      "\n",
      "正確な最新の天気情報を知りたい場合は、地元の気象情報サービスや天気アプリで最新の情報を確認することをおすすめします。両都市とも概ね穏やかな天候のようです。\n"
     ]
    }
   ],
   "source": [
    "print(result[\"messages\"][-1].content)"
   ]
  },
  {
   "cell_type": "markdown",
   "id": "9f759e2d",
   "metadata": {},
   "source": [
    "## 4. 並列対逐次ツール呼び出し\n",
    "\n",
    "エージェントが並列と逐次の両方のツール呼び出しを行う能力は、ソリューションアーキテクトが注目すべき強力な機能です。\n",
    "\n",
    "**詳細**:\n",
    "- 並列ツール呼び出しは、複数の独立したタスクを同時に実行できるマルチスレッドアプリケーションのようなものです。これは、複数の独立した情報を必要とするクエリに効率的です。\n",
    "- 逐次ツール呼び出しは、あるオペレーションの出力が次の入力になるパイプラインのようなものです。これは複数ステップの推論タスクに必要です。\n",
    "\n",
    "**アナロジー**: 複雑なプロジェクトに取り組む研究チームを想像してください。並列ツール呼び出しは、異なるチームメンバーに異なる側面を同時に研究させるようなものです。逐次ツール呼び出しは、各研究者が前の研究者の発見に基づいて構築するリレーレースのようなものです。\n",
    "\n",
    "私たちのコードで逐次ツール呼び出しになるのか並列ツール呼び出しになるのか、そして並列の場合、本当に並列で実行されるのかを見分けることができますか？"
   ]
  },
  {
   "cell_type": "code",
   "execution_count": 14,
   "id": "6b2f82fe-3ec4-4917-be51-9fb10d1317fa",
   "metadata": {
    "height": 183
   },
   "outputs": [
    {
     "name": "stdout",
     "output_type": "stream",
     "text": [
      "Calling: {'name': 'tavily_search_results_json', 'args': {'query': '2024 Super Bowl winner'}, 'id': 'tooluse_sZbTZYVyQOeQI0auXiLITQ', 'type': 'tool_call'}\n",
      "Back to the model!\n",
      "Calling: {'name': 'tavily_search_results_json', 'args': {'query': 'Kansas City Chiefs headquarters location state'}, 'id': 'tooluse_94PG3MoeRj2wEN3C8Xn97g', 'type': 'tool_call'}\n",
      "Back to the model!\n",
      "Calling: {'name': 'tavily_search_results_json', 'args': {'query': 'Missouri state GDP 2023'}, 'id': 'tooluse_vgXeU2jrTsulCxT10vytjg', 'type': 'tool_call'}\n",
      "Back to the model!\n"
     ]
    }
   ],
   "source": [
    "# 注意: より一貫性のある結果を得るためにクエリが修正されています。\n",
    "# 検索情報やモデルの変更により、実行ごとに結果が異なる場合があります。\n",
    "\n",
    "# クエリの設定 - 複数の関連質問を含む複合的な質問\n",
    "query = \"2024年のスーパーボウルの勝者は誰ですか？勝利チームの本部がある州はどこですか？\\\n",
    "その州のGDPはいくらですか？それぞれの質問に答えてください。\"\n",
    "\n",
    "# メッセージの初期化\n",
    "messages = [HumanMessage(content=query)]\n",
    "\n",
    "# より高性能なモデルを使用（モデルIDの形式が更新されている）\n",
    "model = ChatBedrockConverse(\n",
    "    client=bedrock_rt,\n",
    "    model=\"us.anthropic.claude-3-5-haiku-20241022-v1:0\",\n",
    "    temperature=0,  # 決定論的な応答を得るため\n",
    "    max_tokens=None,  # トークン数の制限なし\n",
    ")\n",
    "\n",
    "# エージェントの初期化\n",
    "abot = Agent(model, [tool], system=prompt)\n",
    "\n",
    "# グラフを実行して結果を取得\n",
    "# この質問は連続した3つの質問を含んでおり、後の質問は前の質問の回答に依存するため\n",
    "# モデルは逐次的なツール呼び出しを行う\n",
    "result = abot.graph.invoke({\"messages\": messages})"
   ]
  },
  {
   "cell_type": "code",
   "execution_count": 15,
   "id": "ee0fe1c7-77e2-499c-a2f9-1f739bb6ddf0",
   "metadata": {
    "height": 30
   },
   "outputs": [
    {
     "name": "stdout",
     "output_type": "stream",
     "text": [
      "ミズーリ州の2023年のGDPは3,484.9億ドル（インフレ調整後の2017年ドルベース）です。\n",
      "\n",
      "まとめると：\n",
      "1. 2024年のスーパーボウルの勝者：カンザスシティ・チーフス\n",
      "2. チームの本部がある州：ミズーリ州\n",
      "3. ミズーリ州のGDP：3,484.9億ドル（2023年）\n"
     ]
    }
   ],
   "source": [
    "print(result[\"messages\"][-1].content)"
   ]
  }
 ],
 "metadata": {
  "kernelspec": {
   "display_name": "mykernel",
   "language": "python",
   "name": "mykernel"
  },
  "language_info": {
   "codemirror_mode": {
    "name": "ipython",
    "version": 3
   },
   "file_extension": ".py",
   "mimetype": "text/x-python",
   "name": "python",
   "nbconvert_exporter": "python",
   "pygments_lexer": "ipython3",
   "version": "3.13.3"
  }
 },
 "nbformat": 4,
 "nbformat_minor": 5
}
